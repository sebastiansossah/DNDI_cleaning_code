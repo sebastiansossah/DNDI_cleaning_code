{
 "cells": [
  {
   "cell_type": "code",
   "execution_count": 2,
   "metadata": {},
   "outputs": [],
   "source": [
    "import pandas as pd\n",
    "\n",
    "path = r'C:\\Users\\sebastian sossa\\Documents\\integraIT\\projects_integrait\\DNDI\\data\\db3bea42-add2-4185-9a08-d8a8a2622277.xlsx'\n",
    "df_root = pd.read_excel(path)"
   ]
  },
  {
   "cell_type": "code",
   "execution_count": 3,
   "metadata": {},
   "outputs": [],
   "source": [
    "df= df_root[df_root['name']== 'Clinical Laboratory Test - Clinical Chemistry D-1']\n",
    "lista_sujetos = df['Participante'].unique()\n",
    "df = df[['name', 'Visit', 'activityState', 'Participante', 'Estado del Participante', 'Campo', 'Valor']]"
   ]
  },
  {
   "cell_type": "code",
   "execution_count": 7,
   "metadata": {},
   "outputs": [],
   "source": [
    "clicinical_chemestry_principal = df_root[df_root['name']=='Clinical Laboratory Test - Clinical Chemistry']\n",
    "clicinical_chemestry_principal = clicinical_chemestry_principal[['Visit','Participante', 'Campo', 'Valor']]\n",
    "clicinical_chemestry_principal = clicinical_chemestry_principal[clicinical_chemestry_principal['Campo']=='Blood Sample Collected']\n",
    "clicinical_chemestry_principal = clicinical_chemestry_principal[['Visit','Participante','Valor']]\n",
    "clicinical_chemestry_principal = clicinical_chemestry_principal.rename(columns={'Participante':'Subject', 'Valor':'blood_sample_principal'})\n"
   ]
  },
  {
   "cell_type": "code",
   "execution_count": 8,
   "metadata": {},
   "outputs": [
    {
     "data": {
      "text/html": [
       "<div>\n",
       "<style scoped>\n",
       "    .dataframe tbody tr th:only-of-type {\n",
       "        vertical-align: middle;\n",
       "    }\n",
       "\n",
       "    .dataframe tbody tr th {\n",
       "        vertical-align: top;\n",
       "    }\n",
       "\n",
       "    .dataframe thead th {\n",
       "        text-align: right;\n",
       "    }\n",
       "</style>\n",
       "<table border=\"1\" class=\"dataframe\">\n",
       "  <thead>\n",
       "    <tr style=\"text-align: right;\">\n",
       "      <th></th>\n",
       "      <th>Visit</th>\n",
       "      <th>Subject</th>\n",
       "      <th>blood_sample_principal</th>\n",
       "    </tr>\n",
       "  </thead>\n",
       "  <tbody>\n",
       "    <tr>\n",
       "      <th>11301</th>\n",
       "      <td>D-1</td>\n",
       "      <td>011008</td>\n",
       "      <td>9</td>\n",
       "    </tr>\n",
       "    <tr>\n",
       "      <th>11302</th>\n",
       "      <td>D-1</td>\n",
       "      <td>011007</td>\n",
       "      <td>0</td>\n",
       "    </tr>\n",
       "    <tr>\n",
       "      <th>11303</th>\n",
       "      <td>D-1</td>\n",
       "      <td>012009</td>\n",
       "      <td>9</td>\n",
       "    </tr>\n",
       "    <tr>\n",
       "      <th>11304</th>\n",
       "      <td>D-1</td>\n",
       "      <td>012010</td>\n",
       "      <td>9</td>\n",
       "    </tr>\n",
       "    <tr>\n",
       "      <th>11305</th>\n",
       "      <td>D-1</td>\n",
       "      <td>012011</td>\n",
       "      <td>0</td>\n",
       "    </tr>\n",
       "    <tr>\n",
       "      <th>...</th>\n",
       "      <td>...</td>\n",
       "      <td>...</td>\n",
       "      <td>...</td>\n",
       "    </tr>\n",
       "    <tr>\n",
       "      <th>11470</th>\n",
       "      <td>Screening Visit</td>\n",
       "      <td>012014</td>\n",
       "      <td>1</td>\n",
       "    </tr>\n",
       "    <tr>\n",
       "      <th>11471</th>\n",
       "      <td>Screening Visit</td>\n",
       "      <td>012015</td>\n",
       "      <td>1</td>\n",
       "    </tr>\n",
       "    <tr>\n",
       "      <th>11472</th>\n",
       "      <td>Screening Visit</td>\n",
       "      <td>012016</td>\n",
       "      <td>9</td>\n",
       "    </tr>\n",
       "    <tr>\n",
       "      <th>11473</th>\n",
       "      <td>Screening Visit</td>\n",
       "      <td>012017</td>\n",
       "      <td>1</td>\n",
       "    </tr>\n",
       "    <tr>\n",
       "      <th>11474</th>\n",
       "      <td>Screening Visit</td>\n",
       "      <td>012018</td>\n",
       "      <td>1</td>\n",
       "    </tr>\n",
       "  </tbody>\n",
       "</table>\n",
       "<p>174 rows × 3 columns</p>\n",
       "</div>"
      ],
      "text/plain": [
       "                 Visit Subject blood_sample_principal\n",
       "11301              D-1  011008                      9\n",
       "11302              D-1  011007                      0\n",
       "11303              D-1  012009                      9\n",
       "11304              D-1  012010                      9\n",
       "11305              D-1  012011                      0\n",
       "...                ...     ...                    ...\n",
       "11470  Screening Visit  012014                      1\n",
       "11471  Screening Visit  012015                      1\n",
       "11472  Screening Visit  012016                      9\n",
       "11473  Screening Visit  012017                      1\n",
       "11474  Screening Visit  012018                      1\n",
       "\n",
       "[174 rows x 3 columns]"
      ]
     },
     "execution_count": 8,
     "metadata": {},
     "output_type": "execute_result"
    }
   ],
   "source": [
    "clicinical_chemestry_principal"
   ]
  },
  {
   "cell_type": "code",
   "execution_count": 6,
   "metadata": {},
   "outputs": [
    {
     "data": {
      "text/plain": [
       "['Blood Sample Collected',\n",
       " 'Provide the reason',\n",
       " 'Date Collected',\n",
       " 'Aspartate Aminotransferase (AST), Result (U/L)',\n",
       " 'Aspartate Aminotransferase (AST), Out of normal range?',\n",
       " 'Aspartate Aminotransferase (AST), If abnormal, Specify',\n",
       " 'Alanine Aminotransferase (ALT), Result (U/L)',\n",
       " 'Alanine Aminotransferase (ALT), Out of normal range?',\n",
       " 'Alanine Aminotransferase (ALT), If abnormal, Specify',\n",
       " 'Serum Creatinine',\n",
       " 'Serum Creatinine, Result (mg/dL)',\n",
       " 'Serum Creatinine, Out of normal range?',\n",
       " 'Serum Creatinine, If abnormal, Specify',\n",
       " 'Creatine Kinase (CK)',\n",
       " 'Creatine Kinase (CK), Result (U/L)',\n",
       " 'Creatine Kinase (CK), Out of normal range?',\n",
       " 'Creatine Kinase (CK), If abnormal, Specify']"
      ]
     },
     "execution_count": 6,
     "metadata": {},
     "output_type": "execute_result"
    }
   ],
   "source": [
    "prueba = df[['Campo', 'Valor']].T\n",
    "columns_analize = list(prueba.iloc[0].unique())\n",
    "columns_analize"
   ]
  },
  {
   "cell_type": "code",
   "execution_count": 4,
   "metadata": {},
   "outputs": [],
   "source": [
    "columns_editcheck =['Date Collected'\n",
    ",'Aspartate Aminotransferase (AST), Out of normal range?' \n",
    ",'Alanine Aminotransferase (ALT), Out of normal range?'\n",
    ",'Serum Creatinine, Out of normal range?'\n",
    ",'Creatine Kinase (CK), Out of normal range?'\n",
    ",'Aspartate Aminotransferase (AST), Out of normal range?' \n",
    ",'Alanine Aminotransferase (ALT), Out of normal range?'\n",
    ",'Serum Creatinine, Out of normal range?'\n",
    ",'Creatine Kinase (CK), Out of normal range?'\n",
    ",'Blood Sample Collected'\n",
    ",'Blood Sample Collected'\n",
    ",'Blood Sample Collected']\n"
   ]
  },
  {
   "cell_type": "code",
   "execution_count": 5,
   "metadata": {},
   "outputs": [],
   "source": [
    "for i in columns_editcheck:\n",
    "    if i not in columns_analize:\n",
    "        print(i)"
   ]
  },
  {
   "cell_type": "code",
   "execution_count": 6,
   "metadata": {},
   "outputs": [
    {
     "data": {
      "text/plain": [
       "{'Alanine Aminotransferase (ALT), Out of normal range?',\n",
       " 'Aspartate Aminotransferase (AST), Out of normal range?',\n",
       " 'Blood Sample Collected',\n",
       " 'Creatine Kinase (CK), Out of normal range?',\n",
       " 'Date Collected',\n",
       " 'Serum Creatinine, Out of normal range?'}"
      ]
     },
     "execution_count": 6,
     "metadata": {},
     "output_type": "execute_result"
    }
   ],
   "source": [
    "set(columns_editcheck)"
   ]
  },
  {
   "cell_type": "code",
   "execution_count": null,
   "metadata": {},
   "outputs": [],
   "source": [
    "from datetime import datetime\n",
    "from revision_fechas import revision_fecha\n",
    "import warnings\n",
    "\n",
    "warnings.filterwarnings('ignore')\n",
    "\n",
    "lista_revision = []\n",
    "\n",
    "# fecha_inicio = datetime.strptime('19-06-2023', \"%d-%m-%Y\")\n",
    "# fecha_fin =  datetime.strptime('31-10-2023', \"%d-%m-%Y\")\n",
    "\n",
    "for sujeto in lista_sujetos:\n",
    "    sujeto_principal = df[df['Participante']==sujeto]\n",
    "\n",
    "    for visita in sujeto_principal.Visit.unique():\n",
    "        pru_1 = sujeto_principal[sujeto_principal['Visit']==visita]\n",
    "        pru = pru_1\n",
    "        pru = pru[['Campo', 'Valor']].T\n",
    "        new_columns = pru.iloc[0]\n",
    "        pru = pru[1:].set_axis(new_columns, axis=1)\n",
    "        pru['Subject'] = sujeto\n",
    "        pru['Visit'] = visita\n",
    "        pru['status'] = pru_1['activityState'].unique()\n",
    "\n",
    "        for index, row in pru.iterrows():\n",
    "            status = row['status']\n",
    "            if status == 'INCOMPLETE' or status == 'PENDING_QUERIES':\n",
    "                pass\n",
    "            else:\n",
    "                alanine_aminotransferase = row['Alanine Aminotransferase (ALT), Out of normal range?']\n",
    "                aspartate_aminotransferase = row['Aspartate Aminotransferase (AST), Out of normal range?']\n",
    "                blood_sample_collected = row['Blood Sample Collected']\n",
    "                creatine_kinase = row['Creatine Kinase (CK), Out of normal range?']\n",
    "                date_collected = row['Date Collected']\n",
    "                serum_creatine = row['Serum Creatinine, Out of normal range?']"
   ]
  }
 ],
 "metadata": {
  "kernelspec": {
   "display_name": "Python 3",
   "language": "python",
   "name": "python3"
  },
  "language_info": {
   "codemirror_mode": {
    "name": "ipython",
    "version": 3
   },
   "file_extension": ".py",
   "mimetype": "text/x-python",
   "name": "python",
   "nbconvert_exporter": "python",
   "pygments_lexer": "ipython3",
   "version": "3.10.4"
  },
  "orig_nbformat": 4
 },
 "nbformat": 4,
 "nbformat_minor": 2
}
