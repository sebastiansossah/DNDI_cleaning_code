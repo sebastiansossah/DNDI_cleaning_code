{
 "cells": [
  {
   "cell_type": "code",
   "execution_count": 1,
   "metadata": {},
   "outputs": [],
   "source": [
    "import pandas as pd\n",
    "\n",
    "path = r\"C:\\Users\\sebastian sossa\\Documents\\integraIT\\projects_integrait\\DNDI\\data\\db3bea42-add2-4185-9a08-d8a8a2622277.xlsx\"\n",
    "df_root = pd.read_excel(path)"
   ]
  },
  {
   "cell_type": "code",
   "execution_count": 2,
   "metadata": {},
   "outputs": [],
   "source": [
    "df = df_root[df_root['name']=='Demographics']\n",
    "lista_sujetos = df['Participante'].unique()\n",
    "df = df[['name', 'Visit', 'activityState', 'Participante', 'Estado del Participante', 'Campo', 'Valor']]"
   ]
  },
  {
   "cell_type": "code",
   "execution_count": 3,
   "metadata": {},
   "outputs": [
    {
     "data": {
      "text/plain": [
       "array(['Birth Month', 'Birth Year', 'Age at consent', 'Gender',\n",
       "       'Ethnicity', 'Race'], dtype=object)"
      ]
     },
     "execution_count": 3,
     "metadata": {},
     "output_type": "execute_result"
    }
   ],
   "source": [
    "df.Campo.unique()"
   ]
  },
  {
   "cell_type": "code",
   "execution_count": 6,
   "metadata": {},
   "outputs": [],
   "source": [
    "df_demographic_age = df_root[df_root['name']=='Demographics']\n",
    "df_demographic_age = df_demographic_age[['Visit','Participante', 'Campo', 'Valor']]\n",
    "df_demographic_age = df_demographic_age[df_demographic_age['Campo']=='Birth Month']\n",
    "df_demographic_age = df_demographic_age[['Visit','Participante','Valor']]\n",
    "df_demographic_age = df_demographic_age.rename(columns={'Participante':'Subject', 'Valor':'Birth Year'})"
   ]
  },
  {
   "cell_type": "code",
   "execution_count": 7,
   "metadata": {},
   "outputs": [
    {
     "data": {
      "text/html": [
       "<div>\n",
       "<style scoped>\n",
       "    .dataframe tbody tr th:only-of-type {\n",
       "        vertical-align: middle;\n",
       "    }\n",
       "\n",
       "    .dataframe tbody tr th {\n",
       "        vertical-align: top;\n",
       "    }\n",
       "\n",
       "    .dataframe thead th {\n",
       "        text-align: right;\n",
       "    }\n",
       "</style>\n",
       "<table border=\"1\" class=\"dataframe\">\n",
       "  <thead>\n",
       "    <tr style=\"text-align: right;\">\n",
       "      <th></th>\n",
       "      <th>Visit</th>\n",
       "      <th>Subject</th>\n",
       "      <th>Birth Year</th>\n",
       "    </tr>\n",
       "  </thead>\n",
       "  <tbody>\n",
       "    <tr>\n",
       "      <th>1107</th>\n",
       "      <td>Screening Visit</td>\n",
       "      <td>011002</td>\n",
       "      <td>2</td>\n",
       "    </tr>\n",
       "    <tr>\n",
       "      <th>1108</th>\n",
       "      <td>Screening Visit</td>\n",
       "      <td>011003</td>\n",
       "      <td>8</td>\n",
       "    </tr>\n",
       "    <tr>\n",
       "      <th>1109</th>\n",
       "      <td>Screening Visit</td>\n",
       "      <td>011004</td>\n",
       "      <td>2</td>\n",
       "    </tr>\n",
       "    <tr>\n",
       "      <th>1110</th>\n",
       "      <td>Screening Visit</td>\n",
       "      <td>011008</td>\n",
       "      <td>3</td>\n",
       "    </tr>\n",
       "    <tr>\n",
       "      <th>1111</th>\n",
       "      <td>Screening Visit</td>\n",
       "      <td>011005</td>\n",
       "      <td>1</td>\n",
       "    </tr>\n",
       "    <tr>\n",
       "      <th>1112</th>\n",
       "      <td>Screening Visit</td>\n",
       "      <td>011006</td>\n",
       "      <td>12</td>\n",
       "    </tr>\n",
       "    <tr>\n",
       "      <th>1113</th>\n",
       "      <td>Screening Visit</td>\n",
       "      <td>011007</td>\n",
       "      <td>7</td>\n",
       "    </tr>\n",
       "    <tr>\n",
       "      <th>1114</th>\n",
       "      <td>Screening Visit</td>\n",
       "      <td>012009</td>\n",
       "      <td>7</td>\n",
       "    </tr>\n",
       "    <tr>\n",
       "      <th>1115</th>\n",
       "      <td>Screening Visit</td>\n",
       "      <td>012010</td>\n",
       "      <td>4</td>\n",
       "    </tr>\n",
       "    <tr>\n",
       "      <th>1116</th>\n",
       "      <td>Screening Visit</td>\n",
       "      <td>012011</td>\n",
       "      <td>7</td>\n",
       "    </tr>\n",
       "    <tr>\n",
       "      <th>1117</th>\n",
       "      <td>Screening Visit</td>\n",
       "      <td>012012</td>\n",
       "      <td>1</td>\n",
       "    </tr>\n",
       "    <tr>\n",
       "      <th>1118</th>\n",
       "      <td>Screening Visit</td>\n",
       "      <td>012013</td>\n",
       "      <td>3</td>\n",
       "    </tr>\n",
       "    <tr>\n",
       "      <th>1119</th>\n",
       "      <td>Screening Visit</td>\n",
       "      <td>012014</td>\n",
       "      <td>4</td>\n",
       "    </tr>\n",
       "    <tr>\n",
       "      <th>1120</th>\n",
       "      <td>Screening Visit</td>\n",
       "      <td>012015</td>\n",
       "      <td>4</td>\n",
       "    </tr>\n",
       "    <tr>\n",
       "      <th>1121</th>\n",
       "      <td>Screening Visit</td>\n",
       "      <td>012016</td>\n",
       "      <td>5</td>\n",
       "    </tr>\n",
       "    <tr>\n",
       "      <th>1122</th>\n",
       "      <td>Screening Visit</td>\n",
       "      <td>012017</td>\n",
       "      <td>1</td>\n",
       "    </tr>\n",
       "  </tbody>\n",
       "</table>\n",
       "</div>"
      ],
      "text/plain": [
       "                Visit Subject Birth Year\n",
       "1107  Screening Visit  011002          2\n",
       "1108  Screening Visit  011003          8\n",
       "1109  Screening Visit  011004          2\n",
       "1110  Screening Visit  011008          3\n",
       "1111  Screening Visit  011005          1\n",
       "1112  Screening Visit  011006         12\n",
       "1113  Screening Visit  011007          7\n",
       "1114  Screening Visit  012009          7\n",
       "1115  Screening Visit  012010          4\n",
       "1116  Screening Visit  012011          7\n",
       "1117  Screening Visit  012012          1\n",
       "1118  Screening Visit  012013          3\n",
       "1119  Screening Visit  012014          4\n",
       "1120  Screening Visit  012015          4\n",
       "1121  Screening Visit  012016          5\n",
       "1122  Screening Visit  012017          1"
      ]
     },
     "execution_count": 7,
     "metadata": {},
     "output_type": "execute_result"
    }
   ],
   "source": [
    "df_demographic_age"
   ]
  },
  {
   "cell_type": "code",
   "execution_count": 7,
   "metadata": {},
   "outputs": [],
   "source": [
    "df_visit_date = df_root[df_root['name']=='Date of visit']\n",
    "df_visit_date = df_visit_date[['Visit','Participante', 'Campo', 'Valor']]\n",
    "df_visit_date = df_visit_date[df_visit_date['Campo']=='Visit Date']\n",
    "df_visit_date = df_visit_date[['Visit','Participante','Valor']]\n",
    "df_visit_date = df_visit_date.rename(columns={'Participante':'Subject'})"
   ]
  },
  {
   "cell_type": "code",
   "execution_count": 8,
   "metadata": {},
   "outputs": [
    {
     "data": {
      "text/plain": [
       "array(['Birth Month', 'Birth Year', 'Age at consent', 'Gender',\n",
       "       'Ethnicity', 'Race'], dtype=object)"
      ]
     },
     "execution_count": 8,
     "metadata": {},
     "output_type": "execute_result"
    }
   ],
   "source": [
    "prueba = df[['Campo', 'Valor']].T\n",
    "columns_analize = prueba.iloc[0].unique()\n",
    "columns_analize"
   ]
  },
  {
   "cell_type": "code",
   "execution_count": 11,
   "metadata": {},
   "outputs": [],
   "source": [
    "from datetime import datetime\n",
    "from revision_fechas import revision_fecha\n",
    "import warnings\n",
    "\n",
    "warnings.filterwarnings('ignore')\n",
    "\n",
    "lista_revision = []\n",
    "\n",
    "# fecha_inicio = datetime.strptime('19-06-2023', \"%d-%m-%Y\")\n",
    "# fecha_fin =  datetime.strptime('31-10-2023', \"%d-%m-%Y\")\n",
    "\n",
    "for sujeto in lista_sujetos:\n",
    "    sujeto_principal = df[df['Participante']==sujeto]\n",
    "    for visita in sujeto_principal.Visit.unique():\n",
    "        pru_1 = sujeto_principal[sujeto_principal['Visit']==visita]\n",
    "        pru = pru_1\n",
    "        pru = pru[['Campo', 'Valor']].T\n",
    "        new_columns = pru.iloc[0]\n",
    "        pru = pru[1:].set_axis(new_columns, axis=1)\n",
    "        pru['Subject'] = sujeto\n",
    "        pru['Visit'] = visita\n",
    "        pru['status'] = pru_1['activityState'].unique()\n",
    "        pru = pru.merge(df_visit_date, on=['Subject', 'Visit'], how='left')\n",
    "        \n",
    "\n",
    "        for index, row in pru.iterrows():\n",
    "            status = row['status']\n",
    "            if status == 'INCOMPLETE' or status == 'PENDING_QUERIES':\n",
    "                pass\n",
    "            else:\n",
    "                subject = row['Subject']\n",
    "                visit = row['Visit']\n",
    "                fecha_visita = row['Valor']\n",
    "\n",
    "                try:\n",
    "                    birth_month = row['Birth Month']\n",
    "                    birth_year = row['Birth Year']\n",
    "                    age_at_consent =  row['Age at consent']\n",
    "                    gender = row['Gender']\n",
    "                    ethnicity = row['Ethnicity']\n",
    "                    race = row['Race']\n",
    "\n",
    "\n",
    "                    # if int(birth_year) < 1973 or int(birth_year) > 2005:\n",
    "                    #     error = [subject, visit, 'The year should be between 1973 and 2005' , birth_year, 'DM0010']\n",
    "                    #     lista_revision.append(error)\n",
    "                    # else:\n",
    "                    #     pass\n",
    "\n",
    "                    # if int(age_at_consent) < 18 or int(age_at_consent) > 50:\n",
    "                    #     error = [subject, visit, 'The age must be between 18 and 50 years old' , age_at_consent, 'DM0020']\n",
    "                    #     lista_revision.append(error)\n",
    "                    # else:\n",
    "                    #     pass\n",
    "    \n",
    "                    año_visita = row['Valor'].split('-')[2]\n",
    "                    año_calculado = int(año_visita) - int(birth_year)\n",
    "\n",
    "                    if age_at_consent >= año_calculado -1 and age_at_consent <= año_calculado + 1:\n",
    "                        pass\n",
    "                    else:\n",
    "                        error = [subject, visit, 'The subject AGE at consent doesnt match the AGE according to the month and year of birth' , age_at_consent, 'DM0030']\n",
    "                        lista_revision.append(error)\n",
    "                except:\n",
    "                    pass"
   ]
  },
  {
   "cell_type": "code",
   "execution_count": 12,
   "metadata": {},
   "outputs": [
    {
     "data": {
      "text/plain": [
       "[]"
      ]
     },
     "execution_count": 12,
     "metadata": {},
     "output_type": "execute_result"
    }
   ],
   "source": [
    "lista_revision"
   ]
  }
 ],
 "metadata": {
  "kernelspec": {
   "display_name": "Python 3",
   "language": "python",
   "name": "python3"
  },
  "language_info": {
   "codemirror_mode": {
    "name": "ipython",
    "version": 3
   },
   "file_extension": ".py",
   "mimetype": "text/x-python",
   "name": "python",
   "nbconvert_exporter": "python",
   "pygments_lexer": "ipython3",
   "version": "3.10.4"
  },
  "orig_nbformat": 4
 },
 "nbformat": 4,
 "nbformat_minor": 2
}
