{
 "cells": [
  {
   "cell_type": "code",
   "execution_count": 1,
   "metadata": {},
   "outputs": [],
   "source": [
    "import pandas as pd\n",
    "\n",
    "path = r'C:\\Users\\juan.sossa\\projects_integrait\\DNDI\\data\\db3bea42-add2-4185-9a08-d8a8a2622277.xlsx'\n",
    "df_root = pd.read_excel(path)"
   ]
  },
  {
   "cell_type": "code",
   "execution_count": 2,
   "metadata": {},
   "outputs": [],
   "source": [
    "df= df_root[df_root['name']== 'Medical Or Surgical History (other than Leishmaniasis)']\n",
    "lista_sujetos = df['Participante'].unique()\n",
    "df = df[['name', 'Visit', 'activityState', 'Participante', 'Estado del Participante', 'Campo', 'Valor']]"
   ]
  },
  {
   "cell_type": "code",
   "execution_count": 5,
   "metadata": {},
   "outputs": [],
   "source": [
    "df_lead_egc_undefined = df_root[df_root['name']=='Medical Or Surgical History (other than Leishmaniasis)']\n",
    "df_lead_egc_undefined = df_lead_egc_undefined[['Visit','Participante', 'Campo', 'Valor']]\n",
    "df_lead_egc_undefined = df_lead_egc_undefined[df_lead_egc_undefined['Campo']=='Onset Date/First Diagnosis/Surgery']\n",
    "df_lead_egc_undefined = df_lead_egc_undefined[['Visit','Participante','Valor']]\n",
    "df_lead_egc_undefined = df_lead_egc_undefined.rename(columns={'Participante':'Subject', 'Valor':'abnormal_specify'})"
   ]
  },
  {
   "cell_type": "code",
   "execution_count": 6,
   "metadata": {},
   "outputs": [
    {
     "data": {
      "text/html": [
       "<div>\n",
       "<style scoped>\n",
       "    .dataframe tbody tr th:only-of-type {\n",
       "        vertical-align: middle;\n",
       "    }\n",
       "\n",
       "    .dataframe tbody tr th {\n",
       "        vertical-align: top;\n",
       "    }\n",
       "\n",
       "    .dataframe thead th {\n",
       "        text-align: right;\n",
       "    }\n",
       "</style>\n",
       "<table border=\"1\" class=\"dataframe\">\n",
       "  <thead>\n",
       "    <tr style=\"text-align: right;\">\n",
       "      <th></th>\n",
       "      <th>Visit</th>\n",
       "      <th>Subject</th>\n",
       "      <th>abnormal_specify</th>\n",
       "    </tr>\n",
       "  </thead>\n",
       "  <tbody>\n",
       "    <tr>\n",
       "      <th>1896</th>\n",
       "      <td>Screening Visit</td>\n",
       "      <td>011002</td>\n",
       "      <td>17-FEB-2007</td>\n",
       "    </tr>\n",
       "    <tr>\n",
       "      <th>1897</th>\n",
       "      <td>Screening Visit</td>\n",
       "      <td>011002</td>\n",
       "      <td>7-MAY-2019</td>\n",
       "    </tr>\n",
       "    <tr>\n",
       "      <th>1898</th>\n",
       "      <td>Screening Visit</td>\n",
       "      <td>011002</td>\n",
       "      <td>20-MAY-2004</td>\n",
       "    </tr>\n",
       "    <tr>\n",
       "      <th>1899</th>\n",
       "      <td>Screening Visit</td>\n",
       "      <td>011002</td>\n",
       "      <td>7-APR-2022</td>\n",
       "    </tr>\n",
       "    <tr>\n",
       "      <th>1900</th>\n",
       "      <td>Screening Visit</td>\n",
       "      <td>011005</td>\n",
       "      <td>UNK-JAN-2022</td>\n",
       "    </tr>\n",
       "    <tr>\n",
       "      <th>1901</th>\n",
       "      <td>Screening Visit</td>\n",
       "      <td>011005</td>\n",
       "      <td>8-APR-2016</td>\n",
       "    </tr>\n",
       "    <tr>\n",
       "      <th>1902</th>\n",
       "      <td>Screening Visit</td>\n",
       "      <td>011005</td>\n",
       "      <td>16-FEB-2008</td>\n",
       "    </tr>\n",
       "    <tr>\n",
       "      <th>1903</th>\n",
       "      <td>Screening Visit</td>\n",
       "      <td>012011</td>\n",
       "      <td>UNK-MAR-2022</td>\n",
       "    </tr>\n",
       "    <tr>\n",
       "      <th>1904</th>\n",
       "      <td>Screening Visit</td>\n",
       "      <td>012017</td>\n",
       "      <td>1-JAN-2008</td>\n",
       "    </tr>\n",
       "    <tr>\n",
       "      <th>1905</th>\n",
       "      <td>Screening Visit</td>\n",
       "      <td>012017</td>\n",
       "      <td>2-JAN-2008</td>\n",
       "    </tr>\n",
       "    <tr>\n",
       "      <th>1906</th>\n",
       "      <td>Screening Visit</td>\n",
       "      <td>012017</td>\n",
       "      <td>20-JAN-2008</td>\n",
       "    </tr>\n",
       "    <tr>\n",
       "      <th>1907</th>\n",
       "      <td>Screening Visit</td>\n",
       "      <td>012017</td>\n",
       "      <td>5-JAN-2004</td>\n",
       "    </tr>\n",
       "  </tbody>\n",
       "</table>\n",
       "</div>"
      ],
      "text/plain": [
       "                Visit Subject abnormal_specify\n",
       "1896  Screening Visit  011002      17-FEB-2007\n",
       "1897  Screening Visit  011002       7-MAY-2019\n",
       "1898  Screening Visit  011002      20-MAY-2004\n",
       "1899  Screening Visit  011002       7-APR-2022\n",
       "1900  Screening Visit  011005     UNK-JAN-2022\n",
       "1901  Screening Visit  011005       8-APR-2016\n",
       "1902  Screening Visit  011005      16-FEB-2008\n",
       "1903  Screening Visit  012011     UNK-MAR-2022\n",
       "1904  Screening Visit  012017       1-JAN-2008\n",
       "1905  Screening Visit  012017       2-JAN-2008\n",
       "1906  Screening Visit  012017      20-JAN-2008\n",
       "1907  Screening Visit  012017       5-JAN-2004"
      ]
     },
     "execution_count": 6,
     "metadata": {},
     "output_type": "execute_result"
    }
   ],
   "source": [
    "df_lead_egc_undefined"
   ]
  },
  {
   "cell_type": "code",
   "execution_count": 3,
   "metadata": {},
   "outputs": [
    {
     "data": {
      "text/plain": [
       "array(['Are there any relevant medical history or surgical history ?',\n",
       "       'Medical/Surgical History/Current Condition',\n",
       "       'Onset Date/First Diagnosis/Surgery', 'Is Condition Ongoing?',\n",
       "       'End Date', 'Severity', 'Frequency', 'Currently treated?'],\n",
       "      dtype=object)"
      ]
     },
     "execution_count": 3,
     "metadata": {},
     "output_type": "execute_result"
    }
   ],
   "source": [
    "prueba = df[['Campo', 'Valor']].T\n",
    "columns_analize = prueba.iloc[0].unique()\n",
    "columns_analize"
   ]
  },
  {
   "cell_type": "code",
   "execution_count": null,
   "metadata": {},
   "outputs": [],
   "source": [
    "from datetime import datetime\n",
    "from revision_fechas import revision_fecha\n",
    "import warnings\n",
    "\n",
    "warnings.filterwarnings('ignore')\n",
    "\n",
    "lista_revision = []\n",
    "\n",
    "# fecha_inicio = datetime.strptime('19-06-2023', \"%d-%m-%Y\")\n",
    "# fecha_fin =  datetime.strptime('31-10-2023', \"%d-%m-%Y\")\n",
    "\n",
    "for sujeto in lista_sujetos:\n",
    "    sujeto_principal = df[df['Participante']==sujeto]\n",
    "\n",
    "    for visita in sujeto_principal.Visit.unique():\n",
    "        pru_1 = sujeto_principal[sujeto_principal['Visit']==visita]\n",
    "        pru = pru_1\n",
    "        pru = pru[['Campo', 'Valor']].T\n",
    "        new_columns = pru.iloc[0]\n",
    "        pru = pru[1:].set_axis(new_columns, axis=1)\n",
    "        pru['Subject'] = sujeto\n",
    "        pru['Visit'] = visita\n",
    "        pru['status'] = pru_1['activityState'].unique()\n",
    "\n",
    "        for index, row in pru.iterrows():\n",
    "            status = row['status']\n",
    "            if status == 'INCOMPLETE' or status == 'PENDING_QUERIES':\n",
    "                pass\n",
    "            else:\n",
    "                any_relevant_medical = row['Are there any relevant medical history or surgical history ?']\n",
    "                medical_surgical = row['Medical/Surgical History/Current Condition']\n",
    "                onset_date = row['Onset Date/First Diagnosis/Surgery']\n",
    "                condition_ongoing = row['Is Condition Ongoing?']\n",
    "                end_date = row['End Date']\n",
    "                severity = row['Severity']\n",
    "                frequency = row['Frequency']\n",
    "                currently_treated = row['Currently treated?']"
   ]
  }
 ],
 "metadata": {
  "kernelspec": {
   "display_name": "Python 3",
   "language": "python",
   "name": "python3"
  },
  "language_info": {
   "codemirror_mode": {
    "name": "ipython",
    "version": 3
   },
   "file_extension": ".py",
   "mimetype": "text/x-python",
   "name": "python",
   "nbconvert_exporter": "python",
   "pygments_lexer": "ipython3",
   "version": "3.11.3"
  },
  "orig_nbformat": 4
 },
 "nbformat": 4,
 "nbformat_minor": 2
}
