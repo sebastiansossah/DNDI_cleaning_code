{
 "cells": [
  {
   "cell_type": "code",
   "execution_count": 1,
   "metadata": {},
   "outputs": [],
   "source": [
    "import pandas as pd\n",
    "\n",
    "path = r'C:\\Users\\juan.sossa\\projects_integrait\\DNDI\\data\\db3bea42-add2-4185-9a08-d8a8a2622277.xlsx'\n",
    "df_root = pd.read_excel(path)"
   ]
  },
  {
   "cell_type": "code",
   "execution_count": 4,
   "metadata": {},
   "outputs": [],
   "source": [
    "df= df_root[df_root['name']== 'Pregnancy Test']\n",
    "lista_sujetos = df['Participante'].unique()\n",
    "df = df[['name', 'Visit', 'activityState', 'Participante', 'Estado del Participante', 'Campo', 'Valor']]"
   ]
  },
  {
   "cell_type": "code",
   "execution_count": 5,
   "metadata": {},
   "outputs": [
    {
     "data": {
      "text/plain": [
       "array(['Was the Pregnancy Test performed?', 'Provide the reason',\n",
       "       'Type of pregnancy test', 'Date of test performed',\n",
       "       'Pregnancy Test Results'], dtype=object)"
      ]
     },
     "execution_count": 5,
     "metadata": {},
     "output_type": "execute_result"
    }
   ],
   "source": [
    "prueba = df[['Campo', 'Valor']].T\n",
    "columns_analize = prueba.iloc[0].unique()\n",
    "columns_analize"
   ]
  },
  {
   "cell_type": "code",
   "execution_count": null,
   "metadata": {},
   "outputs": [],
   "source": [
    "from datetime import datetime\n",
    "from revision_fechas import revision_fecha\n",
    "import warnings\n",
    "\n",
    "warnings.filterwarnings('ignore')\n",
    "\n",
    "lista_revision = []\n",
    "\n",
    "# fecha_inicio = datetime.strptime('19-06-2023', \"%d-%m-%Y\")\n",
    "# fecha_fin =  datetime.strptime('31-10-2023', \"%d-%m-%Y\")\n",
    "\n",
    "for sujeto in lista_sujetos:\n",
    "    sujeto_principal = df[df['Participante']==sujeto]\n",
    "\n",
    "    for visita in sujeto_principal.Visit.unique():\n",
    "        pru_1 = sujeto_principal[sujeto_principal['Visit']==visita]\n",
    "        pru = pru_1\n",
    "        pru = pru[['Campo', 'Valor']].T\n",
    "        new_columns = pru.iloc[0]\n",
    "        pru = pru[1:].set_axis(new_columns, axis=1)\n",
    "        pru['Subject'] = sujeto\n",
    "        pru['Visit'] = visita\n",
    "        pru['status'] = pru_1['activityState'].unique()\n",
    "\n",
    "        for index, row in pru.iterrows():\n",
    "            status = row['status']\n",
    "            if status == 'INCOMPLETE' or status == 'PENDING_QUERIES':\n",
    "                pass\n",
    "            else:\n",
    "                was_pregnancy_test_performed = row['Was the Pregnancy Test performed?']\n",
    "                provide_reason = row['Provide the reason']\n",
    "                type_pregnancy_test = row['Type of pregnancy test']\n",
    "                date_test_performed = row['Date of test performed']\n",
    "                pregnancy_test_result = row['Pregnancy Test Results']\n"
   ]
  }
 ],
 "metadata": {
  "kernelspec": {
   "display_name": "Python 3",
   "language": "python",
   "name": "python3"
  },
  "language_info": {
   "codemirror_mode": {
    "name": "ipython",
    "version": 3
   },
   "file_extension": ".py",
   "mimetype": "text/x-python",
   "name": "python",
   "nbconvert_exporter": "python",
   "pygments_lexer": "ipython3",
   "version": "3.11.3"
  },
  "orig_nbformat": 4
 },
 "nbformat": 4,
 "nbformat_minor": 2
}
