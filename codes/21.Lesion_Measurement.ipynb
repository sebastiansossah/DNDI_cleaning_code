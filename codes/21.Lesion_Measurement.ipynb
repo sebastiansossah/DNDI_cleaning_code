{
 "cells": [
  {
   "cell_type": "code",
   "execution_count": 1,
   "metadata": {},
   "outputs": [],
   "source": [
    "import pandas as pd\n",
    "\n",
    "path = r'C:\\Users\\juan.sossa\\projects_integrait\\DNDI\\data\\db3bea42-add2-4185-9a08-d8a8a2622277.xlsx'\n",
    "df_root = pd.read_excel(path)"
   ]
  },
  {
   "cell_type": "code",
   "execution_count": 2,
   "metadata": {},
   "outputs": [],
   "source": [
    "df= df_root[df_root['name']== 'Lesion Measurement']\n",
    "lista_sujetos = df['Participante'].unique()\n",
    "df = df[['name', 'Visit', 'activityState', 'Participante', 'Estado del Participante', 'Campo', 'Valor']]"
   ]
  },
  {
   "cell_type": "code",
   "execution_count": 3,
   "metadata": {},
   "outputs": [],
   "source": [
    "df__lession  = df_root[df_root['name']=='Lesion Measurement']\n",
    "df__lession = df__lession[['Visit','Participante', 'Campo', 'Valor']]\n",
    "df__lession = df__lession[df__lession['Campo']=='Anatomical Location']\n",
    "df__lession = df__lession[['Visit','Participante','Valor']]\n",
    "df__lession = df__lession.rename(columns={'Participante':'Subject', 'Valor':'lesion_measurement'})\n",
    "subject_counts = df__lession['Subject'].value_counts().reset_index()\n",
    "subject_counts.columns = ['Subject', 'Count']\n",
    "df_with_counts = df__lession.merge(subject_counts, left_on='Subject', right_on='Subject')\n",
    "df_with_counts = df_with_counts[['Visit','Subject','Count']]"
   ]
  },
  {
   "cell_type": "code",
   "execution_count": 4,
   "metadata": {},
   "outputs": [],
   "source": [
    "\n",
    "df__lession_dia  = df_root[df_root['name']=='Lesion Measurement']\n",
    "df__lession_dia = df__lession_dia[['Visit','Participante', 'Campo', 'Valor']]\n",
    "df__lession_dia = df__lession_dia[df__lession_dia['Campo']=='Longest diameter of lesion in mm']\n",
    "df__lession_dia = df__lession_dia[['Visit','Participante','Valor']]\n",
    "df__lession_dia = df__lession_dia.groupby('Participante', as_index=False).max()\n",
    "df__lession_dia = df__lession_dia.rename(columns={'Participante':'Subject', 'Valor':'Max_diameter'})\n",
    "df__lession_dia = df__lession_dia[['Visit','Subject','Max_diameter']]"
   ]
  },
  {
   "cell_type": "code",
   "execution_count": 5,
   "metadata": {},
   "outputs": [
    {
     "data": {
      "text/html": [
       "<div>\n",
       "<style scoped>\n",
       "    .dataframe tbody tr th:only-of-type {\n",
       "        vertical-align: middle;\n",
       "    }\n",
       "\n",
       "    .dataframe tbody tr th {\n",
       "        vertical-align: top;\n",
       "    }\n",
       "\n",
       "    .dataframe thead th {\n",
       "        text-align: right;\n",
       "    }\n",
       "</style>\n",
       "<table border=\"1\" class=\"dataframe\">\n",
       "  <thead>\n",
       "    <tr style=\"text-align: right;\">\n",
       "      <th></th>\n",
       "      <th>Visit</th>\n",
       "      <th>Subject</th>\n",
       "      <th>Max_diameter</th>\n",
       "    </tr>\n",
       "  </thead>\n",
       "  <tbody>\n",
       "    <tr>\n",
       "      <th>0</th>\n",
       "      <td>Screening Visit</td>\n",
       "      <td>012010</td>\n",
       "      <td>NaN</td>\n",
       "    </tr>\n",
       "    <tr>\n",
       "      <th>1</th>\n",
       "      <td>Screening Visit</td>\n",
       "      <td>012011</td>\n",
       "      <td>434</td>\n",
       "    </tr>\n",
       "    <tr>\n",
       "      <th>2</th>\n",
       "      <td>D42</td>\n",
       "      <td>012015</td>\n",
       "      <td>545</td>\n",
       "    </tr>\n",
       "  </tbody>\n",
       "</table>\n",
       "</div>"
      ],
      "text/plain": [
       "             Visit Subject Max_diameter\n",
       "0  Screening Visit  012010          NaN\n",
       "1  Screening Visit  012011          434\n",
       "2              D42  012015          545"
      ]
     },
     "execution_count": 5,
     "metadata": {},
     "output_type": "execute_result"
    }
   ],
   "source": [
    "df__lession_dia"
   ]
  },
  {
   "cell_type": "code",
   "execution_count": 6,
   "metadata": {},
   "outputs": [
    {
     "data": {
      "text/html": [
       "<div>\n",
       "<style scoped>\n",
       "    .dataframe tbody tr th:only-of-type {\n",
       "        vertical-align: middle;\n",
       "    }\n",
       "\n",
       "    .dataframe tbody tr th {\n",
       "        vertical-align: top;\n",
       "    }\n",
       "\n",
       "    .dataframe thead th {\n",
       "        text-align: right;\n",
       "    }\n",
       "</style>\n",
       "<table border=\"1\" class=\"dataframe\">\n",
       "  <thead>\n",
       "    <tr style=\"text-align: right;\">\n",
       "      <th></th>\n",
       "      <th>Visit</th>\n",
       "      <th>Subject</th>\n",
       "      <th>lesion_measurement</th>\n",
       "    </tr>\n",
       "  </thead>\n",
       "  <tbody>\n",
       "    <tr>\n",
       "      <th>24771</th>\n",
       "      <td>D14</td>\n",
       "      <td>012011</td>\n",
       "      <td>2</td>\n",
       "    </tr>\n",
       "    <tr>\n",
       "      <th>24772</th>\n",
       "      <td>D21</td>\n",
       "      <td>012011</td>\n",
       "      <td>14</td>\n",
       "    </tr>\n",
       "    <tr>\n",
       "      <th>24773</th>\n",
       "      <td>D42</td>\n",
       "      <td>012015</td>\n",
       "      <td>3</td>\n",
       "    </tr>\n",
       "    <tr>\n",
       "      <th>24774</th>\n",
       "      <td>D90</td>\n",
       "      <td>012011</td>\n",
       "      <td>5</td>\n",
       "    </tr>\n",
       "    <tr>\n",
       "      <th>24775</th>\n",
       "      <td>D105</td>\n",
       "      <td>012011</td>\n",
       "      <td>4</td>\n",
       "    </tr>\n",
       "    <tr>\n",
       "      <th>24776</th>\n",
       "      <td>Screening Visit</td>\n",
       "      <td>012011</td>\n",
       "      <td>1</td>\n",
       "    </tr>\n",
       "  </tbody>\n",
       "</table>\n",
       "</div>"
      ],
      "text/plain": [
       "                 Visit Subject lesion_measurement\n",
       "24771              D14  012011                  2\n",
       "24772              D21  012011                 14\n",
       "24773              D42  012015                  3\n",
       "24774              D90  012011                  5\n",
       "24775             D105  012011                  4\n",
       "24776  Screening Visit  012011                  1"
      ]
     },
     "execution_count": 6,
     "metadata": {},
     "output_type": "execute_result"
    }
   ],
   "source": [
    "df__lession"
   ]
  },
  {
   "cell_type": "code",
   "execution_count": 7,
   "metadata": {},
   "outputs": [
    {
     "data": {
      "text/html": [
       "<div>\n",
       "<style scoped>\n",
       "    .dataframe tbody tr th:only-of-type {\n",
       "        vertical-align: middle;\n",
       "    }\n",
       "\n",
       "    .dataframe tbody tr th {\n",
       "        vertical-align: top;\n",
       "    }\n",
       "\n",
       "    .dataframe thead th {\n",
       "        text-align: right;\n",
       "    }\n",
       "</style>\n",
       "<table border=\"1\" class=\"dataframe\">\n",
       "  <thead>\n",
       "    <tr style=\"text-align: right;\">\n",
       "      <th></th>\n",
       "      <th>Visit</th>\n",
       "      <th>Subject</th>\n",
       "      <th>Count</th>\n",
       "    </tr>\n",
       "  </thead>\n",
       "  <tbody>\n",
       "    <tr>\n",
       "      <th>0</th>\n",
       "      <td>D14</td>\n",
       "      <td>012011</td>\n",
       "      <td>5</td>\n",
       "    </tr>\n",
       "    <tr>\n",
       "      <th>1</th>\n",
       "      <td>D21</td>\n",
       "      <td>012011</td>\n",
       "      <td>5</td>\n",
       "    </tr>\n",
       "    <tr>\n",
       "      <th>2</th>\n",
       "      <td>D90</td>\n",
       "      <td>012011</td>\n",
       "      <td>5</td>\n",
       "    </tr>\n",
       "    <tr>\n",
       "      <th>3</th>\n",
       "      <td>D105</td>\n",
       "      <td>012011</td>\n",
       "      <td>5</td>\n",
       "    </tr>\n",
       "    <tr>\n",
       "      <th>4</th>\n",
       "      <td>Screening Visit</td>\n",
       "      <td>012011</td>\n",
       "      <td>5</td>\n",
       "    </tr>\n",
       "    <tr>\n",
       "      <th>5</th>\n",
       "      <td>D42</td>\n",
       "      <td>012015</td>\n",
       "      <td>1</td>\n",
       "    </tr>\n",
       "  </tbody>\n",
       "</table>\n",
       "</div>"
      ],
      "text/plain": [
       "             Visit Subject  Count\n",
       "0              D14  012011      5\n",
       "1              D21  012011      5\n",
       "2              D90  012011      5\n",
       "3             D105  012011      5\n",
       "4  Screening Visit  012011      5\n",
       "5              D42  012015      1"
      ]
     },
     "execution_count": 7,
     "metadata": {},
     "output_type": "execute_result"
    }
   ],
   "source": [
    "df_with_counts.head(30)"
   ]
  },
  {
   "cell_type": "code",
   "execution_count": 8,
   "metadata": {},
   "outputs": [
    {
     "data": {
      "text/plain": [
       "['Was the lesion measurement performed?',\n",
       " 'Provide the reason',\n",
       " 'Date of assessment performed',\n",
       " 'Anatomical Location',\n",
       " 'Side',\n",
       " 'Sagital axis',\n",
       " 'Longest diameter of lesion in mm',\n",
       " 'Perpendicular to longest diameter of lesion in mm',\n",
       " 'Type of lesion',\n",
       " 'Mucosa involved in lesion',\n",
       " 'Duration of the lesion in weeks',\n",
       " 'Lesion Photograph taken?',\n",
       " 'Was the lesion failure criteria met (see section 12.2 of the study protocol)?',\n",
       " 'Re-epithelialization of ulcerated lesions compared to the Day-1',\n",
       " 'Re-epithelialization of ulcerated lesions compared to the Day-1 (%)',\n",
       " 'Flattening of Non –Ulcerated compared to the Day-1 (%)']"
      ]
     },
     "execution_count": 8,
     "metadata": {},
     "output_type": "execute_result"
    }
   ],
   "source": [
    "prueba = df[['Campo', 'Valor']].T\n",
    "columns_analize = list(prueba.iloc[0].unique())\n",
    "columns_analize"
   ]
  },
  {
   "cell_type": "code",
   "execution_count": 9,
   "metadata": {},
   "outputs": [
    {
     "name": "stdout",
     "output_type": "stream",
     "text": [
      "Was_the_lesion_measurement_performed? = row[\"Was the lesion measurement performed?\"]\n",
      "Provide_the_reason = row[\"Provide the reason\"]\n",
      "Date_of_assessment_performed = row[\"Date of assessment performed\"]\n",
      "Anatomical_Location = row[\"Anatomical Location\"]\n",
      "Side = row[\"Side\"]\n",
      "Sagital_axis = row[\"Sagital axis\"]\n",
      "Longest_diameter_of_lesion_in_mm = row[\"Longest diameter of lesion in mm\"]\n",
      "Perpendicular_to_longest_diameter_of_lesion_in_mm = row[\"Perpendicular to longest diameter of lesion in mm\"]\n",
      "Type_of_lesion = row[\"Type of lesion\"]\n",
      "Mucosa_involved_in_lesion = row[\"Mucosa involved in lesion\"]\n",
      "Duration_of_the_lesion_in_weeks = row[\"Duration of the lesion in weeks\"]\n",
      "Lesion_Photograph_taken? = row[\"Lesion Photograph taken?\"]\n",
      "Was_the_lesion_failure_criteria_met_(see_section_12.2_of_the_study_protocol)? = row[\"Was the lesion failure criteria met (see section 12.2 of the study protocol)?\"]\n",
      "Re-epithelialization_of_ulcerated_lesions_compared_to_the_Day-1 = row[\"Re-epithelialization of ulcerated lesions compared to the Day-1\"]\n",
      "Re-epithelialization_of_ulcerated_lesions_compared_to_the_Day-1_(%) = row[\"Re-epithelialization of ulcerated lesions compared to the Day-1 (%)\"]\n",
      "Flattening_of_Non_–Ulcerated_compared_to_the_Day-1_(%) = row[\"Flattening of Non –Ulcerated compared to the Day-1 (%)\"]\n"
     ]
    }
   ],
   "source": [
    "for i in columns_analize:\n",
    "    print(f'{i.replace(\" \", \"_\")} = row[\"{i}\"]')"
   ]
  },
  {
   "cell_type": "code",
   "execution_count": 10,
   "metadata": {},
   "outputs": [
    {
     "ename": "KeyError",
     "evalue": "'Anatomical Location'",
     "output_type": "error",
     "traceback": [
      "\u001b[1;31m---------------------------------------------------------------------------\u001b[0m",
      "\u001b[1;31mKeyError\u001b[0m                                  Traceback (most recent call last)",
      "File \u001b[1;32mc:\\Users\\juan.sossa\\AppData\\Local\\Programs\\Python\\Python311\\Lib\\site-packages\\pandas\\core\\indexes\\base.py:3652\u001b[0m, in \u001b[0;36mIndex.get_loc\u001b[1;34m(self, key)\u001b[0m\n\u001b[0;32m   3651\u001b[0m \u001b[39mtry\u001b[39;00m:\n\u001b[1;32m-> 3652\u001b[0m     \u001b[39mreturn\u001b[39;00m \u001b[39mself\u001b[39;49m\u001b[39m.\u001b[39;49m_engine\u001b[39m.\u001b[39;49mget_loc(casted_key)\n\u001b[0;32m   3653\u001b[0m \u001b[39mexcept\u001b[39;00m \u001b[39mKeyError\u001b[39;00m \u001b[39mas\u001b[39;00m err:\n",
      "File \u001b[1;32mc:\\Users\\juan.sossa\\AppData\\Local\\Programs\\Python\\Python311\\Lib\\site-packages\\pandas\\_libs\\index.pyx:147\u001b[0m, in \u001b[0;36mpandas._libs.index.IndexEngine.get_loc\u001b[1;34m()\u001b[0m\n",
      "File \u001b[1;32mc:\\Users\\juan.sossa\\AppData\\Local\\Programs\\Python\\Python311\\Lib\\site-packages\\pandas\\_libs\\index.pyx:176\u001b[0m, in \u001b[0;36mpandas._libs.index.IndexEngine.get_loc\u001b[1;34m()\u001b[0m\n",
      "File \u001b[1;32mpandas\\_libs\\hashtable_class_helper.pxi:7080\u001b[0m, in \u001b[0;36mpandas._libs.hashtable.PyObjectHashTable.get_item\u001b[1;34m()\u001b[0m\n",
      "File \u001b[1;32mpandas\\_libs\\hashtable_class_helper.pxi:7088\u001b[0m, in \u001b[0;36mpandas._libs.hashtable.PyObjectHashTable.get_item\u001b[1;34m()\u001b[0m\n",
      "\u001b[1;31mKeyError\u001b[0m: 'Anatomical Location'",
      "\nThe above exception was the direct cause of the following exception:\n",
      "\u001b[1;31mKeyError\u001b[0m                                  Traceback (most recent call last)",
      "Cell \u001b[1;32mIn[10], line 33\u001b[0m\n\u001b[0;32m     31\u001b[0m Provide_the_reason \u001b[39m=\u001b[39m row[\u001b[39m\"\u001b[39m\u001b[39mProvide the reason\u001b[39m\u001b[39m\"\u001b[39m]\n\u001b[0;32m     32\u001b[0m Date_of_assessment_performed \u001b[39m=\u001b[39m row[\u001b[39m\"\u001b[39m\u001b[39mDate of assessment performed\u001b[39m\u001b[39m\"\u001b[39m]\n\u001b[1;32m---> 33\u001b[0m Anatomical_Location \u001b[39m=\u001b[39m row[\u001b[39m\"\u001b[39;49m\u001b[39mAnatomical Location\u001b[39;49m\u001b[39m\"\u001b[39;49m]\n\u001b[0;32m     34\u001b[0m Side \u001b[39m=\u001b[39m row[\u001b[39m\"\u001b[39m\u001b[39mSide\u001b[39m\u001b[39m\"\u001b[39m]\n\u001b[0;32m     35\u001b[0m Sagital_axis \u001b[39m=\u001b[39m row[\u001b[39m\"\u001b[39m\u001b[39mSagital axis\u001b[39m\u001b[39m\"\u001b[39m]\n",
      "File \u001b[1;32mc:\\Users\\juan.sossa\\AppData\\Local\\Programs\\Python\\Python311\\Lib\\site-packages\\pandas\\core\\series.py:1007\u001b[0m, in \u001b[0;36mSeries.__getitem__\u001b[1;34m(self, key)\u001b[0m\n\u001b[0;32m   1004\u001b[0m     \u001b[39mreturn\u001b[39;00m \u001b[39mself\u001b[39m\u001b[39m.\u001b[39m_values[key]\n\u001b[0;32m   1006\u001b[0m \u001b[39melif\u001b[39;00m key_is_scalar:\n\u001b[1;32m-> 1007\u001b[0m     \u001b[39mreturn\u001b[39;00m \u001b[39mself\u001b[39;49m\u001b[39m.\u001b[39;49m_get_value(key)\n\u001b[0;32m   1009\u001b[0m \u001b[39mif\u001b[39;00m is_hashable(key):\n\u001b[0;32m   1010\u001b[0m     \u001b[39m# Otherwise index.get_value will raise InvalidIndexError\u001b[39;00m\n\u001b[0;32m   1011\u001b[0m     \u001b[39mtry\u001b[39;00m:\n\u001b[0;32m   1012\u001b[0m         \u001b[39m# For labels that don't resolve as scalars like tuples and frozensets\u001b[39;00m\n",
      "File \u001b[1;32mc:\\Users\\juan.sossa\\AppData\\Local\\Programs\\Python\\Python311\\Lib\\site-packages\\pandas\\core\\series.py:1116\u001b[0m, in \u001b[0;36mSeries._get_value\u001b[1;34m(self, label, takeable)\u001b[0m\n\u001b[0;32m   1113\u001b[0m     \u001b[39mreturn\u001b[39;00m \u001b[39mself\u001b[39m\u001b[39m.\u001b[39m_values[label]\n\u001b[0;32m   1115\u001b[0m \u001b[39m# Similar to Index.get_value, but we do not fall back to positional\u001b[39;00m\n\u001b[1;32m-> 1116\u001b[0m loc \u001b[39m=\u001b[39m \u001b[39mself\u001b[39;49m\u001b[39m.\u001b[39;49mindex\u001b[39m.\u001b[39;49mget_loc(label)\n\u001b[0;32m   1118\u001b[0m \u001b[39mif\u001b[39;00m is_integer(loc):\n\u001b[0;32m   1119\u001b[0m     \u001b[39mreturn\u001b[39;00m \u001b[39mself\u001b[39m\u001b[39m.\u001b[39m_values[loc]\n",
      "File \u001b[1;32mc:\\Users\\juan.sossa\\AppData\\Local\\Programs\\Python\\Python311\\Lib\\site-packages\\pandas\\core\\indexes\\base.py:3654\u001b[0m, in \u001b[0;36mIndex.get_loc\u001b[1;34m(self, key)\u001b[0m\n\u001b[0;32m   3652\u001b[0m     \u001b[39mreturn\u001b[39;00m \u001b[39mself\u001b[39m\u001b[39m.\u001b[39m_engine\u001b[39m.\u001b[39mget_loc(casted_key)\n\u001b[0;32m   3653\u001b[0m \u001b[39mexcept\u001b[39;00m \u001b[39mKeyError\u001b[39;00m \u001b[39mas\u001b[39;00m err:\n\u001b[1;32m-> 3654\u001b[0m     \u001b[39mraise\u001b[39;00m \u001b[39mKeyError\u001b[39;00m(key) \u001b[39mfrom\u001b[39;00m \u001b[39merr\u001b[39;00m\n\u001b[0;32m   3655\u001b[0m \u001b[39mexcept\u001b[39;00m \u001b[39mTypeError\u001b[39;00m:\n\u001b[0;32m   3656\u001b[0m     \u001b[39m# If we have a listlike key, _check_indexing_error will raise\u001b[39;00m\n\u001b[0;32m   3657\u001b[0m     \u001b[39m#  InvalidIndexError. Otherwise we fall through and re-raise\u001b[39;00m\n\u001b[0;32m   3658\u001b[0m     \u001b[39m#  the TypeError.\u001b[39;00m\n\u001b[0;32m   3659\u001b[0m     \u001b[39mself\u001b[39m\u001b[39m.\u001b[39m_check_indexing_error(key)\n",
      "\u001b[1;31mKeyError\u001b[0m: 'Anatomical Location'"
     ]
    }
   ],
   "source": [
    "from datetime import datetime\n",
    "from revision_fechas import revision_fecha\n",
    "import warnings\n",
    "\n",
    "warnings.filterwarnings('ignore')\n",
    "\n",
    "lista_revision = []\n",
    "\n",
    "# fecha_inicio = datetime.strptime('19-06-2023', \"%d-%m-%Y\")\n",
    "# fecha_fin =  datetime.strptime('31-10-2023', \"%d-%m-%Y\")\n",
    "\n",
    "for sujeto in lista_sujetos:\n",
    "    sujeto_principal = df[df['Participante']==sujeto]\n",
    "\n",
    "    for visita in sujeto_principal.Visit.unique():\n",
    "        pru_1 = sujeto_principal[sujeto_principal['Visit']==visita]\n",
    "        pru = pru_1\n",
    "        pru = pru[['Campo', 'Valor']].T\n",
    "        new_columns = pru.iloc[0]\n",
    "        pru = pru[1:].set_axis(new_columns, axis=1)\n",
    "        pru['Subject'] = sujeto\n",
    "        pru['Visit'] = visita\n",
    "        pru['status'] = pru_1['activityState'].unique()\n",
    "\n",
    "        for index, row in pru.iterrows():\n",
    "            status = row['status']\n",
    "            if status == 'INCOMPLETE' or status == 'PENDING_QUERIES':\n",
    "                pass\n",
    "            else:\n",
    "                Was_the_lesion_measurement_performed = row[\"Was the lesion measurement performed?\"]\n",
    "                Provide_the_reason = row[\"Provide the reason\"]\n",
    "                Date_of_assessment_performed = row[\"Date of assessment performed\"]\n",
    "                Anatomical_Location = row[\"Anatomical Location\"]\n",
    "                Side = row[\"Side\"]\n",
    "                Sagital_axis = row[\"Sagital axis\"]\n",
    "                Longest_diameter_of_lesion_in_mm = row[\"Longest diameter of lesion in mm\"]\n",
    "                Perpendicular_to_longest_diameter_of_lesion_in_mm = row[\"Perpendicular to longest diameter of lesion in mm\"]\n",
    "                Type_of_lesion = row[\"Type of lesion\"]\n",
    "                Mucosa_involved_in_lesion = row[\"Mucosa involved in lesion\"]\n",
    "                Duration_of_the_lesion_in_weeks = row[\"Duration of the lesion in weeks\"]\n",
    "                Lesion_Photograph_taken = row[\"Lesion Photograph taken?\"]\n",
    "                Was_the_lesion_failure_criteria = row[\"Was the lesion failure criteria met (see section 12.2 of the study protocol)?\"]\n",
    "                Re_epithelialization_of_ulcerated_lesions_compared_to_the_Day = row[\"Re-epithelialization of ulcerated lesions compared to the Day-1\"]\n",
    "                Re_epithelialization_of_ulcerated_lesions_compared_to_the_Day_pertentaje = row[\"Re-epithelialization of ulcerated lesions compared to the Day-1 (%)\"]\n",
    "                Flattening_of_Non_Ulcerated_compared_to_the_Day = row[\"Flattening of Non –Ulcerated compared to the Day-1 (%)\"]"
   ]
  }
 ],
 "metadata": {
  "kernelspec": {
   "display_name": "Python 3",
   "language": "python",
   "name": "python3"
  },
  "language_info": {
   "codemirror_mode": {
    "name": "ipython",
    "version": 3
   },
   "file_extension": ".py",
   "mimetype": "text/x-python",
   "name": "python",
   "nbconvert_exporter": "python",
   "pygments_lexer": "ipython3",
   "version": "3.11.3"
  },
  "orig_nbformat": 4
 },
 "nbformat": 4,
 "nbformat_minor": 2
}
