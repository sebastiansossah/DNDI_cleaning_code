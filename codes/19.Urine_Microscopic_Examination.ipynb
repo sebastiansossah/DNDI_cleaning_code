{
 "cells": [
  {
   "cell_type": "code",
   "execution_count": 1,
   "metadata": {},
   "outputs": [],
   "source": [
    "import pandas as pd\n",
    "\n",
    "path = r'C:\\Users\\juan.sossa\\projects_integrait\\DNDI\\data\\db3bea42-add2-4185-9a08-d8a8a2622277.xlsx'\n",
    "df_root = pd.read_excel(path)"
   ]
  },
  {
   "cell_type": "code",
   "execution_count": 2,
   "metadata": {},
   "outputs": [],
   "source": [
    "df= df_root[df_root['name']== 'Urine Microscopic Examination']\n",
    "lista_sujetos = df['Participante'].unique()\n",
    "df = df[['name', 'Visit', 'activityState', 'Participante', 'Estado del Participante', 'Campo', 'Valor']]"
   ]
  },
  {
   "cell_type": "code",
   "execution_count": 3,
   "metadata": {},
   "outputs": [
    {
     "data": {
      "text/plain": [
       "array(['D-1', 'D2', 'D7', 'D14', 'D16', 'D21', 'D28', 'D30', 'D35', 'D42',\n",
       "       'Screening Visit'], dtype=object)"
      ]
     },
     "execution_count": 3,
     "metadata": {},
     "output_type": "execute_result"
    }
   ],
   "source": [
    "df.Visit.unique()"
   ]
  },
  {
   "cell_type": "code",
   "execution_count": 3,
   "metadata": {},
   "outputs": [],
   "source": [
    "prueba = df[['Campo', 'Valor']].T\n",
    "columns_analize = list(prueba.iloc[0].unique())"
   ]
  },
  {
   "cell_type": "code",
   "execution_count": 4,
   "metadata": {},
   "outputs": [
    {
     "data": {
      "text/plain": [
       "['Was the urine microscopic examination performed?',\n",
       " 'Provide the reason',\n",
       " 'RBC',\n",
       " 'RBC, Result (/hpf)',\n",
       " 'RBC, Clinical interpretation',\n",
       " 'RBC, If abnormal, specify',\n",
       " 'WBC',\n",
       " 'WBC, Result (/hpf)',\n",
       " 'WBC, Clinical interpretation',\n",
       " 'WBC, If abnormal, specify',\n",
       " 'Epithelial Cells',\n",
       " 'Epithelial Cells, Result (/hpf)',\n",
       " 'Epithelial Cells, Clinical interpretation',\n",
       " 'Epithelial Cell, If abnormal, specify',\n",
       " 'Crystals',\n",
       " 'Crystals, Result',\n",
       " 'Crystals, Clinical interpretation',\n",
       " 'Crystals, If abnormal, specify',\n",
       " 'Casts',\n",
       " 'Casts, Result (/lpf)',\n",
       " 'Casts, Clinical interpretation',\n",
       " 'Casts, If abnormal, specify',\n",
       " 'Bacteria',\n",
       " 'Bacteria, Result',\n",
       " 'Bacteria, Clinical interpretation',\n",
       " 'Bacteria, If abnormal, specify']"
      ]
     },
     "execution_count": 4,
     "metadata": {},
     "output_type": "execute_result"
    }
   ],
   "source": [
    "columns_analize"
   ]
  },
  {
   "cell_type": "code",
   "execution_count": null,
   "metadata": {},
   "outputs": [],
   "source": [
    "from datetime import datetime\n",
    "from revision_fechas import revision_fecha\n",
    "import warnings\n",
    "\n",
    "warnings.filterwarnings('ignore')\n",
    "\n",
    "lista_revision = []\n",
    "\n",
    "# fecha_inicio = datetime.strptime('19-06-2023', \"%d-%m-%Y\")\n",
    "# fecha_fin =  datetime.strptime('31-10-2023', \"%d-%m-%Y\")\n",
    "\n",
    "for sujeto in lista_sujetos:\n",
    "    sujeto_principal = df[df['Participante']==sujeto]\n",
    "\n",
    "    for visita in sujeto_principal.Visit.unique():\n",
    "        pru_1 = sujeto_principal[sujeto_principal['Visit']==visita]\n",
    "        pru = pru_1\n",
    "        pru = pru[['Campo', 'Valor']].T\n",
    "        new_columns = pru.iloc[0]\n",
    "        pru = pru[1:].set_axis(new_columns, axis=1)\n",
    "        pru['Subject'] = sujeto\n",
    "        pru['Visit'] = visita\n",
    "        pru['status'] = pru_1['activityState'].unique()\n",
    "\n",
    "        for index, row in pru.iterrows():\n",
    "            status = row['status']\n",
    "            if status == 'INCOMPLETE' or status == 'PENDING_QUERIES':\n",
    "                pass\n",
    "            else:\n",
    "                was_performed = row['Was the urine microscopic examination performed?']\n",
    "                provide_reason = row['Provide the reason']\n",
    "\n",
    "                RBC = row['RBC']\n",
    "                RBC_result = row['RBC, Result (/hpf)']\n",
    "                RBC_clinical_interpretation = row['RBC, Clinical interpretation']\n",
    "                RBC_specify = row['RBC, If abnormal, specify']\n",
    "\n",
    "                WBC = row['WBC']\n",
    "                WBC_result = row['WBC, Result (/hpf)']\n",
    "                WBC_clinical_interpretation = row['WBC, Clinical interpretation']\n",
    "                WBC_specify = row['WBC, If abnormal, specify']\n",
    "\n",
    "                Epithelial = row['Epithelial Cells']\n",
    "                Epithelial_result = row['Epithelial Cells, Result (/hpf)']\n",
    "                Epithelial_clinical_interpretation = row['Epithelial Cells, Clinical interpretation']\n",
    "                Epithelial_specify = row['Epithelial Cell, If abnormal, specify']\n",
    "\n",
    "                Crystals = row['Crystals']\n",
    "                Crystals_result = row['Crystals, Result']\n",
    "                Crystals_clinical_interpretation = row['Crystals, Clinical interpretation']\n",
    "                Crystals_specify = row['Crystals, If abnormal, specify']\n",
    "\n",
    "                Casts = row['Casts']\n",
    "                Casts_result = row['Casts, Result (/lpf)']\n",
    "                Casts_clinical_interpretation = row['Casts, Clinical interpretation']\n",
    "                Casts_specify = row['Casts, If abnormal, specify']\n",
    "\n",
    "                Bacteria = row['Bacteria']\n",
    "                Bacteria_result = row['Bacteria, Result']\n",
    "                Bacteria_clinical_interpretation = row['Bacteria, Clinical interpretation']\n",
    "                Bacteria_specify = row['Bacteria, If abnormal, specify']"
   ]
  }
 ],
 "metadata": {
  "kernelspec": {
   "display_name": "Python 3",
   "language": "python",
   "name": "python3"
  },
  "language_info": {
   "codemirror_mode": {
    "name": "ipython",
    "version": 3
   },
   "file_extension": ".py",
   "mimetype": "text/x-python",
   "name": "python",
   "nbconvert_exporter": "python",
   "pygments_lexer": "ipython3",
   "version": "3.11.3"
  },
  "orig_nbformat": 4
 },
 "nbformat": 4,
 "nbformat_minor": 2
}
