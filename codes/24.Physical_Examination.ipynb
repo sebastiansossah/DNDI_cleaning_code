{
 "cells": [
  {
   "cell_type": "code",
   "execution_count": 1,
   "metadata": {},
   "outputs": [],
   "source": [
    "import pandas as pd\n",
    "\n",
    "path = r'C:\\Users\\juan.sossa\\projects_integrait\\DNDI\\data\\db3bea42-add2-4185-9a08-d8a8a2622277.xlsx'\n",
    "df_root = pd.read_excel(path)"
   ]
  },
  {
   "cell_type": "code",
   "execution_count": 2,
   "metadata": {},
   "outputs": [],
   "source": [
    "df= df_root[df_root['name']== 'Physical Examination']\n",
    "lista_sujetos = df['Participante'].unique()\n",
    "df = df[['name', 'Visit', 'activityState', 'Participante', 'Estado del Participante', 'Campo', 'Valor']]"
   ]
  },
  {
   "cell_type": "code",
   "execution_count": 5,
   "metadata": {},
   "outputs": [],
   "source": [
    "prueba = df[['Campo', 'Valor']].T\n",
    "columns_analize = list(prueba.iloc[0].unique())"
   ]
  },
  {
   "cell_type": "code",
   "execution_count": 6,
   "metadata": {},
   "outputs": [
    {
     "data": {
      "text/plain": [
       "array(['D-1', 'D1', 'D2', 'D4', 'D7', 'D14', 'D15', 'D16', 'D18', 'D21',\n",
       "       'D28', 'D29', 'D30', 'D32', 'D35', 'D42', 'D63', 'D90', 'D105',\n",
       "       'Screening Visit'], dtype=object)"
      ]
     },
     "execution_count": 6,
     "metadata": {},
     "output_type": "execute_result"
    }
   ],
   "source": [
    "df.Visit.unique()"
   ]
  },
  {
   "cell_type": "code",
   "execution_count": 7,
   "metadata": {},
   "outputs": [
    {
     "name": "stdout",
     "output_type": "stream",
     "text": [
      "Was the physical examination performed?\n",
      "Provide the reason\n",
      "Date of examination performed\n",
      "Undefined, Clinical interpretation?\n",
      "Undefined, If abnormal Any change in abnormality from previous physical examination?\n",
      "Undefined, Body System\n",
      "Undefined, Abnormality\n",
      "Undefined, If abnormal, specify\n",
      "Pre dose\n",
      "Pre dose, Clinical interpretation?\n",
      "Pre dose, If abnormal Any change in abnormality from previous physical examination?\n",
      "Pre dose abnormalities, Body System\n",
      "Pre dose abnormalities, Abnormality\n",
      "Pre dose abnormalities, If abnormal, specify\n",
      "2-hours post dose\n",
      "2-hours post dose, Clinical interpretation?\n",
      "2-hours post dose, If abnormal Any change in abnormality from previous physical examination?\n",
      "2-hours post dose abnormalities, Body System\n",
      "2-hours post dose abnormalities, Abnormality\n",
      "2-hours post dose abnormalities, If abnormal, specify\n",
      "4-hours post dose\n",
      "4-hours post dose, Clinical interpretation?\n",
      "4-hours post dose, If abnormal Any change in abnormality from previous physical examination?\n",
      "4-hours post dose abnormalities, Body System\n",
      "4-hours post dose abnormalities, Abnormality\n",
      "4-hours post dose abnormalities, If abnormal, specify\n",
      "8-hours post dose, Clinical interpretation?\n",
      "8-hours post dose, If abnormal Any change in abnormality from previous physical examination?\n",
      "8-hours post dose abnormalities, Body System\n",
      "8-hours post dose abnormalities, Abnormality\n",
      "8-hours post dose abnormalities, If abnormal, specify\n"
     ]
    }
   ],
   "source": [
    "for i in columns_analize:\n",
    "    print(i)"
   ]
  },
  {
   "cell_type": "code",
   "execution_count": 6,
   "metadata": {},
   "outputs": [],
   "source": [
    "columns_editcheck = ['Date of examination performed',\n",
    "'Date of examination performed',\n",
    "'Date of examination performed',\n",
    "'Date of examination performed',\n",
    "'Pre dose, Clinical interpretation?',\n",
    "'2-hours post dose, Clinical interpretation?',\n",
    "'4-hours post dose, Clinical interpretation?',\n",
    "'8-hours post dose, Clinical interpretation?',\n",
    "'Undefined, Clinical interpretation?',\n",
    "'Was the physical examination performed?',\n",
    "'Undefined, Body System',\n",
    "'Pre dose, Time',\n",
    "'2-hours post dose, Time',\n",
    "'4-hours post dose, Time',\n",
    "'8-hours post dose, Time',]"
   ]
  },
  {
   "cell_type": "code",
   "execution_count": 7,
   "metadata": {},
   "outputs": [
    {
     "name": "stdout",
     "output_type": "stream",
     "text": [
      "Pre dose, Time\n",
      "2-hours post dose, Time\n",
      "4-hours post dose, Time\n",
      "8-hours post dose, Time\n"
     ]
    }
   ],
   "source": [
    "for i in columns_editcheck:\n",
    "    if i not in columns_analize:\n",
    "        print(i)"
   ]
  }
 ],
 "metadata": {
  "kernelspec": {
   "display_name": "Python 3",
   "language": "python",
   "name": "python3"
  },
  "language_info": {
   "codemirror_mode": {
    "name": "ipython",
    "version": 3
   },
   "file_extension": ".py",
   "mimetype": "text/x-python",
   "name": "python",
   "nbconvert_exporter": "python",
   "pygments_lexer": "ipython3",
   "version": "3.11.3"
  },
  "orig_nbformat": 4
 },
 "nbformat": 4,
 "nbformat_minor": 2
}
