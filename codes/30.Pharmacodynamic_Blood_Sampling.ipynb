{
 "cells": [
  {
   "cell_type": "code",
   "execution_count": 1,
   "metadata": {},
   "outputs": [],
   "source": [
    "import pandas as pd\n",
    "\n",
    "path = r\"C:\\Users\\sebastian sossa\\Documents\\integraIT\\projects_integrait\\DNDI\\data\\db3bea42-add2-4185-9a08-d8a8a2622277.xlsx\"\n",
    "df_root = pd.read_excel(path)"
   ]
  },
  {
   "cell_type": "code",
   "execution_count": 2,
   "metadata": {},
   "outputs": [],
   "source": [
    "\n",
    "df= df_root[df_root['name']== 'Pharmacodynamic Blood Sampling (PD) -Cytokines/Chemokines']\n",
    "lista_sujetos = df['Participante'].unique()\n",
    "df = df[['name', 'Visit', 'activityState', 'Participante', 'Estado del Participante', 'Campo', 'Valor']]"
   ]
  },
  {
   "cell_type": "code",
   "execution_count": 3,
   "metadata": {},
   "outputs": [],
   "source": [
    "prueba = df[['Campo', 'Valor']].T\n",
    "columns_analize = list(prueba.iloc[0].unique())"
   ]
  },
  {
   "cell_type": "code",
   "execution_count": 4,
   "metadata": {},
   "outputs": [
    {
     "data": {
      "text/plain": [
       "['Was blood sample collected?',\n",
       " 'Provide the reason',\n",
       " 'Date of blood sample collected',\n",
       " 'Pre-dose',\n",
       " 'Pre-dose, Reason Not Done',\n",
       " '8h',\n",
       " '8h, Reason Not Done']"
      ]
     },
     "execution_count": 4,
     "metadata": {},
     "output_type": "execute_result"
    }
   ],
   "source": [
    "columns_analize"
   ]
  },
  {
   "cell_type": "code",
   "execution_count": 5,
   "metadata": {},
   "outputs": [
    {
     "name": "stdout",
     "output_type": "stream",
     "text": [
      "Was_blood_sample_collected? = row[\"Was blood sample collected?\"]\n",
      "Provide_the_reason = row[\"Provide the reason\"]\n",
      "Date_of_blood_sample_collected = row[\"Date of blood sample collected\"]\n",
      "Pre_dose = row[\"Pre-dose\"]\n",
      "Pre_dose_Reason_Not_Done = row[\"Pre-dose, Reason Not Done\"]\n",
      "8h = row[\"8h\"]\n",
      "8h_Reason_Not_Done = row[\"8h, Reason Not Done\"]\n"
     ]
    }
   ],
   "source": [
    "for i in columns_analize:\n",
    "        print(f'{i.replace(\" \", \"_\").replace(\",\", \"\").replace(\"-\", \"_\")} = row[\"{i}\"]')"
   ]
  },
  {
   "cell_type": "code",
   "execution_count": null,
   "metadata": {},
   "outputs": [],
   "source": [
    "from datetime import datetime\n",
    "from revision_fechas import revision_fecha\n",
    "import warnings\n",
    "\n",
    "warnings.filterwarnings('ignore')\n",
    "\n",
    "lista_revision = []\n",
    "\n",
    "# fecha_inicio = datetime.strptime('19-06-2023', \"%d-%m-%Y\")\n",
    "# fecha_fin =  datetime.strptime('31-10-2023', \"%d-%m-%Y\")\n",
    "\n",
    "for sujeto in lista_sujetos:\n",
    "    sujeto_principal = df[df['Participante']==sujeto]\n",
    "\n",
    "    for visita in sujeto_principal.Visit.unique():\n",
    "        pru_1 = sujeto_principal[sujeto_principal['Visit']==visita]\n",
    "        pru = pru_1\n",
    "        pru = pru[['Campo', 'Valor']].T\n",
    "        new_columns = pru.iloc[0]\n",
    "        pru = pru[1:].set_axis(new_columns, axis=1)\n",
    "        pru['Subject'] = sujeto\n",
    "        pru['Visit'] = visita\n",
    "        pru['status'] = pru_1['activityState'].unique()\n",
    "\n",
    "        for index, row in pru.iterrows():\n",
    "            status = row['status']\n",
    "            if status == 'INCOMPLETE' or status == 'PENDING_QUERIES':\n",
    "                pass\n",
    "            else:\n",
    "                Was_blood_sample_collected = row[\"Was blood sample collected?\"]\n",
    "                Provide_the_reason = row[\"Provide the reason\"]\n",
    "                Date_of_blood_sample_collected = row[\"Date of blood sample collected\"]\n",
    "                Pre_dose = row[\"Pre-dose\"]\n",
    "                Pre_dose_Reason_Not_Done = row[\"Pre-dose, Reason Not Done\"]\n",
    "                H8 = row[\"8h\"]\n",
    "                H8_Reason_Not_Done = row[\"8h, Reason Not Done\"]"
   ]
  }
 ],
 "metadata": {
  "kernelspec": {
   "display_name": "Python 3",
   "language": "python",
   "name": "python3"
  },
  "language_info": {
   "codemirror_mode": {
    "name": "ipython",
    "version": 3
   },
   "file_extension": ".py",
   "mimetype": "text/x-python",
   "name": "python",
   "nbconvert_exporter": "python",
   "pygments_lexer": "ipython3",
   "version": "3.10.4"
  },
  "orig_nbformat": 4
 },
 "nbformat": 4,
 "nbformat_minor": 2
}
