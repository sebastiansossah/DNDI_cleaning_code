{
 "cells": [
  {
   "cell_type": "code",
   "execution_count": 1,
   "metadata": {},
   "outputs": [],
   "source": [
    "import pandas as pd\n",
    "\n",
    "path = r'C:\\Users\\juan.sossa\\projects_integrait\\DNDI\\data\\db3bea42-add2-4185-9a08-d8a8a2622277.xlsx'\n",
    "df_root = pd.read_excel(path)"
   ]
  },
  {
   "cell_type": "code",
   "execution_count": 2,
   "metadata": {},
   "outputs": [],
   "source": [
    "\n",
    "df= df_root[df_root['name']== 'Injection Site Examination']\n",
    "lista_sujetos = df['Participante'].unique()\n",
    "df = df[['name', 'Visit', 'activityState', 'Participante', 'Estado del Participante', 'Campo', 'Valor']]"
   ]
  },
  {
   "cell_type": "code",
   "execution_count": 3,
   "metadata": {},
   "outputs": [],
   "source": [
    "prueba = df[['Campo', 'Valor']].T\n",
    "columns_analize = list(prueba.iloc[0].unique())"
   ]
  },
  {
   "cell_type": "code",
   "execution_count": 7,
   "metadata": {},
   "outputs": [
    {
     "data": {
      "text/plain": [
       "['Was the Injection site examination performed?',\n",
       " 'Provide the reason',\n",
       " 'Date of the Injection site examination',\n",
       " 'Undefined',\n",
       " 'Undefined, Injection site',\n",
       " 'Undefined, Pain grade',\n",
       " 'Undefined, Tenderness grade',\n",
       " 'Undefined, Erythema/Redness grade',\n",
       " 'Undefined, Erythema/Redness diameter (cm)',\n",
       " 'Undefined, Induration/Swelling grade',\n",
       " 'Undefined, Induration/Swelling diameter (cm)',\n",
       " 'Undefined, Warmth',\n",
       " 'Undefined, Lesion photograph taken?',\n",
       " 'Undefined, Provide the reason',\n",
       " 'Predose, Injection site',\n",
       " 'Predose, Pain grade',\n",
       " 'Predose, Tenderness grade',\n",
       " 'Predose, Erythema/Redness grade',\n",
       " 'Predose, Erythema/Redness diameter (cm)',\n",
       " 'Predose, Induration/Swelling grade',\n",
       " 'Predose, Induration/Swelling diameter (cm)',\n",
       " 'Predose, Warmth',\n",
       " 'Predose, Lesion photograph taken?',\n",
       " 'Predose, Provide the reason',\n",
       " '2-hours post dose, Injection site',\n",
       " '2-hours post dose, Pain grade',\n",
       " '2-hours post dose, Tenderness grade',\n",
       " '2-hours post dose, Erythema/Redness grade',\n",
       " '2-hours post dose, Erythema/Redness diameter (cm)',\n",
       " '2-hours post dose, Induration/Swelling grade',\n",
       " '2-hours post dose, Induration/Swelling diameter (cm)',\n",
       " '2-hours post dose, Warmth',\n",
       " '2-hours post dose, Lesion photograph taken?',\n",
       " '2-hours post dose, Provide the reason',\n",
       " '4-hours post dose, Injection site',\n",
       " '4-hours post dose, Pain grade',\n",
       " '4-hours post dose, Tenderness grade',\n",
       " '4-hours post dose, Erythema/Redness grade',\n",
       " '4-hours post dose, Erythema/Redness diameter (cm)',\n",
       " '4-hours post dose, Induration/Swelling grade',\n",
       " '4-hours post dose, Induration/Swelling diameter (cm)',\n",
       " '4-hours post dose, Warmth',\n",
       " '4-hours post dose, Lesion photograph taken?',\n",
       " '4-hours post dose, Provide the reason',\n",
       " '8-hours post dose',\n",
       " '8-hours post dose, Injection site',\n",
       " '8-hours post dose, Pain grade',\n",
       " '8-hours post dose, Tenderness grade',\n",
       " '8-hours post dose, Erythema/Redness grade',\n",
       " '8-hours post dose, Erythema/Redness diameter (cm)',\n",
       " '8-hours post dose, Induration/Swelling grade',\n",
       " '8-hours post dose, Induration/Swelling diameter (cm)',\n",
       " '8-hours post dose, Warmth',\n",
       " '8-hours post dose, Lesion photograph taken?',\n",
       " '8-hours post dose, Provide the reason']"
      ]
     },
     "execution_count": 7,
     "metadata": {},
     "output_type": "execute_result"
    }
   ],
   "source": [
    "columns_analize"
   ]
  },
  {
   "cell_type": "code",
   "execution_count": 5,
   "metadata": {},
   "outputs": [],
   "source": [
    "columns_editcheck = ['Date of the Injection site examination'\n",
    ",'Date of the Injection site examination'\n",
    ",'Date of the Injection site examination'\n",
    ",'Date of the Injection site examination'\n",
    ",'Was the Injection site examination performed?'\n",
    ",'Predose, Time'\n",
    ",'2-hours post dose, Time'\n",
    ",'4-hours post dose, Time'\n",
    ",'8-hours post dose, Time'\n",
    ",'Predose, Injection site'\n",
    ",'2-hours post dose, Injection site'\n",
    ",'4-hours post dose, Injection site'\n",
    ",'8-hours post dose, Injection site']"
   ]
  },
  {
   "cell_type": "code",
   "execution_count": 6,
   "metadata": {},
   "outputs": [
    {
     "name": "stdout",
     "output_type": "stream",
     "text": [
      "Predose, Time\n",
      "2-hours post dose, Time\n",
      "4-hours post dose, Time\n",
      "8-hours post dose, Time\n"
     ]
    }
   ],
   "source": [
    "for i in columns_editcheck:\n",
    "    if i not in columns_analize:\n",
    "        print(i)"
   ]
  }
 ],
 "metadata": {
  "kernelspec": {
   "display_name": "Python 3",
   "language": "python",
   "name": "python3"
  },
  "language_info": {
   "codemirror_mode": {
    "name": "ipython",
    "version": 3
   },
   "file_extension": ".py",
   "mimetype": "text/x-python",
   "name": "python",
   "nbconvert_exporter": "python",
   "pygments_lexer": "ipython3",
   "version": "3.11.3"
  },
  "orig_nbformat": 4
 },
 "nbformat": 4,
 "nbformat_minor": 2
}
