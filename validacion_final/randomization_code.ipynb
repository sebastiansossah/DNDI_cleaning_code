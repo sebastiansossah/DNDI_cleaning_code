{
 "cells": [
  {
   "cell_type": "code",
   "execution_count": 1,
   "metadata": {},
   "outputs": [],
   "source": [
    "import pandas as pd"
   ]
  },
  {
   "cell_type": "code",
   "execution_count": 8,
   "metadata": {},
   "outputs": [],
   "source": [
    "df = pd.read_excel(r'C:\\Users\\sebastian sossa\\Documents\\integraIT\\projects_integrait\\DNDI\\validacion_final\\DNDI_GeneralTrackingInformation_20240806.xlsx')"
   ]
  },
  {
   "cell_type": "code",
   "execution_count": 12,
   "metadata": {},
   "outputs": [],
   "source": [
    "df = df[df[\"Form State\"]==\"DATA_VERIFIED\"]"
   ]
  },
  {
   "cell_type": "code",
   "execution_count": 13,
   "metadata": {},
   "outputs": [
    {
     "data": {
      "text/html": [
       "<div>\n",
       "<style scoped>\n",
       "    .dataframe tbody tr th:only-of-type {\n",
       "        vertical-align: middle;\n",
       "    }\n",
       "\n",
       "    .dataframe tbody tr th {\n",
       "        vertical-align: top;\n",
       "    }\n",
       "\n",
       "    .dataframe thead th {\n",
       "        text-align: right;\n",
       "    }\n",
       "</style>\n",
       "<table border=\"1\" class=\"dataframe\">\n",
       "  <thead>\n",
       "    <tr style=\"text-align: right;\">\n",
       "      <th></th>\n",
       "      <th>Subject</th>\n",
       "      <th>Subject State</th>\n",
       "      <th>Visit</th>\n",
       "      <th>Form Name</th>\n",
       "      <th>Form State</th>\n",
       "      <th>Freeze_Unfreeze</th>\n",
       "    </tr>\n",
       "  </thead>\n",
       "  <tbody>\n",
       "    <tr>\n",
       "      <th>0</th>\n",
       "      <td>011001</td>\n",
       "      <td>STUDY COMPLETED</td>\n",
       "      <td>D-1</td>\n",
       "      <td>Date of visit</td>\n",
       "      <td>DATA_VERIFIED</td>\n",
       "      <td>FREEZE</td>\n",
       "    </tr>\n",
       "    <tr>\n",
       "      <th>1</th>\n",
       "      <td>011001</td>\n",
       "      <td>STUDY COMPLETED</td>\n",
       "      <td>D1</td>\n",
       "      <td>Date of visit</td>\n",
       "      <td>DATA_VERIFIED</td>\n",
       "      <td>FREEZE</td>\n",
       "    </tr>\n",
       "    <tr>\n",
       "      <th>3</th>\n",
       "      <td>011001</td>\n",
       "      <td>STUDY COMPLETED</td>\n",
       "      <td>D14</td>\n",
       "      <td>Date of visit</td>\n",
       "      <td>DATA_VERIFIED</td>\n",
       "      <td>FREEZE</td>\n",
       "    </tr>\n",
       "    <tr>\n",
       "      <th>4</th>\n",
       "      <td>011001</td>\n",
       "      <td>STUDY COMPLETED</td>\n",
       "      <td>D15</td>\n",
       "      <td>Date of visit</td>\n",
       "      <td>DATA_VERIFIED</td>\n",
       "      <td>FREEZE</td>\n",
       "    </tr>\n",
       "    <tr>\n",
       "      <th>5</th>\n",
       "      <td>011001</td>\n",
       "      <td>STUDY COMPLETED</td>\n",
       "      <td>D16</td>\n",
       "      <td>Date of visit</td>\n",
       "      <td>DATA_VERIFIED</td>\n",
       "      <td>FREEZE</td>\n",
       "    </tr>\n",
       "    <tr>\n",
       "      <th>...</th>\n",
       "      <td>...</td>\n",
       "      <td>...</td>\n",
       "      <td>...</td>\n",
       "      <td>...</td>\n",
       "      <td>...</td>\n",
       "      <td>...</td>\n",
       "    </tr>\n",
       "    <tr>\n",
       "      <th>1545</th>\n",
       "      <td>S005</td>\n",
       "      <td>DROPOUT</td>\n",
       "      <td>Screening Visit</td>\n",
       "      <td>Eligibility</td>\n",
       "      <td>DATA_VERIFIED</td>\n",
       "      <td>FREEZE</td>\n",
       "    </tr>\n",
       "    <tr>\n",
       "      <th>1579</th>\n",
       "      <td>S011</td>\n",
       "      <td>SCREENING FAILURE</td>\n",
       "      <td>Screening Visit</td>\n",
       "      <td>Date of visit</td>\n",
       "      <td>DATA_VERIFIED</td>\n",
       "      <td>FREEZE</td>\n",
       "    </tr>\n",
       "    <tr>\n",
       "      <th>1580</th>\n",
       "      <td>S011</td>\n",
       "      <td>SCREENING FAILURE</td>\n",
       "      <td>Screening Visit</td>\n",
       "      <td>Informed Consent</td>\n",
       "      <td>DATA_VERIFIED</td>\n",
       "      <td>FREEZE</td>\n",
       "    </tr>\n",
       "    <tr>\n",
       "      <th>1581</th>\n",
       "      <td>S011</td>\n",
       "      <td>SCREENING FAILURE</td>\n",
       "      <td>Screening Visit</td>\n",
       "      <td>Demographics</td>\n",
       "      <td>DATA_VERIFIED</td>\n",
       "      <td>FREEZE</td>\n",
       "    </tr>\n",
       "    <tr>\n",
       "      <th>1587</th>\n",
       "      <td>S011</td>\n",
       "      <td>SCREENING FAILURE</td>\n",
       "      <td>Screening Visit</td>\n",
       "      <td>Eligibility</td>\n",
       "      <td>DATA_VERIFIED</td>\n",
       "      <td>FREEZE</td>\n",
       "    </tr>\n",
       "  </tbody>\n",
       "</table>\n",
       "<p>1319 rows × 6 columns</p>\n",
       "</div>"
      ],
      "text/plain": [
       "     Subject      Subject State            Visit         Form Name   \n",
       "0     011001    STUDY COMPLETED              D-1     Date of visit  \\\n",
       "1     011001    STUDY COMPLETED               D1     Date of visit   \n",
       "3     011001    STUDY COMPLETED              D14     Date of visit   \n",
       "4     011001    STUDY COMPLETED              D15     Date of visit   \n",
       "5     011001    STUDY COMPLETED              D16     Date of visit   \n",
       "...      ...                ...              ...               ...   \n",
       "1545    S005            DROPOUT  Screening Visit       Eligibility   \n",
       "1579    S011  SCREENING FAILURE  Screening Visit     Date of visit   \n",
       "1580    S011  SCREENING FAILURE  Screening Visit  Informed Consent   \n",
       "1581    S011  SCREENING FAILURE  Screening Visit      Demographics   \n",
       "1587    S011  SCREENING FAILURE  Screening Visit       Eligibility   \n",
       "\n",
       "         Form State Freeze_Unfreeze  \n",
       "0     DATA_VERIFIED          FREEZE  \n",
       "1     DATA_VERIFIED          FREEZE  \n",
       "3     DATA_VERIFIED          FREEZE  \n",
       "4     DATA_VERIFIED          FREEZE  \n",
       "5     DATA_VERIFIED          FREEZE  \n",
       "...             ...             ...  \n",
       "1545  DATA_VERIFIED          FREEZE  \n",
       "1579  DATA_VERIFIED          FREEZE  \n",
       "1580  DATA_VERIFIED          FREEZE  \n",
       "1581  DATA_VERIFIED          FREEZE  \n",
       "1587  DATA_VERIFIED          FREEZE  \n",
       "\n",
       "[1319 rows x 6 columns]"
      ]
     },
     "execution_count": 13,
     "metadata": {},
     "output_type": "execute_result"
    }
   ],
   "source": [
    "df"
   ]
  },
  {
   "cell_type": "code",
   "execution_count": 14,
   "metadata": {},
   "outputs": [],
   "source": [
    "randomized = df.sample(111)"
   ]
  },
  {
   "cell_type": "code",
   "execution_count": 15,
   "metadata": {},
   "outputs": [
    {
     "data": {
      "text/html": [
       "<div>\n",
       "<style scoped>\n",
       "    .dataframe tbody tr th:only-of-type {\n",
       "        vertical-align: middle;\n",
       "    }\n",
       "\n",
       "    .dataframe tbody tr th {\n",
       "        vertical-align: top;\n",
       "    }\n",
       "\n",
       "    .dataframe thead th {\n",
       "        text-align: right;\n",
       "    }\n",
       "</style>\n",
       "<table border=\"1\" class=\"dataframe\">\n",
       "  <thead>\n",
       "    <tr style=\"text-align: right;\">\n",
       "      <th></th>\n",
       "      <th>Subject</th>\n",
       "      <th>Subject State</th>\n",
       "      <th>Visit</th>\n",
       "      <th>Form Name</th>\n",
       "      <th>Form State</th>\n",
       "      <th>Freeze_Unfreeze</th>\n",
       "    </tr>\n",
       "  </thead>\n",
       "  <tbody>\n",
       "    <tr>\n",
       "      <th>724</th>\n",
       "      <td>011004</td>\n",
       "      <td>STUDY COMPLETED</td>\n",
       "      <td>D63</td>\n",
       "      <td>Date of visit</td>\n",
       "      <td>DATA_VERIFIED</td>\n",
       "      <td>FREEZE</td>\n",
       "    </tr>\n",
       "    <tr>\n",
       "      <th>1145</th>\n",
       "      <td>011005</td>\n",
       "      <td>STUDY COMPLETED</td>\n",
       "      <td>D30</td>\n",
       "      <td>PBMC Isolate</td>\n",
       "      <td>DATA_VERIFIED</td>\n",
       "      <td>FREEZE</td>\n",
       "    </tr>\n",
       "    <tr>\n",
       "      <th>1306</th>\n",
       "      <td>011006</td>\n",
       "      <td>ENROLLED</td>\n",
       "      <td>D-1</td>\n",
       "      <td>Titration Of Auto-Antibodies</td>\n",
       "      <td>DATA_VERIFIED</td>\n",
       "      <td>FREEZE</td>\n",
       "    </tr>\n",
       "    <tr>\n",
       "      <th>310</th>\n",
       "      <td>011002</td>\n",
       "      <td>STUDY COMPLETED</td>\n",
       "      <td>D28</td>\n",
       "      <td>Clinical Laboratory Test - Clinical Chemistry</td>\n",
       "      <td>DATA_VERIFIED</td>\n",
       "      <td>FREEZE</td>\n",
       "    </tr>\n",
       "    <tr>\n",
       "      <th>38</th>\n",
       "      <td>011001</td>\n",
       "      <td>STUDY COMPLETED</td>\n",
       "      <td>D-1</td>\n",
       "      <td>Urinary Drug Screen</td>\n",
       "      <td>DATA_VERIFIED</td>\n",
       "      <td>FREEZE</td>\n",
       "    </tr>\n",
       "  </tbody>\n",
       "</table>\n",
       "</div>"
      ],
      "text/plain": [
       "     Subject    Subject State Visit   \n",
       "724   011004  STUDY COMPLETED   D63  \\\n",
       "1145  011005  STUDY COMPLETED   D30   \n",
       "1306  011006         ENROLLED   D-1   \n",
       "310   011002  STUDY COMPLETED   D28   \n",
       "38    011001  STUDY COMPLETED   D-1   \n",
       "\n",
       "                                          Form Name     Form State   \n",
       "724                                   Date of visit  DATA_VERIFIED  \\\n",
       "1145                                   PBMC Isolate  DATA_VERIFIED   \n",
       "1306                   Titration Of Auto-Antibodies  DATA_VERIFIED   \n",
       "310   Clinical Laboratory Test - Clinical Chemistry  DATA_VERIFIED   \n",
       "38                              Urinary Drug Screen  DATA_VERIFIED   \n",
       "\n",
       "     Freeze_Unfreeze  \n",
       "724           FREEZE  \n",
       "1145          FREEZE  \n",
       "1306          FREEZE  \n",
       "310           FREEZE  \n",
       "38            FREEZE  "
      ]
     },
     "execution_count": 15,
     "metadata": {},
     "output_type": "execute_result"
    }
   ],
   "source": [
    "randomized.head()"
   ]
  },
  {
   "cell_type": "code",
   "execution_count": 17,
   "metadata": {},
   "outputs": [
    {
     "data": {
      "text/plain": [
       "array(['DATA_VERIFIED'], dtype=object)"
      ]
     },
     "execution_count": 17,
     "metadata": {},
     "output_type": "execute_result"
    }
   ],
   "source": [
    "randomized['Form State'].unique()"
   ]
  },
  {
   "cell_type": "code",
   "execution_count": 18,
   "metadata": {},
   "outputs": [
    {
     "data": {
      "text/plain": [
       "Subject            111\n",
       "Subject State      111\n",
       "Visit              111\n",
       "Form Name          111\n",
       "Form State         111\n",
       "Freeze_Unfreeze    111\n",
       "dtype: int64"
      ]
     },
     "execution_count": 18,
     "metadata": {},
     "output_type": "execute_result"
    }
   ],
   "source": [
    "randomized.count()"
   ]
  },
  {
   "cell_type": "code",
   "execution_count": 19,
   "metadata": {},
   "outputs": [],
   "source": [
    "randomized.to_excel('validacion_random.xlsx')"
   ]
  }
 ],
 "metadata": {
  "kernelspec": {
   "display_name": "Python 3",
   "language": "python",
   "name": "python3"
  },
  "language_info": {
   "codemirror_mode": {
    "name": "ipython",
    "version": 3
   },
   "file_extension": ".py",
   "mimetype": "text/x-python",
   "name": "python",
   "nbconvert_exporter": "python",
   "pygments_lexer": "ipython3",
   "version": "3.10.4"
  }
 },
 "nbformat": 4,
 "nbformat_minor": 2
}
