{
 "cells": [
  {
   "cell_type": "code",
   "execution_count": 1,
   "metadata": {},
   "outputs": [],
   "source": [
    "import pandas as pd\n",
    "import os"
   ]
  },
  {
   "cell_type": "code",
   "execution_count": 2,
   "metadata": {},
   "outputs": [],
   "source": [
    "script_directory = os.path.dirname(os.path.abspath(__file__)) if '__file__' in locals() else os.getcwd()\n",
    "relative_folder_path = \"data\"\n",
    "folder_path = os.path.join(script_directory.replace('\\code', ''), relative_folder_path)\n",
    "file = os.listdir(folder_path)\n",
    "path = f\"{folder_path}\\{file[0]}\"\n",
    "df_root = pd.read_excel(path)"
   ]
  },
  {
   "cell_type": "code",
   "execution_count": 3,
   "metadata": {},
   "outputs": [
    {
     "data": {
      "text/plain": [
       "Index(['Id Form', 'idCampo', 'Site', 'Visit', 'name', 'Genero',\n",
       "       'AñoNacimiento', 'NameActividad', 'activityState', 'fecha enrolado',\n",
       "       'Participante', 'Estado del Participante', 'identifierPrefix',\n",
       "       'Id Activityins', 'Instancia', 'Estado del campo', 'Campo', 'Valor',\n",
       "       'displayName', 'id option', 'Variable', 'visible', 'required',\n",
       "       'TipoDato', 'TypeQuery', 'MessageQuery', 'QueryState'],\n",
       "      dtype='object')"
      ]
     },
     "execution_count": 3,
     "metadata": {},
     "output_type": "execute_result"
    }
   ],
   "source": [
    "df_root.columns"
   ]
  },
  {
   "cell_type": "code",
   "execution_count": 4,
   "metadata": {},
   "outputs": [
    {
     "data": {
      "text/plain": [
       "array([11001], dtype=int64)"
      ]
     },
     "execution_count": 4,
     "metadata": {},
     "output_type": "execute_result"
    }
   ],
   "source": [
    "df_root.Participante.unique()"
   ]
  },
  {
   "cell_type": "code",
   "execution_count": 5,
   "metadata": {},
   "outputs": [
    {
     "data": {
      "text/plain": [
       "array(['Date of visit', 'Informed Consent', 'Demographics',\n",
       "       'History of cutaneous leishmaniasis', 'Covid 19 testing',\n",
       "       'Eligibility',\n",
       "       'Medical Or Surgical History (other than Leishmaniasis)',\n",
       "       'Vein assessment', 'Urinary Drug Screen', 'Alcohol Screen',\n",
       "       'Clinical Laboratory - Test Hematology',\n",
       "       'Clinical Laboratory Test - Clinical Chemistry',\n",
       "       'Clinical Laboratory Test - Coagulation',\n",
       "       'Immunoassay (Thyroid Stimulating Hormone)', 'Urinalysis',\n",
       "       'Urine Microscopic Examination', 'Virology', 'Lesion Measurement',\n",
       "       'Physical Examination', 'Vital Signs', '12-Lead ECG',\n",
       "       'Clinical Laboratory Test - Clinical Chemistry D-1',\n",
       "       'Interleukin-6', 'Titration Of Auto-Antibodies',\n",
       "       'Injection Site Examination', 'PBMC Isolate',\n",
       "       'Pharmacokinetic Blood Sampling (PK)',\n",
       "       'Pharmacodynamic Blood Sampling (PD) -Cytokines/Chemokines',\n",
       "       'mRNA Markers'], dtype=object)"
      ]
     },
     "execution_count": 5,
     "metadata": {},
     "output_type": "execute_result"
    }
   ],
   "source": [
    "df_root.name.unique()"
   ]
  },
  {
   "cell_type": "code",
   "execution_count": 6,
   "metadata": {},
   "outputs": [],
   "source": [
    "pru = df_root[df_root['name']== '12-Lead ECG']"
   ]
  },
  {
   "cell_type": "code",
   "execution_count": 7,
   "metadata": {},
   "outputs": [
    {
     "data": {
      "text/plain": [
       "array(['Was the ECG performed?', 'Date of ECG Performed',\n",
       "       'Undefined, HR (bpm)', 'Undefined, RR (msec)',\n",
       "       'Undefined, PR (msec)', 'Undefined, QRS (msec)',\n",
       "       'Undefined, QT (msec)', 'Undefined, QTcF (msec)',\n",
       "       'Undefined, Interpretation', 'Pre dose triplicate 1, Time 24 hrs',\n",
       "       'Pre dose triplicate 1, HR (bpm)',\n",
       "       'Pre dose triplicate 1, RR (msec)',\n",
       "       'Pre dose triplicate 1, PR (msec)',\n",
       "       'Pre dose triplicate 1, QRS (msec)',\n",
       "       'Pre dose triplicate 1, QT (msec)',\n",
       "       'Pre dose triplicate 1, QTcF (msec)',\n",
       "       'Pre dose triplicate 1, Interpretation',\n",
       "       'Pre dose triplicate 1, If abnormal, specify',\n",
       "       'Pre dose triplicate 1, Please specify abnormal interpretation',\n",
       "       'Pre dose triplicate 2, Time 24 hrs',\n",
       "       'Pre dose triplicate 2, HR (bpm)',\n",
       "       'Pre dose triplicate 2, RR (msec)',\n",
       "       'Pre dose triplicate 2, PR (msec)',\n",
       "       'Pre dose triplicate 2, QRS (msec)',\n",
       "       'Pre dose triplicate 2, QT (msec)',\n",
       "       'Pre dose triplicate 2, QTcF (msec)',\n",
       "       'Pre dose triplicate 2, Interpretation',\n",
       "       'Pre dose triplicate 2, If abnormal, specify',\n",
       "       'Pre dose triplicate 2, Please specify abnormal interpretation',\n",
       "       'Pre dose triplicate 3, Time 24 hrs',\n",
       "       'Pre dose triplicate 3, HR (bpm)',\n",
       "       'Pre dose triplicate 3, RR (msec)',\n",
       "       'Pre dose triplicate 3, PR (msec)',\n",
       "       'Pre dose triplicate 3, QRS (msec)',\n",
       "       'Pre dose triplicate 3, QT (msec)',\n",
       "       'Pre dose triplicate 3, QTcF (msec)',\n",
       "       'Pre dose triplicate 3, Interpretation',\n",
       "       'Pre dose triplicate 3, If abnormal, specify',\n",
       "       'Pre dose triplicate 3, Please specify abnormal interpretation',\n",
       "       '15-min post dose, Time 24 hrs', '15-min post dose, HR (bpm)',\n",
       "       '15-min post dose, RR (msec)', '15-min post dose, PR (msec)',\n",
       "       '15-min post dose, QRS (msec)', '15-min post dose, QT (msec)',\n",
       "       '15-min post dose, QTcF (msec)',\n",
       "       '15-min post dose, Interpretation',\n",
       "       '15-min post dose, If abnormal, specify',\n",
       "       '15-min post dose, Please specify abnormal interpretation',\n",
       "       '30-min post dose, Time 24 hrs', '30-min post dose, HR (bpm)',\n",
       "       '30-min post dose, RR (msec)', '30-min post dose, PR (msec)',\n",
       "       '30-min post dose, QRS (msec)', '30-min post dose, QT (msec)',\n",
       "       '30-min post dose, QTcF (msec)',\n",
       "       '30-min post dose, Interpretation',\n",
       "       '30-min post dose, If abnormal, specify',\n",
       "       '30-min post dose, Please specify abnormal interpretation',\n",
       "       '60-min post dose, Time 24 hrs', '60-min post dose, HR (bpm)',\n",
       "       '60-min post dose, RR (msec)', '60-min post dose, PR (msec)',\n",
       "       '60-min post dose, QRS (msec)', '60-min post dose, QT (msec)',\n",
       "       '60-min post dose, QTcF (msec)',\n",
       "       '60-min post dose, Interpretation',\n",
       "       '60-min post dose, If abnormal, specify',\n",
       "       '60-min post dose, Please specify abnormal interpretation'],\n",
       "      dtype=object)"
      ]
     },
     "execution_count": 7,
     "metadata": {},
     "output_type": "execute_result"
    }
   ],
   "source": [
    "pru.Campo.unique()"
   ]
  },
  {
   "cell_type": "code",
   "execution_count": 13,
   "metadata": {},
   "outputs": [
    {
     "name": "stdout",
     "output_type": "stream",
     "text": [
      "08:20\n",
      "08:25\n"
     ]
    }
   ],
   "source": [
    "triplicate_1 = pru[pru['Campo']=='Pre dose triplicate 1, Time 24 hrs'].Valor.unique()[0]\n",
    "triplicate_2 = pru[pru['Campo']=='Pre dose triplicate 2, Time 24 hrs'].Valor.unique()[0]\n",
    "print(triplicate_1)\n",
    "print(triplicate_2)"
   ]
  },
  {
   "cell_type": "code",
   "execution_count": 21,
   "metadata": {},
   "outputs": [
    {
     "name": "stdout",
     "output_type": "stream",
     "text": [
      "5.0\n"
     ]
    }
   ],
   "source": [
    "from datetime import datetime\n",
    "time_format = '%H:%M'\n",
    "triplicate_1_formated = datetime.strptime(triplicate_1, time_format)\n",
    "triplicate_2_formated = datetime.strptime(triplicate_2, time_format)\n",
    "\n",
    "time_difference = (triplicate_2_formated - triplicate_1_formated).total_seconds() / 60\n",
    "print(time_difference)\n"
   ]
  }
 ],
 "metadata": {
  "kernelspec": {
   "display_name": "Python 3",
   "language": "python",
   "name": "python3"
  },
  "language_info": {
   "codemirror_mode": {
    "name": "ipython",
    "version": 3
   },
   "file_extension": ".py",
   "mimetype": "text/x-python",
   "name": "python",
   "nbconvert_exporter": "python",
   "pygments_lexer": "ipython3",
   "version": "3.10.4"
  },
  "orig_nbformat": 4
 },
 "nbformat": 4,
 "nbformat_minor": 2
}
