{
 "cells": [
  {
   "cell_type": "code",
   "execution_count": 1,
   "metadata": {},
   "outputs": [],
   "source": [
    "import pandas as pd\n",
    "pd.set_option('display.max_columns', None)\n",
    "import os"
   ]
  },
  {
   "cell_type": "code",
   "execution_count": 2,
   "metadata": {},
   "outputs": [],
   "source": [
    "script_directory = os.path.dirname(os.path.abspath(__file__)) if '__file__' in locals() else os.getcwd()\n",
    "relative_folder_path = r\"data\\rangos_normales\"\n",
    "folder_path = os.path.join(script_directory.replace('\\code', ''), relative_folder_path)\n",
    "file = os.listdir(folder_path)\n",
    "path = f\"{folder_path}\\{file[0]}\"\n",
    "df_root = pd.read_csv(path, sep='\\t')"
   ]
  },
  {
   "cell_type": "code",
   "execution_count": 9,
   "metadata": {},
   "outputs": [],
   "source": [
    "script_directory = os.path.dirname(os.path.abspath(__file__)) if '__file__' in locals() else os.getcwd()\n",
    "relative_folder_path = r\"data\\rangos_normales\"\n",
    "folder_path = os.path.join(script_directory.replace('\\code', ''), relative_folder_path)\n",
    "file = os.listdir(folder_path)\n",
    "path = f\"{folder_path}\\{[x for x in file if 'Eligibility' in x][0]}\" \n",
    "df_normal_ranges = pd.read_csv(path, sep=';')"
   ]
  },
  {
   "cell_type": "code",
   "execution_count": 10,
   "metadata": {},
   "outputs": [
    {
     "data": {
      "text/html": [
       "<div>\n",
       "<style scoped>\n",
       "    .dataframe tbody tr th:only-of-type {\n",
       "        vertical-align: middle;\n",
       "    }\n",
       "\n",
       "    .dataframe tbody tr th {\n",
       "        vertical-align: top;\n",
       "    }\n",
       "\n",
       "    .dataframe thead th {\n",
       "        text-align: right;\n",
       "    }\n",
       "</style>\n",
       "<table border=\"1\" class=\"dataframe\">\n",
       "  <thead>\n",
       "    <tr style=\"text-align: right;\">\n",
       "      <th></th>\n",
       "      <th>field</th>\n",
       "      <th>min</th>\n",
       "      <th>max</th>\n",
       "      <th>gender</th>\n",
       "      <th>age_min</th>\n",
       "      <th>age_max</th>\n",
       "    </tr>\n",
       "  </thead>\n",
       "  <tbody>\n",
       "    <tr>\n",
       "      <th>0</th>\n",
       "      <td>age_eligibility</td>\n",
       "      <td>18</td>\n",
       "      <td>50</td>\n",
       "      <td>NaN</td>\n",
       "      <td>NaN</td>\n",
       "      <td>NaN</td>\n",
       "    </tr>\n",
       "    <tr>\n",
       "      <th>1</th>\n",
       "      <td>cuenta_lesiones</td>\n",
       "      <td>0</td>\n",
       "      <td>4</td>\n",
       "      <td>NaN</td>\n",
       "      <td>NaN</td>\n",
       "      <td>NaN</td>\n",
       "    </tr>\n",
       "    <tr>\n",
       "      <th>2</th>\n",
       "      <td>diametro_lesiones</td>\n",
       "      <td>0</td>\n",
       "      <td>400</td>\n",
       "      <td>NaN</td>\n",
       "      <td>NaN</td>\n",
       "      <td>NaN</td>\n",
       "    </tr>\n",
       "    <tr>\n",
       "      <th>3</th>\n",
       "      <td>diastolic_preasure</td>\n",
       "      <td>0</td>\n",
       "      <td>90</td>\n",
       "      <td>NaN</td>\n",
       "      <td>NaN</td>\n",
       "      <td>NaN</td>\n",
       "    </tr>\n",
       "    <tr>\n",
       "      <th>4</th>\n",
       "      <td>systolic_preasure</td>\n",
       "      <td>100</td>\n",
       "      <td>140</td>\n",
       "      <td>NaN</td>\n",
       "      <td>NaN</td>\n",
       "      <td>NaN</td>\n",
       "    </tr>\n",
       "    <tr>\n",
       "      <th>5</th>\n",
       "      <td>HR_EGC</td>\n",
       "      <td>45</td>\n",
       "      <td>90</td>\n",
       "      <td>NaN</td>\n",
       "      <td>NaN</td>\n",
       "      <td>NaN</td>\n",
       "    </tr>\n",
       "    <tr>\n",
       "      <th>6</th>\n",
       "      <td>QTCF</td>\n",
       "      <td>0</td>\n",
       "      <td>450</td>\n",
       "      <td>NaN</td>\n",
       "      <td>NaN</td>\n",
       "      <td>NaN</td>\n",
       "    </tr>\n",
       "  </tbody>\n",
       "</table>\n",
       "</div>"
      ],
      "text/plain": [
       "                field  min  max  gender  age_min  age_max\n",
       "0     age_eligibility   18   50     NaN      NaN      NaN\n",
       "1     cuenta_lesiones    0    4     NaN      NaN      NaN\n",
       "2   diametro_lesiones    0  400     NaN      NaN      NaN\n",
       "3  diastolic_preasure    0   90     NaN      NaN      NaN\n",
       "4   systolic_preasure  100  140     NaN      NaN      NaN\n",
       "5              HR_EGC   45   90     NaN      NaN      NaN\n",
       "6                QTCF    0  450     NaN      NaN      NaN"
      ]
     },
     "execution_count": 10,
     "metadata": {},
     "output_type": "execute_result"
    }
   ],
   "source": [
    "df_normal_ranges"
   ]
  },
  {
   "cell_type": "code",
   "execution_count": 3,
   "metadata": {},
   "outputs": [
    {
     "ename": "KeyError",
     "evalue": "'field'",
     "output_type": "error",
     "traceback": [
      "\u001b[1;31m---------------------------------------------------------------------------\u001b[0m",
      "\u001b[1;31mKeyError\u001b[0m                                  Traceback (most recent call last)",
      "File \u001b[1;32mc:\\Users\\sebastian sossa\\AppData\\Local\\Programs\\Python\\Python310\\lib\\site-packages\\pandas\\core\\indexes\\base.py:3652\u001b[0m, in \u001b[0;36mIndex.get_loc\u001b[1;34m(self, key)\u001b[0m\n\u001b[0;32m   3651\u001b[0m \u001b[38;5;28;01mtry\u001b[39;00m:\n\u001b[1;32m-> 3652\u001b[0m     \u001b[38;5;28;01mreturn\u001b[39;00m \u001b[38;5;28;43mself\u001b[39;49m\u001b[38;5;241;43m.\u001b[39;49m\u001b[43m_engine\u001b[49m\u001b[38;5;241;43m.\u001b[39;49m\u001b[43mget_loc\u001b[49m\u001b[43m(\u001b[49m\u001b[43mcasted_key\u001b[49m\u001b[43m)\u001b[49m\n\u001b[0;32m   3653\u001b[0m \u001b[38;5;28;01mexcept\u001b[39;00m \u001b[38;5;167;01mKeyError\u001b[39;00m \u001b[38;5;28;01mas\u001b[39;00m err:\n",
      "File \u001b[1;32mc:\\Users\\sebastian sossa\\AppData\\Local\\Programs\\Python\\Python310\\lib\\site-packages\\pandas\\_libs\\index.pyx:147\u001b[0m, in \u001b[0;36mpandas._libs.index.IndexEngine.get_loc\u001b[1;34m()\u001b[0m\n",
      "File \u001b[1;32mc:\\Users\\sebastian sossa\\AppData\\Local\\Programs\\Python\\Python310\\lib\\site-packages\\pandas\\_libs\\index.pyx:176\u001b[0m, in \u001b[0;36mpandas._libs.index.IndexEngine.get_loc\u001b[1;34m()\u001b[0m\n",
      "File \u001b[1;32mpandas\\_libs\\hashtable_class_helper.pxi:7080\u001b[0m, in \u001b[0;36mpandas._libs.hashtable.PyObjectHashTable.get_item\u001b[1;34m()\u001b[0m\n",
      "File \u001b[1;32mpandas\\_libs\\hashtable_class_helper.pxi:7088\u001b[0m, in \u001b[0;36mpandas._libs.hashtable.PyObjectHashTable.get_item\u001b[1;34m()\u001b[0m\n",
      "\u001b[1;31mKeyError\u001b[0m: 'field'",
      "\nThe above exception was the direct cause of the following exception:\n",
      "\u001b[1;31mKeyError\u001b[0m                                  Traceback (most recent call last)",
      "Input \u001b[1;32mIn [3]\u001b[0m, in \u001b[0;36m<cell line: 1>\u001b[1;34m()\u001b[0m\n\u001b[1;32m----> 1\u001b[0m \u001b[38;5;28;01mfor\u001b[39;00m i \u001b[38;5;129;01min\u001b[39;00m \u001b[43mdf_root\u001b[49m\u001b[43m[\u001b[49m\u001b[38;5;124;43m'\u001b[39;49m\u001b[38;5;124;43mfield\u001b[39;49m\u001b[38;5;124;43m'\u001b[39;49m\u001b[43m]\u001b[49m\u001b[38;5;241m.\u001b[39mtolist():\n\u001b[0;32m      2\u001b[0m     \u001b[38;5;28mprint\u001b[39m(\u001b[38;5;124mf\u001b[39m\u001b[38;5;124m'\u001b[39m\u001b[38;5;124m\"\u001b[39m\u001b[38;5;132;01m{\u001b[39;00mi\u001b[38;5;132;01m}\u001b[39;00m\u001b[38;5;124m\"\u001b[39m\u001b[38;5;124m'\u001b[39m)\n",
      "File \u001b[1;32mc:\\Users\\sebastian sossa\\AppData\\Local\\Programs\\Python\\Python310\\lib\\site-packages\\pandas\\core\\frame.py:3761\u001b[0m, in \u001b[0;36mDataFrame.__getitem__\u001b[1;34m(self, key)\u001b[0m\n\u001b[0;32m   3759\u001b[0m \u001b[38;5;28;01mif\u001b[39;00m \u001b[38;5;28mself\u001b[39m\u001b[38;5;241m.\u001b[39mcolumns\u001b[38;5;241m.\u001b[39mnlevels \u001b[38;5;241m>\u001b[39m \u001b[38;5;241m1\u001b[39m:\n\u001b[0;32m   3760\u001b[0m     \u001b[38;5;28;01mreturn\u001b[39;00m \u001b[38;5;28mself\u001b[39m\u001b[38;5;241m.\u001b[39m_getitem_multilevel(key)\n\u001b[1;32m-> 3761\u001b[0m indexer \u001b[38;5;241m=\u001b[39m \u001b[38;5;28;43mself\u001b[39;49m\u001b[38;5;241;43m.\u001b[39;49m\u001b[43mcolumns\u001b[49m\u001b[38;5;241;43m.\u001b[39;49m\u001b[43mget_loc\u001b[49m\u001b[43m(\u001b[49m\u001b[43mkey\u001b[49m\u001b[43m)\u001b[49m\n\u001b[0;32m   3762\u001b[0m \u001b[38;5;28;01mif\u001b[39;00m is_integer(indexer):\n\u001b[0;32m   3763\u001b[0m     indexer \u001b[38;5;241m=\u001b[39m [indexer]\n",
      "File \u001b[1;32mc:\\Users\\sebastian sossa\\AppData\\Local\\Programs\\Python\\Python310\\lib\\site-packages\\pandas\\core\\indexes\\base.py:3654\u001b[0m, in \u001b[0;36mIndex.get_loc\u001b[1;34m(self, key)\u001b[0m\n\u001b[0;32m   3652\u001b[0m     \u001b[38;5;28;01mreturn\u001b[39;00m \u001b[38;5;28mself\u001b[39m\u001b[38;5;241m.\u001b[39m_engine\u001b[38;5;241m.\u001b[39mget_loc(casted_key)\n\u001b[0;32m   3653\u001b[0m \u001b[38;5;28;01mexcept\u001b[39;00m \u001b[38;5;167;01mKeyError\u001b[39;00m \u001b[38;5;28;01mas\u001b[39;00m err:\n\u001b[1;32m-> 3654\u001b[0m     \u001b[38;5;28;01mraise\u001b[39;00m \u001b[38;5;167;01mKeyError\u001b[39;00m(key) \u001b[38;5;28;01mfrom\u001b[39;00m \u001b[38;5;21;01merr\u001b[39;00m\n\u001b[0;32m   3655\u001b[0m \u001b[38;5;28;01mexcept\u001b[39;00m \u001b[38;5;167;01mTypeError\u001b[39;00m:\n\u001b[0;32m   3656\u001b[0m     \u001b[38;5;66;03m# If we have a listlike key, _check_indexing_error will raise\u001b[39;00m\n\u001b[0;32m   3657\u001b[0m     \u001b[38;5;66;03m#  InvalidIndexError. Otherwise we fall through and re-raise\u001b[39;00m\n\u001b[0;32m   3658\u001b[0m     \u001b[38;5;66;03m#  the TypeError.\u001b[39;00m\n\u001b[0;32m   3659\u001b[0m     \u001b[38;5;28mself\u001b[39m\u001b[38;5;241m.\u001b[39m_check_indexing_error(key)\n",
      "\u001b[1;31mKeyError\u001b[0m: 'field'"
     ]
    }
   ],
   "source": [
    "for i in df_root['field'].tolist():\n",
    "    print(f'\"{i}\"')"
   ]
  },
  {
   "cell_type": "markdown",
   "metadata": {},
   "source": [
    "# Rangos normales code"
   ]
  },
  {
   "cell_type": "markdown",
   "metadata": {},
   "source": [
    "### Accesing when gender is required"
   ]
  },
  {
   "cell_type": "code",
   "execution_count": null,
   "metadata": {},
   "outputs": [],
   "source": [
    "\n",
    "# Normals ranges file\n",
    "script_directory = os.path.dirname(os.path.abspath(__file__)) if '__file__' in locals() else os.getcwd()\n",
    "relative_folder_path = r\"data\\rangos_normales\"\n",
    "folder_path = os.path.join(script_directory.replace('\\code', ''), relative_folder_path)\n",
    "file = os.listdir(folder_path)\n",
    "path = f\"{folder_path}\\{[x for x in file if 'chemestry_D1' in x][0]}\" \n",
    "df_normal_ranges = pd.read_csv(path, sep=';')"
   ]
  },
  {
   "cell_type": "code",
   "execution_count": null,
   "metadata": {},
   "outputs": [
    {
     "data": {
      "text/plain": [
       "0.0"
      ]
     },
     "execution_count": 4,
     "metadata": {},
     "output_type": "execute_result"
    }
   ],
   "source": [
    "float(df_normal_ranges[(df_normal_ranges['field']== \"Alanine Aminotransferase (ALT), Result (U/L)\") & (df_normal_ranges['gender']== 1)]['min'].iloc[0])"
   ]
  },
  {
   "cell_type": "code",
   "execution_count": null,
   "metadata": {},
   "outputs": [
    {
     "data": {
      "text/plain": [
       "0.55"
      ]
     },
     "execution_count": 19,
     "metadata": {},
     "output_type": "execute_result"
    }
   ],
   "source": [
    "float(df_normal_ranges[(df_normal_ranges['field']== \"Serum Creatinine, Result (mg/dL)\") & (df_normal_ranges['gender']== 2)]['min'].iloc[0])"
   ]
  },
  {
   "cell_type": "code",
   "execution_count": null,
   "metadata": {},
   "outputs": [
    {
     "data": {
      "text/html": [
       "<div>\n",
       "<style scoped>\n",
       "    .dataframe tbody tr th:only-of-type {\n",
       "        vertical-align: middle;\n",
       "    }\n",
       "\n",
       "    .dataframe tbody tr th {\n",
       "        vertical-align: top;\n",
       "    }\n",
       "\n",
       "    .dataframe thead th {\n",
       "        text-align: right;\n",
       "    }\n",
       "</style>\n",
       "<table border=\"1\" class=\"dataframe\">\n",
       "  <thead>\n",
       "    <tr style=\"text-align: right;\">\n",
       "      <th></th>\n",
       "      <th>field</th>\n",
       "      <th>min</th>\n",
       "      <th>max</th>\n",
       "      <th>gender</th>\n",
       "      <th>age_min</th>\n",
       "      <th>age_max</th>\n",
       "    </tr>\n",
       "  </thead>\n",
       "  <tbody>\n",
       "    <tr>\n",
       "      <th>0</th>\n",
       "      <td>Aspartate Aminotransferase (AST), Result (U/L)</td>\n",
       "      <td>11</td>\n",
       "      <td>34</td>\n",
       "      <td>0</td>\n",
       "      <td>NaN</td>\n",
       "      <td>NaN</td>\n",
       "    </tr>\n",
       "    <tr>\n",
       "      <th>1</th>\n",
       "      <td>Alanine Aminotransferase (ALT), Result (U/L)</td>\n",
       "      <td>0</td>\n",
       "      <td>45</td>\n",
       "      <td>1</td>\n",
       "      <td>NaN</td>\n",
       "      <td>NaN</td>\n",
       "    </tr>\n",
       "    <tr>\n",
       "      <th>2</th>\n",
       "      <td>Alanine Aminotransferase (ALT), Result (U/L)</td>\n",
       "      <td>0</td>\n",
       "      <td>34</td>\n",
       "      <td>2</td>\n",
       "      <td>NaN</td>\n",
       "      <td>NaN</td>\n",
       "    </tr>\n",
       "    <tr>\n",
       "      <th>3</th>\n",
       "      <td>Serum Creatinine, Result (mg/dL)</td>\n",
       "      <td>0,73</td>\n",
       "      <td>1,18</td>\n",
       "      <td>1</td>\n",
       "      <td>NaN</td>\n",
       "      <td>NaN</td>\n",
       "    </tr>\n",
       "    <tr>\n",
       "      <th>4</th>\n",
       "      <td>Serum Creatinine, Result (mg/dL)</td>\n",
       "      <td>0,55</td>\n",
       "      <td>1,02</td>\n",
       "      <td>2</td>\n",
       "      <td>NaN</td>\n",
       "      <td>NaN</td>\n",
       "    </tr>\n",
       "  </tbody>\n",
       "</table>\n",
       "</div>"
      ],
      "text/plain": [
       "                                            field   min   max  gender   \n",
       "0  Aspartate Aminotransferase (AST), Result (U/L)    11    34       0  \\\n",
       "1    Alanine Aminotransferase (ALT), Result (U/L)     0    45       1   \n",
       "2    Alanine Aminotransferase (ALT), Result (U/L)     0    34       2   \n",
       "3                Serum Creatinine, Result (mg/dL)  0,73  1,18       1   \n",
       "4                Serum Creatinine, Result (mg/dL)  0,55  1,02       2   \n",
       "\n",
       "   age_min  age_max  \n",
       "0      NaN      NaN  \n",
       "1      NaN      NaN  \n",
       "2      NaN      NaN  \n",
       "3      NaN      NaN  \n",
       "4      NaN      NaN  "
      ]
     },
     "execution_count": 28,
     "metadata": {},
     "output_type": "execute_result"
    }
   ],
   "source": [
    "df_normal_ranges.head()"
   ]
  },
  {
   "cell_type": "code",
   "execution_count": null,
   "metadata": {},
   "outputs": [
    {
     "data": {
      "text/plain": [
       "'11'"
      ]
     },
     "execution_count": 5,
     "metadata": {},
     "output_type": "execute_result"
    }
   ],
   "source": [
    "df_normal_ranges[(df_normal_ranges['field']==\"Aspartate Aminotransferase (AST), Result (U/L)\") & (df_normal_ranges['gender']== 0)]['min'].iloc[0]\n",
    "#df_root[(df_root['field'] == \"Aspartate Aminotransferase (AST), Result (U/L)\") & (df_root['gender'] == 1)]['min'].iloc[0]\n"
   ]
  },
  {
   "cell_type": "markdown",
   "metadata": {},
   "source": [
    "### Accesing when no condition of gender or age"
   ]
  },
  {
   "cell_type": "code",
   "execution_count": null,
   "metadata": {},
   "outputs": [
    {
     "data": {
      "text/plain": [
       "'11'"
      ]
     },
     "execution_count": 31,
     "metadata": {},
     "output_type": "execute_result"
    }
   ],
   "source": [
    "df_normal_ranges[df_normal_ranges['field']==\"Aspartate Aminotransferase (AST), Result (U/L)\"]['min'].iloc[0]"
   ]
  },
  {
   "cell_type": "code",
   "execution_count": null,
   "metadata": {},
   "outputs": [
    {
     "name": "stdout",
     "output_type": "stream",
     "text": [
      "11.0\n"
     ]
    }
   ],
   "source": [
    "print(float(min))"
   ]
  },
  {
   "cell_type": "code",
   "execution_count": null,
   "metadata": {},
   "outputs": [
    {
     "name": "stdout",
     "output_type": "stream",
     "text": [
      "60.0\n"
     ]
    }
   ],
   "source": [
    "from datetime import datetime\n",
    "\n",
    "print(float((datetime.strptime('11:00', '%H:%M') - datetime.strptime('10:00', '%H:%M')).total_seconds() / 60))"
   ]
  },
  {
   "cell_type": "code",
   "execution_count": null,
   "metadata": {},
   "outputs": [
    {
     "name": "stdout",
     "output_type": "stream",
     "text": [
      "Is the participant eligible to randomization?\n",
      "Will the participant be randomized?\n",
      "Is the subject replacing a subject previously been randomized in the current study?\n"
     ]
    }
   ],
   "source": [
    "for i in df_root.Campo.unique():\n",
    "    if 'rand' in i.lower():\n",
    "        print(i)"
   ]
  },
  {
   "cell_type": "code",
   "execution_count": null,
   "metadata": {},
   "outputs": [
    {
     "data": {
      "text/plain": [
       "array(['Screening Visit', 'D-1', 'D1', 'D2', 'D3', 'D4', 'D7', 'D14',\n",
       "       'D15', 'D16', 'D17', 'D18', 'D21', 'D28', 'D29', 'D30', 'D31',\n",
       "       'D32', 'D35', 'D42', 'D63', '-'], dtype=object)"
      ]
     },
     "execution_count": 16,
     "metadata": {},
     "output_type": "execute_result"
    }
   ],
   "source": [
    "df_root.Visit.unique() "
   ]
  },
  {
   "cell_type": "code",
   "execution_count": null,
   "metadata": {},
   "outputs": [
    {
     "data": {
      "text/plain": [
       "Index(['Id Form', 'idCampo', 'Site', 'Visit', 'name', 'Genero',\n",
       "       'AñoNacimiento', 'NameActividad', 'activityState', 'fecha enrolado',\n",
       "       'Participante', 'Estado del Participante', 'identifierPrefix',\n",
       "       'Id Activityins', 'Instancia', 'Estado del campo', 'Campo', 'Valor',\n",
       "       'displayName', 'id option', 'Variable', 'visible', 'required',\n",
       "       'TipoDato', 'TypeQuery', 'MessageQuery', 'QueryState',\n",
       "       'vistaPrincipal.IdSubject'],\n",
       "      dtype='object')"
      ]
     },
     "execution_count": 27,
     "metadata": {},
     "output_type": "execute_result"
    }
   ],
   "source": [
    "df_root.columns"
   ]
  },
  {
   "cell_type": "code",
   "execution_count": null,
   "metadata": {},
   "outputs": [
    {
     "data": {
      "text/plain": [
       "array(['Date of visit', 'Informed Consent', 'Demographics',\n",
       "       'History of cutaneous leishmaniasis', 'Covid 19 testing',\n",
       "       'Eligibility',\n",
       "       'Medical Or Surgical History (other than Leishmaniasis)',\n",
       "       'Vein assessment', 'Urinary Drug Screen', 'Alcohol Screen',\n",
       "       'Clinical Laboratory - Test Hematology',\n",
       "       'Clinical Laboratory Test - Clinical Chemistry',\n",
       "       'Clinical Laboratory Test - Coagulation',\n",
       "       'Immunoassay (Thyroid Stimulating Hormone)', 'Urinalysis',\n",
       "       'Urine Microscopic Examination', 'Virology', 'Lesion Measurement',\n",
       "       'Physical Examination', 'Vital Signs', '12-Lead ECG',\n",
       "       'Clinical Laboratory Test - Clinical Chemistry D-1',\n",
       "       'Interleukin-6', 'Titration Of Auto-Antibodies',\n",
       "       'End of Study Treatment (Miltefosine)',\n",
       "       'Injection Site Examination', 'PBMC Isolate',\n",
       "       'Pharmacokinetic Blood Sampling (PK)',\n",
       "       'Pharmacodynamic Blood Sampling (PD) -Cytokines/Chemokines',\n",
       "       'mRNA Markers', 'CpG ODN D35 Administration',\n",
       "       'Child Bearing Potential', 'Pregnancy Test',\n",
       "       'Prior And Concomitant Medications'], dtype=object)"
      ]
     },
     "execution_count": 9,
     "metadata": {},
     "output_type": "execute_result"
    }
   ],
   "source": [
    "df_root.name.unique()"
   ]
  },
  {
   "cell_type": "code",
   "execution_count": null,
   "metadata": {},
   "outputs": [
    {
     "data": {
      "text/plain": [
       "array(['Screening Visit', 'D-1', 'D1', 'D2', 'D3', 'D4', 'D7', 'D14',\n",
       "       'D15', 'D16', 'D17', 'D18', 'D21', 'D28', 'D29', 'D30', 'D31',\n",
       "       'D32', 'D35', 'D42', 'D63', '-'], dtype=object)"
      ]
     },
     "execution_count": 5,
     "metadata": {},
     "output_type": "execute_result"
    }
   ],
   "source": [
    "df_root.Visit.unique()  "
   ]
  },
  {
   "cell_type": "code",
   "execution_count": null,
   "metadata": {},
   "outputs": [],
   "source": [
    "formulario_elegido =   'Medical Or Surgical History (other than Leishmaniasis)'\n",
    "visita_elegida = 0\n",
    "campo_elegido = 0\n",
    "\n",
    "general_revision  = df_root[df_root['name']== formulario_elegido]\n",
    "general_revision = general_revision[['Visit','Participante', 'Campo', 'Valor']]\n",
    "if visita_elegida != 0:\n",
    "    general_revision = general_revision[general_revision['Visit'] == visita_elegida]\n",
    "\n",
    "if campo_elegido != 0:\n",
    "    general_revision = general_revision[general_revision['Campo']== campo_elegido]\n",
    "\n",
    "general_revision = general_revision[['Visit', 'Campo', 'Participante','Valor']]"
   ]
  },
  {
   "cell_type": "code",
   "execution_count": null,
   "metadata": {},
   "outputs": [
    {
     "data": {
      "text/html": [
       "<div>\n",
       "<style scoped>\n",
       "    .dataframe tbody tr th:only-of-type {\n",
       "        vertical-align: middle;\n",
       "    }\n",
       "\n",
       "    .dataframe tbody tr th {\n",
       "        vertical-align: top;\n",
       "    }\n",
       "\n",
       "    .dataframe thead th {\n",
       "        text-align: right;\n",
       "    }\n",
       "</style>\n",
       "<table border=\"1\" class=\"dataframe\">\n",
       "  <thead>\n",
       "    <tr style=\"text-align: right;\">\n",
       "      <th></th>\n",
       "      <th>Visit</th>\n",
       "      <th>Campo</th>\n",
       "      <th>Participante</th>\n",
       "      <th>Valor</th>\n",
       "    </tr>\n",
       "  </thead>\n",
       "  <tbody>\n",
       "    <tr>\n",
       "      <th>3205</th>\n",
       "      <td>Screening Visit</td>\n",
       "      <td>Are there any relevant medical history or surg...</td>\n",
       "      <td>011002</td>\n",
       "      <td>1</td>\n",
       "    </tr>\n",
       "    <tr>\n",
       "      <th>3621</th>\n",
       "      <td>Screening Visit</td>\n",
       "      <td>Medical/Surgical History/Current Condition</td>\n",
       "      <td>011002</td>\n",
       "      <td>tubectomy</td>\n",
       "    </tr>\n",
       "    <tr>\n",
       "      <th>3622</th>\n",
       "      <td>Screening Visit</td>\n",
       "      <td>Onset Date/First Diagnosis/Surgery</td>\n",
       "      <td>011002</td>\n",
       "      <td>22-JUN-2023</td>\n",
       "    </tr>\n",
       "    <tr>\n",
       "      <th>3623</th>\n",
       "      <td>Screening Visit</td>\n",
       "      <td>Is Condition Ongoing?</td>\n",
       "      <td>011002</td>\n",
       "      <td>0</td>\n",
       "    </tr>\n",
       "    <tr>\n",
       "      <th>3624</th>\n",
       "      <td>Screening Visit</td>\n",
       "      <td>End Date</td>\n",
       "      <td>011002</td>\n",
       "      <td>22-JUN-2023</td>\n",
       "    </tr>\n",
       "    <tr>\n",
       "      <th>3625</th>\n",
       "      <td>Screening Visit</td>\n",
       "      <td>Medical/Surgical History/Current Condition</td>\n",
       "      <td>011002</td>\n",
       "      <td>unspecified acne</td>\n",
       "    </tr>\n",
       "    <tr>\n",
       "      <th>3626</th>\n",
       "      <td>Screening Visit</td>\n",
       "      <td>Onset Date/First Diagnosis/Surgery</td>\n",
       "      <td>011002</td>\n",
       "      <td>UNK-DEC-2023</td>\n",
       "    </tr>\n",
       "    <tr>\n",
       "      <th>3627</th>\n",
       "      <td>Screening Visit</td>\n",
       "      <td>Is Condition Ongoing?</td>\n",
       "      <td>011002</td>\n",
       "      <td>1</td>\n",
       "    </tr>\n",
       "    <tr>\n",
       "      <th>3628</th>\n",
       "      <td>Screening Visit</td>\n",
       "      <td>Severity</td>\n",
       "      <td>011002</td>\n",
       "      <td>1</td>\n",
       "    </tr>\n",
       "    <tr>\n",
       "      <th>3629</th>\n",
       "      <td>Screening Visit</td>\n",
       "      <td>Frequency</td>\n",
       "      <td>011002</td>\n",
       "      <td>2</td>\n",
       "    </tr>\n",
       "    <tr>\n",
       "      <th>3630</th>\n",
       "      <td>Screening Visit</td>\n",
       "      <td>Currently treated?</td>\n",
       "      <td>011002</td>\n",
       "      <td>0</td>\n",
       "    </tr>\n",
       "  </tbody>\n",
       "</table>\n",
       "</div>"
      ],
      "text/plain": [
       "                Visit                                              Campo   \n",
       "3205  Screening Visit  Are there any relevant medical history or surg...  \\\n",
       "3621  Screening Visit         Medical/Surgical History/Current Condition   \n",
       "3622  Screening Visit                 Onset Date/First Diagnosis/Surgery   \n",
       "3623  Screening Visit                              Is Condition Ongoing?   \n",
       "3624  Screening Visit                                           End Date   \n",
       "3625  Screening Visit         Medical/Surgical History/Current Condition   \n",
       "3626  Screening Visit                 Onset Date/First Diagnosis/Surgery   \n",
       "3627  Screening Visit                              Is Condition Ongoing?   \n",
       "3628  Screening Visit                                           Severity   \n",
       "3629  Screening Visit                                          Frequency   \n",
       "3630  Screening Visit                                 Currently treated?   \n",
       "\n",
       "     Participante             Valor  \n",
       "3205       011002                 1  \n",
       "3621       011002         tubectomy  \n",
       "3622       011002       22-JUN-2023  \n",
       "3623       011002                 0  \n",
       "3624       011002       22-JUN-2023  \n",
       "3625       011002  unspecified acne  \n",
       "3626       011002      UNK-DEC-2023  \n",
       "3627       011002                 1  \n",
       "3628       011002                 1  \n",
       "3629       011002                 2  \n",
       "3630       011002                 0  "
      ]
     },
     "execution_count": 8,
     "metadata": {},
     "output_type": "execute_result"
    }
   ],
   "source": [
    "general_revision[general_revision['Participante']=='011002']"
   ]
  },
  {
   "cell_type": "code",
   "execution_count": null,
   "metadata": {},
   "outputs": [
    {
     "name": "stdout",
     "output_type": "stream",
     "text": [
      "'End of study/Early withdrawal date'\n",
      "'Did the participant complete the study?'\n",
      "'Date of last study treatment administration'\n",
      "'Was the study treatment completed per protocol?'\n",
      "'Primary reason for not completing the study'\n"
     ]
    }
   ],
   "source": [
    "for i in general_revision.Campo.unique():\n",
    "    print(f\"'{i}'\")"
   ]
  },
  {
   "cell_type": "code",
   "execution_count": null,
   "metadata": {},
   "outputs": [
    {
     "data": {
      "text/html": [
       "<div>\n",
       "<style scoped>\n",
       "    .dataframe tbody tr th:only-of-type {\n",
       "        vertical-align: middle;\n",
       "    }\n",
       "\n",
       "    .dataframe tbody tr th {\n",
       "        vertical-align: top;\n",
       "    }\n",
       "\n",
       "    .dataframe thead th {\n",
       "        text-align: right;\n",
       "    }\n",
       "</style>\n",
       "<table border=\"1\" class=\"dataframe\">\n",
       "  <thead>\n",
       "    <tr style=\"text-align: right;\">\n",
       "      <th></th>\n",
       "      <th>Visit</th>\n",
       "      <th>Campo</th>\n",
       "      <th>Participante</th>\n",
       "      <th>Valor</th>\n",
       "    </tr>\n",
       "  </thead>\n",
       "  <tbody>\n",
       "    <tr>\n",
       "      <th>302</th>\n",
       "      <td>-</td>\n",
       "      <td>End of study/Early withdrawal date</td>\n",
       "      <td>011001</td>\n",
       "      <td>26-JAN-2024</td>\n",
       "    </tr>\n",
       "    <tr>\n",
       "      <th>303</th>\n",
       "      <td>-</td>\n",
       "      <td>Did the participant complete the study?</td>\n",
       "      <td>011001</td>\n",
       "      <td>1</td>\n",
       "    </tr>\n",
       "    <tr>\n",
       "      <th>304</th>\n",
       "      <td>-</td>\n",
       "      <td>Date of last study treatment administration</td>\n",
       "      <td>011001</td>\n",
       "      <td>28-NOV-2023</td>\n",
       "    </tr>\n",
       "    <tr>\n",
       "      <th>305</th>\n",
       "      <td>-</td>\n",
       "      <td>Was the study treatment completed per protocol?</td>\n",
       "      <td>011001</td>\n",
       "      <td>1</td>\n",
       "    </tr>\n",
       "    <tr>\n",
       "      <th>2695</th>\n",
       "      <td>-</td>\n",
       "      <td>End of study/Early withdrawal date</td>\n",
       "      <td>S002</td>\n",
       "      <td>27-NOV-2023</td>\n",
       "    </tr>\n",
       "    <tr>\n",
       "      <th>2696</th>\n",
       "      <td>-</td>\n",
       "      <td>Did the participant complete the study?</td>\n",
       "      <td>S002</td>\n",
       "      <td>0</td>\n",
       "    </tr>\n",
       "    <tr>\n",
       "      <th>2697</th>\n",
       "      <td>-</td>\n",
       "      <td>Primary reason for not completing the study</td>\n",
       "      <td>S002</td>\n",
       "      <td>1</td>\n",
       "    </tr>\n",
       "    <tr>\n",
       "      <th>2715</th>\n",
       "      <td>-</td>\n",
       "      <td>End of study/Early withdrawal date</td>\n",
       "      <td>S003</td>\n",
       "      <td>08-NOV-2023</td>\n",
       "    </tr>\n",
       "    <tr>\n",
       "      <th>2716</th>\n",
       "      <td>-</td>\n",
       "      <td>Did the participant complete the study?</td>\n",
       "      <td>S003</td>\n",
       "      <td>0</td>\n",
       "    </tr>\n",
       "    <tr>\n",
       "      <th>2717</th>\n",
       "      <td>-</td>\n",
       "      <td>Primary reason for not completing the study</td>\n",
       "      <td>S003</td>\n",
       "      <td>1</td>\n",
       "    </tr>\n",
       "    <tr>\n",
       "      <th>2981</th>\n",
       "      <td>-</td>\n",
       "      <td>End of study/Early withdrawal date</td>\n",
       "      <td>S004</td>\n",
       "      <td>11-JAN-2024</td>\n",
       "    </tr>\n",
       "    <tr>\n",
       "      <th>2982</th>\n",
       "      <td>-</td>\n",
       "      <td>Did the participant complete the study?</td>\n",
       "      <td>S004</td>\n",
       "      <td>0</td>\n",
       "    </tr>\n",
       "    <tr>\n",
       "      <th>2983</th>\n",
       "      <td>-</td>\n",
       "      <td>Primary reason for not completing the study</td>\n",
       "      <td>S004</td>\n",
       "      <td>1</td>\n",
       "    </tr>\n",
       "  </tbody>\n",
       "</table>\n",
       "</div>"
      ],
      "text/plain": [
       "     Visit                                            Campo Participante   \n",
       "302      -               End of study/Early withdrawal date       011001  \\\n",
       "303      -          Did the participant complete the study?       011001   \n",
       "304      -      Date of last study treatment administration       011001   \n",
       "305      -  Was the study treatment completed per protocol?       011001   \n",
       "2695     -               End of study/Early withdrawal date         S002   \n",
       "2696     -          Did the participant complete the study?         S002   \n",
       "2697     -      Primary reason for not completing the study         S002   \n",
       "2715     -               End of study/Early withdrawal date         S003   \n",
       "2716     -          Did the participant complete the study?         S003   \n",
       "2717     -      Primary reason for not completing the study         S003   \n",
       "2981     -               End of study/Early withdrawal date         S004   \n",
       "2982     -          Did the participant complete the study?         S004   \n",
       "2983     -      Primary reason for not completing the study         S004   \n",
       "\n",
       "            Valor  \n",
       "302   26-JAN-2024  \n",
       "303             1  \n",
       "304   28-NOV-2023  \n",
       "305             1  \n",
       "2695  27-NOV-2023  \n",
       "2696            0  \n",
       "2697            1  \n",
       "2715  08-NOV-2023  \n",
       "2716            0  \n",
       "2717            1  \n",
       "2981  11-JAN-2024  \n",
       "2982            0  \n",
       "2983            1  "
      ]
     },
     "execution_count": 74,
     "metadata": {},
     "output_type": "execute_result"
    }
   ],
   "source": [
    "general_revision.head(70)"
   ]
  },
  {
   "cell_type": "code",
   "execution_count": null,
   "metadata": {},
   "outputs": [
    {
     "data": {
      "text/html": [
       "<div>\n",
       "<style scoped>\n",
       "    .dataframe tbody tr th:only-of-type {\n",
       "        vertical-align: middle;\n",
       "    }\n",
       "\n",
       "    .dataframe tbody tr th {\n",
       "        vertical-align: top;\n",
       "    }\n",
       "\n",
       "    .dataframe thead th {\n",
       "        text-align: right;\n",
       "    }\n",
       "</style>\n",
       "<table border=\"1\" class=\"dataframe\">\n",
       "  <thead>\n",
       "    <tr style=\"text-align: right;\">\n",
       "      <th></th>\n",
       "      <th>Visit</th>\n",
       "      <th>Campo</th>\n",
       "      <th>Participante</th>\n",
       "      <th>Valor</th>\n",
       "    </tr>\n",
       "  </thead>\n",
       "  <tbody>\n",
       "    <tr>\n",
       "      <th>302</th>\n",
       "      <td>-</td>\n",
       "      <td>End of study/Early withdrawal date</td>\n",
       "      <td>011001</td>\n",
       "      <td>26-JAN-2024</td>\n",
       "    </tr>\n",
       "    <tr>\n",
       "      <th>303</th>\n",
       "      <td>-</td>\n",
       "      <td>Did the participant complete the study?</td>\n",
       "      <td>011001</td>\n",
       "      <td>1</td>\n",
       "    </tr>\n",
       "    <tr>\n",
       "      <th>304</th>\n",
       "      <td>-</td>\n",
       "      <td>Date of last study treatment administration</td>\n",
       "      <td>011001</td>\n",
       "      <td>28-NOV-2023</td>\n",
       "    </tr>\n",
       "    <tr>\n",
       "      <th>305</th>\n",
       "      <td>-</td>\n",
       "      <td>Was the study treatment completed per protocol?</td>\n",
       "      <td>011001</td>\n",
       "      <td>1</td>\n",
       "    </tr>\n",
       "  </tbody>\n",
       "</table>\n",
       "</div>"
      ],
      "text/plain": [
       "    Visit                                            Campo Participante   \n",
       "302     -               End of study/Early withdrawal date       011001  \\\n",
       "303     -          Did the participant complete the study?       011001   \n",
       "304     -      Date of last study treatment administration       011001   \n",
       "305     -  Was the study treatment completed per protocol?       011001   \n",
       "\n",
       "           Valor  \n",
       "302  26-JAN-2024  \n",
       "303            1  \n",
       "304  28-NOV-2023  \n",
       "305            1  "
      ]
     },
     "execution_count": 27,
     "metadata": {},
     "output_type": "execute_result"
    }
   ],
   "source": [
    "general_revision[general_revision['Participante']== '011001' ].head(50)"
   ]
  },
  {
   "cell_type": "code",
   "execution_count": null,
   "metadata": {},
   "outputs": [
    {
     "data": {
      "text/html": [
       "<div>\n",
       "<style scoped>\n",
       "    .dataframe tbody tr th:only-of-type {\n",
       "        vertical-align: middle;\n",
       "    }\n",
       "\n",
       "    .dataframe tbody tr th {\n",
       "        vertical-align: top;\n",
       "    }\n",
       "\n",
       "    .dataframe thead th {\n",
       "        text-align: right;\n",
       "    }\n",
       "</style>\n",
       "<table border=\"1\" class=\"dataframe\">\n",
       "  <thead>\n",
       "    <tr style=\"text-align: right;\">\n",
       "      <th></th>\n",
       "      <th>Visit</th>\n",
       "      <th>Campo</th>\n",
       "      <th>Participante</th>\n",
       "      <th>Valor</th>\n",
       "    </tr>\n",
       "  </thead>\n",
       "  <tbody>\n",
       "    <tr>\n",
       "      <th>2603</th>\n",
       "      <td>-</td>\n",
       "      <td>Date of dosing</td>\n",
       "      <td>011001</td>\n",
       "      <td>31-OCT-2023</td>\n",
       "    </tr>\n",
       "    <tr>\n",
       "      <th>2888</th>\n",
       "      <td>-</td>\n",
       "      <td>Date of dosing</td>\n",
       "      <td>011001</td>\n",
       "      <td>14-NOV-2023</td>\n",
       "    </tr>\n",
       "    <tr>\n",
       "      <th>2894</th>\n",
       "      <td>-</td>\n",
       "      <td>Date of dosing</td>\n",
       "      <td>011001</td>\n",
       "      <td>28-NOV-2023</td>\n",
       "    </tr>\n",
       "  </tbody>\n",
       "</table>\n",
       "</div>"
      ],
      "text/plain": [
       "     Visit           Campo Participante        Valor\n",
       "2603     -  Date of dosing       011001  31-OCT-2023\n",
       "2888     -  Date of dosing       011001  14-NOV-2023\n",
       "2894     -  Date of dosing       011001  28-NOV-2023"
      ]
     },
     "execution_count": 30,
     "metadata": {},
     "output_type": "execute_result"
    }
   ],
   "source": [
    "general_revision[general_revision['Campo']== 'Date of dosing' ].head(50)"
   ]
  },
  {
   "cell_type": "code",
   "execution_count": null,
   "metadata": {},
   "outputs": [],
   "source": [
    "formulario_elegido =  'Prior And Concomitant Medications'\n",
    "visita_elegida = 0\n",
    "campo_elegido = 0\n",
    "\n",
    "general_revision  = df_root[df_root['name']== formulario_elegido]\n",
    "general_revision = general_revision[['Visit','Participante', 'Campo', 'Valor']]\n",
    "if visita_elegida != 0:\n",
    "    general_revision = general_revision[general_revision['Visit']in ['D2', 'D16', 'D30']]\n",
    "\n",
    "if campo_elegido != 0:\n",
    "    general_revision = general_revision[general_revision['Campo']== campo_elegido]\n",
    "\n",
    "general_revision = general_revision[['Visit', 'Campo', 'Participante','Valor']]"
   ]
  },
  {
   "cell_type": "code",
   "execution_count": null,
   "metadata": {},
   "outputs": [
    {
     "data": {
      "text/html": [
       "<div>\n",
       "<style scoped>\n",
       "    .dataframe tbody tr th:only-of-type {\n",
       "        vertical-align: middle;\n",
       "    }\n",
       "\n",
       "    .dataframe tbody tr th {\n",
       "        vertical-align: top;\n",
       "    }\n",
       "\n",
       "    .dataframe thead th {\n",
       "        text-align: right;\n",
       "    }\n",
       "</style>\n",
       "<table border=\"1\" class=\"dataframe\">\n",
       "  <thead>\n",
       "    <tr style=\"text-align: right;\">\n",
       "      <th></th>\n",
       "      <th>Visit</th>\n",
       "      <th>Campo</th>\n",
       "      <th>Participante</th>\n",
       "      <th>Valor</th>\n",
       "    </tr>\n",
       "  </thead>\n",
       "  <tbody>\n",
       "    <tr>\n",
       "      <th>3610</th>\n",
       "      <td>-</td>\n",
       "      <td>Concomitant Medication ID</td>\n",
       "      <td>S005</td>\n",
       "      <td>1</td>\n",
       "    </tr>\n",
       "    <tr>\n",
       "      <th>3611</th>\n",
       "      <td>-</td>\n",
       "      <td>Drug Name</td>\n",
       "      <td>S005</td>\n",
       "      <td>omeprozole</td>\n",
       "    </tr>\n",
       "    <tr>\n",
       "      <th>3612</th>\n",
       "      <td>-</td>\n",
       "      <td>Indication</td>\n",
       "      <td>S005</td>\n",
       "      <td>chronic gastritis</td>\n",
       "    </tr>\n",
       "    <tr>\n",
       "      <th>3613</th>\n",
       "      <td>-</td>\n",
       "      <td>Indication Category</td>\n",
       "      <td>S005</td>\n",
       "      <td>2</td>\n",
       "    </tr>\n",
       "    <tr>\n",
       "      <th>3614</th>\n",
       "      <td>-</td>\n",
       "      <td>Medical History ID</td>\n",
       "      <td>S005</td>\n",
       "      <td>1</td>\n",
       "    </tr>\n",
       "    <tr>\n",
       "      <th>3615</th>\n",
       "      <td>-</td>\n",
       "      <td>Dose per Administration</td>\n",
       "      <td>S005</td>\n",
       "      <td>20</td>\n",
       "    </tr>\n",
       "    <tr>\n",
       "      <th>3616</th>\n",
       "      <td>-</td>\n",
       "      <td>Unit</td>\n",
       "      <td>S005</td>\n",
       "      <td>mg</td>\n",
       "    </tr>\n",
       "    <tr>\n",
       "      <th>3617</th>\n",
       "      <td>-</td>\n",
       "      <td>Frequency</td>\n",
       "      <td>S005</td>\n",
       "      <td>1</td>\n",
       "    </tr>\n",
       "    <tr>\n",
       "      <th>3618</th>\n",
       "      <td>-</td>\n",
       "      <td>Route</td>\n",
       "      <td>S005</td>\n",
       "      <td>1</td>\n",
       "    </tr>\n",
       "    <tr>\n",
       "      <th>3619</th>\n",
       "      <td>-</td>\n",
       "      <td>Start date</td>\n",
       "      <td>S005</td>\n",
       "      <td>UNK-UNK-2022</td>\n",
       "    </tr>\n",
       "    <tr>\n",
       "      <th>3620</th>\n",
       "      <td>-</td>\n",
       "      <td>Ongoing</td>\n",
       "      <td>S005</td>\n",
       "      <td>1</td>\n",
       "    </tr>\n",
       "  </tbody>\n",
       "</table>\n",
       "</div>"
      ],
      "text/plain": [
       "     Visit                      Campo Participante              Valor\n",
       "3610     -  Concomitant Medication ID         S005                  1\n",
       "3611     -                  Drug Name         S005         omeprozole\n",
       "3612     -                 Indication         S005  chronic gastritis\n",
       "3613     -        Indication Category         S005                  2\n",
       "3614     -         Medical History ID         S005                  1\n",
       "3615     -    Dose per Administration         S005                 20\n",
       "3616     -                       Unit         S005                 mg\n",
       "3617     -                  Frequency         S005                  1\n",
       "3618     -                      Route         S005                  1\n",
       "3619     -                 Start date         S005       UNK-UNK-2022\n",
       "3620     -                    Ongoing         S005                  1"
      ]
     },
     "execution_count": 14,
     "metadata": {},
     "output_type": "execute_result"
    }
   ],
   "source": [
    "general_revision"
   ]
  },
  {
   "cell_type": "code",
   "execution_count": null,
   "metadata": {},
   "outputs": [
    {
     "data": {
      "text/html": [
       "<div>\n",
       "<style scoped>\n",
       "    .dataframe tbody tr th:only-of-type {\n",
       "        vertical-align: middle;\n",
       "    }\n",
       "\n",
       "    .dataframe tbody tr th {\n",
       "        vertical-align: top;\n",
       "    }\n",
       "\n",
       "    .dataframe thead th {\n",
       "        text-align: right;\n",
       "    }\n",
       "</style>\n",
       "<table border=\"1\" class=\"dataframe\">\n",
       "  <thead>\n",
       "    <tr style=\"text-align: right;\">\n",
       "      <th></th>\n",
       "      <th>Visit</th>\n",
       "      <th>Campo</th>\n",
       "      <th>Participante</th>\n",
       "      <th>Valor</th>\n",
       "    </tr>\n",
       "  </thead>\n",
       "  <tbody>\n",
       "  </tbody>\n",
       "</table>\n",
       "</div>"
      ],
      "text/plain": [
       "Empty DataFrame\n",
       "Columns: [Visit, Campo, Participante, Valor]\n",
       "Index: []"
      ]
     },
     "execution_count": 8,
     "metadata": {},
     "output_type": "execute_result"
    }
   ],
   "source": [
    "general_revision[general_revision['Campo']=='60-mins post dose, Time']"
   ]
  },
  {
   "cell_type": "code",
   "execution_count": null,
   "metadata": {},
   "outputs": [],
   "source": [
    "df__lession  = df_root[df_root['name']=='Lesion Measurement']\n",
    "df__lession = df__lession[['Visit','Participante', 'Campo', 'Valor']]\n",
    "df__lession = df__lession[df__lession['Visit']=='Screening Visit']\n",
    "df__lession = df__lession[df__lession['Campo']=='Anatomical Location']\n",
    "df__lession = df__lession[['Visit','Participante','Valor']]\n",
    "df__lession = df__lession.rename(columns={'Participante':'Subject', 'Valor':'lesion_measurement'})\n",
    "df__lession['Count'] = len(df__lession['lesion_measurement'])\n",
    "df__lession = df__lession[['Visit','Subject','Count']]\n",
    "# df_with_counts = df__lession.merge(subject_counts, left_on='Subject', right_on='Subject')\n",
    "# df_with_counts = df_with_counts[['Visit','Subject','Count']]"
   ]
  },
  {
   "cell_type": "code",
   "execution_count": null,
   "metadata": {},
   "outputs": [
    {
     "data": {
      "text/plain": [
       "array(['25-OCT-2023', '31-OCT-2023', '14-NOV-2023', '28-NOV-2023',\n",
       "       '12-DEC-2023'], dtype=object)"
      ]
     },
     "execution_count": 10,
     "metadata": {},
     "output_type": "execute_result"
    }
   ],
   "source": [
    "df_root[df_root['Campo']=='Date of ECG Performed'].Valor.unique()"
   ]
  },
  {
   "cell_type": "code",
   "execution_count": null,
   "metadata": {},
   "outputs": [
    {
     "data": {
      "text/html": [
       "<div>\n",
       "<style scoped>\n",
       "    .dataframe tbody tr th:only-of-type {\n",
       "        vertical-align: middle;\n",
       "    }\n",
       "\n",
       "    .dataframe tbody tr th {\n",
       "        vertical-align: top;\n",
       "    }\n",
       "\n",
       "    .dataframe thead th {\n",
       "        text-align: right;\n",
       "    }\n",
       "</style>\n",
       "<table border=\"1\" class=\"dataframe\">\n",
       "  <thead>\n",
       "    <tr style=\"text-align: right;\">\n",
       "      <th></th>\n",
       "      <th>Visit</th>\n",
       "      <th>Subject</th>\n",
       "      <th>Count</th>\n",
       "    </tr>\n",
       "  </thead>\n",
       "  <tbody>\n",
       "    <tr>\n",
       "      <th>300</th>\n",
       "      <td>Screening Visit</td>\n",
       "      <td>011001</td>\n",
       "      <td>2</td>\n",
       "    </tr>\n",
       "    <tr>\n",
       "      <th>309</th>\n",
       "      <td>Screening Visit</td>\n",
       "      <td>011001</td>\n",
       "      <td>2</td>\n",
       "    </tr>\n",
       "  </tbody>\n",
       "</table>\n",
       "</div>"
      ],
      "text/plain": [
       "               Visit Subject  Count\n",
       "300  Screening Visit  011001      2\n",
       "309  Screening Visit  011001      2"
      ]
     },
     "execution_count": 9,
     "metadata": {},
     "output_type": "execute_result"
    }
   ],
   "source": [
    "df__lession"
   ]
  },
  {
   "cell_type": "code",
   "execution_count": null,
   "metadata": {},
   "outputs": [
    {
     "data": {
      "text/plain": [
       "array(['DATA_VERIFIED', 'DATA_ENTRY_COMPLETE', 'DATA_ENTRY_INCOMPLETE',\n",
       "       'DATA_EMPTY'], dtype=object)"
      ]
     },
     "execution_count": 10,
     "metadata": {},
     "output_type": "execute_result"
    }
   ],
   "source": [
    "df_root.activityState.unique()"
   ]
  },
  {
   "cell_type": "code",
   "execution_count": null,
   "metadata": {},
   "outputs": [
    {
     "data": {
      "text/plain": [
       "array(['011001', 'S002', 'S003'], dtype=object)"
      ]
     },
     "execution_count": 11,
     "metadata": {},
     "output_type": "execute_result"
    }
   ],
   "source": [
    "df_root.Participante.unique()"
   ]
  },
  {
   "cell_type": "code",
   "execution_count": null,
   "metadata": {},
   "outputs": [
    {
     "name": "stderr",
     "output_type": "stream",
     "text": [
      "C:\\Users\\sebastian sossa\\AppData\\Local\\Temp\\ipykernel_21716\\1665216494.py:4: SettingWithCopyWarning: \n",
      "A value is trying to be set on a copy of a slice from a DataFrame.\n",
      "Try using .loc[row_indexer,col_indexer] = value instead\n",
      "\n",
      "See the caveats in the documentation: https://pandas.pydata.org/pandas-docs/stable/user_guide/indexing.html#returning-a-view-versus-a-copy\n",
      "  prueba1['time_dosing_cpg_administration'] =  prueba[prueba['Instancia'].isin(prueba1['Instancia'] + 1) & (prueba['Campo'] == 'Time of Dosing')]['Valor'].values\n"
     ]
    },
    {
     "data": {
      "text/html": [
       "<div>\n",
       "<style scoped>\n",
       "    .dataframe tbody tr th:only-of-type {\n",
       "        vertical-align: middle;\n",
       "    }\n",
       "\n",
       "    .dataframe tbody tr th {\n",
       "        vertical-align: top;\n",
       "    }\n",
       "\n",
       "    .dataframe thead th {\n",
       "        text-align: right;\n",
       "    }\n",
       "</style>\n",
       "<table border=\"1\" class=\"dataframe\">\n",
       "  <thead>\n",
       "    <tr style=\"text-align: right;\">\n",
       "      <th></th>\n",
       "      <th>Subject</th>\n",
       "      <th>Campo</th>\n",
       "      <th>date_cpg_administration</th>\n",
       "      <th>time_dosing_cpg_administration</th>\n",
       "      <th>Instancia</th>\n",
       "    </tr>\n",
       "  </thead>\n",
       "  <tbody>\n",
       "    <tr>\n",
       "      <th>2603</th>\n",
       "      <td>011001</td>\n",
       "      <td>Date of dosing</td>\n",
       "      <td>31-OCT-2023</td>\n",
       "      <td>09:36</td>\n",
       "      <td>17797</td>\n",
       "    </tr>\n",
       "    <tr>\n",
       "      <th>2888</th>\n",
       "      <td>011001</td>\n",
       "      <td>Date of dosing</td>\n",
       "      <td>14-NOV-2023</td>\n",
       "      <td>09:05</td>\n",
       "      <td>21664</td>\n",
       "    </tr>\n",
       "    <tr>\n",
       "      <th>2894</th>\n",
       "      <td>011001</td>\n",
       "      <td>Date of dosing</td>\n",
       "      <td>28-NOV-2023</td>\n",
       "      <td>10:12</td>\n",
       "      <td>21678</td>\n",
       "    </tr>\n",
       "  </tbody>\n",
       "</table>\n",
       "</div>"
      ],
      "text/plain": [
       "     Subject           Campo date_cpg_administration   \n",
       "2603  011001  Date of dosing             31-OCT-2023  \\\n",
       "2888  011001  Date of dosing             14-NOV-2023   \n",
       "2894  011001  Date of dosing             28-NOV-2023   \n",
       "\n",
       "     time_dosing_cpg_administration  Instancia  \n",
       "2603                          09:36      17797  \n",
       "2888                          09:05      21664  \n",
       "2894                          10:12      21678  "
      ]
     },
     "execution_count": 15,
     "metadata": {},
     "output_type": "execute_result"
    }
   ],
   "source": [
    "prueba = df_root[df_root['name']=='CpG ODN D35 Administration'].sort_values(by='Instancia')\n",
    "prueba = prueba[(prueba['Campo']=='Date of dosing') | (prueba['Campo']=='Time of Dosing')]\n",
    "prueba1 = prueba[prueba['Campo']=='Date of dosing']\n",
    "prueba1['time_dosing_cpg_administration'] =  prueba[prueba['Instancia'].isin(prueba1['Instancia'] + 1) & (prueba['Campo'] == 'Time of Dosing')]['Valor'].values\n",
    "prueba1 =prueba1[['Participante', 'Campo', 'Valor', 'time_dosing_cpg_administration' ,'Instancia']]\n",
    "prueba1 = prueba1.rename(columns={'Participante':'Subject', 'Valor':'date_cpg_administration'})\n",
    "prueba1\n"
   ]
  },
  {
   "cell_type": "code",
   "execution_count": null,
   "metadata": {},
   "outputs": [
    {
     "name": "stderr",
     "output_type": "stream",
     "text": [
      "C:\\Users\\sebastian sossa\\AppData\\Local\\Temp\\ipykernel_21716\\1862077006.py:4: SettingWithCopyWarning: \n",
      "A value is trying to be set on a copy of a slice from a DataFrame.\n",
      "Try using .loc[row_indexer,col_indexer] = value instead\n",
      "\n",
      "See the caveats in the documentation: https://pandas.pydata.org/pandas-docs/stable/user_guide/indexing.html#returning-a-view-versus-a-copy\n",
      "  df_time_dosing['time_dosing_cpg_administration'] =  df_time_dosing1[df_time_dosing1['Instancia'].isin(df_time_dosing['Instancia'] + 1) & (df_time_dosing1['Campo'] == 'Time of Dosing')]['Valor'].values\n"
     ]
    }
   ],
   "source": [
    "df_time_dosing1_miltefosine_miltefosine_miltefosine_miltefosine = df_root[df_root['name']=='CpG ODN D35 Administration'].sort_values(by='Instancia')\n",
    "df_time_milteosine = df_time_milteosine[(df_time_milteosine['Campo']=='Date of dosing') | (df_time_milteosine['Campo']=='Time of Dosing')]\n",
    "df_time_dosing = df_time_milteosine[df_time_milteosine['Campo']=='Date of dosing']\n",
    "df_time_dosing['time_dosing_cpg_administration'] =  df_time_milteosine[df_time_milteosine['Instancia'].isin(df_time_dosing['Instancia'] + 1) & (df_time_milteosine['Campo'] == 'Time of Dosing')]['Valor'].values\n",
    "df_time_dosing =df_time_dosing[['Participante', 'Campo', 'Valor', 'time_dosing_cpg_administration']]\n",
    "df_time_dosing = df_time_dosing.rename(columns={'Participante':'Subject', 'Valor':'date_ex_to_join'})"
   ]
  },
  {
   "cell_type": "code",
   "execution_count": null,
   "metadata": {},
   "outputs": [
    {
     "data": {
      "text/html": [
       "<div>\n",
       "<style scoped>\n",
       "    .dataframe tbody tr th:only-of-type {\n",
       "        vertical-align: middle;\n",
       "    }\n",
       "\n",
       "    .dataframe tbody tr th {\n",
       "        vertical-align: top;\n",
       "    }\n",
       "\n",
       "    .dataframe thead th {\n",
       "        text-align: right;\n",
       "    }\n",
       "</style>\n",
       "<table border=\"1\" class=\"dataframe\">\n",
       "  <thead>\n",
       "    <tr style=\"text-align: right;\">\n",
       "      <th></th>\n",
       "      <th>Subject</th>\n",
       "      <th>Campo</th>\n",
       "      <th>date_ex_to_join</th>\n",
       "      <th>time_dosing_cpg_administration</th>\n",
       "    </tr>\n",
       "  </thead>\n",
       "  <tbody>\n",
       "    <tr>\n",
       "      <th>2603</th>\n",
       "      <td>011001</td>\n",
       "      <td>Date of dosing</td>\n",
       "      <td>31-OCT-2023</td>\n",
       "      <td>09:36</td>\n",
       "    </tr>\n",
       "    <tr>\n",
       "      <th>2888</th>\n",
       "      <td>011001</td>\n",
       "      <td>Date of dosing</td>\n",
       "      <td>14-NOV-2023</td>\n",
       "      <td>09:05</td>\n",
       "    </tr>\n",
       "    <tr>\n",
       "      <th>2894</th>\n",
       "      <td>011001</td>\n",
       "      <td>Date of dosing</td>\n",
       "      <td>28-NOV-2023</td>\n",
       "      <td>10:12</td>\n",
       "    </tr>\n",
       "  </tbody>\n",
       "</table>\n",
       "</div>"
      ],
      "text/plain": [
       "     Subject           Campo date_ex_to_join time_dosing_cpg_administration\n",
       "2603  011001  Date of dosing     31-OCT-2023                          09:36\n",
       "2888  011001  Date of dosing     14-NOV-2023                          09:05\n",
       "2894  011001  Date of dosing     28-NOV-2023                          10:12"
      ]
     },
     "execution_count": 17,
     "metadata": {},
     "output_type": "execute_result"
    }
   ],
   "source": [
    "df_time_dosing"
   ]
  },
  {
   "cell_type": "code",
   "execution_count": null,
   "metadata": {},
   "outputs": [
    {
     "ename": "KeyError",
     "evalue": "\"['FormFieldInstance Id'] not in index\"",
     "output_type": "error",
     "traceback": [
      "\u001b[1;31m---------------------------------------------------------------------------\u001b[0m",
      "\u001b[1;31mKeyError\u001b[0m                                  Traceback (most recent call last)",
      "Input \u001b[1;32mIn [18]\u001b[0m, in \u001b[0;36m<cell line: 2>\u001b[1;34m()\u001b[0m\n\u001b[0;32m      1\u001b[0m df_time_dosing \u001b[38;5;241m=\u001b[39m df_root[df_root[\u001b[38;5;124m'\u001b[39m\u001b[38;5;124mname\u001b[39m\u001b[38;5;124m'\u001b[39m]\u001b[38;5;241m==\u001b[39m\u001b[38;5;124m'\u001b[39m\u001b[38;5;124mCpG ODN D35 Administration\u001b[39m\u001b[38;5;124m'\u001b[39m]\n\u001b[1;32m----> 2\u001b[0m df_time_dosing \u001b[38;5;241m=\u001b[39m \u001b[43mdf_time_dosing\u001b[49m\u001b[43m[\u001b[49m\u001b[43m[\u001b[49m\u001b[38;5;124;43m'\u001b[39;49m\u001b[38;5;124;43mParticipante\u001b[39;49m\u001b[38;5;124;43m'\u001b[39;49m\u001b[43m,\u001b[49m\u001b[43m \u001b[49m\u001b[38;5;124;43m'\u001b[39;49m\u001b[38;5;124;43mCampo\u001b[39;49m\u001b[38;5;124;43m'\u001b[39;49m\u001b[43m,\u001b[49m\u001b[43m \u001b[49m\u001b[38;5;124;43m'\u001b[39;49m\u001b[38;5;124;43mValor\u001b[39;49m\u001b[38;5;124;43m'\u001b[39;49m\u001b[43m,\u001b[49m\u001b[43m \u001b[49m\u001b[38;5;124;43m'\u001b[39;49m\u001b[38;5;124;43mFormFieldInstance Id\u001b[39;49m\u001b[38;5;124;43m'\u001b[39;49m\u001b[43m]\u001b[49m\u001b[43m]\u001b[49m\n\u001b[0;32m      3\u001b[0m df_time_dosing \u001b[38;5;241m=\u001b[39m df_time_dosing[df_time_dosing[\u001b[38;5;124m'\u001b[39m\u001b[38;5;124mCampo\u001b[39m\u001b[38;5;124m'\u001b[39m]\u001b[38;5;241m==\u001b[39m\u001b[38;5;124m'\u001b[39m\u001b[38;5;124mWas the visit performed?\u001b[39m\u001b[38;5;124m'\u001b[39m]\n\u001b[0;32m      4\u001b[0m df_time_dosing \u001b[38;5;241m=\u001b[39m df_time_dosing[[\u001b[38;5;124m'\u001b[39m\u001b[38;5;124mVisit\u001b[39m\u001b[38;5;124m'\u001b[39m,\u001b[38;5;124m'\u001b[39m\u001b[38;5;124mParticipante\u001b[39m\u001b[38;5;124m'\u001b[39m,\u001b[38;5;124m'\u001b[39m\u001b[38;5;124mValor_completo\u001b[39m\u001b[38;5;124m'\u001b[39m]]\n",
      "File \u001b[1;32mc:\\Users\\sebastian sossa\\AppData\\Local\\Programs\\Python\\Python310\\lib\\site-packages\\pandas\\core\\frame.py:3767\u001b[0m, in \u001b[0;36mDataFrame.__getitem__\u001b[1;34m(self, key)\u001b[0m\n\u001b[0;32m   3765\u001b[0m     \u001b[38;5;28;01mif\u001b[39;00m is_iterator(key):\n\u001b[0;32m   3766\u001b[0m         key \u001b[38;5;241m=\u001b[39m \u001b[38;5;28mlist\u001b[39m(key)\n\u001b[1;32m-> 3767\u001b[0m     indexer \u001b[38;5;241m=\u001b[39m \u001b[38;5;28;43mself\u001b[39;49m\u001b[38;5;241;43m.\u001b[39;49m\u001b[43mcolumns\u001b[49m\u001b[38;5;241;43m.\u001b[39;49m\u001b[43m_get_indexer_strict\u001b[49m\u001b[43m(\u001b[49m\u001b[43mkey\u001b[49m\u001b[43m,\u001b[49m\u001b[43m \u001b[49m\u001b[38;5;124;43m\"\u001b[39;49m\u001b[38;5;124;43mcolumns\u001b[39;49m\u001b[38;5;124;43m\"\u001b[39;49m\u001b[43m)\u001b[49m[\u001b[38;5;241m1\u001b[39m]\n\u001b[0;32m   3769\u001b[0m \u001b[38;5;66;03m# take() does not accept boolean indexers\u001b[39;00m\n\u001b[0;32m   3770\u001b[0m \u001b[38;5;28;01mif\u001b[39;00m \u001b[38;5;28mgetattr\u001b[39m(indexer, \u001b[38;5;124m\"\u001b[39m\u001b[38;5;124mdtype\u001b[39m\u001b[38;5;124m\"\u001b[39m, \u001b[38;5;28;01mNone\u001b[39;00m) \u001b[38;5;241m==\u001b[39m \u001b[38;5;28mbool\u001b[39m:\n",
      "File \u001b[1;32mc:\\Users\\sebastian sossa\\AppData\\Local\\Programs\\Python\\Python310\\lib\\site-packages\\pandas\\core\\indexes\\base.py:5876\u001b[0m, in \u001b[0;36mIndex._get_indexer_strict\u001b[1;34m(self, key, axis_name)\u001b[0m\n\u001b[0;32m   5873\u001b[0m \u001b[38;5;28;01melse\u001b[39;00m:\n\u001b[0;32m   5874\u001b[0m     keyarr, indexer, new_indexer \u001b[38;5;241m=\u001b[39m \u001b[38;5;28mself\u001b[39m\u001b[38;5;241m.\u001b[39m_reindex_non_unique(keyarr)\n\u001b[1;32m-> 5876\u001b[0m \u001b[38;5;28;43mself\u001b[39;49m\u001b[38;5;241;43m.\u001b[39;49m\u001b[43m_raise_if_missing\u001b[49m\u001b[43m(\u001b[49m\u001b[43mkeyarr\u001b[49m\u001b[43m,\u001b[49m\u001b[43m \u001b[49m\u001b[43mindexer\u001b[49m\u001b[43m,\u001b[49m\u001b[43m \u001b[49m\u001b[43maxis_name\u001b[49m\u001b[43m)\u001b[49m\n\u001b[0;32m   5878\u001b[0m keyarr \u001b[38;5;241m=\u001b[39m \u001b[38;5;28mself\u001b[39m\u001b[38;5;241m.\u001b[39mtake(indexer)\n\u001b[0;32m   5879\u001b[0m \u001b[38;5;28;01mif\u001b[39;00m \u001b[38;5;28misinstance\u001b[39m(key, Index):\n\u001b[0;32m   5880\u001b[0m     \u001b[38;5;66;03m# GH 42790 - Preserve name from an Index\u001b[39;00m\n",
      "File \u001b[1;32mc:\\Users\\sebastian sossa\\AppData\\Local\\Programs\\Python\\Python310\\lib\\site-packages\\pandas\\core\\indexes\\base.py:5938\u001b[0m, in \u001b[0;36mIndex._raise_if_missing\u001b[1;34m(self, key, indexer, axis_name)\u001b[0m\n\u001b[0;32m   5935\u001b[0m     \u001b[38;5;28;01mraise\u001b[39;00m \u001b[38;5;167;01mKeyError\u001b[39;00m(\u001b[38;5;124mf\u001b[39m\u001b[38;5;124m\"\u001b[39m\u001b[38;5;124mNone of [\u001b[39m\u001b[38;5;132;01m{\u001b[39;00mkey\u001b[38;5;132;01m}\u001b[39;00m\u001b[38;5;124m] are in the [\u001b[39m\u001b[38;5;132;01m{\u001b[39;00maxis_name\u001b[38;5;132;01m}\u001b[39;00m\u001b[38;5;124m]\u001b[39m\u001b[38;5;124m\"\u001b[39m)\n\u001b[0;32m   5937\u001b[0m not_found \u001b[38;5;241m=\u001b[39m \u001b[38;5;28mlist\u001b[39m(ensure_index(key)[missing_mask\u001b[38;5;241m.\u001b[39mnonzero()[\u001b[38;5;241m0\u001b[39m]]\u001b[38;5;241m.\u001b[39munique())\n\u001b[1;32m-> 5938\u001b[0m \u001b[38;5;28;01mraise\u001b[39;00m \u001b[38;5;167;01mKeyError\u001b[39;00m(\u001b[38;5;124mf\u001b[39m\u001b[38;5;124m\"\u001b[39m\u001b[38;5;132;01m{\u001b[39;00mnot_found\u001b[38;5;132;01m}\u001b[39;00m\u001b[38;5;124m not in index\u001b[39m\u001b[38;5;124m\"\u001b[39m)\n",
      "\u001b[1;31mKeyError\u001b[0m: \"['FormFieldInstance Id'] not in index\""
     ]
    }
   ],
   "source": [
    "df_time_dosing = df_root[df_root['name']=='CpG ODN D35 Administration']\n",
    "df_time_dosing = df_time_dosing[['Participante', 'Campo', 'Valor', 'FormFieldInstance Id']]\n",
    "df_time_dosing = df_time_dosing[df_time_dosing['Campo']=='Was the visit performed?']\n",
    "df_time_dosing = df_time_dosing[['Visit','Participante','Valor_completo']]\n",
    "df_time_dosing = df_time_dosing.rename(columns={'Participante':'Subject', 'Valor_completo':'was_DV_performed'})"
   ]
  },
  {
   "cell_type": "code",
   "execution_count": null,
   "metadata": {},
   "outputs": [],
   "source": [
    "df_contraception = df_root[df_root['name']== 'Prior And Concomitant Medications']\n",
    "df_contraception = df_contraception[['Visit','Participante', 'Campo', 'Valor', 'Instancia']]\n",
    "df_contraception = df_contraception.sort_values(by=['Instancia'])\n",
    "df_contraception = df_contraception.reset_index(drop=True)\n",
    "date_indices = df_contraception.index[df_contraception['Campo'] == 'Concomitant Medication ID'].tolist()"
   ]
  },
  {
   "cell_type": "code",
   "execution_count": null,
   "metadata": {},
   "outputs": [
    {
     "data": {
      "text/plain": [
       "[0]"
      ]
     },
     "execution_count": 19,
     "metadata": {},
     "output_type": "execute_result"
    }
   ],
   "source": [
    "date_indices"
   ]
  },
  {
   "cell_type": "code",
   "execution_count": null,
   "metadata": {},
   "outputs": [],
   "source": [
    "df_contraception = df_root[df_root['name']== 'Prior And Concomitant Medications']\n",
    "df_contraception = df_contraception[['Visit','Participante', 'Campo', 'Valor', 'Instancia']]\n",
    "df_contraception = df_contraception.sort_values(by=['Instancia'])\n",
    "df_contraception = df_contraception.reset_index(drop=True)\n",
    "date_indices = df_contraception.index[df_contraception['Campo'] == 'Concomitant Medication ID'].tolist()\n",
    "subdatasets = [df_contraception.iloc[start:end] for start, end in zip(date_indices, date_indices[1:] + [None])]\n",
    "df_to_join = pd.DataFrame()\n",
    "for sub in subdatasets:\n",
    "    #if sub['Valor'].tolist()  in [5, 5.0, '5', '5.0', 9]:\n",
    "    if len([float(x) for x in sub['Valor'].tolist() if x in [5, 5.0, '5', '5.0', 9]]) != 0:\n",
    "        df_to_join = sub[(sub['Campo'] == 'Indication Category') | (sub['Campo'] == 'Start date')]\n",
    "        sujeto = df_to_join.Participante.unique()\n",
    "        df_to_join = df_to_join[['Campo', 'Valor']].T\n",
    "        new_columns = df_to_join.iloc[0]\n",
    "        df_to_join = df_to_join[1:].set_axis(new_columns, axis=1)\n",
    "        df_to_join['Subject'] = sujeto\n",
    "        break\n",
    "df_to_join = df_to_join.rename(columns={'Participante':'Subject', 'Start date':'start_date_combined_hormonal'})"
   ]
  },
  {
   "cell_type": "code",
   "execution_count": null,
   "metadata": {},
   "outputs": [
    {
     "data": {
      "text/html": [
       "<div>\n",
       "<style scoped>\n",
       "    .dataframe tbody tr th:only-of-type {\n",
       "        vertical-align: middle;\n",
       "    }\n",
       "\n",
       "    .dataframe tbody tr th {\n",
       "        vertical-align: top;\n",
       "    }\n",
       "\n",
       "    .dataframe thead th {\n",
       "        text-align: right;\n",
       "    }\n",
       "</style>\n",
       "<table border=\"1\" class=\"dataframe\">\n",
       "  <thead>\n",
       "    <tr style=\"text-align: right;\">\n",
       "      <th></th>\n",
       "    </tr>\n",
       "  </thead>\n",
       "  <tbody>\n",
       "  </tbody>\n",
       "</table>\n",
       "</div>"
      ],
      "text/plain": [
       "Empty DataFrame\n",
       "Columns: []\n",
       "Index: []"
      ]
     },
     "execution_count": 17,
     "metadata": {},
     "output_type": "execute_result"
    }
   ],
   "source": [
    "df_to_join"
   ]
  },
  {
   "cell_type": "code",
   "execution_count": null,
   "metadata": {},
   "outputs": [
    {
     "data": {
      "text/plain": [
       "array(['Was the ECG performed?', 'Date of ECG Performed',\n",
       "       'Undefined, HR (bpm)', 'Undefined, RR (msec)',\n",
       "       'Undefined, PR (msec)', 'Undefined, QRS (msec)',\n",
       "       'Undefined, QT (msec)', 'Undefined, QTcF (msec)',\n",
       "       'Undefined, Interpretation', 'Pre dose triplicate 1, Time 24 hrs',\n",
       "       'Pre dose triplicate 1, HR (bpm)',\n",
       "       'Pre dose triplicate 1, RR (msec)',\n",
       "       'Pre dose triplicate 1, PR (msec)',\n",
       "       'Pre dose triplicate 1, QRS (msec)',\n",
       "       'Pre dose triplicate 1, QT (msec)',\n",
       "       'Pre dose triplicate 1, QTcF (msec)',\n",
       "       'Pre dose triplicate 1, Interpretation',\n",
       "       'Pre dose triplicate 1, If abnormal, specify',\n",
       "       'Pre dose triplicate 1, Please specify abnormal interpretation',\n",
       "       'Pre dose triplicate 2, Time 24 hrs',\n",
       "       'Pre dose triplicate 2, HR (bpm)',\n",
       "       'Pre dose triplicate 2, RR (msec)',\n",
       "       'Pre dose triplicate 2, PR (msec)',\n",
       "       'Pre dose triplicate 2, QRS (msec)',\n",
       "       'Pre dose triplicate 2, QT (msec)',\n",
       "       'Pre dose triplicate 2, QTcF (msec)',\n",
       "       'Pre dose triplicate 2, Interpretation',\n",
       "       'Pre dose triplicate 2, If abnormal, specify',\n",
       "       'Pre dose triplicate 2, Please specify abnormal interpretation',\n",
       "       'Pre dose triplicate 3, Time 24 hrs',\n",
       "       'Pre dose triplicate 3, HR (bpm)',\n",
       "       'Pre dose triplicate 3, RR (msec)',\n",
       "       'Pre dose triplicate 3, PR (msec)',\n",
       "       'Pre dose triplicate 3, QRS (msec)',\n",
       "       'Pre dose triplicate 3, QT (msec)',\n",
       "       'Pre dose triplicate 3, QTcF (msec)',\n",
       "       'Pre dose triplicate 3, Interpretation',\n",
       "       'Pre dose triplicate 3, If abnormal, specify',\n",
       "       'Pre dose triplicate 3, Please specify abnormal interpretation',\n",
       "       '15-min post dose, Time 24 hrs', '15-min post dose, HR (bpm)',\n",
       "       '15-min post dose, RR (msec)', '15-min post dose, PR (msec)',\n",
       "       '15-min post dose, QRS (msec)', '15-min post dose, QT (msec)',\n",
       "       '15-min post dose, QTcF (msec)',\n",
       "       '15-min post dose, Interpretation',\n",
       "       '15-min post dose, If abnormal, specify',\n",
       "       '15-min post dose, Please specify abnormal interpretation',\n",
       "       '30-min post dose, Time 24 hrs', '30-min post dose, HR (bpm)',\n",
       "       '30-min post dose, RR (msec)', '30-min post dose, PR (msec)',\n",
       "       '30-min post dose, QRS (msec)', '30-min post dose, QT (msec)',\n",
       "       '30-min post dose, QTcF (msec)',\n",
       "       '30-min post dose, Interpretation',\n",
       "       '30-min post dose, If abnormal, specify',\n",
       "       '30-min post dose, Please specify abnormal interpretation',\n",
       "       '60-min post dose, Time 24 hrs', '60-min post dose, HR (bpm)',\n",
       "       '60-min post dose, RR (msec)', '60-min post dose, PR (msec)',\n",
       "       '60-min post dose, QRS (msec)', '60-min post dose, QT (msec)',\n",
       "       '60-min post dose, QTcF (msec)',\n",
       "       '60-min post dose, Interpretation',\n",
       "       '60-min post dose, If abnormal, specify',\n",
       "       '60-min post dose, Please specify abnormal interpretation'],\n",
       "      dtype=object)"
      ]
     },
     "execution_count": 7,
     "metadata": {},
     "output_type": "execute_result"
    }
   ],
   "source": [
    "pru.Campo.unique()"
   ]
  },
  {
   "cell_type": "code",
   "execution_count": null,
   "metadata": {},
   "outputs": [
    {
     "name": "stdout",
     "output_type": "stream",
     "text": [
      "08:20\n",
      "08:25\n"
     ]
    }
   ],
   "source": [
    "triplicate_1 = pru[pru['Campo']=='Pre dose triplicate 1, Time 24 hrs'].Valor.unique()[0]\n",
    "triplicate_2 = pru[pru['Campo']=='Pre dose triplicate 2, Time 24 hrs'].Valor.unique()[0]\n",
    "print(triplicate_1)\n",
    "print(triplicate_2)"
   ]
  },
  {
   "cell_type": "code",
   "execution_count": null,
   "metadata": {},
   "outputs": [
    {
     "name": "stdout",
     "output_type": "stream",
     "text": [
      "5.0\n"
     ]
    }
   ],
   "source": [
    "from datetime import datetime\n",
    "time_format = '%H:%M'\n",
    "triplicate_1_formated = datetime.strptime(triplicate_1, time_format)\n",
    "triplicate_2_formated = datetime.strptime(triplicate_2, time_format)\n",
    "\n",
    "time_difference = (triplicate_2_formated - triplicate_1_formated).total_seconds() / 60\n",
    "print(time_difference)\n"
   ]
  },
  {
   "cell_type": "code",
   "execution_count": null,
   "metadata": {},
   "outputs": [
    {
     "name": "stdout",
     "output_type": "stream",
     "text": [
      "Si funciona asi\n"
     ]
    }
   ],
   "source": [
    "import math\n",
    "import numpy as np\n",
    "prueba_variable = np.nan\n",
    "\n",
    "if math.isnan(float(prueba_variable)):\n",
    "    print('Si funciona asi')\n",
    "else:\n",
    "    print('No funciona asi') "
   ]
  },
  {
   "cell_type": "code",
   "execution_count": null,
   "metadata": {},
   "outputs": [
    {
     "name": "stdout",
     "output_type": "stream",
     "text": [
      "no toca cambiar\n"
     ]
    }
   ],
   "source": [
    "import math\n",
    "\n",
    "if math.nan > 4:\n",
    "    print('Si toca cambiar')\n",
    "else:\n",
    "    print('no toca cambiar')"
   ]
  },
  {
   "cell_type": "markdown",
   "metadata": {},
   "source": [
    "## Pruebas con datos root"
   ]
  },
  {
   "cell_type": "code",
   "execution_count": null,
   "metadata": {},
   "outputs": [],
   "source": [
    "\n",
    "# Normals ranges file\n",
    "script_directory = os.path.dirname(os.path.abspath(__file__)) if '__file__' in locals() else os.getcwd()\n",
    "relative_folder_path = \"data\"\n",
    "folder_path = os.path.join(script_directory.replace('\\code', ''), relative_folder_path)\n",
    "file = os.listdir(folder_path)\n",
    "path = f\"{folder_path}\\{file[0]}\" \n",
    "df_root = pd.read_excel(path)\n",
    "df_root.rename(columns = {'Instancia':'FormFieldInstance Id'}, inplace = True)"
   ]
  },
  {
   "cell_type": "code",
   "execution_count": null,
   "metadata": {},
   "outputs": [],
   "source": [
    "lista_instancias_abiertas = [str(x) for x in  df_root[(df_root['TypeQuery'] == 'QUERY') | (df_root['TypeQuery'] == 'COMMENT') | (df_root['TypeQuery'] == 'AUTOQUERY')]['FormFieldInstance Id'].to_list()]"
   ]
  },
  {
   "cell_type": "code",
   "execution_count": null,
   "metadata": {},
   "outputs": [
    {
     "data": {
      "text/plain": [
       "['33',\n",
       " '53',\n",
       " '89',\n",
       " '93',\n",
       " '113',\n",
       " '117',\n",
       " '121',\n",
       " '125',\n",
       " '129',\n",
       " '133',\n",
       " '171',\n",
       " '185',\n",
       " '186',\n",
       " '202',\n",
       " '209',\n",
       " '313',\n",
       " '314',\n",
       " '330',\n",
       " '337',\n",
       " '338',\n",
       " '362',\n",
       " '382',\n",
       " '387',\n",
       " '398',\n",
       " '399',\n",
       " '545',\n",
       " '546',\n",
       " '550',\n",
       " '552',\n",
       " '621',\n",
       " '832',\n",
       " '9409',\n",
       " '9613',\n",
       " '9615',\n",
       " '9617',\n",
       " '9626',\n",
       " '9635',\n",
       " '9637',\n",
       " '9648',\n",
       " '9657',\n",
       " '9668',\n",
       " '9680',\n",
       " '9723',\n",
       " '9736',\n",
       " '10014',\n",
       " '10027',\n",
       " '10028',\n",
       " '10035',\n",
       " '10059',\n",
       " '10063',\n",
       " '10067',\n",
       " '10071',\n",
       " '10075',\n",
       " '10079',\n",
       " '10113',\n",
       " '10204',\n",
       " '10216',\n",
       " '10240',\n",
       " '10244',\n",
       " '10252',\n",
       " '10256',\n",
       " '10276',\n",
       " '10462',\n",
       " '10559',\n",
       " '10568',\n",
       " '10580',\n",
       " '10604',\n",
       " '10608',\n",
       " '10616',\n",
       " '10620',\n",
       " '10677',\n",
       " '10934',\n",
       " '10943',\n",
       " '10955',\n",
       " '10979',\n",
       " '10983',\n",
       " '10987',\n",
       " '10991',\n",
       " '10995',\n",
       " '11052',\n",
       " '11064',\n",
       " '11385',\n",
       " '11420',\n",
       " '11444',\n",
       " '11452',\n",
       " '11456',\n",
       " '11460',\n",
       " '11497',\n",
       " '11516',\n",
       " '11517',\n",
       " '11529',\n",
       " '11597',\n",
       " '11717',\n",
       " '11877',\n",
       " '11880',\n",
       " '11884',\n",
       " '12151',\n",
       " '12171',\n",
       " '12194',\n",
       " '12212',\n",
       " '12228',\n",
       " '12485',\n",
       " '12499',\n",
       " '12582',\n",
       " '12592',\n",
       " '12599',\n",
       " '12623',\n",
       " '12627',\n",
       " '12631',\n",
       " '12635',\n",
       " '12639',\n",
       " '12687',\n",
       " '12711',\n",
       " '12715',\n",
       " '12719',\n",
       " '12723',\n",
       " '12933',\n",
       " '13030',\n",
       " '13051',\n",
       " '13075',\n",
       " '13079',\n",
       " '13087',\n",
       " '13405',\n",
       " '13414',\n",
       " '13426',\n",
       " '13450',\n",
       " '13454',\n",
       " '13458',\n",
       " '13462',\n",
       " '13466',\n",
       " '13535',\n",
       " '13586',\n",
       " '13891',\n",
       " '13915',\n",
       " '13919',\n",
       " '13923',\n",
       " '13927',\n",
       " '13931',\n",
       " '13988',\n",
       " '14000',\n",
       " '14139',\n",
       " '14140',\n",
       " '14371',\n",
       " '14372',\n",
       " '14584',\n",
       " '14590',\n",
       " '14595',\n",
       " '14601',\n",
       " '14615',\n",
       " '14622',\n",
       " '14661',\n",
       " '14665',\n",
       " '14674',\n",
       " '14707',\n",
       " '14710',\n",
       " '14713',\n",
       " '14716',\n",
       " '14722',\n",
       " '14723',\n",
       " '14939',\n",
       " '14956',\n",
       " '14977',\n",
       " '15001',\n",
       " '15005',\n",
       " '15009',\n",
       " '15013',\n",
       " '15017',\n",
       " '15055',\n",
       " '15137',\n",
       " '15151',\n",
       " '15158',\n",
       " '15182',\n",
       " '15186',\n",
       " '15190',\n",
       " '15194',\n",
       " '15198',\n",
       " '15501',\n",
       " '15522',\n",
       " '15546',\n",
       " '15550',\n",
       " '15558',\n",
       " '15876',\n",
       " '15889',\n",
       " '15897',\n",
       " '15921',\n",
       " '15925',\n",
       " '15929',\n",
       " '15933',\n",
       " '15937',\n",
       " '15994',\n",
       " '16006',\n",
       " '16057',\n",
       " '16339',\n",
       " '16363',\n",
       " '16367',\n",
       " '16371',\n",
       " '16375',\n",
       " '16379',\n",
       " '16448',\n",
       " '16499',\n",
       " '16611',\n",
       " '17055',\n",
       " '17802',\n",
       " '21589',\n",
       " '21769',\n",
       " '21779',\n",
       " '21802',\n",
       " '21805',\n",
       " '21815',\n",
       " '23382',\n",
       " '23390',\n",
       " '24418',\n",
       " '24546',\n",
       " '24647',\n",
       " '24671',\n",
       " '24672',\n",
       " '25115',\n",
       " '25118',\n",
       " '25348',\n",
       " '25693',\n",
       " '25696',\n",
       " '25726',\n",
       " '25738',\n",
       " '25770',\n",
       " '25781',\n",
       " '25872',\n",
       " '25873',\n",
       " '25874',\n",
       " '25876',\n",
       " '25877',\n",
       " '25879',\n",
       " '25880',\n",
       " '25882',\n",
       " '25883',\n",
       " '25885',\n",
       " '25886',\n",
       " '25889',\n",
       " '25890',\n",
       " '25891',\n",
       " '25893',\n",
       " '25894',\n",
       " '25896',\n",
       " '25897',\n",
       " '25899',\n",
       " '25900',\n",
       " '25902',\n",
       " '25903',\n",
       " '25907',\n",
       " '26039',\n",
       " '26049',\n",
       " '27007',\n",
       " '27260',\n",
       " '27348',\n",
       " '27529',\n",
       " '27530',\n",
       " '27726',\n",
       " '27810',\n",
       " '27894',\n",
       " '27903',\n",
       " '27919',\n",
       " '27934',\n",
       " '28547',\n",
       " '28556',\n",
       " '29635',\n",
       " '29727',\n",
       " '29819',\n",
       " '29900',\n",
       " '30444',\n",
       " '30676',\n",
       " '30680',\n",
       " '30684',\n",
       " '30685',\n",
       " '30729',\n",
       " '30746',\n",
       " '30763',\n",
       " '30780',\n",
       " '30782',\n",
       " '30797',\n",
       " '30814',\n",
       " '30815',\n",
       " '30816',\n",
       " '30818',\n",
       " '30819',\n",
       " '30821',\n",
       " '30822',\n",
       " '30824',\n",
       " '30825',\n",
       " '30827',\n",
       " '30828',\n",
       " '30831',\n",
       " '30832',\n",
       " '30833',\n",
       " '30835',\n",
       " '30836',\n",
       " '30838',\n",
       " '30839',\n",
       " '30841',\n",
       " '30842',\n",
       " '30844',\n",
       " '30845',\n",
       " '30911',\n",
       " '30974',\n",
       " '30984',\n",
       " '30987',\n",
       " '31012',\n",
       " '32198',\n",
       " '32290',\n",
       " '33977',\n",
       " '34104',\n",
       " '34113',\n",
       " '34115',\n",
       " '34150',\n",
       " '34191',\n",
       " '34205',\n",
       " '34497',\n",
       " '34522',\n",
       " '34743',\n",
       " '35427',\n",
       " '36213',\n",
       " '36237',\n",
       " '36261',\n",
       " '36277',\n",
       " '36285',\n",
       " '36309',\n",
       " '36333',\n",
       " '36357',\n",
       " '36381',\n",
       " '36405',\n",
       " '36429',\n",
       " '36453',\n",
       " '36477',\n",
       " '36501',\n",
       " '36525',\n",
       " '37212',\n",
       " '37811',\n",
       " '37812',\n",
       " '38606',\n",
       " '38685',\n",
       " '38862',\n",
       " '38863',\n",
       " '39130',\n",
       " '39962',\n",
       " '40054',\n",
       " '41077',\n",
       " '41078',\n",
       " '41124',\n",
       " '41127',\n",
       " '41207',\n",
       " '41208',\n",
       " '41209',\n",
       " '41211',\n",
       " '41212',\n",
       " '41214',\n",
       " '41215',\n",
       " '41217',\n",
       " '41218',\n",
       " '41220',\n",
       " '41221',\n",
       " '41224',\n",
       " '41225',\n",
       " '41226',\n",
       " '41228',\n",
       " '41229',\n",
       " '41231',\n",
       " '41232',\n",
       " '41234',\n",
       " '41235',\n",
       " '41237',\n",
       " '41238',\n",
       " '41292',\n",
       " '41380',\n",
       " '41761',\n",
       " '42596',\n",
       " '42607',\n",
       " '43196',\n",
       " '43197',\n",
       " '49123',\n",
       " '49124',\n",
       " '49202',\n",
       " '49203',\n",
       " '49206',\n",
       " '49209',\n",
       " '49212',\n",
       " '49215',\n",
       " '49253',\n",
       " '49254',\n",
       " '49255',\n",
       " '49257',\n",
       " '49258',\n",
       " '49260',\n",
       " '49261',\n",
       " '49263',\n",
       " '49264',\n",
       " '49266',\n",
       " '49267',\n",
       " '49270',\n",
       " '49271',\n",
       " '49272',\n",
       " '49274',\n",
       " '49275',\n",
       " '49277',\n",
       " '49278',\n",
       " '49280',\n",
       " '49281',\n",
       " '49283',\n",
       " '49284',\n",
       " '49355',\n",
       " '49356',\n",
       " '49357',\n",
       " '49358',\n",
       " '49359',\n",
       " '49360',\n",
       " '49361',\n",
       " '49362',\n",
       " '49364',\n",
       " '49426',\n",
       " '49807',\n",
       " '50254',\n",
       " '50637',\n",
       " '50644',\n",
       " '50790',\n",
       " '50881',\n",
       " '51142',\n",
       " '51146',\n",
       " '51363',\n",
       " '57404',\n",
       " '57612',\n",
       " '58543',\n",
       " '58962',\n",
       " '59072',\n",
       " '65614',\n",
       " '65630',\n",
       " '65641',\n",
       " '65652',\n",
       " '65663',\n",
       " '65674',\n",
       " '65685',\n",
       " '66244',\n",
       " '66287',\n",
       " '66640',\n",
       " '73915',\n",
       " '74019',\n",
       " '74020',\n",
       " '74021',\n",
       " '74022',\n",
       " '74023',\n",
       " '74025',\n",
       " '74027',\n",
       " '74546',\n",
       " '74705',\n",
       " '75118']"
      ]
     },
     "execution_count": 8,
     "metadata": {},
     "output_type": "execute_result"
    }
   ],
   "source": [
    "lista_instancias_abiertas\n"
   ]
  },
  {
   "cell_type": "code",
   "execution_count": null,
   "metadata": {},
   "outputs": [
    {
     "data": {
      "text/plain": [
       "[36213,\n",
       " 36237,\n",
       " 36261,\n",
       " 36277,\n",
       " 36285,\n",
       " 36309,\n",
       " 36333,\n",
       " 36357,\n",
       " 36381,\n",
       " 36405,\n",
       " 36429,\n",
       " 36453,\n",
       " 36477,\n",
       " 36501,\n",
       " 36525]"
      ]
     },
     "execution_count": 11,
     "metadata": {},
     "output_type": "execute_result"
    }
   ],
   "source": [
    "lista_instancias_abiertas"
   ]
  },
  {
   "cell_type": "code",
   "execution_count": null,
   "metadata": {},
   "outputs": [],
   "source": [
    "df_medical_eligibility_date = df_root[df_root['name']== 'Eligibility']\n",
    "df_medical_eligibility_date = df_medical_eligibility_date[['Visit','Participante', 'Campo', 'Valor']]\n",
    "df_medical_eligibility_date = df_medical_eligibility_date[df_medical_eligibility_date['Campo'] == 'Date of decision to not randomize the participant']\n",
    "df_medical_eligibility_date = df_medical_eligibility_date[['Participante','Valor']]\n",
    "df_medical_eligibility_date = df_medical_eligibility_date.rename(columns={'Participante':'Subject', 'Valor':'date_decision_not_randomize'})"
   ]
  },
  {
   "cell_type": "code",
   "execution_count": null,
   "metadata": {},
   "outputs": [
    {
     "data": {
      "text/html": [
       "<div>\n",
       "<style scoped>\n",
       "    .dataframe tbody tr th:only-of-type {\n",
       "        vertical-align: middle;\n",
       "    }\n",
       "\n",
       "    .dataframe tbody tr th {\n",
       "        vertical-align: top;\n",
       "    }\n",
       "\n",
       "    .dataframe thead th {\n",
       "        text-align: right;\n",
       "    }\n",
       "</style>\n",
       "<table border=\"1\" class=\"dataframe\">\n",
       "  <thead>\n",
       "    <tr style=\"text-align: right;\">\n",
       "      <th></th>\n",
       "      <th>Subject</th>\n",
       "      <th>date_decision_not_randomize</th>\n",
       "    </tr>\n",
       "  </thead>\n",
       "  <tbody>\n",
       "  </tbody>\n",
       "</table>\n",
       "</div>"
      ],
      "text/plain": [
       "Empty DataFrame\n",
       "Columns: [Subject, date_decision_not_randomize]\n",
       "Index: []"
      ]
     },
     "execution_count": 6,
     "metadata": {},
     "output_type": "execute_result"
    }
   ],
   "source": [
    "df_medical_eligibility_date"
   ]
  },
  {
   "cell_type": "code",
   "execution_count": null,
   "metadata": {},
   "outputs": [
    {
     "name": "stderr",
     "output_type": "stream",
     "text": [
      "C:\\Users\\sebastian sossa\\AppData\\Local\\Temp\\ipykernel_5136\\2473533534.py:4: SettingWithCopyWarning: \n",
      "A value is trying to be set on a copy of a slice from a DataFrame.\n",
      "Try using .loc[row_indexer,col_indexer] = value instead\n",
      "\n",
      "See the caveats in the documentation: https://pandas.pydata.org/pandas-docs/stable/user_guide/indexing.html#returning-a-view-versus-a-copy\n",
      "  df_time_milteosine['time_dosing_miltefosine_administration'] =  df_time_milteosine1[df_time_milteosine1['FormFieldInstance Id'].isin(df_time_milteosine['FormFieldInstance Id'] + 1) & (df_time_milteosine1['Campo'] == 'Time of Dosing')]['Valor'].values\n"
     ]
    }
   ],
   "source": [
    "df_time_milteosine1 = df_root[df_root['name']== 'Miltefosine Administration'].sort_values(by='FormFieldInstance Id')\n",
    "df_time_milteosine1 = df_time_milteosine1[(df_time_milteosine1['Campo']=='Date of dosing') | (df_time_milteosine1['Campo']=='Time of Dosing')]\n",
    "df_time_milteosine = df_time_milteosine1[df_time_milteosine1['Campo']=='Date of dosing']\n",
    "df_time_milteosine['time_dosing_miltefosine_administration'] =  df_time_milteosine1[df_time_milteosine1['FormFieldInstance Id'].isin(df_time_milteosine['FormFieldInstance Id'] + 1) & (df_time_milteosine1['Campo'] == 'Time of Dosing')]['Valor'].values\n",
    "df_time_milteosine =df_time_milteosine[['Participante','Valor', 'time_dosing_miltefosine_administration']]\n",
    "df_time_milteosine = df_time_milteosine.rename(columns={'Participante':'Subject', 'Valor':'date_ex_to_join'})\n"
   ]
  },
  {
   "cell_type": "code",
   "execution_count": null,
   "metadata": {},
   "outputs": [
    {
     "data": {
      "text/html": [
       "<div>\n",
       "<style scoped>\n",
       "    .dataframe tbody tr th:only-of-type {\n",
       "        vertical-align: middle;\n",
       "    }\n",
       "\n",
       "    .dataframe tbody tr th {\n",
       "        vertical-align: top;\n",
       "    }\n",
       "\n",
       "    .dataframe thead th {\n",
       "        text-align: right;\n",
       "    }\n",
       "</style>\n",
       "<table border=\"1\" class=\"dataframe\">\n",
       "  <thead>\n",
       "    <tr style=\"text-align: right;\">\n",
       "      <th></th>\n",
       "      <th>Subject</th>\n",
       "      <th>date_ex_to_join</th>\n",
       "      <th>time_dosing_miltefosine_administration</th>\n",
       "    </tr>\n",
       "  </thead>\n",
       "  <tbody>\n",
       "    <tr>\n",
       "      <th>4843</th>\n",
       "      <td>011002</td>\n",
       "      <td>23-MAR-2024</td>\n",
       "      <td>16:30</td>\n",
       "    </tr>\n",
       "  </tbody>\n",
       "</table>\n",
       "</div>"
      ],
      "text/plain": [
       "     Subject date_ex_to_join time_dosing_miltefosine_administration\n",
       "4843  011002     23-MAR-2024                                  16:30"
      ]
     },
     "execution_count": 34,
     "metadata": {},
     "output_type": "execute_result"
    }
   ],
   "source": [
    "df_time_milteosine[df_time_milteosine['date_ex_to_join']=='23-MAR-2024']"
   ]
  },
  {
   "cell_type": "code",
   "execution_count": null,
   "metadata": {},
   "outputs": [],
   "source": [
    "23-MAR-2024\t"
   ]
  },
  {
   "cell_type": "code",
   "execution_count": null,
   "metadata": {},
   "outputs": [
    {
     "name": "stderr",
     "output_type": "stream",
     "text": [
      "C:\\Users\\sebastian sossa\\AppData\\Local\\Temp\\ipykernel_5136\\3818914059.py:4: SettingWithCopyWarning: \n",
      "A value is trying to be set on a copy of a slice from a DataFrame.\n",
      "Try using .loc[row_indexer,col_indexer] = value instead\n",
      "\n",
      "See the caveats in the documentation: https://pandas.pydata.org/pandas-docs/stable/user_guide/indexing.html#returning-a-view-versus-a-copy\n",
      "  df_time_milteosine['time_dosing_miltefosine_administration'] =  df_time_milteosine1[df_time_milteosine1['FormFieldInstance Id'].isin(df_time_milteosine['FormFieldInstance Id'] + 1) & (df_time_milteosine1['Campo'] == 'Time of Dosing')]['Valor'].values\n"
     ]
    }
   ],
   "source": [
    "\n",
    "df_time_milteosine1 = df_root[df_root['name']== 'Miltefosine Administration'].sort_values(by='FormFieldInstance Id')\n",
    "df_time_milteosine1 = df_time_milteosine1[(df_time_milteosine1['Campo']=='Date of dosing') | (df_time_milteosine1['Campo']=='Time of Dosing')]\n",
    "df_time_milteosine = df_time_milteosine1[df_time_milteosine1['Campo']=='Date of dosing']\n",
    "df_time_milteosine['time_dosing_miltefosine_administration'] =  df_time_milteosine1[df_time_milteosine1['FormFieldInstance Id'].isin(df_time_milteosine['FormFieldInstance Id'] + 1) & (df_time_milteosine1['Campo'] == 'Time of Dosing')]['Valor'].values\n",
    "df_time_milteosine = df_time_milteosine[df_time_milteosine['time_dosing_miltefosine_administration'].str.split(':').str[0] != '00']\n",
    "df_time_milteosine['min_time_dosing_miltefosine_administration'] = df_time_milteosine.groupby(['Participante', 'Valor'])['time_dosing_miltefosine_administration'].transform(lambda x: x.min())\n",
    "df_time_milteosine =df_time_milteosine[['Participante','Valor', 'min_time_dosing_miltefosine_administration']].drop_duplicates()\n",
    "df_time_milteosine = df_time_milteosine.rename(columns={'Participante':'Subject', 'Valor':'date_ex_to_join'})"
   ]
  },
  {
   "cell_type": "code",
   "execution_count": null,
   "metadata": {},
   "outputs": [],
   "source": [
    "df_medical_surgical = df_root[df_root['name']== 'Medical Or Surgical History (other than Leishmaniasis)']\n",
    "df_medical_surgical = df_medical_surgical[['Visit','Participante', 'Campo', 'Valor', 'FormFieldInstance Id']]\n",
    "df_medical_surgical = df_medical_surgical[df_medical_surgical['Campo']== 'Onset Date/First Diagnosis/Surgery']\n",
    "df_medical_surgical['Date of start of contraceptive method'] = df_medical_surgical['Valor']\n",
    "df_medical_surgical = df_medical_surgical[['Participante','Valor', 'Date of start of contraceptive method']]\n",
    "df_medical_surgical = df_medical_surgical.rename(columns={'Participante':'Subject', 'Valor':'onset_date_medical_contraceptive'})"
   ]
  },
  {
   "cell_type": "code",
   "execution_count": null,
   "metadata": {},
   "outputs": [
    {
     "data": {
      "text/html": [
       "<div>\n",
       "<style scoped>\n",
       "    .dataframe tbody tr th:only-of-type {\n",
       "        vertical-align: middle;\n",
       "    }\n",
       "\n",
       "    .dataframe tbody tr th {\n",
       "        vertical-align: top;\n",
       "    }\n",
       "\n",
       "    .dataframe thead th {\n",
       "        text-align: right;\n",
       "    }\n",
       "</style>\n",
       "<table border=\"1\" class=\"dataframe\">\n",
       "  <thead>\n",
       "    <tr style=\"text-align: right;\">\n",
       "      <th></th>\n",
       "      <th>Subject</th>\n",
       "      <th>onset_date_medical_contraceptive</th>\n",
       "      <th>Date of start of contraceptive method</th>\n",
       "    </tr>\n",
       "  </thead>\n",
       "  <tbody>\n",
       "    <tr>\n",
       "      <th>2685</th>\n",
       "      <td>S002</td>\n",
       "      <td>-</td>\n",
       "      <td>-</td>\n",
       "    </tr>\n",
       "    <tr>\n",
       "      <th>3490</th>\n",
       "      <td>S005</td>\n",
       "      <td>-</td>\n",
       "      <td>-</td>\n",
       "    </tr>\n",
       "    <tr>\n",
       "      <th>4652</th>\n",
       "      <td>011002</td>\n",
       "      <td>22-JUN-2022</td>\n",
       "      <td>22-JUN-2022</td>\n",
       "    </tr>\n",
       "    <tr>\n",
       "      <th>4656</th>\n",
       "      <td>011002</td>\n",
       "      <td>UNK-DEC-2023</td>\n",
       "      <td>UNK-DEC-2023</td>\n",
       "    </tr>\n",
       "  </tbody>\n",
       "</table>\n",
       "</div>"
      ],
      "text/plain": [
       "     Subject onset_date_medical_contraceptive   \n",
       "2685    S002                                -  \\\n",
       "3490    S005                                -   \n",
       "4652  011002                      22-JUN-2022   \n",
       "4656  011002                     UNK-DEC-2023   \n",
       "\n",
       "     Date of start of contraceptive method  \n",
       "2685                                     -  \n",
       "3490                                     -  \n",
       "4652                           22-JUN-2022  \n",
       "4656                          UNK-DEC-2023  "
      ]
     },
     "execution_count": 41,
     "metadata": {},
     "output_type": "execute_result"
    }
   ],
   "source": [
    "df_medical_surgical"
   ]
  },
  {
   "cell_type": "code",
   "execution_count": null,
   "metadata": {},
   "outputs": [],
   "source": [
    "df_administration_miltefosine = df_root[df_root['name']==  'Miltefosine Administration']\n",
    "df_administration_miltefosine = df_administration_miltefosine[['Visit','Participante', 'Campo', 'Valor']]\n",
    "df_administration_miltefosine = df_administration_miltefosine[df_administration_miltefosine['Campo'] == 'Date of dosing']\n",
    "df_administration_miltefosine['Valor'] = pd.to_datetime(df_administration_miltefosine['Valor'], format='%d-%b-%Y')\n",
    "max_per_participante = df_administration_miltefosine.groupby('Participante')['Valor'].transform('min')\n",
    "df_administration_miltefosine = df_administration_miltefosine[df_administration_miltefosine['Valor'] == max_per_participante]\n",
    "df_administration_miltefosine['Valor'] = pd.to_datetime(df_administration_miltefosine['Valor']).dt.strftime('%d-%b-%Y').str.upper()\n",
    "df_administration_miltefosine = df_administration_miltefosine[['Participante','Valor']].drop_duplicates()\n",
    "df_administration_miltefosine = df_administration_miltefosine.rename(columns={'Participante':'Subject', 'Valor':'date_dosing_miltefosine'})"
   ]
  },
  {
   "cell_type": "code",
   "execution_count": null,
   "metadata": {},
   "outputs": [
    {
     "data": {
      "text/html": [
       "<div>\n",
       "<style scoped>\n",
       "    .dataframe tbody tr th:only-of-type {\n",
       "        vertical-align: middle;\n",
       "    }\n",
       "\n",
       "    .dataframe tbody tr th {\n",
       "        vertical-align: top;\n",
       "    }\n",
       "\n",
       "    .dataframe thead th {\n",
       "        text-align: right;\n",
       "    }\n",
       "</style>\n",
       "<table border=\"1\" class=\"dataframe\">\n",
       "  <thead>\n",
       "    <tr style=\"text-align: right;\">\n",
       "      <th></th>\n",
       "      <th>Subject</th>\n",
       "      <th>date_dosing_miltefosine</th>\n",
       "    </tr>\n",
       "  </thead>\n",
       "  <tbody>\n",
       "    <tr>\n",
       "      <th>4660</th>\n",
       "      <td>011002</td>\n",
       "      <td>20-FEB-2024</td>\n",
       "    </tr>\n",
       "  </tbody>\n",
       "</table>\n",
       "</div>"
      ],
      "text/plain": [
       "     Subject date_dosing_miltefosine\n",
       "4660  011002             20-FEB-2024"
      ]
     },
     "execution_count": 9,
     "metadata": {},
     "output_type": "execute_result"
    }
   ],
   "source": [
    "df_administration_miltefosine"
   ]
  },
  {
   "cell_type": "code",
   "execution_count": null,
   "metadata": {},
   "outputs": [],
   "source": [
    "df_adverse = df_root[df_root['name']=='Adverse Events']['Participante'].tolist()"
   ]
  },
  {
   "cell_type": "code",
   "execution_count": null,
   "metadata": {},
   "outputs": [
    {
     "data": {
      "text/plain": [
       "{'011002'}"
      ]
     },
     "execution_count": 16,
     "metadata": {},
     "output_type": "execute_result"
    }
   ],
   "source": [
    "set(df_adverse)"
   ]
  },
  {
   "cell_type": "code",
   "execution_count": null,
   "metadata": {},
   "outputs": [],
   "source": [
    "\n",
    "df_adverse = df_root[df_root['name']=='Adverse Events']"
   ]
  },
  {
   "cell_type": "code",
   "execution_count": null,
   "metadata": {},
   "outputs": [],
   "source": [
    "\n",
    "dataframe_join_adverse = pd.DataFrame()\n",
    "for sujeto_adverse in set(df_root[df_root['name']=='Adverse Events']['Participante'].tolist()):\n",
    "\n",
    "    df_adverse = df_root[df_root['Participante']==sujeto_adverse]\n",
    "    df_adverse = df_adverse[df_adverse['name']=='Adverse Events']\n",
    "\n",
    "    df_adverse = df_adverse.sort_values(by=['Instancia'], ascending=True)\n",
    "    df_adverse = df_adverse.reset_index(drop=True)\n",
    "\n",
    "    date_indices = df_adverse.index[df_adverse['Campo'] == 'Adverse Event Reported Term'].tolist()\n",
    "    subdatasets = [df_adverse.iloc[start:end] for start, end in zip(date_indices, date_indices[1:] + [None])]\n",
    "\n",
    "    for subdataset in subdatasets:\n",
    "\n",
    "        pru_adverse = subdataset[['Campo', 'Valor']].T\n",
    "        new_columns_adverse = pru_adverse.iloc[0]\n",
    "        pru_adverse = pru_adverse[1:].set_axis(new_columns_adverse, axis=1)\n",
    "        pru_adverse['Subject'] = sujeto_adverse\n",
    "        pru_adverse = pru_adverse[pru_adverse['Action taken with study treatment (Miltefosine)'].isin([1,2,3,4,5,6,7,8,9,99,'1','2','3','4','5','6','7','8','9','99',1.0,2.0,3.0,4.0,5.0,6.0,7.0,8.0,9.0,99.0 ])]\n",
    "        pru_adverse =pru_adverse[['Start Date', 'Action taken with study treatment (Miltefosine)']]\n",
    "        pru_adverse = pru_adverse.rename(columns={'Start Date':'to_join', 'Action taken with study treatment (Miltefosine)': 'Action_taken_miltefosine' })\n",
    "  \n",
    "        dataframe_join_adverse = pd.concat([dataframe_join_adverse, pru_adverse], ignore_index=True)\n",
    "\n",
    "        "
   ]
  },
  {
   "cell_type": "code",
   "execution_count": null,
   "metadata": {},
   "outputs": [
    {
     "data": {
      "text/html": [
       "<div>\n",
       "<style scoped>\n",
       "    .dataframe tbody tr th:only-of-type {\n",
       "        vertical-align: middle;\n",
       "    }\n",
       "\n",
       "    .dataframe tbody tr th {\n",
       "        vertical-align: top;\n",
       "    }\n",
       "\n",
       "    .dataframe thead th {\n",
       "        text-align: right;\n",
       "    }\n",
       "</style>\n",
       "<table border=\"1\" class=\"dataframe\">\n",
       "  <thead>\n",
       "    <tr style=\"text-align: right;\">\n",
       "      <th>Campo</th>\n",
       "      <th>to_join</th>\n",
       "      <th>Action_taken_miltefosine</th>\n",
       "    </tr>\n",
       "  </thead>\n",
       "  <tbody>\n",
       "    <tr>\n",
       "      <th>0</th>\n",
       "      <td>20-FEB-2024</td>\n",
       "      <td>1</td>\n",
       "    </tr>\n",
       "    <tr>\n",
       "      <th>1</th>\n",
       "      <td>21-FEB-2024</td>\n",
       "      <td>1</td>\n",
       "    </tr>\n",
       "    <tr>\n",
       "      <th>2</th>\n",
       "      <td>21-FEB-2024</td>\n",
       "      <td>1</td>\n",
       "    </tr>\n",
       "    <tr>\n",
       "      <th>3</th>\n",
       "      <td>01-MAR-2024</td>\n",
       "      <td>1</td>\n",
       "    </tr>\n",
       "    <tr>\n",
       "      <th>4</th>\n",
       "      <td>07-MAR-2024</td>\n",
       "      <td>1</td>\n",
       "    </tr>\n",
       "  </tbody>\n",
       "</table>\n",
       "</div>"
      ],
      "text/plain": [
       "Campo      to_join Action_taken_miltefosine\n",
       "0      20-FEB-2024                        1\n",
       "1      21-FEB-2024                        1\n",
       "2      21-FEB-2024                        1\n",
       "3      01-MAR-2024                        1\n",
       "4      07-MAR-2024                        1"
      ]
     },
     "execution_count": 50,
     "metadata": {},
     "output_type": "execute_result"
    }
   ],
   "source": [
    "dataframe_join_adverse"
   ]
  },
  {
   "cell_type": "code",
   "execution_count": null,
   "metadata": {},
   "outputs": [],
   "source": [
    "df_concomitant_medication = df_root[df_root['name']== 'Prior And Concomitant Medications']\n",
    "df_concomitant_medication = df_concomitant_medication[['Visit','Participante', 'Campo', 'Valor', 'Variable' ]]\n",
    "df_concomitant_medication = df_concomitant_medication[df_concomitant_medication['Variable'].isin(['CMTRT'])]\n",
    "df_concomitant_medication['concomitant_medication_name'] = df_concomitant_medication.groupby('Participante')['Valor'].transform('count')\n",
    "df_concomitant_medication = df_concomitant_medication[['Participante', 'concomitant_medication_name']].drop_duplicates()\n",
    "df_concomitant_medication = df_concomitant_medication.rename(columns={'Participante':'Subject'})"
   ]
  },
  {
   "cell_type": "code",
   "execution_count": null,
   "metadata": {},
   "outputs": [
    {
     "data": {
      "text/html": [
       "<div>\n",
       "<style scoped>\n",
       "    .dataframe tbody tr th:only-of-type {\n",
       "        vertical-align: middle;\n",
       "    }\n",
       "\n",
       "    .dataframe tbody tr th {\n",
       "        vertical-align: top;\n",
       "    }\n",
       "\n",
       "    .dataframe thead th {\n",
       "        text-align: right;\n",
       "    }\n",
       "</style>\n",
       "<table border=\"1\" class=\"dataframe\">\n",
       "  <thead>\n",
       "    <tr style=\"text-align: right;\">\n",
       "      <th></th>\n",
       "      <th>Visit</th>\n",
       "      <th>Participante</th>\n",
       "      <th>Campo</th>\n",
       "      <th>Valor</th>\n",
       "      <th>Variable</th>\n",
       "    </tr>\n",
       "  </thead>\n",
       "  <tbody>\n",
       "    <tr>\n",
       "      <th>3492</th>\n",
       "      <td>-</td>\n",
       "      <td>S005</td>\n",
       "      <td>Drug Name</td>\n",
       "      <td>omeprazole</td>\n",
       "      <td>CMTRT</td>\n",
       "    </tr>\n",
       "    <tr>\n",
       "      <th>4697</th>\n",
       "      <td>-</td>\n",
       "      <td>011002</td>\n",
       "      <td>Drug Name</td>\n",
       "      <td>omeprazole</td>\n",
       "      <td>CMTRT</td>\n",
       "    </tr>\n",
       "    <tr>\n",
       "      <th>4709</th>\n",
       "      <td>-</td>\n",
       "      <td>011002</td>\n",
       "      <td>Drug Name</td>\n",
       "      <td>Trimebutine</td>\n",
       "      <td>CMTRT</td>\n",
       "    </tr>\n",
       "    <tr>\n",
       "      <th>5007</th>\n",
       "      <td>-</td>\n",
       "      <td>011002</td>\n",
       "      <td>Drug Name</td>\n",
       "      <td>calendula suspension</td>\n",
       "      <td>CMTRT</td>\n",
       "    </tr>\n",
       "    <tr>\n",
       "      <th>5033</th>\n",
       "      <td>-</td>\n",
       "      <td>011002</td>\n",
       "      <td>Drug Name</td>\n",
       "      <td>omeprazole</td>\n",
       "      <td>CMTRT</td>\n",
       "    </tr>\n",
       "    <tr>\n",
       "      <th>5043</th>\n",
       "      <td>-</td>\n",
       "      <td>011002</td>\n",
       "      <td>Drug Name</td>\n",
       "      <td>calendula suspension</td>\n",
       "      <td>CMTRT</td>\n",
       "    </tr>\n",
       "    <tr>\n",
       "      <th>5053</th>\n",
       "      <td>-</td>\n",
       "      <td>011002</td>\n",
       "      <td>Drug Name</td>\n",
       "      <td>Bilastine</td>\n",
       "      <td>CMTRT</td>\n",
       "    </tr>\n",
       "  </tbody>\n",
       "</table>\n",
       "</div>"
      ],
      "text/plain": [
       "     Visit Participante      Campo                 Valor Variable\n",
       "3492     -         S005  Drug Name            omeprazole    CMTRT\n",
       "4697     -       011002  Drug Name            omeprazole    CMTRT\n",
       "4709     -       011002  Drug Name           Trimebutine    CMTRT\n",
       "5007     -       011002  Drug Name  calendula suspension    CMTRT\n",
       "5033     -       011002  Drug Name            omeprazole    CMTRT\n",
       "5043     -       011002  Drug Name  calendula suspension    CMTRT\n",
       "5053     -       011002  Drug Name             Bilastine    CMTRT"
      ]
     },
     "execution_count": 26,
     "metadata": {},
     "output_type": "execute_result"
    }
   ],
   "source": [
    "df_concomitant_medication"
   ]
  },
  {
   "cell_type": "code",
   "execution_count": null,
   "metadata": {},
   "outputs": [
    {
     "ename": "NameError",
     "evalue": "name 'datetime' is not defined",
     "output_type": "error",
     "traceback": [
      "\u001b[1;31m---------------------------------------------------------------------------\u001b[0m",
      "\u001b[1;31mNameError\u001b[0m                                 Traceback (most recent call last)",
      "Input \u001b[1;32mIn [1]\u001b[0m, in \u001b[0;36m<cell line: 1>\u001b[1;34m()\u001b[0m\n\u001b[1;32m----> 1\u001b[0m dic \u001b[38;5;241m=\u001b[39m {\u001b[43mdatetime\u001b[49m\u001b[38;5;241m.\u001b[39mdatetime(\u001b[38;5;241m2024\u001b[39m, \u001b[38;5;241m2\u001b[39m, \u001b[38;5;241m20\u001b[39m, \u001b[38;5;241m0\u001b[39m, \u001b[38;5;241m0\u001b[39m): [\u001b[38;5;124m'\u001b[39m\u001b[38;5;124m00:30:00\u001b[39m\u001b[38;5;124m'\u001b[39m], datetime\u001b[38;5;241m.\u001b[39mdatetime(\u001b[38;5;241m2024\u001b[39m, \u001b[38;5;241m2\u001b[39m, \u001b[38;5;241m21\u001b[39m, \u001b[38;5;241m0\u001b[39m, \u001b[38;5;241m0\u001b[39m): [\u001b[38;5;124m'\u001b[39m\u001b[38;5;124m00:30:00\u001b[39m\u001b[38;5;124m'\u001b[39m], datetime\u001b[38;5;241m.\u001b[39mdatetime(\u001b[38;5;241m2024\u001b[39m, \u001b[38;5;241m2\u001b[39m, \u001b[38;5;241m22\u001b[39m, \u001b[38;5;241m0\u001b[39m, \u001b[38;5;241m0\u001b[39m): [\u001b[38;5;124m'\u001b[39m\u001b[38;5;124m00:30:00\u001b[39m\u001b[38;5;124m'\u001b[39m], datetime\u001b[38;5;241m.\u001b[39mdatetime(\u001b[38;5;241m2024\u001b[39m, \u001b[38;5;241m2\u001b[39m, \u001b[38;5;241m23\u001b[39m, \u001b[38;5;241m0\u001b[39m, \u001b[38;5;241m0\u001b[39m): [\u001b[38;5;124m'\u001b[39m\u001b[38;5;124m00:30:00\u001b[39m\u001b[38;5;124m'\u001b[39m], datetime\u001b[38;5;241m.\u001b[39mdatetime(\u001b[38;5;241m2024\u001b[39m, \u001b[38;5;241m2\u001b[39m, \u001b[38;5;241m24\u001b[39m, \u001b[38;5;241m0\u001b[39m, \u001b[38;5;241m0\u001b[39m): [\u001b[38;5;124m'\u001b[39m\u001b[38;5;124m00:30:00\u001b[39m\u001b[38;5;124m'\u001b[39m], datetime\u001b[38;5;241m.\u001b[39mdatetime(\u001b[38;5;241m2024\u001b[39m, \u001b[38;5;241m2\u001b[39m, \u001b[38;5;241m25\u001b[39m, \u001b[38;5;241m0\u001b[39m, \u001b[38;5;241m0\u001b[39m): [\u001b[38;5;124m'\u001b[39m\u001b[38;5;124m00:30:00\u001b[39m\u001b[38;5;124m'\u001b[39m], datetime\u001b[38;5;241m.\u001b[39mdatetime(\u001b[38;5;241m2024\u001b[39m, \u001b[38;5;241m2\u001b[39m, \u001b[38;5;241m26\u001b[39m, \u001b[38;5;241m0\u001b[39m, \u001b[38;5;241m0\u001b[39m): [\u001b[38;5;124m'\u001b[39m\u001b[38;5;124m00:30:00\u001b[39m\u001b[38;5;124m'\u001b[39m], datetime\u001b[38;5;241m.\u001b[39mdatetime(\u001b[38;5;241m2024\u001b[39m, \u001b[38;5;241m2\u001b[39m, \u001b[38;5;241m27\u001b[39m, \u001b[38;5;241m0\u001b[39m, \u001b[38;5;241m0\u001b[39m): [\u001b[38;5;124m'\u001b[39m\u001b[38;5;124m00:30:00\u001b[39m\u001b[38;5;124m'\u001b[39m], datetime\u001b[38;5;241m.\u001b[39mdatetime(\u001b[38;5;241m2024\u001b[39m, \u001b[38;5;241m2\u001b[39m, \u001b[38;5;241m28\u001b[39m, \u001b[38;5;241m0\u001b[39m, \u001b[38;5;241m0\u001b[39m): [\u001b[38;5;124m'\u001b[39m\u001b[38;5;124m00:30:00\u001b[39m\u001b[38;5;124m'\u001b[39m], datetime\u001b[38;5;241m.\u001b[39mdatetime(\u001b[38;5;241m2024\u001b[39m, \u001b[38;5;241m2\u001b[39m, \u001b[38;5;241m29\u001b[39m, \u001b[38;5;241m0\u001b[39m, \u001b[38;5;241m0\u001b[39m): [\u001b[38;5;124m'\u001b[39m\u001b[38;5;124m00:30:00\u001b[39m\u001b[38;5;124m'\u001b[39m], datetime\u001b[38;5;241m.\u001b[39mdatetime(\u001b[38;5;241m2024\u001b[39m, \u001b[38;5;241m3\u001b[39m, \u001b[38;5;241m1\u001b[39m, \u001b[38;5;241m0\u001b[39m, \u001b[38;5;241m0\u001b[39m): [\u001b[38;5;124m'\u001b[39m\u001b[38;5;124m00:30:00\u001b[39m\u001b[38;5;124m'\u001b[39m], datetime\u001b[38;5;241m.\u001b[39mdatetime(\u001b[38;5;241m2024\u001b[39m, \u001b[38;5;241m3\u001b[39m, \u001b[38;5;241m2\u001b[39m, \u001b[38;5;241m0\u001b[39m, \u001b[38;5;241m0\u001b[39m): [\u001b[38;5;124m'\u001b[39m\u001b[38;5;124m00:30:00\u001b[39m\u001b[38;5;124m'\u001b[39m], datetime\u001b[38;5;241m.\u001b[39mdatetime(\u001b[38;5;241m2024\u001b[39m, \u001b[38;5;241m3\u001b[39m, \u001b[38;5;241m3\u001b[39m, \u001b[38;5;241m0\u001b[39m, \u001b[38;5;241m0\u001b[39m): [\u001b[38;5;124m'\u001b[39m\u001b[38;5;124m00:30:00\u001b[39m\u001b[38;5;124m'\u001b[39m], datetime\u001b[38;5;241m.\u001b[39mdatetime(\u001b[38;5;241m2024\u001b[39m, \u001b[38;5;241m3\u001b[39m, \u001b[38;5;241m4\u001b[39m, \u001b[38;5;241m0\u001b[39m, \u001b[38;5;241m0\u001b[39m): [\u001b[38;5;124m'\u001b[39m\u001b[38;5;124m00:30:00\u001b[39m\u001b[38;5;124m'\u001b[39m], datetime\u001b[38;5;241m.\u001b[39mdatetime(\u001b[38;5;241m2024\u001b[39m, \u001b[38;5;241m3\u001b[39m, \u001b[38;5;241m5\u001b[39m, \u001b[38;5;241m0\u001b[39m, \u001b[38;5;241m0\u001b[39m): [\u001b[38;5;124m'\u001b[39m\u001b[38;5;124m08:05:00\u001b[39m\u001b[38;5;124m'\u001b[39m, \u001b[38;5;124m'\u001b[39m\u001b[38;5;124m15:52:00\u001b[39m\u001b[38;5;124m'\u001b[39m, \u001b[38;5;124m'\u001b[39m\u001b[38;5;124m23:32:00\u001b[39m\u001b[38;5;124m'\u001b[39m], datetime\u001b[38;5;241m.\u001b[39mdatetime(\u001b[38;5;241m2024\u001b[39m, \u001b[38;5;241m3\u001b[39m, \u001b[38;5;241m6\u001b[39m, \u001b[38;5;241m0\u001b[39m, \u001b[38;5;241m0\u001b[39m): [\u001b[38;5;124m'\u001b[39m\u001b[38;5;124m07:45:00\u001b[39m\u001b[38;5;124m'\u001b[39m, \u001b[38;5;124m'\u001b[39m\u001b[38;5;124m15:31:00\u001b[39m\u001b[38;5;124m'\u001b[39m, \u001b[38;5;124m'\u001b[39m\u001b[38;5;124m23:30:00\u001b[39m\u001b[38;5;124m'\u001b[39m], datetime\u001b[38;5;241m.\u001b[39mdatetime(\u001b[38;5;241m2024\u001b[39m, \u001b[38;5;241m3\u001b[39m, \u001b[38;5;241m7\u001b[39m, \u001b[38;5;241m0\u001b[39m, \u001b[38;5;241m0\u001b[39m): [\u001b[38;5;124m'\u001b[39m\u001b[38;5;124m07:30:00\u001b[39m\u001b[38;5;124m'\u001b[39m, \u001b[38;5;124m'\u001b[39m\u001b[38;5;124m15:30:00\u001b[39m\u001b[38;5;124m'\u001b[39m, \u001b[38;5;124m'\u001b[39m\u001b[38;5;124m23:29:00\u001b[39m\u001b[38;5;124m'\u001b[39m], datetime\u001b[38;5;241m.\u001b[39mdatetime(\u001b[38;5;241m2024\u001b[39m, \u001b[38;5;241m3\u001b[39m, \u001b[38;5;241m8\u001b[39m, \u001b[38;5;241m0\u001b[39m, \u001b[38;5;241m0\u001b[39m): [\u001b[38;5;124m'\u001b[39m\u001b[38;5;124m07:32:00\u001b[39m\u001b[38;5;124m'\u001b[39m, \u001b[38;5;124m'\u001b[39m\u001b[38;5;124m15:29:00\u001b[39m\u001b[38;5;124m'\u001b[39m, \u001b[38;5;124m'\u001b[39m\u001b[38;5;124m23:30:00\u001b[39m\u001b[38;5;124m'\u001b[39m], datetime\u001b[38;5;241m.\u001b[39mdatetime(\u001b[38;5;241m2024\u001b[39m, \u001b[38;5;241m3\u001b[39m, \u001b[38;5;241m9\u001b[39m, \u001b[38;5;241m0\u001b[39m, \u001b[38;5;241m0\u001b[39m): [\u001b[38;5;124m'\u001b[39m\u001b[38;5;124m07:30:00\u001b[39m\u001b[38;5;124m'\u001b[39m, \u001b[38;5;124m'\u001b[39m\u001b[38;5;124m15:31:00\u001b[39m\u001b[38;5;124m'\u001b[39m, \u001b[38;5;124m'\u001b[39m\u001b[38;5;124m23:30:00\u001b[39m\u001b[38;5;124m'\u001b[39m], datetime\u001b[38;5;241m.\u001b[39mdatetime(\u001b[38;5;241m2024\u001b[39m, \u001b[38;5;241m3\u001b[39m, \u001b[38;5;241m10\u001b[39m, \u001b[38;5;241m0\u001b[39m, \u001b[38;5;241m0\u001b[39m): [\u001b[38;5;124m'\u001b[39m\u001b[38;5;124m07:35:00\u001b[39m\u001b[38;5;124m'\u001b[39m, \u001b[38;5;124m'\u001b[39m\u001b[38;5;124m15:33:00\u001b[39m\u001b[38;5;124m'\u001b[39m, \u001b[38;5;124m'\u001b[39m\u001b[38;5;124m23:30:00\u001b[39m\u001b[38;5;124m'\u001b[39m], datetime\u001b[38;5;241m.\u001b[39mdatetime(\u001b[38;5;241m2024\u001b[39m, \u001b[38;5;241m3\u001b[39m, \u001b[38;5;241m11\u001b[39m, \u001b[38;5;241m0\u001b[39m, \u001b[38;5;241m0\u001b[39m): [\u001b[38;5;124m'\u001b[39m\u001b[38;5;124m07:30:00\u001b[39m\u001b[38;5;124m'\u001b[39m, \u001b[38;5;124m'\u001b[39m\u001b[38;5;124m15:31:00\u001b[39m\u001b[38;5;124m'\u001b[39m, \u001b[38;5;124m'\u001b[39m\u001b[38;5;124m23:30:00\u001b[39m\u001b[38;5;124m'\u001b[39m], datetime\u001b[38;5;241m.\u001b[39mdatetime(\u001b[38;5;241m2024\u001b[39m, \u001b[38;5;241m3\u001b[39m, \u001b[38;5;241m12\u001b[39m, \u001b[38;5;241m0\u001b[39m, \u001b[38;5;241m0\u001b[39m): [\u001b[38;5;124m'\u001b[39m\u001b[38;5;124m12:40:00\u001b[39m\u001b[38;5;124m'\u001b[39m, \u001b[38;5;124m'\u001b[39m\u001b[38;5;124m20:37:00\u001b[39m\u001b[38;5;124m'\u001b[39m], datetime\u001b[38;5;241m.\u001b[39mdatetime(\u001b[38;5;241m2024\u001b[39m, \u001b[38;5;241m3\u001b[39m, \u001b[38;5;241m13\u001b[39m, \u001b[38;5;241m0\u001b[39m, \u001b[38;5;241m0\u001b[39m): [\u001b[38;5;124m'\u001b[39m\u001b[38;5;124m05:06:00\u001b[39m\u001b[38;5;124m'\u001b[39m, \u001b[38;5;124m'\u001b[39m\u001b[38;5;124m13:00:00\u001b[39m\u001b[38;5;124m'\u001b[39m, \u001b[38;5;124m'\u001b[39m\u001b[38;5;124m20:40:00\u001b[39m\u001b[38;5;124m'\u001b[39m], datetime\u001b[38;5;241m.\u001b[39mdatetime(\u001b[38;5;241m2024\u001b[39m, \u001b[38;5;241m3\u001b[39m, \u001b[38;5;241m14\u001b[39m, \u001b[38;5;241m0\u001b[39m, \u001b[38;5;241m0\u001b[39m): [\u001b[38;5;124m'\u001b[39m\u001b[38;5;124m05:30:00\u001b[39m\u001b[38;5;124m'\u001b[39m, \u001b[38;5;124m'\u001b[39m\u001b[38;5;124m13:16:00\u001b[39m\u001b[38;5;124m'\u001b[39m, \u001b[38;5;124m'\u001b[39m\u001b[38;5;124m20:50:00\u001b[39m\u001b[38;5;124m'\u001b[39m], datetime\u001b[38;5;241m.\u001b[39mdatetime(\u001b[38;5;241m2024\u001b[39m, \u001b[38;5;241m3\u001b[39m, \u001b[38;5;241m15\u001b[39m, \u001b[38;5;241m0\u001b[39m, \u001b[38;5;241m0\u001b[39m): [\u001b[38;5;124m'\u001b[39m\u001b[38;5;124m06:00:00\u001b[39m\u001b[38;5;124m'\u001b[39m, \u001b[38;5;124m'\u001b[39m\u001b[38;5;124m14:00:00\u001b[39m\u001b[38;5;124m'\u001b[39m, \u001b[38;5;124m'\u001b[39m\u001b[38;5;124m22:02:00\u001b[39m\u001b[38;5;124m'\u001b[39m], datetime\u001b[38;5;241m.\u001b[39mdatetime(\u001b[38;5;241m2024\u001b[39m, \u001b[38;5;241m3\u001b[39m, \u001b[38;5;241m16\u001b[39m, \u001b[38;5;241m0\u001b[39m, \u001b[38;5;241m0\u001b[39m): [\u001b[38;5;124m'\u001b[39m\u001b[38;5;124m06:00:00\u001b[39m\u001b[38;5;124m'\u001b[39m, \u001b[38;5;124m'\u001b[39m\u001b[38;5;124m13:50:00\u001b[39m\u001b[38;5;124m'\u001b[39m, \u001b[38;5;124m'\u001b[39m\u001b[38;5;124m22:00:00\u001b[39m\u001b[38;5;124m'\u001b[39m], datetime\u001b[38;5;241m.\u001b[39mdatetime(\u001b[38;5;241m2024\u001b[39m, \u001b[38;5;241m3\u001b[39m, \u001b[38;5;241m17\u001b[39m, \u001b[38;5;241m0\u001b[39m, \u001b[38;5;241m0\u001b[39m): [\u001b[38;5;124m'\u001b[39m\u001b[38;5;124m06:03:00\u001b[39m\u001b[38;5;124m'\u001b[39m, \u001b[38;5;124m'\u001b[39m\u001b[38;5;124m14:00:00\u001b[39m\u001b[38;5;124m'\u001b[39m, \u001b[38;5;124m'\u001b[39m\u001b[38;5;124m22:00:00\u001b[39m\u001b[38;5;124m'\u001b[39m], datetime\u001b[38;5;241m.\u001b[39mdatetime(\u001b[38;5;241m2024\u001b[39m, \u001b[38;5;241m3\u001b[39m, \u001b[38;5;241m18\u001b[39m, \u001b[38;5;241m0\u001b[39m, \u001b[38;5;241m0\u001b[39m): [\u001b[38;5;124m'\u001b[39m\u001b[38;5;124m06:01:00\u001b[39m\u001b[38;5;124m'\u001b[39m, \u001b[38;5;124m'\u001b[39m\u001b[38;5;124m14:00:00\u001b[39m\u001b[38;5;124m'\u001b[39m, \u001b[38;5;124m'\u001b[39m\u001b[38;5;124m22:45:00\u001b[39m\u001b[38;5;124m'\u001b[39m], datetime\u001b[38;5;241m.\u001b[39mdatetime(\u001b[38;5;241m2024\u001b[39m, \u001b[38;5;241m3\u001b[39m, \u001b[38;5;241m19\u001b[39m, \u001b[38;5;241m0\u001b[39m, \u001b[38;5;241m0\u001b[39m): [\u001b[38;5;124m'\u001b[39m\u001b[38;5;124m06:30:00\u001b[39m\u001b[38;5;124m'\u001b[39m]}\n",
      "\u001b[1;31mNameError\u001b[0m: name 'datetime' is not defined"
     ]
    }
   ],
   "source": [
    "dic = {datetime.datetime(2024, 2, 20, 0, 0): ['00:30:00'], datetime.datetime(2024, 2, 21, 0, 0): ['00:30:00'], datetime.datetime(2024, 2, 22, 0, 0): ['00:30:00'], datetime.datetime(2024, 2, 23, 0, 0): ['00:30:00'], datetime.datetime(2024, 2, 24, 0, 0): ['00:30:00'], datetime.datetime(2024, 2, 25, 0, 0): ['00:30:00'], datetime.datetime(2024, 2, 26, 0, 0): ['00:30:00'], datetime.datetime(2024, 2, 27, 0, 0): ['00:30:00'], datetime.datetime(2024, 2, 28, 0, 0): ['00:30:00'], datetime.datetime(2024, 2, 29, 0, 0): ['00:30:00'], datetime.datetime(2024, 3, 1, 0, 0): ['00:30:00'], datetime.datetime(2024, 3, 2, 0, 0): ['00:30:00'], datetime.datetime(2024, 3, 3, 0, 0): ['00:30:00'], datetime.datetime(2024, 3, 4, 0, 0): ['00:30:00'], datetime.datetime(2024, 3, 5, 0, 0): ['08:05:00', '15:52:00', '23:32:00'], datetime.datetime(2024, 3, 6, 0, 0): ['07:45:00', '15:31:00', '23:30:00'], datetime.datetime(2024, 3, 7, 0, 0): ['07:30:00', '15:30:00', '23:29:00'], datetime.datetime(2024, 3, 8, 0, 0): ['07:32:00', '15:29:00', '23:30:00'], datetime.datetime(2024, 3, 9, 0, 0): ['07:30:00', '15:31:00', '23:30:00'], datetime.datetime(2024, 3, 10, 0, 0): ['07:35:00', '15:33:00', '23:30:00'], datetime.datetime(2024, 3, 11, 0, 0): ['07:30:00', '15:31:00', '23:30:00'], datetime.datetime(2024, 3, 12, 0, 0): ['12:40:00', '20:37:00'], datetime.datetime(2024, 3, 13, 0, 0): ['05:06:00', '13:00:00', '20:40:00'], datetime.datetime(2024, 3, 14, 0, 0): ['05:30:00', '13:16:00', '20:50:00'], datetime.datetime(2024, 3, 15, 0, 0): ['06:00:00', '14:00:00', '22:02:00'], datetime.datetime(2024, 3, 16, 0, 0): ['06:00:00', '13:50:00', '22:00:00'], datetime.datetime(2024, 3, 17, 0, 0): ['06:03:00', '14:00:00', '22:00:00'], datetime.datetime(2024, 3, 18, 0, 0): ['06:01:00', '14:00:00', '22:45:00'], datetime.datetime(2024, 3, 19, 0, 0): ['06:30:00']}"
   ]
  }
 ],
 "metadata": {
  "kernelspec": {
   "display_name": "Python 3",
   "language": "python",
   "name": "python3"
  },
  "language_info": {
   "codemirror_mode": {
    "name": "ipython",
    "version": 3
   },
   "file_extension": ".py",
   "mimetype": "text/x-python",
   "name": "python",
   "nbconvert_exporter": "python",
   "pygments_lexer": "ipython3",
   "version": "3.10.4"
  },
  "orig_nbformat": 4
 },
 "nbformat": 4,
 "nbformat_minor": 2
}
