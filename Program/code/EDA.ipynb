{
 "cells": [
  {
   "cell_type": "code",
   "execution_count": 19,
   "metadata": {},
   "outputs": [],
   "source": [
    "import pandas as pd\n",
    "pd.set_option('display.max_columns', None)\n",
    "import os"
   ]
  },
  {
   "cell_type": "code",
   "execution_count": 2,
   "metadata": {},
   "outputs": [],
   "source": [
    "script_directory = os.path.dirname(os.path.abspath(__file__)) if '__file__' in locals() else os.getcwd()\n",
    "relative_folder_path = \"data\"\n",
    "folder_path = os.path.join(script_directory.replace('\\code', ''), relative_folder_path)\n",
    "file = os.listdir(folder_path)\n",
    "path = f\"{folder_path}\\{file[0]}\"\n",
    "df_root = pd.read_excel(path)"
   ]
  },
  {
   "cell_type": "code",
   "execution_count": 3,
   "metadata": {},
   "outputs": [
    {
     "data": {
      "text/plain": [
       "Index(['Id Form', 'idCampo', 'Site', 'Visit', 'name', 'Genero',\n",
       "       'AñoNacimiento', 'NameActividad', 'activityState', 'fecha enrolado',\n",
       "       'Participante', 'Estado del Participante', 'identifierPrefix',\n",
       "       'Id Activityins', 'Instancia', 'Estado del campo', 'Campo', 'Valor',\n",
       "       'displayName', 'id option', 'Variable', 'visible', 'required',\n",
       "       'TipoDato', 'TypeQuery', 'MessageQuery', 'QueryState',\n",
       "       'vistaPrincipal.IdSubject'],\n",
       "      dtype='object')"
      ]
     },
     "execution_count": 3,
     "metadata": {},
     "output_type": "execute_result"
    }
   ],
   "source": [
    "df_root.columns"
   ]
  },
  {
   "cell_type": "code",
   "execution_count": 4,
   "metadata": {},
   "outputs": [
    {
     "data": {
      "text/plain": [
       "array(['Screening Visit', 'D-1', 'D1', 'D2', 'D3', 'D4', 'D7', 'D14',\n",
       "       'D15', 'D16', 'D17', 'D18', 'D21', 'D28', 'D29', 'D30', 'D31',\n",
       "       'D32', 'D35', 'D42', 'D63', '-'], dtype=object)"
      ]
     },
     "execution_count": 4,
     "metadata": {},
     "output_type": "execute_result"
    }
   ],
   "source": [
    "df_root.Visit.unique()"
   ]
  },
  {
   "cell_type": "code",
   "execution_count": 5,
   "metadata": {},
   "outputs": [],
   "source": [
    "formulario_elegido = 'Medical Or Surgical History (other than Leishmaniasis)'\n",
    "visita_elegida = 0\n",
    "campo_elegido = 0\n",
    "\n",
    "general_revision  = df_root[df_root['name']== formulario_elegido]\n",
    "general_revision = general_revision[['Visit','Participante', 'Campo', 'Valor']]\n",
    "if visita_elegida != 0:\n",
    "    general_revision = general_revision[general_revision['Visit']== visita_elegida]\n",
    "\n",
    "if campo_elegido != 0:\n",
    "    general_revision = general_revision[general_revision['Campo']== campo_elegido]\n",
    "\n",
    "general_revision = general_revision[['Visit', 'Campo', 'Participante','Valor']]"
   ]
  },
  {
   "cell_type": "code",
   "execution_count": 6,
   "metadata": {},
   "outputs": [
    {
     "data": {
      "text/html": [
       "<div>\n",
       "<style scoped>\n",
       "    .dataframe tbody tr th:only-of-type {\n",
       "        vertical-align: middle;\n",
       "    }\n",
       "\n",
       "    .dataframe tbody tr th {\n",
       "        vertical-align: top;\n",
       "    }\n",
       "\n",
       "    .dataframe thead th {\n",
       "        text-align: right;\n",
       "    }\n",
       "</style>\n",
       "<table border=\"1\" class=\"dataframe\">\n",
       "  <thead>\n",
       "    <tr style=\"text-align: right;\">\n",
       "      <th></th>\n",
       "      <th>Visit</th>\n",
       "      <th>Campo</th>\n",
       "      <th>Participante</th>\n",
       "      <th>Valor</th>\n",
       "    </tr>\n",
       "  </thead>\n",
       "  <tbody>\n",
       "    <tr>\n",
       "      <th>22</th>\n",
       "      <td>Screening Visit</td>\n",
       "      <td>Are there any relevant medical history or surg...</td>\n",
       "      <td>011001</td>\n",
       "      <td>0</td>\n",
       "    </tr>\n",
       "    <tr>\n",
       "      <th>2674</th>\n",
       "      <td>Screening Visit</td>\n",
       "      <td>Medical/Surgical History/Current Condition</td>\n",
       "      <td>S002</td>\n",
       "      <td>-</td>\n",
       "    </tr>\n",
       "    <tr>\n",
       "      <th>2675</th>\n",
       "      <td>Screening Visit</td>\n",
       "      <td>Onset Date/First Diagnosis/Surgery</td>\n",
       "      <td>S002</td>\n",
       "      <td>-</td>\n",
       "    </tr>\n",
       "    <tr>\n",
       "      <th>2676</th>\n",
       "      <td>Screening Visit</td>\n",
       "      <td>Frequency</td>\n",
       "      <td>S002</td>\n",
       "      <td>1</td>\n",
       "    </tr>\n",
       "  </tbody>\n",
       "</table>\n",
       "</div>"
      ],
      "text/plain": [
       "                Visit                                              Campo   \n",
       "22    Screening Visit  Are there any relevant medical history or surg...  \\\n",
       "2674  Screening Visit         Medical/Surgical History/Current Condition   \n",
       "2675  Screening Visit                 Onset Date/First Diagnosis/Surgery   \n",
       "2676  Screening Visit                                          Frequency   \n",
       "\n",
       "     Participante Valor  \n",
       "22         011001     0  \n",
       "2674         S002     -  \n",
       "2675         S002     -  \n",
       "2676         S002     1  "
      ]
     },
     "execution_count": 6,
     "metadata": {},
     "output_type": "execute_result"
    }
   ],
   "source": [
    "general_revision.head(50)"
   ]
  },
  {
   "cell_type": "code",
   "execution_count": 7,
   "metadata": {},
   "outputs": [],
   "source": [
    "df__lession  = df_root[df_root['name']=='Lesion Measurement']\n",
    "df__lession = df__lession[['Visit','Participante', 'Campo', 'Valor']]\n",
    "df__lession = df__lession[df__lession['Visit']=='Screening Visit']\n",
    "df__lession = df__lession[df__lession['Campo']=='Anatomical Location']\n",
    "df__lession = df__lession[['Visit','Participante','Valor']]\n",
    "df__lession = df__lession.rename(columns={'Participante':'Subject', 'Valor':'lesion_measurement'})\n",
    "df__lession['Count'] = len(df__lession['lesion_measurement'])\n",
    "df__lession = df__lession[['Visit','Subject','Count']]\n",
    "# df_with_counts = df__lession.merge(subject_counts, left_on='Subject', right_on='Subject')\n",
    "# df_with_counts = df_with_counts[['Visit','Subject','Count']]"
   ]
  },
  {
   "cell_type": "code",
   "execution_count": 8,
   "metadata": {},
   "outputs": [
    {
     "data": {
      "text/html": [
       "<div>\n",
       "<style scoped>\n",
       "    .dataframe tbody tr th:only-of-type {\n",
       "        vertical-align: middle;\n",
       "    }\n",
       "\n",
       "    .dataframe tbody tr th {\n",
       "        vertical-align: top;\n",
       "    }\n",
       "\n",
       "    .dataframe thead th {\n",
       "        text-align: right;\n",
       "    }\n",
       "</style>\n",
       "<table border=\"1\" class=\"dataframe\">\n",
       "  <thead>\n",
       "    <tr style=\"text-align: right;\">\n",
       "      <th></th>\n",
       "      <th>Visit</th>\n",
       "      <th>Subject</th>\n",
       "      <th>Count</th>\n",
       "    </tr>\n",
       "  </thead>\n",
       "  <tbody>\n",
       "    <tr>\n",
       "      <th>300</th>\n",
       "      <td>Screening Visit</td>\n",
       "      <td>011001</td>\n",
       "      <td>2</td>\n",
       "    </tr>\n",
       "    <tr>\n",
       "      <th>309</th>\n",
       "      <td>Screening Visit</td>\n",
       "      <td>011001</td>\n",
       "      <td>2</td>\n",
       "    </tr>\n",
       "  </tbody>\n",
       "</table>\n",
       "</div>"
      ],
      "text/plain": [
       "               Visit Subject  Count\n",
       "300  Screening Visit  011001      2\n",
       "309  Screening Visit  011001      2"
      ]
     },
     "execution_count": 8,
     "metadata": {},
     "output_type": "execute_result"
    }
   ],
   "source": [
    "df__lession"
   ]
  },
  {
   "cell_type": "code",
   "execution_count": 9,
   "metadata": {},
   "outputs": [
    {
     "data": {
      "text/plain": [
       "array(['DATA_VERIFIED', 'DATA_ENTRY_COMPLETE', 'DATA_ENTRY_INCOMPLETE',\n",
       "       'DATA_EMPTY'], dtype=object)"
      ]
     },
     "execution_count": 9,
     "metadata": {},
     "output_type": "execute_result"
    }
   ],
   "source": [
    "df_root.activityState.unique()"
   ]
  },
  {
   "cell_type": "code",
   "execution_count": 10,
   "metadata": {},
   "outputs": [
    {
     "data": {
      "text/plain": [
       "array(['011001', 'S002', 'S003'], dtype=object)"
      ]
     },
     "execution_count": 10,
     "metadata": {},
     "output_type": "execute_result"
    }
   ],
   "source": [
    "df_root.Participante.unique()"
   ]
  },
  {
   "cell_type": "code",
   "execution_count": 11,
   "metadata": {},
   "outputs": [
    {
     "data": {
      "text/plain": [
       "array(['Date of visit', 'Informed Consent', 'Demographics',\n",
       "       'History of cutaneous leishmaniasis', 'Covid 19 testing',\n",
       "       'Eligibility',\n",
       "       'Medical Or Surgical History (other than Leishmaniasis)',\n",
       "       'Vein assessment', 'Urinary Drug Screen', 'Alcohol Screen',\n",
       "       'Clinical Laboratory - Test Hematology',\n",
       "       'Clinical Laboratory Test - Clinical Chemistry',\n",
       "       'Clinical Laboratory Test - Coagulation',\n",
       "       'Immunoassay (Thyroid Stimulating Hormone)', 'Urinalysis',\n",
       "       'Urine Microscopic Examination', 'Virology', 'Lesion Measurement',\n",
       "       'Physical Examination', 'Vital Signs', '12-Lead ECG',\n",
       "       'Clinical Laboratory Test - Clinical Chemistry D-1',\n",
       "       'Interleukin-6', 'Titration Of Auto-Antibodies',\n",
       "       'Injection Site Examination', 'PBMC Isolate',\n",
       "       'Pharmacokinetic Blood Sampling (PK)',\n",
       "       'Pharmacodynamic Blood Sampling (PD) -Cytokines/Chemokines',\n",
       "       'mRNA Markers', 'CpG ODN D35 Administration',\n",
       "       'End of Study Treatment (Miltefosine)'], dtype=object)"
      ]
     },
     "execution_count": 11,
     "metadata": {},
     "output_type": "execute_result"
    }
   ],
   "source": [
    "df_root.name.unique()"
   ]
  },
  {
   "cell_type": "code",
   "execution_count": 56,
   "metadata": {},
   "outputs": [
    {
     "data": {
      "text/plain": [
       "array(['Was the physical examination performed?',\n",
       "       'Date of examination performed',\n",
       "       'Undefined, Clinical interpretation?', 'Pre dose, Time',\n",
       "       'Pre dose, Clinical interpretation?', '2-hours post dose, Time',\n",
       "       '2-hours post dose, Clinical interpretation?',\n",
       "       '4-hours post dose, Time',\n",
       "       '4-hours post dose, Clinical interpretation?',\n",
       "       '8-hours post dose, Time',\n",
       "       '8-hours post dose, Clinical interpretation?'], dtype=object)"
      ]
     },
     "execution_count": 56,
     "metadata": {},
     "output_type": "execute_result"
    }
   ],
   "source": [
    "df_root[df_root['name']=='Physical Examination'].Campo.unique()"
   ]
  },
  {
   "cell_type": "code",
   "execution_count": 37,
   "metadata": {},
   "outputs": [
    {
     "data": {
      "text/html": [
       "<div>\n",
       "<style scoped>\n",
       "    .dataframe tbody tr th:only-of-type {\n",
       "        vertical-align: middle;\n",
       "    }\n",
       "\n",
       "    .dataframe tbody tr th {\n",
       "        vertical-align: top;\n",
       "    }\n",
       "\n",
       "    .dataframe thead th {\n",
       "        text-align: right;\n",
       "    }\n",
       "</style>\n",
       "<table border=\"1\" class=\"dataframe\">\n",
       "  <thead>\n",
       "    <tr style=\"text-align: right;\">\n",
       "      <th></th>\n",
       "      <th>Participante</th>\n",
       "      <th>Campo</th>\n",
       "      <th>Valor</th>\n",
       "      <th>Instancia</th>\n",
       "    </tr>\n",
       "  </thead>\n",
       "  <tbody>\n",
       "    <tr>\n",
       "      <th>2603</th>\n",
       "      <td>011001</td>\n",
       "      <td>Date of dosing</td>\n",
       "      <td>31-OCT-2023</td>\n",
       "      <td>17797</td>\n",
       "    </tr>\n",
       "    <tr>\n",
       "      <th>2604</th>\n",
       "      <td>011001</td>\n",
       "      <td>Time of Dosing</td>\n",
       "      <td>09:36</td>\n",
       "      <td>17798</td>\n",
       "    </tr>\n",
       "    <tr>\n",
       "      <th>2888</th>\n",
       "      <td>011001</td>\n",
       "      <td>Date of dosing</td>\n",
       "      <td>14-NOV-2023</td>\n",
       "      <td>21664</td>\n",
       "    </tr>\n",
       "    <tr>\n",
       "      <th>2889</th>\n",
       "      <td>011001</td>\n",
       "      <td>Time of Dosing</td>\n",
       "      <td>09:05</td>\n",
       "      <td>21665</td>\n",
       "    </tr>\n",
       "    <tr>\n",
       "      <th>2894</th>\n",
       "      <td>011001</td>\n",
       "      <td>Date of dosing</td>\n",
       "      <td>28-NOV-2023</td>\n",
       "      <td>21678</td>\n",
       "    </tr>\n",
       "    <tr>\n",
       "      <th>2895</th>\n",
       "      <td>011001</td>\n",
       "      <td>Time of Dosing</td>\n",
       "      <td>10:12</td>\n",
       "      <td>21679</td>\n",
       "    </tr>\n",
       "  </tbody>\n",
       "</table>\n",
       "</div>"
      ],
      "text/plain": [
       "     Participante           Campo        Valor  Instancia\n",
       "2603       011001  Date of dosing  31-OCT-2023      17797\n",
       "2604       011001  Time of Dosing        09:36      17798\n",
       "2888       011001  Date of dosing  14-NOV-2023      21664\n",
       "2889       011001  Time of Dosing        09:05      21665\n",
       "2894       011001  Date of dosing  28-NOV-2023      21678\n",
       "2895       011001  Time of Dosing        10:12      21679"
      ]
     },
     "execution_count": 37,
     "metadata": {},
     "output_type": "execute_result"
    }
   ],
   "source": [
    "prueba = df_root[df_root['name']=='CpG ODN D35 Administration'].sort_values(by='Instancia')\n",
    "prueba = prueba[(prueba['Campo']=='Date of dosing') | (prueba['Campo']=='Time of Dosing')]\n",
    "prueba = prueba[['Participante', 'Campo', 'Valor', 'Instancia']]\n",
    "prueba"
   ]
  },
  {
   "cell_type": "code",
   "execution_count": 53,
   "metadata": {},
   "outputs": [
    {
     "name": "stderr",
     "output_type": "stream",
     "text": [
      "C:\\Users\\sebastian sossa\\AppData\\Local\\Temp\\ipykernel_9204\\1665216494.py:4: SettingWithCopyWarning: \n",
      "A value is trying to be set on a copy of a slice from a DataFrame.\n",
      "Try using .loc[row_indexer,col_indexer] = value instead\n",
      "\n",
      "See the caveats in the documentation: https://pandas.pydata.org/pandas-docs/stable/user_guide/indexing.html#returning-a-view-versus-a-copy\n",
      "  prueba1['time_dosing_cpg_administration'] =  prueba[prueba['Instancia'].isin(prueba1['Instancia'] + 1) & (prueba['Campo'] == 'Time of Dosing')]['Valor'].values\n"
     ]
    },
    {
     "data": {
      "text/html": [
       "<div>\n",
       "<style scoped>\n",
       "    .dataframe tbody tr th:only-of-type {\n",
       "        vertical-align: middle;\n",
       "    }\n",
       "\n",
       "    .dataframe tbody tr th {\n",
       "        vertical-align: top;\n",
       "    }\n",
       "\n",
       "    .dataframe thead th {\n",
       "        text-align: right;\n",
       "    }\n",
       "</style>\n",
       "<table border=\"1\" class=\"dataframe\">\n",
       "  <thead>\n",
       "    <tr style=\"text-align: right;\">\n",
       "      <th></th>\n",
       "      <th>Subject</th>\n",
       "      <th>Campo</th>\n",
       "      <th>date_cpg_administration</th>\n",
       "      <th>time_dosing_cpg_administration</th>\n",
       "      <th>Instancia</th>\n",
       "    </tr>\n",
       "  </thead>\n",
       "  <tbody>\n",
       "    <tr>\n",
       "      <th>2603</th>\n",
       "      <td>011001</td>\n",
       "      <td>Date of dosing</td>\n",
       "      <td>31-OCT-2023</td>\n",
       "      <td>09:36</td>\n",
       "      <td>17797</td>\n",
       "    </tr>\n",
       "    <tr>\n",
       "      <th>2888</th>\n",
       "      <td>011001</td>\n",
       "      <td>Date of dosing</td>\n",
       "      <td>14-NOV-2023</td>\n",
       "      <td>09:05</td>\n",
       "      <td>21664</td>\n",
       "    </tr>\n",
       "    <tr>\n",
       "      <th>2894</th>\n",
       "      <td>011001</td>\n",
       "      <td>Date of dosing</td>\n",
       "      <td>28-NOV-2023</td>\n",
       "      <td>10:12</td>\n",
       "      <td>21678</td>\n",
       "    </tr>\n",
       "  </tbody>\n",
       "</table>\n",
       "</div>"
      ],
      "text/plain": [
       "     Subject           Campo date_cpg_administration   \n",
       "2603  011001  Date of dosing             31-OCT-2023  \\\n",
       "2888  011001  Date of dosing             14-NOV-2023   \n",
       "2894  011001  Date of dosing             28-NOV-2023   \n",
       "\n",
       "     time_dosing_cpg_administration  Instancia  \n",
       "2603                          09:36      17797  \n",
       "2888                          09:05      21664  \n",
       "2894                          10:12      21678  "
      ]
     },
     "execution_count": 53,
     "metadata": {},
     "output_type": "execute_result"
    }
   ],
   "source": [
    "prueba = df_root[df_root['name']=='CpG ODN D35 Administration'].sort_values(by='Instancia')\n",
    "prueba = prueba[(prueba['Campo']=='Date of dosing') | (prueba['Campo']=='Time of Dosing')]\n",
    "prueba1 = prueba[prueba['Campo']=='Date of dosing']\n",
    "prueba1['time_dosing_cpg_administration'] =  prueba[prueba['Instancia'].isin(prueba1['Instancia'] + 1) & (prueba['Campo'] == 'Time of Dosing')]['Valor'].values\n",
    "prueba1 =prueba1[['Participante', 'Campo', 'Valor', 'time_dosing_cpg_administration' ,'Instancia']]\n",
    "prueba1 = prueba1.rename(columns={'Participante':'Subject', 'Valor':'date_cpg_administration'})\n",
    "prueba1\n"
   ]
  },
  {
   "cell_type": "code",
   "execution_count": 54,
   "metadata": {},
   "outputs": [
    {
     "name": "stderr",
     "output_type": "stream",
     "text": [
      "C:\\Users\\sebastian sossa\\AppData\\Local\\Temp\\ipykernel_9204\\1862077006.py:4: SettingWithCopyWarning: \n",
      "A value is trying to be set on a copy of a slice from a DataFrame.\n",
      "Try using .loc[row_indexer,col_indexer] = value instead\n",
      "\n",
      "See the caveats in the documentation: https://pandas.pydata.org/pandas-docs/stable/user_guide/indexing.html#returning-a-view-versus-a-copy\n",
      "  df_time_dosing['time_dosing_cpg_administration'] =  df_time_dosing1[df_time_dosing1['Instancia'].isin(df_time_dosing['Instancia'] + 1) & (df_time_dosing1['Campo'] == 'Time of Dosing')]['Valor'].values\n"
     ]
    }
   ],
   "source": [
    "df_time_dosing1 = df_root[df_root['name']=='CpG ODN D35 Administration'].sort_values(by='Instancia')\n",
    "df_time_dosing1 = df_time_dosing1[(df_time_dosing1['Campo']=='Date of dosing') | (df_time_dosing1['Campo']=='Time of Dosing')]\n",
    "df_time_dosing = df_time_dosing1[df_time_dosing1['Campo']=='Date of dosing']\n",
    "df_time_dosing['time_dosing_cpg_administration'] =  df_time_dosing1[df_time_dosing1['Instancia'].isin(df_time_dosing['Instancia'] + 1) & (df_time_dosing1['Campo'] == 'Time of Dosing')]['Valor'].values\n",
    "df_time_dosing =df_time_dosing[['Participante', 'Campo', 'Valor', 'time_dosing_cpg_administration']]\n",
    "df_time_dosing = df_time_dosing.rename(columns={'Participante':'Subject', 'Valor':'date_ex_to_join'})"
   ]
  },
  {
   "cell_type": "code",
   "execution_count": 55,
   "metadata": {},
   "outputs": [
    {
     "data": {
      "text/html": [
       "<div>\n",
       "<style scoped>\n",
       "    .dataframe tbody tr th:only-of-type {\n",
       "        vertical-align: middle;\n",
       "    }\n",
       "\n",
       "    .dataframe tbody tr th {\n",
       "        vertical-align: top;\n",
       "    }\n",
       "\n",
       "    .dataframe thead th {\n",
       "        text-align: right;\n",
       "    }\n",
       "</style>\n",
       "<table border=\"1\" class=\"dataframe\">\n",
       "  <thead>\n",
       "    <tr style=\"text-align: right;\">\n",
       "      <th></th>\n",
       "      <th>Subject</th>\n",
       "      <th>Campo</th>\n",
       "      <th>date_ex_to_join</th>\n",
       "      <th>time_dosing_cpg_administration</th>\n",
       "    </tr>\n",
       "  </thead>\n",
       "  <tbody>\n",
       "    <tr>\n",
       "      <th>2603</th>\n",
       "      <td>011001</td>\n",
       "      <td>Date of dosing</td>\n",
       "      <td>31-OCT-2023</td>\n",
       "      <td>09:36</td>\n",
       "    </tr>\n",
       "    <tr>\n",
       "      <th>2888</th>\n",
       "      <td>011001</td>\n",
       "      <td>Date of dosing</td>\n",
       "      <td>14-NOV-2023</td>\n",
       "      <td>09:05</td>\n",
       "    </tr>\n",
       "    <tr>\n",
       "      <th>2894</th>\n",
       "      <td>011001</td>\n",
       "      <td>Date of dosing</td>\n",
       "      <td>28-NOV-2023</td>\n",
       "      <td>10:12</td>\n",
       "    </tr>\n",
       "  </tbody>\n",
       "</table>\n",
       "</div>"
      ],
      "text/plain": [
       "     Subject           Campo date_ex_to_join time_dosing_cpg_administration\n",
       "2603  011001  Date of dosing     31-OCT-2023                          09:36\n",
       "2888  011001  Date of dosing     14-NOV-2023                          09:05\n",
       "2894  011001  Date of dosing     28-NOV-2023                          10:12"
      ]
     },
     "execution_count": 55,
     "metadata": {},
     "output_type": "execute_result"
    }
   ],
   "source": [
    "df_time_dosing"
   ]
  },
  {
   "cell_type": "code",
   "execution_count": 12,
   "metadata": {},
   "outputs": [],
   "source": [
    "df_time_dosing = df_root[df_root['name']=='CpG ODN D35 Administration']\n",
    "df_time_dosing = df_time_dosing[['Participante', 'Campo', 'Valor', 'FormFieldInstance Id']]\n",
    "df_time_dosing = df_time_dosing[df_time_dosing['Campo']=='Was the visit performed?']\n",
    "df_time_dosing = df_time_dosing[['Visit','Participante','Valor_completo']]\n",
    "df_time_dosing = df_time_dosing.rename(columns={'Participante':'Subject', 'Valor_completo':'was_DV_performed'})"
   ]
  },
  {
   "cell_type": "code",
   "execution_count": 13,
   "metadata": {},
   "outputs": [
    {
     "ename": "KeyError",
     "evalue": "'FormFieldInstance Id'",
     "output_type": "error",
     "traceback": [
      "\u001b[1;31m---------------------------------------------------------------------------\u001b[0m",
      "\u001b[1;31mKeyError\u001b[0m                                  Traceback (most recent call last)",
      "Input \u001b[1;32mIn [13]\u001b[0m, in \u001b[0;36m<cell line: 3>\u001b[1;34m()\u001b[0m\n\u001b[0;32m      1\u001b[0m df_contraception \u001b[38;5;241m=\u001b[39m df_root[df_root[\u001b[38;5;124m'\u001b[39m\u001b[38;5;124mname\u001b[39m\u001b[38;5;124m'\u001b[39m]\u001b[38;5;241m==\u001b[39m \u001b[38;5;124m'\u001b[39m\u001b[38;5;124mPrior And Concomitant Medications\u001b[39m\u001b[38;5;124m'\u001b[39m]\n\u001b[0;32m      2\u001b[0m df_contraception \u001b[38;5;241m=\u001b[39m df_contraception[[\u001b[38;5;124m'\u001b[39m\u001b[38;5;124mVisit\u001b[39m\u001b[38;5;124m'\u001b[39m,\u001b[38;5;124m'\u001b[39m\u001b[38;5;124mParticipante\u001b[39m\u001b[38;5;124m'\u001b[39m, \u001b[38;5;124m'\u001b[39m\u001b[38;5;124mCampo\u001b[39m\u001b[38;5;124m'\u001b[39m, \u001b[38;5;124m'\u001b[39m\u001b[38;5;124mValor\u001b[39m\u001b[38;5;124m'\u001b[39m, \u001b[38;5;124m'\u001b[39m\u001b[38;5;124mInstancia\u001b[39m\u001b[38;5;124m'\u001b[39m]]\n\u001b[1;32m----> 3\u001b[0m df_contraception \u001b[38;5;241m=\u001b[39m \u001b[43mdf_contraception\u001b[49m\u001b[38;5;241;43m.\u001b[39;49m\u001b[43msort_values\u001b[49m\u001b[43m(\u001b[49m\u001b[43mby\u001b[49m\u001b[38;5;241;43m=\u001b[39;49m\u001b[43m[\u001b[49m\u001b[38;5;124;43m'\u001b[39;49m\u001b[38;5;124;43mFormFieldInstance Id\u001b[39;49m\u001b[38;5;124;43m'\u001b[39;49m\u001b[43m]\u001b[49m\u001b[43m)\u001b[49m\n\u001b[0;32m      4\u001b[0m df_contraception \u001b[38;5;241m=\u001b[39m df_contraception\u001b[38;5;241m.\u001b[39mreset_index(drop\u001b[38;5;241m=\u001b[39m\u001b[38;5;28;01mTrue\u001b[39;00m)\n\u001b[0;32m      5\u001b[0m date_indices \u001b[38;5;241m=\u001b[39m df_contraception\u001b[38;5;241m.\u001b[39mindex[df_contraception[\u001b[38;5;124m'\u001b[39m\u001b[38;5;124mCampo\u001b[39m\u001b[38;5;124m'\u001b[39m] \u001b[38;5;241m==\u001b[39m \u001b[38;5;124m'\u001b[39m\u001b[38;5;124mConcomitant Medication ID\u001b[39m\u001b[38;5;124m'\u001b[39m]\u001b[38;5;241m.\u001b[39mtolist()\n",
      "File \u001b[1;32mc:\\Users\\sebastian sossa\\AppData\\Local\\Programs\\Python\\Python310\\lib\\site-packages\\pandas\\core\\frame.py:6768\u001b[0m, in \u001b[0;36mDataFrame.sort_values\u001b[1;34m(self, by, axis, ascending, inplace, kind, na_position, ignore_index, key)\u001b[0m\n\u001b[0;32m   6764\u001b[0m \u001b[38;5;28;01melif\u001b[39;00m \u001b[38;5;28mlen\u001b[39m(by):\n\u001b[0;32m   6765\u001b[0m     \u001b[38;5;66;03m# len(by) == 1\u001b[39;00m\n\u001b[0;32m   6767\u001b[0m     by \u001b[38;5;241m=\u001b[39m by[\u001b[38;5;241m0\u001b[39m]\n\u001b[1;32m-> 6768\u001b[0m     k \u001b[38;5;241m=\u001b[39m \u001b[38;5;28;43mself\u001b[39;49m\u001b[38;5;241;43m.\u001b[39;49m\u001b[43m_get_label_or_level_values\u001b[49m\u001b[43m(\u001b[49m\u001b[43mby\u001b[49m\u001b[43m,\u001b[49m\u001b[43m \u001b[49m\u001b[43maxis\u001b[49m\u001b[38;5;241;43m=\u001b[39;49m\u001b[43maxis\u001b[49m\u001b[43m)\u001b[49m\n\u001b[0;32m   6770\u001b[0m     \u001b[38;5;66;03m# need to rewrap column in Series to apply key function\u001b[39;00m\n\u001b[0;32m   6771\u001b[0m     \u001b[38;5;28;01mif\u001b[39;00m key \u001b[38;5;129;01mis\u001b[39;00m \u001b[38;5;129;01mnot\u001b[39;00m \u001b[38;5;28;01mNone\u001b[39;00m:\n\u001b[0;32m   6772\u001b[0m         \u001b[38;5;66;03m# error: Incompatible types in assignment (expression has type\u001b[39;00m\n\u001b[0;32m   6773\u001b[0m         \u001b[38;5;66;03m# \"Series\", variable has type \"ndarray\")\u001b[39;00m\n",
      "File \u001b[1;32mc:\\Users\\sebastian sossa\\AppData\\Local\\Programs\\Python\\Python310\\lib\\site-packages\\pandas\\core\\generic.py:1778\u001b[0m, in \u001b[0;36mNDFrame._get_label_or_level_values\u001b[1;34m(self, key, axis)\u001b[0m\n\u001b[0;32m   1776\u001b[0m     values \u001b[38;5;241m=\u001b[39m \u001b[38;5;28mself\u001b[39m\u001b[38;5;241m.\u001b[39maxes[axis]\u001b[38;5;241m.\u001b[39mget_level_values(key)\u001b[38;5;241m.\u001b[39m_values\n\u001b[0;32m   1777\u001b[0m \u001b[38;5;28;01melse\u001b[39;00m:\n\u001b[1;32m-> 1778\u001b[0m     \u001b[38;5;28;01mraise\u001b[39;00m \u001b[38;5;167;01mKeyError\u001b[39;00m(key)\n\u001b[0;32m   1780\u001b[0m \u001b[38;5;66;03m# Check for duplicates\u001b[39;00m\n\u001b[0;32m   1781\u001b[0m \u001b[38;5;28;01mif\u001b[39;00m values\u001b[38;5;241m.\u001b[39mndim \u001b[38;5;241m>\u001b[39m \u001b[38;5;241m1\u001b[39m:\n",
      "\u001b[1;31mKeyError\u001b[0m: 'FormFieldInstance Id'"
     ]
    }
   ],
   "source": [
    "df_contraception = df_root[df_root['name']== 'Prior And Concomitant Medications']\n",
    "df_contraception = df_contraception[['Visit','Participante', 'Campo', 'Valor', 'Instancia']]\n",
    "df_contraception = df_contraception.sort_values(by=['FormFieldInstance Id'])\n",
    "df_contraception = df_contraception.reset_index(drop=True)\n",
    "date_indices = df_contraception.index[df_contraception['Campo'] == 'Concomitant Medication ID'].tolist()\n",
    "subdatasets = [df_contraception.iloc[start:end] for start, end in zip(date_indices, date_indices[1:] + [None])]\n",
    "df_to_join = pd.DataFrame()\n",
    "for sub in subdatasets:\n",
    "    #if sub['Valor'].tolist()  in [5, 5.0, '5', '5.0', 9]:\n",
    "    if len([float(x) for x in sub['Valor'].tolist() if x in [5, 5.0, '5', '5.0', 9]]) != 0:\n",
    "        df_to_join = sub[(sub['Campo'] == 'Indication Category') | (sub['Campo'] == 'Start date')]\n",
    "        sujeto = df_to_join.Participante.unique()\n",
    "        df_to_join = df_to_join[['Campo', 'Valor']].T\n",
    "        new_columns = df_to_join.iloc[0]\n",
    "        df_to_join = df_to_join[1:].set_axis(new_columns, axis=1)\n",
    "        df_to_join['Subject'] = sujeto\n",
    "        break\n",
    "df_to_join = df_to_join.rename(columns={'Participante':'Subject', 'Start date':'start_date_combined_hormonal'})"
   ]
  },
  {
   "cell_type": "code",
   "execution_count": null,
   "metadata": {},
   "outputs": [
    {
     "data": {
      "text/html": [
       "<div>\n",
       "<style scoped>\n",
       "    .dataframe tbody tr th:only-of-type {\n",
       "        vertical-align: middle;\n",
       "    }\n",
       "\n",
       "    .dataframe tbody tr th {\n",
       "        vertical-align: top;\n",
       "    }\n",
       "\n",
       "    .dataframe thead th {\n",
       "        text-align: right;\n",
       "    }\n",
       "</style>\n",
       "<table border=\"1\" class=\"dataframe\">\n",
       "  <thead>\n",
       "    <tr style=\"text-align: right;\">\n",
       "      <th>Campo</th>\n",
       "      <th>Birth Month</th>\n",
       "      <th>Birth Year</th>\n",
       "      <th>Subject</th>\n",
       "    </tr>\n",
       "  </thead>\n",
       "  <tbody>\n",
       "    <tr>\n",
       "      <th>Valor</th>\n",
       "      <td>5</td>\n",
       "      <td>2000</td>\n",
       "      <td>S003</td>\n",
       "    </tr>\n",
       "  </tbody>\n",
       "</table>\n",
       "</div>"
      ],
      "text/plain": [
       "Campo Birth Month Birth Year Subject\n",
       "Valor           5       2000    S003"
      ]
     },
     "execution_count": 36,
     "metadata": {},
     "output_type": "execute_result"
    }
   ],
   "source": [
    "df_to_join"
   ]
  },
  {
   "cell_type": "code",
   "execution_count": null,
   "metadata": {},
   "outputs": [
    {
     "data": {
      "text/plain": [
       "array(['Was the ECG performed?', 'Date of ECG Performed',\n",
       "       'Undefined, HR (bpm)', 'Undefined, RR (msec)',\n",
       "       'Undefined, PR (msec)', 'Undefined, QRS (msec)',\n",
       "       'Undefined, QT (msec)', 'Undefined, QTcF (msec)',\n",
       "       'Undefined, Interpretation', 'Pre dose triplicate 1, Time 24 hrs',\n",
       "       'Pre dose triplicate 1, HR (bpm)',\n",
       "       'Pre dose triplicate 1, RR (msec)',\n",
       "       'Pre dose triplicate 1, PR (msec)',\n",
       "       'Pre dose triplicate 1, QRS (msec)',\n",
       "       'Pre dose triplicate 1, QT (msec)',\n",
       "       'Pre dose triplicate 1, QTcF (msec)',\n",
       "       'Pre dose triplicate 1, Interpretation',\n",
       "       'Pre dose triplicate 1, If abnormal, specify',\n",
       "       'Pre dose triplicate 1, Please specify abnormal interpretation',\n",
       "       'Pre dose triplicate 2, Time 24 hrs',\n",
       "       'Pre dose triplicate 2, HR (bpm)',\n",
       "       'Pre dose triplicate 2, RR (msec)',\n",
       "       'Pre dose triplicate 2, PR (msec)',\n",
       "       'Pre dose triplicate 2, QRS (msec)',\n",
       "       'Pre dose triplicate 2, QT (msec)',\n",
       "       'Pre dose triplicate 2, QTcF (msec)',\n",
       "       'Pre dose triplicate 2, Interpretation',\n",
       "       'Pre dose triplicate 2, If abnormal, specify',\n",
       "       'Pre dose triplicate 2, Please specify abnormal interpretation',\n",
       "       'Pre dose triplicate 3, Time 24 hrs',\n",
       "       'Pre dose triplicate 3, HR (bpm)',\n",
       "       'Pre dose triplicate 3, RR (msec)',\n",
       "       'Pre dose triplicate 3, PR (msec)',\n",
       "       'Pre dose triplicate 3, QRS (msec)',\n",
       "       'Pre dose triplicate 3, QT (msec)',\n",
       "       'Pre dose triplicate 3, QTcF (msec)',\n",
       "       'Pre dose triplicate 3, Interpretation',\n",
       "       'Pre dose triplicate 3, If abnormal, specify',\n",
       "       'Pre dose triplicate 3, Please specify abnormal interpretation',\n",
       "       '15-min post dose, Time 24 hrs', '15-min post dose, HR (bpm)',\n",
       "       '15-min post dose, RR (msec)', '15-min post dose, PR (msec)',\n",
       "       '15-min post dose, QRS (msec)', '15-min post dose, QT (msec)',\n",
       "       '15-min post dose, QTcF (msec)',\n",
       "       '15-min post dose, Interpretation',\n",
       "       '15-min post dose, If abnormal, specify',\n",
       "       '15-min post dose, Please specify abnormal interpretation',\n",
       "       '30-min post dose, Time 24 hrs', '30-min post dose, HR (bpm)',\n",
       "       '30-min post dose, RR (msec)', '30-min post dose, PR (msec)',\n",
       "       '30-min post dose, QRS (msec)', '30-min post dose, QT (msec)',\n",
       "       '30-min post dose, QTcF (msec)',\n",
       "       '30-min post dose, Interpretation',\n",
       "       '30-min post dose, If abnormal, specify',\n",
       "       '30-min post dose, Please specify abnormal interpretation',\n",
       "       '60-min post dose, Time 24 hrs', '60-min post dose, HR (bpm)',\n",
       "       '60-min post dose, RR (msec)', '60-min post dose, PR (msec)',\n",
       "       '60-min post dose, QRS (msec)', '60-min post dose, QT (msec)',\n",
       "       '60-min post dose, QTcF (msec)',\n",
       "       '60-min post dose, Interpretation',\n",
       "       '60-min post dose, If abnormal, specify',\n",
       "       '60-min post dose, Please specify abnormal interpretation'],\n",
       "      dtype=object)"
      ]
     },
     "execution_count": 7,
     "metadata": {},
     "output_type": "execute_result"
    }
   ],
   "source": [
    "pru.Campo.unique()"
   ]
  },
  {
   "cell_type": "code",
   "execution_count": null,
   "metadata": {},
   "outputs": [
    {
     "name": "stdout",
     "output_type": "stream",
     "text": [
      "08:20\n",
      "08:25\n"
     ]
    }
   ],
   "source": [
    "triplicate_1 = pru[pru['Campo']=='Pre dose triplicate 1, Time 24 hrs'].Valor.unique()[0]\n",
    "triplicate_2 = pru[pru['Campo']=='Pre dose triplicate 2, Time 24 hrs'].Valor.unique()[0]\n",
    "print(triplicate_1)\n",
    "print(triplicate_2)"
   ]
  },
  {
   "cell_type": "code",
   "execution_count": null,
   "metadata": {},
   "outputs": [
    {
     "name": "stdout",
     "output_type": "stream",
     "text": [
      "5.0\n"
     ]
    }
   ],
   "source": [
    "from datetime import datetime\n",
    "time_format = '%H:%M'\n",
    "triplicate_1_formated = datetime.strptime(triplicate_1, time_format)\n",
    "triplicate_2_formated = datetime.strptime(triplicate_2, time_format)\n",
    "\n",
    "time_difference = (triplicate_2_formated - triplicate_1_formated).total_seconds() / 60\n",
    "print(time_difference)\n"
   ]
  },
  {
   "cell_type": "code",
   "execution_count": null,
   "metadata": {},
   "outputs": [
    {
     "name": "stdout",
     "output_type": "stream",
     "text": [
      "Si funciona asi\n"
     ]
    }
   ],
   "source": [
    "import math\n",
    "import numpy as np\n",
    "prueba_variable = np.nan\n",
    "\n",
    "if math.isnan(float(prueba_variable)):\n",
    "    print('Si funciona asi')\n",
    "else:\n",
    "    print('No funciona asi') "
   ]
  },
  {
   "cell_type": "code",
   "execution_count": null,
   "metadata": {},
   "outputs": [
    {
     "name": "stdout",
     "output_type": "stream",
     "text": [
      "no toca cambiar\n"
     ]
    }
   ],
   "source": [
    "import math\n",
    "\n",
    "if math.nan > 4:\n",
    "    print('Si toca cambiar')\n",
    "else:\n",
    "    print('no toca cambiar')"
   ]
  }
 ],
 "metadata": {
  "kernelspec": {
   "display_name": "Python 3",
   "language": "python",
   "name": "python3"
  },
  "language_info": {
   "codemirror_mode": {
    "name": "ipython",
    "version": 3
   },
   "file_extension": ".py",
   "mimetype": "text/x-python",
   "name": "python",
   "nbconvert_exporter": "python",
   "pygments_lexer": "ipython3",
   "version": "3.10.4"
  },
  "orig_nbformat": 4
 },
 "nbformat": 4,
 "nbformat_minor": 2
}
