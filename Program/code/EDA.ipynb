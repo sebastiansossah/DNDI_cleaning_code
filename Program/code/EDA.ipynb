{
 "cells": [
  {
   "cell_type": "code",
   "execution_count": 2,
   "metadata": {},
   "outputs": [],
   "source": [
    "import pandas as pd\n",
    "pd.set_option('display.max_columns', None)\n",
    "import os"
   ]
  },
  {
   "cell_type": "code",
   "execution_count": 3,
   "metadata": {},
   "outputs": [],
   "source": [
    "script_directory = os.path.dirname(os.path.abspath(__file__)) if '__file__' in locals() else os.getcwd()\n",
    "relative_folder_path = r\"data\\rangos_normales\"\n",
    "folder_path = os.path.join(script_directory.replace('\\code', ''), relative_folder_path)\n",
    "file = os.listdir(folder_path)\n",
    "path = f\"{folder_path}\\{file[0]}\"\n",
    "df_root = pd.read_csv(path, sep='\\t')"
   ]
  },
  {
   "cell_type": "code",
   "execution_count": 6,
   "metadata": {},
   "outputs": [
    {
     "data": {
      "text/html": [
       "<div>\n",
       "<style scoped>\n",
       "    .dataframe tbody tr th:only-of-type {\n",
       "        vertical-align: middle;\n",
       "    }\n",
       "\n",
       "    .dataframe tbody tr th {\n",
       "        vertical-align: top;\n",
       "    }\n",
       "\n",
       "    .dataframe thead th {\n",
       "        text-align: right;\n",
       "    }\n",
       "</style>\n",
       "<table border=\"1\" class=\"dataframe\">\n",
       "  <thead>\n",
       "    <tr style=\"text-align: right;\">\n",
       "      <th></th>\n",
       "      <th>field</th>\n",
       "      <th>min</th>\n",
       "      <th>max</th>\n",
       "      <th>gender</th>\n",
       "    </tr>\n",
       "  </thead>\n",
       "  <tbody>\n",
       "    <tr>\n",
       "      <th>0</th>\n",
       "      <td>Aspartate Aminotransferase (AST), Result (U/L)</td>\n",
       "      <td>11</td>\n",
       "      <td>34</td>\n",
       "      <td>0</td>\n",
       "    </tr>\n",
       "    <tr>\n",
       "      <th>1</th>\n",
       "      <td>Alanine Aminotransferase (ALT), Result (U/L)</td>\n",
       "      <td>0</td>\n",
       "      <td>45</td>\n",
       "      <td>1</td>\n",
       "    </tr>\n",
       "    <tr>\n",
       "      <th>2</th>\n",
       "      <td>Alanine Aminotransferase (ALT), Result (U/L)</td>\n",
       "      <td>0</td>\n",
       "      <td>34</td>\n",
       "      <td>2</td>\n",
       "    </tr>\n",
       "    <tr>\n",
       "      <th>3</th>\n",
       "      <td>Serum Creatinine, Result (mg/dL)</td>\n",
       "      <td>0,73</td>\n",
       "      <td>1,18</td>\n",
       "      <td>1</td>\n",
       "    </tr>\n",
       "    <tr>\n",
       "      <th>4</th>\n",
       "      <td>Serum Creatinine, Result (mg/dL)</td>\n",
       "      <td>0,55</td>\n",
       "      <td>1,02</td>\n",
       "      <td>2</td>\n",
       "    </tr>\n",
       "    <tr>\n",
       "      <th>5</th>\n",
       "      <td>Creatine Kinase (CK), Result (U/L)</td>\n",
       "      <td>30</td>\n",
       "      <td>200</td>\n",
       "      <td>1</td>\n",
       "    </tr>\n",
       "    <tr>\n",
       "      <th>6</th>\n",
       "      <td>Creatine Kinase (CK), Result (U/L)</td>\n",
       "      <td>29</td>\n",
       "      <td>168</td>\n",
       "      <td>2</td>\n",
       "    </tr>\n",
       "  </tbody>\n",
       "</table>\n",
       "</div>"
      ],
      "text/plain": [
       "                                            field   min   max  gender\n",
       "0  Aspartate Aminotransferase (AST), Result (U/L)    11    34       0\n",
       "1    Alanine Aminotransferase (ALT), Result (U/L)     0    45       1\n",
       "2    Alanine Aminotransferase (ALT), Result (U/L)     0    34       2\n",
       "3                Serum Creatinine, Result (mg/dL)  0,73  1,18       1\n",
       "4                Serum Creatinine, Result (mg/dL)  0,55  1,02       2\n",
       "5              Creatine Kinase (CK), Result (U/L)    30   200       1\n",
       "6              Creatine Kinase (CK), Result (U/L)    29   168       2"
      ]
     },
     "execution_count": 6,
     "metadata": {},
     "output_type": "execute_result"
    }
   ],
   "source": []
  },
  {
   "cell_type": "code",
   "execution_count": 15,
   "metadata": {},
   "outputs": [
    {
     "name": "stdout",
     "output_type": "stream",
     "text": [
      "\"Aspartate Aminotransferase (AST), Result (U/L)\"\n",
      "\"Alanine Aminotransferase (ALT), Result (U/L)\"\n",
      "\"Alanine Aminotransferase (ALT), Result (U/L)\"\n",
      "\"Serum Creatinine, Result (mg/dL)\"\n",
      "\"Serum Creatinine, Result (mg/dL)\"\n",
      "\"Creatine Kinase (CK), Result (U/L)\"\n",
      "\"Creatine Kinase (CK), Result (U/L)\"\n"
     ]
    }
   ],
   "source": [
    "for i in df_root['field'].tolist():\n",
    "    print(f'\"{i}\"')"
   ]
  },
  {
   "cell_type": "markdown",
   "metadata": {},
   "source": [
    "# Rangos normales code"
   ]
  },
  {
   "cell_type": "markdown",
   "metadata": {},
   "source": [
    "### Accesing when gender is required"
   ]
  },
  {
   "cell_type": "code",
   "execution_count": 18,
   "metadata": {},
   "outputs": [],
   "source": [
    "\n",
    "# Normals ranges file\n",
    "script_directory = os.path.dirname(os.path.abspath(__file__)) if '__file__' in locals() else os.getcwd()\n",
    "relative_folder_path = r\"data\\rangos_normales\"\n",
    "folder_path = os.path.join(script_directory.replace('\\code', ''), relative_folder_path)\n",
    "file = os.listdir(folder_path)\n",
    "path = f\"{folder_path}\\{[x for x in file if 'chemestry_D1' in x][0]}\" \n",
    "df_normal_ranges = pd.read_csv(path, sep=';')"
   ]
  },
  {
   "cell_type": "code",
   "execution_count": 4,
   "metadata": {},
   "outputs": [
    {
     "data": {
      "text/plain": [
       "0.0"
      ]
     },
     "execution_count": 4,
     "metadata": {},
     "output_type": "execute_result"
    }
   ],
   "source": [
    "float(df_normal_ranges[(df_normal_ranges['field']== \"Alanine Aminotransferase (ALT), Result (U/L)\") & (df_normal_ranges['gender']== 1)]['min'].iloc[0])"
   ]
  },
  {
   "cell_type": "code",
   "execution_count": 19,
   "metadata": {},
   "outputs": [
    {
     "data": {
      "text/plain": [
       "0.55"
      ]
     },
     "execution_count": 19,
     "metadata": {},
     "output_type": "execute_result"
    }
   ],
   "source": [
    "float(df_normal_ranges[(df_normal_ranges['field']== \"Serum Creatinine, Result (mg/dL)\") & (df_normal_ranges['gender']== 2)]['min'].iloc[0])"
   ]
  },
  {
   "cell_type": "code",
   "execution_count": 28,
   "metadata": {},
   "outputs": [
    {
     "data": {
      "text/html": [
       "<div>\n",
       "<style scoped>\n",
       "    .dataframe tbody tr th:only-of-type {\n",
       "        vertical-align: middle;\n",
       "    }\n",
       "\n",
       "    .dataframe tbody tr th {\n",
       "        vertical-align: top;\n",
       "    }\n",
       "\n",
       "    .dataframe thead th {\n",
       "        text-align: right;\n",
       "    }\n",
       "</style>\n",
       "<table border=\"1\" class=\"dataframe\">\n",
       "  <thead>\n",
       "    <tr style=\"text-align: right;\">\n",
       "      <th></th>\n",
       "      <th>field</th>\n",
       "      <th>min</th>\n",
       "      <th>max</th>\n",
       "      <th>gender</th>\n",
       "      <th>age_min</th>\n",
       "      <th>age_max</th>\n",
       "    </tr>\n",
       "  </thead>\n",
       "  <tbody>\n",
       "    <tr>\n",
       "      <th>0</th>\n",
       "      <td>Aspartate Aminotransferase (AST), Result (U/L)</td>\n",
       "      <td>11</td>\n",
       "      <td>34</td>\n",
       "      <td>0</td>\n",
       "      <td>NaN</td>\n",
       "      <td>NaN</td>\n",
       "    </tr>\n",
       "    <tr>\n",
       "      <th>1</th>\n",
       "      <td>Alanine Aminotransferase (ALT), Result (U/L)</td>\n",
       "      <td>0</td>\n",
       "      <td>45</td>\n",
       "      <td>1</td>\n",
       "      <td>NaN</td>\n",
       "      <td>NaN</td>\n",
       "    </tr>\n",
       "    <tr>\n",
       "      <th>2</th>\n",
       "      <td>Alanine Aminotransferase (ALT), Result (U/L)</td>\n",
       "      <td>0</td>\n",
       "      <td>34</td>\n",
       "      <td>2</td>\n",
       "      <td>NaN</td>\n",
       "      <td>NaN</td>\n",
       "    </tr>\n",
       "    <tr>\n",
       "      <th>3</th>\n",
       "      <td>Serum Creatinine, Result (mg/dL)</td>\n",
       "      <td>0,73</td>\n",
       "      <td>1,18</td>\n",
       "      <td>1</td>\n",
       "      <td>NaN</td>\n",
       "      <td>NaN</td>\n",
       "    </tr>\n",
       "    <tr>\n",
       "      <th>4</th>\n",
       "      <td>Serum Creatinine, Result (mg/dL)</td>\n",
       "      <td>0,55</td>\n",
       "      <td>1,02</td>\n",
       "      <td>2</td>\n",
       "      <td>NaN</td>\n",
       "      <td>NaN</td>\n",
       "    </tr>\n",
       "  </tbody>\n",
       "</table>\n",
       "</div>"
      ],
      "text/plain": [
       "                                            field   min   max  gender   \n",
       "0  Aspartate Aminotransferase (AST), Result (U/L)    11    34       0  \\\n",
       "1    Alanine Aminotransferase (ALT), Result (U/L)     0    45       1   \n",
       "2    Alanine Aminotransferase (ALT), Result (U/L)     0    34       2   \n",
       "3                Serum Creatinine, Result (mg/dL)  0,73  1,18       1   \n",
       "4                Serum Creatinine, Result (mg/dL)  0,55  1,02       2   \n",
       "\n",
       "   age_min  age_max  \n",
       "0      NaN      NaN  \n",
       "1      NaN      NaN  \n",
       "2      NaN      NaN  \n",
       "3      NaN      NaN  \n",
       "4      NaN      NaN  "
      ]
     },
     "execution_count": 28,
     "metadata": {},
     "output_type": "execute_result"
    }
   ],
   "source": [
    "df_normal_ranges.head()"
   ]
  },
  {
   "cell_type": "code",
   "execution_count": 5,
   "metadata": {},
   "outputs": [
    {
     "data": {
      "text/plain": [
       "'11'"
      ]
     },
     "execution_count": 5,
     "metadata": {},
     "output_type": "execute_result"
    }
   ],
   "source": [
    "df_normal_ranges[(df_normal_ranges['field']==\"Aspartate Aminotransferase (AST), Result (U/L)\") & (df_normal_ranges['gender']== 0)]['min'].iloc[0]\n",
    "#df_root[(df_root['field'] == \"Aspartate Aminotransferase (AST), Result (U/L)\") & (df_root['gender'] == 1)]['min'].iloc[0]\n"
   ]
  },
  {
   "cell_type": "markdown",
   "metadata": {},
   "source": [
    "### Accesing when no condition of gender or age"
   ]
  },
  {
   "cell_type": "code",
   "execution_count": 31,
   "metadata": {},
   "outputs": [
    {
     "data": {
      "text/plain": [
       "'11'"
      ]
     },
     "execution_count": 31,
     "metadata": {},
     "output_type": "execute_result"
    }
   ],
   "source": [
    "df_normal_ranges[df_normal_ranges['field']==\"Aspartate Aminotransferase (AST), Result (U/L)\"]['min'].iloc[0]"
   ]
  },
  {
   "cell_type": "code",
   "execution_count": 13,
   "metadata": {},
   "outputs": [
    {
     "name": "stdout",
     "output_type": "stream",
     "text": [
      "11.0\n"
     ]
    }
   ],
   "source": [
    "print(float(min))"
   ]
  },
  {
   "cell_type": "code",
   "execution_count": 3,
   "metadata": {},
   "outputs": [
    {
     "name": "stdout",
     "output_type": "stream",
     "text": [
      "60.0\n"
     ]
    }
   ],
   "source": [
    "from datetime import datetime\n",
    "\n",
    "print(float((datetime.strptime('11:00', '%H:%M') - datetime.strptime('10:00', '%H:%M')).total_seconds() / 60))"
   ]
  },
  {
   "cell_type": "code",
   "execution_count": 3,
   "metadata": {},
   "outputs": [
    {
     "name": "stdout",
     "output_type": "stream",
     "text": [
      "Is the participant eligible to randomization?\n",
      "Will the participant be randomized?\n",
      "Is the subject replacing a subject previously been randomized in the current study?\n"
     ]
    }
   ],
   "source": [
    "for i in df_root.Campo.unique():\n",
    "    if 'rand' in i.lower():\n",
    "        print(i)"
   ]
  },
  {
   "cell_type": "code",
   "execution_count": 16,
   "metadata": {},
   "outputs": [
    {
     "data": {
      "text/plain": [
       "array(['Screening Visit', 'D-1', 'D1', 'D2', 'D3', 'D4', 'D7', 'D14',\n",
       "       'D15', 'D16', 'D17', 'D18', 'D21', 'D28', 'D29', 'D30', 'D31',\n",
       "       'D32', 'D35', 'D42', 'D63', '-'], dtype=object)"
      ]
     },
     "execution_count": 16,
     "metadata": {},
     "output_type": "execute_result"
    }
   ],
   "source": [
    "df_root.Visit.unique() "
   ]
  },
  {
   "cell_type": "code",
   "execution_count": 27,
   "metadata": {},
   "outputs": [
    {
     "data": {
      "text/plain": [
       "Index(['Id Form', 'idCampo', 'Site', 'Visit', 'name', 'Genero',\n",
       "       'AñoNacimiento', 'NameActividad', 'activityState', 'fecha enrolado',\n",
       "       'Participante', 'Estado del Participante', 'identifierPrefix',\n",
       "       'Id Activityins', 'Instancia', 'Estado del campo', 'Campo', 'Valor',\n",
       "       'displayName', 'id option', 'Variable', 'visible', 'required',\n",
       "       'TipoDato', 'TypeQuery', 'MessageQuery', 'QueryState',\n",
       "       'vistaPrincipal.IdSubject'],\n",
       "      dtype='object')"
      ]
     },
     "execution_count": 27,
     "metadata": {},
     "output_type": "execute_result"
    }
   ],
   "source": [
    "df_root.columns"
   ]
  },
  {
   "cell_type": "code",
   "execution_count": 9,
   "metadata": {},
   "outputs": [
    {
     "data": {
      "text/plain": [
       "array(['Date of visit', 'Informed Consent', 'Demographics',\n",
       "       'History of cutaneous leishmaniasis', 'Covid 19 testing',\n",
       "       'Eligibility',\n",
       "       'Medical Or Surgical History (other than Leishmaniasis)',\n",
       "       'Vein assessment', 'Urinary Drug Screen', 'Alcohol Screen',\n",
       "       'Clinical Laboratory - Test Hematology',\n",
       "       'Clinical Laboratory Test - Clinical Chemistry',\n",
       "       'Clinical Laboratory Test - Coagulation',\n",
       "       'Immunoassay (Thyroid Stimulating Hormone)', 'Urinalysis',\n",
       "       'Urine Microscopic Examination', 'Virology', 'Lesion Measurement',\n",
       "       'Physical Examination', 'Vital Signs', '12-Lead ECG',\n",
       "       'Clinical Laboratory Test - Clinical Chemistry D-1',\n",
       "       'Interleukin-6', 'Titration Of Auto-Antibodies',\n",
       "       'End of Study Treatment (Miltefosine)',\n",
       "       'Injection Site Examination', 'PBMC Isolate',\n",
       "       'Pharmacokinetic Blood Sampling (PK)',\n",
       "       'Pharmacodynamic Blood Sampling (PD) -Cytokines/Chemokines',\n",
       "       'mRNA Markers', 'CpG ODN D35 Administration',\n",
       "       'Child Bearing Potential', 'Pregnancy Test',\n",
       "       'Prior And Concomitant Medications'], dtype=object)"
      ]
     },
     "execution_count": 9,
     "metadata": {},
     "output_type": "execute_result"
    }
   ],
   "source": [
    "df_root.name.unique()"
   ]
  },
  {
   "cell_type": "code",
   "execution_count": 5,
   "metadata": {},
   "outputs": [
    {
     "data": {
      "text/plain": [
       "array(['Screening Visit', 'D-1', 'D1', 'D2', 'D3', 'D4', 'D7', 'D14',\n",
       "       'D15', 'D16', 'D17', 'D18', 'D21', 'D28', 'D29', 'D30', 'D31',\n",
       "       'D32', 'D35', 'D42', 'D63', '-'], dtype=object)"
      ]
     },
     "execution_count": 5,
     "metadata": {},
     "output_type": "execute_result"
    }
   ],
   "source": [
    "df_root.Visit.unique()  "
   ]
  },
  {
   "cell_type": "code",
   "execution_count": 5,
   "metadata": {},
   "outputs": [],
   "source": [
    "formulario_elegido =   'Medical Or Surgical History (other than Leishmaniasis)'\n",
    "visita_elegida = 0\n",
    "campo_elegido = 0\n",
    "\n",
    "general_revision  = df_root[df_root['name']== formulario_elegido]\n",
    "general_revision = general_revision[['Visit','Participante', 'Campo', 'Valor']]\n",
    "if visita_elegida != 0:\n",
    "    general_revision = general_revision[general_revision['Visit'] == visita_elegida]\n",
    "\n",
    "if campo_elegido != 0:\n",
    "    general_revision = general_revision[general_revision['Campo']== campo_elegido]\n",
    "\n",
    "general_revision = general_revision[['Visit', 'Campo', 'Participante','Valor']]"
   ]
  },
  {
   "cell_type": "code",
   "execution_count": 8,
   "metadata": {},
   "outputs": [
    {
     "data": {
      "text/html": [
       "<div>\n",
       "<style scoped>\n",
       "    .dataframe tbody tr th:only-of-type {\n",
       "        vertical-align: middle;\n",
       "    }\n",
       "\n",
       "    .dataframe tbody tr th {\n",
       "        vertical-align: top;\n",
       "    }\n",
       "\n",
       "    .dataframe thead th {\n",
       "        text-align: right;\n",
       "    }\n",
       "</style>\n",
       "<table border=\"1\" class=\"dataframe\">\n",
       "  <thead>\n",
       "    <tr style=\"text-align: right;\">\n",
       "      <th></th>\n",
       "      <th>Visit</th>\n",
       "      <th>Campo</th>\n",
       "      <th>Participante</th>\n",
       "      <th>Valor</th>\n",
       "    </tr>\n",
       "  </thead>\n",
       "  <tbody>\n",
       "    <tr>\n",
       "      <th>3205</th>\n",
       "      <td>Screening Visit</td>\n",
       "      <td>Are there any relevant medical history or surg...</td>\n",
       "      <td>011002</td>\n",
       "      <td>1</td>\n",
       "    </tr>\n",
       "    <tr>\n",
       "      <th>3621</th>\n",
       "      <td>Screening Visit</td>\n",
       "      <td>Medical/Surgical History/Current Condition</td>\n",
       "      <td>011002</td>\n",
       "      <td>tubectomy</td>\n",
       "    </tr>\n",
       "    <tr>\n",
       "      <th>3622</th>\n",
       "      <td>Screening Visit</td>\n",
       "      <td>Onset Date/First Diagnosis/Surgery</td>\n",
       "      <td>011002</td>\n",
       "      <td>22-JUN-2023</td>\n",
       "    </tr>\n",
       "    <tr>\n",
       "      <th>3623</th>\n",
       "      <td>Screening Visit</td>\n",
       "      <td>Is Condition Ongoing?</td>\n",
       "      <td>011002</td>\n",
       "      <td>0</td>\n",
       "    </tr>\n",
       "    <tr>\n",
       "      <th>3624</th>\n",
       "      <td>Screening Visit</td>\n",
       "      <td>End Date</td>\n",
       "      <td>011002</td>\n",
       "      <td>22-JUN-2023</td>\n",
       "    </tr>\n",
       "    <tr>\n",
       "      <th>3625</th>\n",
       "      <td>Screening Visit</td>\n",
       "      <td>Medical/Surgical History/Current Condition</td>\n",
       "      <td>011002</td>\n",
       "      <td>unspecified acne</td>\n",
       "    </tr>\n",
       "    <tr>\n",
       "      <th>3626</th>\n",
       "      <td>Screening Visit</td>\n",
       "      <td>Onset Date/First Diagnosis/Surgery</td>\n",
       "      <td>011002</td>\n",
       "      <td>UNK-DEC-2023</td>\n",
       "    </tr>\n",
       "    <tr>\n",
       "      <th>3627</th>\n",
       "      <td>Screening Visit</td>\n",
       "      <td>Is Condition Ongoing?</td>\n",
       "      <td>011002</td>\n",
       "      <td>1</td>\n",
       "    </tr>\n",
       "    <tr>\n",
       "      <th>3628</th>\n",
       "      <td>Screening Visit</td>\n",
       "      <td>Severity</td>\n",
       "      <td>011002</td>\n",
       "      <td>1</td>\n",
       "    </tr>\n",
       "    <tr>\n",
       "      <th>3629</th>\n",
       "      <td>Screening Visit</td>\n",
       "      <td>Frequency</td>\n",
       "      <td>011002</td>\n",
       "      <td>2</td>\n",
       "    </tr>\n",
       "    <tr>\n",
       "      <th>3630</th>\n",
       "      <td>Screening Visit</td>\n",
       "      <td>Currently treated?</td>\n",
       "      <td>011002</td>\n",
       "      <td>0</td>\n",
       "    </tr>\n",
       "  </tbody>\n",
       "</table>\n",
       "</div>"
      ],
      "text/plain": [
       "                Visit                                              Campo   \n",
       "3205  Screening Visit  Are there any relevant medical history or surg...  \\\n",
       "3621  Screening Visit         Medical/Surgical History/Current Condition   \n",
       "3622  Screening Visit                 Onset Date/First Diagnosis/Surgery   \n",
       "3623  Screening Visit                              Is Condition Ongoing?   \n",
       "3624  Screening Visit                                           End Date   \n",
       "3625  Screening Visit         Medical/Surgical History/Current Condition   \n",
       "3626  Screening Visit                 Onset Date/First Diagnosis/Surgery   \n",
       "3627  Screening Visit                              Is Condition Ongoing?   \n",
       "3628  Screening Visit                                           Severity   \n",
       "3629  Screening Visit                                          Frequency   \n",
       "3630  Screening Visit                                 Currently treated?   \n",
       "\n",
       "     Participante             Valor  \n",
       "3205       011002                 1  \n",
       "3621       011002         tubectomy  \n",
       "3622       011002       22-JUN-2023  \n",
       "3623       011002                 0  \n",
       "3624       011002       22-JUN-2023  \n",
       "3625       011002  unspecified acne  \n",
       "3626       011002      UNK-DEC-2023  \n",
       "3627       011002                 1  \n",
       "3628       011002                 1  \n",
       "3629       011002                 2  \n",
       "3630       011002                 0  "
      ]
     },
     "execution_count": 8,
     "metadata": {},
     "output_type": "execute_result"
    }
   ],
   "source": [
    "general_revision[general_revision['Participante']=='011002']"
   ]
  },
  {
   "cell_type": "code",
   "execution_count": 9,
   "metadata": {},
   "outputs": [
    {
     "name": "stdout",
     "output_type": "stream",
     "text": [
      "'End of study/Early withdrawal date'\n",
      "'Did the participant complete the study?'\n",
      "'Date of last study treatment administration'\n",
      "'Was the study treatment completed per protocol?'\n",
      "'Primary reason for not completing the study'\n"
     ]
    }
   ],
   "source": [
    "for i in general_revision.Campo.unique():\n",
    "    print(f\"'{i}'\")"
   ]
  },
  {
   "cell_type": "code",
   "execution_count": 74,
   "metadata": {},
   "outputs": [
    {
     "data": {
      "text/html": [
       "<div>\n",
       "<style scoped>\n",
       "    .dataframe tbody tr th:only-of-type {\n",
       "        vertical-align: middle;\n",
       "    }\n",
       "\n",
       "    .dataframe tbody tr th {\n",
       "        vertical-align: top;\n",
       "    }\n",
       "\n",
       "    .dataframe thead th {\n",
       "        text-align: right;\n",
       "    }\n",
       "</style>\n",
       "<table border=\"1\" class=\"dataframe\">\n",
       "  <thead>\n",
       "    <tr style=\"text-align: right;\">\n",
       "      <th></th>\n",
       "      <th>Visit</th>\n",
       "      <th>Campo</th>\n",
       "      <th>Participante</th>\n",
       "      <th>Valor</th>\n",
       "    </tr>\n",
       "  </thead>\n",
       "  <tbody>\n",
       "    <tr>\n",
       "      <th>302</th>\n",
       "      <td>-</td>\n",
       "      <td>End of study/Early withdrawal date</td>\n",
       "      <td>011001</td>\n",
       "      <td>26-JAN-2024</td>\n",
       "    </tr>\n",
       "    <tr>\n",
       "      <th>303</th>\n",
       "      <td>-</td>\n",
       "      <td>Did the participant complete the study?</td>\n",
       "      <td>011001</td>\n",
       "      <td>1</td>\n",
       "    </tr>\n",
       "    <tr>\n",
       "      <th>304</th>\n",
       "      <td>-</td>\n",
       "      <td>Date of last study treatment administration</td>\n",
       "      <td>011001</td>\n",
       "      <td>28-NOV-2023</td>\n",
       "    </tr>\n",
       "    <tr>\n",
       "      <th>305</th>\n",
       "      <td>-</td>\n",
       "      <td>Was the study treatment completed per protocol?</td>\n",
       "      <td>011001</td>\n",
       "      <td>1</td>\n",
       "    </tr>\n",
       "    <tr>\n",
       "      <th>2695</th>\n",
       "      <td>-</td>\n",
       "      <td>End of study/Early withdrawal date</td>\n",
       "      <td>S002</td>\n",
       "      <td>27-NOV-2023</td>\n",
       "    </tr>\n",
       "    <tr>\n",
       "      <th>2696</th>\n",
       "      <td>-</td>\n",
       "      <td>Did the participant complete the study?</td>\n",
       "      <td>S002</td>\n",
       "      <td>0</td>\n",
       "    </tr>\n",
       "    <tr>\n",
       "      <th>2697</th>\n",
       "      <td>-</td>\n",
       "      <td>Primary reason for not completing the study</td>\n",
       "      <td>S002</td>\n",
       "      <td>1</td>\n",
       "    </tr>\n",
       "    <tr>\n",
       "      <th>2715</th>\n",
       "      <td>-</td>\n",
       "      <td>End of study/Early withdrawal date</td>\n",
       "      <td>S003</td>\n",
       "      <td>08-NOV-2023</td>\n",
       "    </tr>\n",
       "    <tr>\n",
       "      <th>2716</th>\n",
       "      <td>-</td>\n",
       "      <td>Did the participant complete the study?</td>\n",
       "      <td>S003</td>\n",
       "      <td>0</td>\n",
       "    </tr>\n",
       "    <tr>\n",
       "      <th>2717</th>\n",
       "      <td>-</td>\n",
       "      <td>Primary reason for not completing the study</td>\n",
       "      <td>S003</td>\n",
       "      <td>1</td>\n",
       "    </tr>\n",
       "    <tr>\n",
       "      <th>2981</th>\n",
       "      <td>-</td>\n",
       "      <td>End of study/Early withdrawal date</td>\n",
       "      <td>S004</td>\n",
       "      <td>11-JAN-2024</td>\n",
       "    </tr>\n",
       "    <tr>\n",
       "      <th>2982</th>\n",
       "      <td>-</td>\n",
       "      <td>Did the participant complete the study?</td>\n",
       "      <td>S004</td>\n",
       "      <td>0</td>\n",
       "    </tr>\n",
       "    <tr>\n",
       "      <th>2983</th>\n",
       "      <td>-</td>\n",
       "      <td>Primary reason for not completing the study</td>\n",
       "      <td>S004</td>\n",
       "      <td>1</td>\n",
       "    </tr>\n",
       "  </tbody>\n",
       "</table>\n",
       "</div>"
      ],
      "text/plain": [
       "     Visit                                            Campo Participante   \n",
       "302      -               End of study/Early withdrawal date       011001  \\\n",
       "303      -          Did the participant complete the study?       011001   \n",
       "304      -      Date of last study treatment administration       011001   \n",
       "305      -  Was the study treatment completed per protocol?       011001   \n",
       "2695     -               End of study/Early withdrawal date         S002   \n",
       "2696     -          Did the participant complete the study?         S002   \n",
       "2697     -      Primary reason for not completing the study         S002   \n",
       "2715     -               End of study/Early withdrawal date         S003   \n",
       "2716     -          Did the participant complete the study?         S003   \n",
       "2717     -      Primary reason for not completing the study         S003   \n",
       "2981     -               End of study/Early withdrawal date         S004   \n",
       "2982     -          Did the participant complete the study?         S004   \n",
       "2983     -      Primary reason for not completing the study         S004   \n",
       "\n",
       "            Valor  \n",
       "302   26-JAN-2024  \n",
       "303             1  \n",
       "304   28-NOV-2023  \n",
       "305             1  \n",
       "2695  27-NOV-2023  \n",
       "2696            0  \n",
       "2697            1  \n",
       "2715  08-NOV-2023  \n",
       "2716            0  \n",
       "2717            1  \n",
       "2981  11-JAN-2024  \n",
       "2982            0  \n",
       "2983            1  "
      ]
     },
     "execution_count": 74,
     "metadata": {},
     "output_type": "execute_result"
    }
   ],
   "source": [
    "general_revision.head(70)"
   ]
  },
  {
   "cell_type": "code",
   "execution_count": 27,
   "metadata": {},
   "outputs": [
    {
     "data": {
      "text/html": [
       "<div>\n",
       "<style scoped>\n",
       "    .dataframe tbody tr th:only-of-type {\n",
       "        vertical-align: middle;\n",
       "    }\n",
       "\n",
       "    .dataframe tbody tr th {\n",
       "        vertical-align: top;\n",
       "    }\n",
       "\n",
       "    .dataframe thead th {\n",
       "        text-align: right;\n",
       "    }\n",
       "</style>\n",
       "<table border=\"1\" class=\"dataframe\">\n",
       "  <thead>\n",
       "    <tr style=\"text-align: right;\">\n",
       "      <th></th>\n",
       "      <th>Visit</th>\n",
       "      <th>Campo</th>\n",
       "      <th>Participante</th>\n",
       "      <th>Valor</th>\n",
       "    </tr>\n",
       "  </thead>\n",
       "  <tbody>\n",
       "    <tr>\n",
       "      <th>302</th>\n",
       "      <td>-</td>\n",
       "      <td>End of study/Early withdrawal date</td>\n",
       "      <td>011001</td>\n",
       "      <td>26-JAN-2024</td>\n",
       "    </tr>\n",
       "    <tr>\n",
       "      <th>303</th>\n",
       "      <td>-</td>\n",
       "      <td>Did the participant complete the study?</td>\n",
       "      <td>011001</td>\n",
       "      <td>1</td>\n",
       "    </tr>\n",
       "    <tr>\n",
       "      <th>304</th>\n",
       "      <td>-</td>\n",
       "      <td>Date of last study treatment administration</td>\n",
       "      <td>011001</td>\n",
       "      <td>28-NOV-2023</td>\n",
       "    </tr>\n",
       "    <tr>\n",
       "      <th>305</th>\n",
       "      <td>-</td>\n",
       "      <td>Was the study treatment completed per protocol?</td>\n",
       "      <td>011001</td>\n",
       "      <td>1</td>\n",
       "    </tr>\n",
       "  </tbody>\n",
       "</table>\n",
       "</div>"
      ],
      "text/plain": [
       "    Visit                                            Campo Participante   \n",
       "302     -               End of study/Early withdrawal date       011001  \\\n",
       "303     -          Did the participant complete the study?       011001   \n",
       "304     -      Date of last study treatment administration       011001   \n",
       "305     -  Was the study treatment completed per protocol?       011001   \n",
       "\n",
       "           Valor  \n",
       "302  26-JAN-2024  \n",
       "303            1  \n",
       "304  28-NOV-2023  \n",
       "305            1  "
      ]
     },
     "execution_count": 27,
     "metadata": {},
     "output_type": "execute_result"
    }
   ],
   "source": [
    "general_revision[general_revision['Participante']== '011001' ].head(50)"
   ]
  },
  {
   "cell_type": "code",
   "execution_count": 30,
   "metadata": {},
   "outputs": [
    {
     "data": {
      "text/html": [
       "<div>\n",
       "<style scoped>\n",
       "    .dataframe tbody tr th:only-of-type {\n",
       "        vertical-align: middle;\n",
       "    }\n",
       "\n",
       "    .dataframe tbody tr th {\n",
       "        vertical-align: top;\n",
       "    }\n",
       "\n",
       "    .dataframe thead th {\n",
       "        text-align: right;\n",
       "    }\n",
       "</style>\n",
       "<table border=\"1\" class=\"dataframe\">\n",
       "  <thead>\n",
       "    <tr style=\"text-align: right;\">\n",
       "      <th></th>\n",
       "      <th>Visit</th>\n",
       "      <th>Campo</th>\n",
       "      <th>Participante</th>\n",
       "      <th>Valor</th>\n",
       "    </tr>\n",
       "  </thead>\n",
       "  <tbody>\n",
       "    <tr>\n",
       "      <th>2603</th>\n",
       "      <td>-</td>\n",
       "      <td>Date of dosing</td>\n",
       "      <td>011001</td>\n",
       "      <td>31-OCT-2023</td>\n",
       "    </tr>\n",
       "    <tr>\n",
       "      <th>2888</th>\n",
       "      <td>-</td>\n",
       "      <td>Date of dosing</td>\n",
       "      <td>011001</td>\n",
       "      <td>14-NOV-2023</td>\n",
       "    </tr>\n",
       "    <tr>\n",
       "      <th>2894</th>\n",
       "      <td>-</td>\n",
       "      <td>Date of dosing</td>\n",
       "      <td>011001</td>\n",
       "      <td>28-NOV-2023</td>\n",
       "    </tr>\n",
       "  </tbody>\n",
       "</table>\n",
       "</div>"
      ],
      "text/plain": [
       "     Visit           Campo Participante        Valor\n",
       "2603     -  Date of dosing       011001  31-OCT-2023\n",
       "2888     -  Date of dosing       011001  14-NOV-2023\n",
       "2894     -  Date of dosing       011001  28-NOV-2023"
      ]
     },
     "execution_count": 30,
     "metadata": {},
     "output_type": "execute_result"
    }
   ],
   "source": [
    "general_revision[general_revision['Campo']== 'Date of dosing' ].head(50)"
   ]
  },
  {
   "cell_type": "code",
   "execution_count": 10,
   "metadata": {},
   "outputs": [],
   "source": [
    "formulario_elegido =  'Prior And Concomitant Medications'\n",
    "visita_elegida = 0\n",
    "campo_elegido = 0\n",
    "\n",
    "general_revision  = df_root[df_root['name']== formulario_elegido]\n",
    "general_revision = general_revision[['Visit','Participante', 'Campo', 'Valor']]\n",
    "if visita_elegida != 0:\n",
    "    general_revision = general_revision[general_revision['Visit']in ['D2', 'D16', 'D30']]\n",
    "\n",
    "if campo_elegido != 0:\n",
    "    general_revision = general_revision[general_revision['Campo']== campo_elegido]\n",
    "\n",
    "general_revision = general_revision[['Visit', 'Campo', 'Participante','Valor']]"
   ]
  },
  {
   "cell_type": "code",
   "execution_count": 14,
   "metadata": {},
   "outputs": [
    {
     "data": {
      "text/html": [
       "<div>\n",
       "<style scoped>\n",
       "    .dataframe tbody tr th:only-of-type {\n",
       "        vertical-align: middle;\n",
       "    }\n",
       "\n",
       "    .dataframe tbody tr th {\n",
       "        vertical-align: top;\n",
       "    }\n",
       "\n",
       "    .dataframe thead th {\n",
       "        text-align: right;\n",
       "    }\n",
       "</style>\n",
       "<table border=\"1\" class=\"dataframe\">\n",
       "  <thead>\n",
       "    <tr style=\"text-align: right;\">\n",
       "      <th></th>\n",
       "      <th>Visit</th>\n",
       "      <th>Campo</th>\n",
       "      <th>Participante</th>\n",
       "      <th>Valor</th>\n",
       "    </tr>\n",
       "  </thead>\n",
       "  <tbody>\n",
       "    <tr>\n",
       "      <th>3610</th>\n",
       "      <td>-</td>\n",
       "      <td>Concomitant Medication ID</td>\n",
       "      <td>S005</td>\n",
       "      <td>1</td>\n",
       "    </tr>\n",
       "    <tr>\n",
       "      <th>3611</th>\n",
       "      <td>-</td>\n",
       "      <td>Drug Name</td>\n",
       "      <td>S005</td>\n",
       "      <td>omeprozole</td>\n",
       "    </tr>\n",
       "    <tr>\n",
       "      <th>3612</th>\n",
       "      <td>-</td>\n",
       "      <td>Indication</td>\n",
       "      <td>S005</td>\n",
       "      <td>chronic gastritis</td>\n",
       "    </tr>\n",
       "    <tr>\n",
       "      <th>3613</th>\n",
       "      <td>-</td>\n",
       "      <td>Indication Category</td>\n",
       "      <td>S005</td>\n",
       "      <td>2</td>\n",
       "    </tr>\n",
       "    <tr>\n",
       "      <th>3614</th>\n",
       "      <td>-</td>\n",
       "      <td>Medical History ID</td>\n",
       "      <td>S005</td>\n",
       "      <td>1</td>\n",
       "    </tr>\n",
       "    <tr>\n",
       "      <th>3615</th>\n",
       "      <td>-</td>\n",
       "      <td>Dose per Administration</td>\n",
       "      <td>S005</td>\n",
       "      <td>20</td>\n",
       "    </tr>\n",
       "    <tr>\n",
       "      <th>3616</th>\n",
       "      <td>-</td>\n",
       "      <td>Unit</td>\n",
       "      <td>S005</td>\n",
       "      <td>mg</td>\n",
       "    </tr>\n",
       "    <tr>\n",
       "      <th>3617</th>\n",
       "      <td>-</td>\n",
       "      <td>Frequency</td>\n",
       "      <td>S005</td>\n",
       "      <td>1</td>\n",
       "    </tr>\n",
       "    <tr>\n",
       "      <th>3618</th>\n",
       "      <td>-</td>\n",
       "      <td>Route</td>\n",
       "      <td>S005</td>\n",
       "      <td>1</td>\n",
       "    </tr>\n",
       "    <tr>\n",
       "      <th>3619</th>\n",
       "      <td>-</td>\n",
       "      <td>Start date</td>\n",
       "      <td>S005</td>\n",
       "      <td>UNK-UNK-2022</td>\n",
       "    </tr>\n",
       "    <tr>\n",
       "      <th>3620</th>\n",
       "      <td>-</td>\n",
       "      <td>Ongoing</td>\n",
       "      <td>S005</td>\n",
       "      <td>1</td>\n",
       "    </tr>\n",
       "  </tbody>\n",
       "</table>\n",
       "</div>"
      ],
      "text/plain": [
       "     Visit                      Campo Participante              Valor\n",
       "3610     -  Concomitant Medication ID         S005                  1\n",
       "3611     -                  Drug Name         S005         omeprozole\n",
       "3612     -                 Indication         S005  chronic gastritis\n",
       "3613     -        Indication Category         S005                  2\n",
       "3614     -         Medical History ID         S005                  1\n",
       "3615     -    Dose per Administration         S005                 20\n",
       "3616     -                       Unit         S005                 mg\n",
       "3617     -                  Frequency         S005                  1\n",
       "3618     -                      Route         S005                  1\n",
       "3619     -                 Start date         S005       UNK-UNK-2022\n",
       "3620     -                    Ongoing         S005                  1"
      ]
     },
     "execution_count": 14,
     "metadata": {},
     "output_type": "execute_result"
    }
   ],
   "source": [
    "general_revision"
   ]
  },
  {
   "cell_type": "code",
   "execution_count": 8,
   "metadata": {},
   "outputs": [
    {
     "data": {
      "text/html": [
       "<div>\n",
       "<style scoped>\n",
       "    .dataframe tbody tr th:only-of-type {\n",
       "        vertical-align: middle;\n",
       "    }\n",
       "\n",
       "    .dataframe tbody tr th {\n",
       "        vertical-align: top;\n",
       "    }\n",
       "\n",
       "    .dataframe thead th {\n",
       "        text-align: right;\n",
       "    }\n",
       "</style>\n",
       "<table border=\"1\" class=\"dataframe\">\n",
       "  <thead>\n",
       "    <tr style=\"text-align: right;\">\n",
       "      <th></th>\n",
       "      <th>Visit</th>\n",
       "      <th>Campo</th>\n",
       "      <th>Participante</th>\n",
       "      <th>Valor</th>\n",
       "    </tr>\n",
       "  </thead>\n",
       "  <tbody>\n",
       "  </tbody>\n",
       "</table>\n",
       "</div>"
      ],
      "text/plain": [
       "Empty DataFrame\n",
       "Columns: [Visit, Campo, Participante, Valor]\n",
       "Index: []"
      ]
     },
     "execution_count": 8,
     "metadata": {},
     "output_type": "execute_result"
    }
   ],
   "source": [
    "general_revision[general_revision['Campo']=='60-mins post dose, Time']"
   ]
  },
  {
   "cell_type": "code",
   "execution_count": 9,
   "metadata": {},
   "outputs": [],
   "source": [
    "df__lession  = df_root[df_root['name']=='Lesion Measurement']\n",
    "df__lession = df__lession[['Visit','Participante', 'Campo', 'Valor']]\n",
    "df__lession = df__lession[df__lession['Visit']=='Screening Visit']\n",
    "df__lession = df__lession[df__lession['Campo']=='Anatomical Location']\n",
    "df__lession = df__lession[['Visit','Participante','Valor']]\n",
    "df__lession = df__lession.rename(columns={'Participante':'Subject', 'Valor':'lesion_measurement'})\n",
    "df__lession['Count'] = len(df__lession['lesion_measurement'])\n",
    "df__lession = df__lession[['Visit','Subject','Count']]\n",
    "# df_with_counts = df__lession.merge(subject_counts, left_on='Subject', right_on='Subject')\n",
    "# df_with_counts = df_with_counts[['Visit','Subject','Count']]"
   ]
  },
  {
   "cell_type": "code",
   "execution_count": 10,
   "metadata": {},
   "outputs": [
    {
     "data": {
      "text/plain": [
       "array(['25-OCT-2023', '31-OCT-2023', '14-NOV-2023', '28-NOV-2023',\n",
       "       '12-DEC-2023'], dtype=object)"
      ]
     },
     "execution_count": 10,
     "metadata": {},
     "output_type": "execute_result"
    }
   ],
   "source": [
    "df_root[df_root['Campo']=='Date of ECG Performed'].Valor.unique()"
   ]
  },
  {
   "cell_type": "code",
   "execution_count": null,
   "metadata": {},
   "outputs": [
    {
     "data": {
      "text/html": [
       "<div>\n",
       "<style scoped>\n",
       "    .dataframe tbody tr th:only-of-type {\n",
       "        vertical-align: middle;\n",
       "    }\n",
       "\n",
       "    .dataframe tbody tr th {\n",
       "        vertical-align: top;\n",
       "    }\n",
       "\n",
       "    .dataframe thead th {\n",
       "        text-align: right;\n",
       "    }\n",
       "</style>\n",
       "<table border=\"1\" class=\"dataframe\">\n",
       "  <thead>\n",
       "    <tr style=\"text-align: right;\">\n",
       "      <th></th>\n",
       "      <th>Visit</th>\n",
       "      <th>Subject</th>\n",
       "      <th>Count</th>\n",
       "    </tr>\n",
       "  </thead>\n",
       "  <tbody>\n",
       "    <tr>\n",
       "      <th>300</th>\n",
       "      <td>Screening Visit</td>\n",
       "      <td>011001</td>\n",
       "      <td>2</td>\n",
       "    </tr>\n",
       "    <tr>\n",
       "      <th>309</th>\n",
       "      <td>Screening Visit</td>\n",
       "      <td>011001</td>\n",
       "      <td>2</td>\n",
       "    </tr>\n",
       "  </tbody>\n",
       "</table>\n",
       "</div>"
      ],
      "text/plain": [
       "               Visit Subject  Count\n",
       "300  Screening Visit  011001      2\n",
       "309  Screening Visit  011001      2"
      ]
     },
     "execution_count": 9,
     "metadata": {},
     "output_type": "execute_result"
    }
   ],
   "source": [
    "df__lession"
   ]
  },
  {
   "cell_type": "code",
   "execution_count": null,
   "metadata": {},
   "outputs": [
    {
     "data": {
      "text/plain": [
       "array(['DATA_VERIFIED', 'DATA_ENTRY_COMPLETE', 'DATA_ENTRY_INCOMPLETE',\n",
       "       'DATA_EMPTY'], dtype=object)"
      ]
     },
     "execution_count": 10,
     "metadata": {},
     "output_type": "execute_result"
    }
   ],
   "source": [
    "df_root.activityState.unique()"
   ]
  },
  {
   "cell_type": "code",
   "execution_count": null,
   "metadata": {},
   "outputs": [
    {
     "data": {
      "text/plain": [
       "array(['011001', 'S002', 'S003'], dtype=object)"
      ]
     },
     "execution_count": 11,
     "metadata": {},
     "output_type": "execute_result"
    }
   ],
   "source": [
    "df_root.Participante.unique()"
   ]
  },
  {
   "cell_type": "code",
   "execution_count": null,
   "metadata": {},
   "outputs": [
    {
     "name": "stderr",
     "output_type": "stream",
     "text": [
      "C:\\Users\\sebastian sossa\\AppData\\Local\\Temp\\ipykernel_21716\\1665216494.py:4: SettingWithCopyWarning: \n",
      "A value is trying to be set on a copy of a slice from a DataFrame.\n",
      "Try using .loc[row_indexer,col_indexer] = value instead\n",
      "\n",
      "See the caveats in the documentation: https://pandas.pydata.org/pandas-docs/stable/user_guide/indexing.html#returning-a-view-versus-a-copy\n",
      "  prueba1['time_dosing_cpg_administration'] =  prueba[prueba['Instancia'].isin(prueba1['Instancia'] + 1) & (prueba['Campo'] == 'Time of Dosing')]['Valor'].values\n"
     ]
    },
    {
     "data": {
      "text/html": [
       "<div>\n",
       "<style scoped>\n",
       "    .dataframe tbody tr th:only-of-type {\n",
       "        vertical-align: middle;\n",
       "    }\n",
       "\n",
       "    .dataframe tbody tr th {\n",
       "        vertical-align: top;\n",
       "    }\n",
       "\n",
       "    .dataframe thead th {\n",
       "        text-align: right;\n",
       "    }\n",
       "</style>\n",
       "<table border=\"1\" class=\"dataframe\">\n",
       "  <thead>\n",
       "    <tr style=\"text-align: right;\">\n",
       "      <th></th>\n",
       "      <th>Subject</th>\n",
       "      <th>Campo</th>\n",
       "      <th>date_cpg_administration</th>\n",
       "      <th>time_dosing_cpg_administration</th>\n",
       "      <th>Instancia</th>\n",
       "    </tr>\n",
       "  </thead>\n",
       "  <tbody>\n",
       "    <tr>\n",
       "      <th>2603</th>\n",
       "      <td>011001</td>\n",
       "      <td>Date of dosing</td>\n",
       "      <td>31-OCT-2023</td>\n",
       "      <td>09:36</td>\n",
       "      <td>17797</td>\n",
       "    </tr>\n",
       "    <tr>\n",
       "      <th>2888</th>\n",
       "      <td>011001</td>\n",
       "      <td>Date of dosing</td>\n",
       "      <td>14-NOV-2023</td>\n",
       "      <td>09:05</td>\n",
       "      <td>21664</td>\n",
       "    </tr>\n",
       "    <tr>\n",
       "      <th>2894</th>\n",
       "      <td>011001</td>\n",
       "      <td>Date of dosing</td>\n",
       "      <td>28-NOV-2023</td>\n",
       "      <td>10:12</td>\n",
       "      <td>21678</td>\n",
       "    </tr>\n",
       "  </tbody>\n",
       "</table>\n",
       "</div>"
      ],
      "text/plain": [
       "     Subject           Campo date_cpg_administration   \n",
       "2603  011001  Date of dosing             31-OCT-2023  \\\n",
       "2888  011001  Date of dosing             14-NOV-2023   \n",
       "2894  011001  Date of dosing             28-NOV-2023   \n",
       "\n",
       "     time_dosing_cpg_administration  Instancia  \n",
       "2603                          09:36      17797  \n",
       "2888                          09:05      21664  \n",
       "2894                          10:12      21678  "
      ]
     },
     "execution_count": 15,
     "metadata": {},
     "output_type": "execute_result"
    }
   ],
   "source": [
    "prueba = df_root[df_root['name']=='CpG ODN D35 Administration'].sort_values(by='Instancia')\n",
    "prueba = prueba[(prueba['Campo']=='Date of dosing') | (prueba['Campo']=='Time of Dosing')]\n",
    "prueba1 = prueba[prueba['Campo']=='Date of dosing']\n",
    "prueba1['time_dosing_cpg_administration'] =  prueba[prueba['Instancia'].isin(prueba1['Instancia'] + 1) & (prueba['Campo'] == 'Time of Dosing')]['Valor'].values\n",
    "prueba1 =prueba1[['Participante', 'Campo', 'Valor', 'time_dosing_cpg_administration' ,'Instancia']]\n",
    "prueba1 = prueba1.rename(columns={'Participante':'Subject', 'Valor':'date_cpg_administration'})\n",
    "prueba1\n"
   ]
  },
  {
   "cell_type": "code",
   "execution_count": null,
   "metadata": {},
   "outputs": [
    {
     "name": "stderr",
     "output_type": "stream",
     "text": [
      "C:\\Users\\sebastian sossa\\AppData\\Local\\Temp\\ipykernel_21716\\1862077006.py:4: SettingWithCopyWarning: \n",
      "A value is trying to be set on a copy of a slice from a DataFrame.\n",
      "Try using .loc[row_indexer,col_indexer] = value instead\n",
      "\n",
      "See the caveats in the documentation: https://pandas.pydata.org/pandas-docs/stable/user_guide/indexing.html#returning-a-view-versus-a-copy\n",
      "  df_time_dosing['time_dosing_cpg_administration'] =  df_time_dosing1[df_time_dosing1['Instancia'].isin(df_time_dosing['Instancia'] + 1) & (df_time_dosing1['Campo'] == 'Time of Dosing')]['Valor'].values\n"
     ]
    }
   ],
   "source": [
    "df_time_dosing1_miltefosine_miltefosine_miltefosine_miltefosine = df_root[df_root['name']=='CpG ODN D35 Administration'].sort_values(by='Instancia')\n",
    "df_time_milteosine = df_time_milteosine[(df_time_milteosine['Campo']=='Date of dosing') | (df_time_milteosine['Campo']=='Time of Dosing')]\n",
    "df_time_dosing = df_time_milteosine[df_time_milteosine['Campo']=='Date of dosing']\n",
    "df_time_dosing['time_dosing_cpg_administration'] =  df_time_milteosine[df_time_milteosine['Instancia'].isin(df_time_dosing['Instancia'] + 1) & (df_time_milteosine['Campo'] == 'Time of Dosing')]['Valor'].values\n",
    "df_time_dosing =df_time_dosing[['Participante', 'Campo', 'Valor', 'time_dosing_cpg_administration']]\n",
    "df_time_dosing = df_time_dosing.rename(columns={'Participante':'Subject', 'Valor':'date_ex_to_join'})"
   ]
  },
  {
   "cell_type": "code",
   "execution_count": null,
   "metadata": {},
   "outputs": [
    {
     "data": {
      "text/html": [
       "<div>\n",
       "<style scoped>\n",
       "    .dataframe tbody tr th:only-of-type {\n",
       "        vertical-align: middle;\n",
       "    }\n",
       "\n",
       "    .dataframe tbody tr th {\n",
       "        vertical-align: top;\n",
       "    }\n",
       "\n",
       "    .dataframe thead th {\n",
       "        text-align: right;\n",
       "    }\n",
       "</style>\n",
       "<table border=\"1\" class=\"dataframe\">\n",
       "  <thead>\n",
       "    <tr style=\"text-align: right;\">\n",
       "      <th></th>\n",
       "      <th>Subject</th>\n",
       "      <th>Campo</th>\n",
       "      <th>date_ex_to_join</th>\n",
       "      <th>time_dosing_cpg_administration</th>\n",
       "    </tr>\n",
       "  </thead>\n",
       "  <tbody>\n",
       "    <tr>\n",
       "      <th>2603</th>\n",
       "      <td>011001</td>\n",
       "      <td>Date of dosing</td>\n",
       "      <td>31-OCT-2023</td>\n",
       "      <td>09:36</td>\n",
       "    </tr>\n",
       "    <tr>\n",
       "      <th>2888</th>\n",
       "      <td>011001</td>\n",
       "      <td>Date of dosing</td>\n",
       "      <td>14-NOV-2023</td>\n",
       "      <td>09:05</td>\n",
       "    </tr>\n",
       "    <tr>\n",
       "      <th>2894</th>\n",
       "      <td>011001</td>\n",
       "      <td>Date of dosing</td>\n",
       "      <td>28-NOV-2023</td>\n",
       "      <td>10:12</td>\n",
       "    </tr>\n",
       "  </tbody>\n",
       "</table>\n",
       "</div>"
      ],
      "text/plain": [
       "     Subject           Campo date_ex_to_join time_dosing_cpg_administration\n",
       "2603  011001  Date of dosing     31-OCT-2023                          09:36\n",
       "2888  011001  Date of dosing     14-NOV-2023                          09:05\n",
       "2894  011001  Date of dosing     28-NOV-2023                          10:12"
      ]
     },
     "execution_count": 17,
     "metadata": {},
     "output_type": "execute_result"
    }
   ],
   "source": [
    "df_time_dosing"
   ]
  },
  {
   "cell_type": "code",
   "execution_count": null,
   "metadata": {},
   "outputs": [
    {
     "ename": "KeyError",
     "evalue": "\"['FormFieldInstance Id'] not in index\"",
     "output_type": "error",
     "traceback": [
      "\u001b[1;31m---------------------------------------------------------------------------\u001b[0m",
      "\u001b[1;31mKeyError\u001b[0m                                  Traceback (most recent call last)",
      "Input \u001b[1;32mIn [18]\u001b[0m, in \u001b[0;36m<cell line: 2>\u001b[1;34m()\u001b[0m\n\u001b[0;32m      1\u001b[0m df_time_dosing \u001b[38;5;241m=\u001b[39m df_root[df_root[\u001b[38;5;124m'\u001b[39m\u001b[38;5;124mname\u001b[39m\u001b[38;5;124m'\u001b[39m]\u001b[38;5;241m==\u001b[39m\u001b[38;5;124m'\u001b[39m\u001b[38;5;124mCpG ODN D35 Administration\u001b[39m\u001b[38;5;124m'\u001b[39m]\n\u001b[1;32m----> 2\u001b[0m df_time_dosing \u001b[38;5;241m=\u001b[39m \u001b[43mdf_time_dosing\u001b[49m\u001b[43m[\u001b[49m\u001b[43m[\u001b[49m\u001b[38;5;124;43m'\u001b[39;49m\u001b[38;5;124;43mParticipante\u001b[39;49m\u001b[38;5;124;43m'\u001b[39;49m\u001b[43m,\u001b[49m\u001b[43m \u001b[49m\u001b[38;5;124;43m'\u001b[39;49m\u001b[38;5;124;43mCampo\u001b[39;49m\u001b[38;5;124;43m'\u001b[39;49m\u001b[43m,\u001b[49m\u001b[43m \u001b[49m\u001b[38;5;124;43m'\u001b[39;49m\u001b[38;5;124;43mValor\u001b[39;49m\u001b[38;5;124;43m'\u001b[39;49m\u001b[43m,\u001b[49m\u001b[43m \u001b[49m\u001b[38;5;124;43m'\u001b[39;49m\u001b[38;5;124;43mFormFieldInstance Id\u001b[39;49m\u001b[38;5;124;43m'\u001b[39;49m\u001b[43m]\u001b[49m\u001b[43m]\u001b[49m\n\u001b[0;32m      3\u001b[0m df_time_dosing \u001b[38;5;241m=\u001b[39m df_time_dosing[df_time_dosing[\u001b[38;5;124m'\u001b[39m\u001b[38;5;124mCampo\u001b[39m\u001b[38;5;124m'\u001b[39m]\u001b[38;5;241m==\u001b[39m\u001b[38;5;124m'\u001b[39m\u001b[38;5;124mWas the visit performed?\u001b[39m\u001b[38;5;124m'\u001b[39m]\n\u001b[0;32m      4\u001b[0m df_time_dosing \u001b[38;5;241m=\u001b[39m df_time_dosing[[\u001b[38;5;124m'\u001b[39m\u001b[38;5;124mVisit\u001b[39m\u001b[38;5;124m'\u001b[39m,\u001b[38;5;124m'\u001b[39m\u001b[38;5;124mParticipante\u001b[39m\u001b[38;5;124m'\u001b[39m,\u001b[38;5;124m'\u001b[39m\u001b[38;5;124mValor_completo\u001b[39m\u001b[38;5;124m'\u001b[39m]]\n",
      "File \u001b[1;32mc:\\Users\\sebastian sossa\\AppData\\Local\\Programs\\Python\\Python310\\lib\\site-packages\\pandas\\core\\frame.py:3767\u001b[0m, in \u001b[0;36mDataFrame.__getitem__\u001b[1;34m(self, key)\u001b[0m\n\u001b[0;32m   3765\u001b[0m     \u001b[38;5;28;01mif\u001b[39;00m is_iterator(key):\n\u001b[0;32m   3766\u001b[0m         key \u001b[38;5;241m=\u001b[39m \u001b[38;5;28mlist\u001b[39m(key)\n\u001b[1;32m-> 3767\u001b[0m     indexer \u001b[38;5;241m=\u001b[39m \u001b[38;5;28;43mself\u001b[39;49m\u001b[38;5;241;43m.\u001b[39;49m\u001b[43mcolumns\u001b[49m\u001b[38;5;241;43m.\u001b[39;49m\u001b[43m_get_indexer_strict\u001b[49m\u001b[43m(\u001b[49m\u001b[43mkey\u001b[49m\u001b[43m,\u001b[49m\u001b[43m \u001b[49m\u001b[38;5;124;43m\"\u001b[39;49m\u001b[38;5;124;43mcolumns\u001b[39;49m\u001b[38;5;124;43m\"\u001b[39;49m\u001b[43m)\u001b[49m[\u001b[38;5;241m1\u001b[39m]\n\u001b[0;32m   3769\u001b[0m \u001b[38;5;66;03m# take() does not accept boolean indexers\u001b[39;00m\n\u001b[0;32m   3770\u001b[0m \u001b[38;5;28;01mif\u001b[39;00m \u001b[38;5;28mgetattr\u001b[39m(indexer, \u001b[38;5;124m\"\u001b[39m\u001b[38;5;124mdtype\u001b[39m\u001b[38;5;124m\"\u001b[39m, \u001b[38;5;28;01mNone\u001b[39;00m) \u001b[38;5;241m==\u001b[39m \u001b[38;5;28mbool\u001b[39m:\n",
      "File \u001b[1;32mc:\\Users\\sebastian sossa\\AppData\\Local\\Programs\\Python\\Python310\\lib\\site-packages\\pandas\\core\\indexes\\base.py:5876\u001b[0m, in \u001b[0;36mIndex._get_indexer_strict\u001b[1;34m(self, key, axis_name)\u001b[0m\n\u001b[0;32m   5873\u001b[0m \u001b[38;5;28;01melse\u001b[39;00m:\n\u001b[0;32m   5874\u001b[0m     keyarr, indexer, new_indexer \u001b[38;5;241m=\u001b[39m \u001b[38;5;28mself\u001b[39m\u001b[38;5;241m.\u001b[39m_reindex_non_unique(keyarr)\n\u001b[1;32m-> 5876\u001b[0m \u001b[38;5;28;43mself\u001b[39;49m\u001b[38;5;241;43m.\u001b[39;49m\u001b[43m_raise_if_missing\u001b[49m\u001b[43m(\u001b[49m\u001b[43mkeyarr\u001b[49m\u001b[43m,\u001b[49m\u001b[43m \u001b[49m\u001b[43mindexer\u001b[49m\u001b[43m,\u001b[49m\u001b[43m \u001b[49m\u001b[43maxis_name\u001b[49m\u001b[43m)\u001b[49m\n\u001b[0;32m   5878\u001b[0m keyarr \u001b[38;5;241m=\u001b[39m \u001b[38;5;28mself\u001b[39m\u001b[38;5;241m.\u001b[39mtake(indexer)\n\u001b[0;32m   5879\u001b[0m \u001b[38;5;28;01mif\u001b[39;00m \u001b[38;5;28misinstance\u001b[39m(key, Index):\n\u001b[0;32m   5880\u001b[0m     \u001b[38;5;66;03m# GH 42790 - Preserve name from an Index\u001b[39;00m\n",
      "File \u001b[1;32mc:\\Users\\sebastian sossa\\AppData\\Local\\Programs\\Python\\Python310\\lib\\site-packages\\pandas\\core\\indexes\\base.py:5938\u001b[0m, in \u001b[0;36mIndex._raise_if_missing\u001b[1;34m(self, key, indexer, axis_name)\u001b[0m\n\u001b[0;32m   5935\u001b[0m     \u001b[38;5;28;01mraise\u001b[39;00m \u001b[38;5;167;01mKeyError\u001b[39;00m(\u001b[38;5;124mf\u001b[39m\u001b[38;5;124m\"\u001b[39m\u001b[38;5;124mNone of [\u001b[39m\u001b[38;5;132;01m{\u001b[39;00mkey\u001b[38;5;132;01m}\u001b[39;00m\u001b[38;5;124m] are in the [\u001b[39m\u001b[38;5;132;01m{\u001b[39;00maxis_name\u001b[38;5;132;01m}\u001b[39;00m\u001b[38;5;124m]\u001b[39m\u001b[38;5;124m\"\u001b[39m)\n\u001b[0;32m   5937\u001b[0m not_found \u001b[38;5;241m=\u001b[39m \u001b[38;5;28mlist\u001b[39m(ensure_index(key)[missing_mask\u001b[38;5;241m.\u001b[39mnonzero()[\u001b[38;5;241m0\u001b[39m]]\u001b[38;5;241m.\u001b[39munique())\n\u001b[1;32m-> 5938\u001b[0m \u001b[38;5;28;01mraise\u001b[39;00m \u001b[38;5;167;01mKeyError\u001b[39;00m(\u001b[38;5;124mf\u001b[39m\u001b[38;5;124m\"\u001b[39m\u001b[38;5;132;01m{\u001b[39;00mnot_found\u001b[38;5;132;01m}\u001b[39;00m\u001b[38;5;124m not in index\u001b[39m\u001b[38;5;124m\"\u001b[39m)\n",
      "\u001b[1;31mKeyError\u001b[0m: \"['FormFieldInstance Id'] not in index\""
     ]
    }
   ],
   "source": [
    "df_time_dosing = df_root[df_root['name']=='CpG ODN D35 Administration']\n",
    "df_time_dosing = df_time_dosing[['Participante', 'Campo', 'Valor', 'FormFieldInstance Id']]\n",
    "df_time_dosing = df_time_dosing[df_time_dosing['Campo']=='Was the visit performed?']\n",
    "df_time_dosing = df_time_dosing[['Visit','Participante','Valor_completo']]\n",
    "df_time_dosing = df_time_dosing.rename(columns={'Participante':'Subject', 'Valor_completo':'was_DV_performed'})"
   ]
  },
  {
   "cell_type": "code",
   "execution_count": 18,
   "metadata": {},
   "outputs": [],
   "source": [
    "df_contraception = df_root[df_root['name']== 'Prior And Concomitant Medications']\n",
    "df_contraception = df_contraception[['Visit','Participante', 'Campo', 'Valor', 'Instancia']]\n",
    "df_contraception = df_contraception.sort_values(by=['Instancia'])\n",
    "df_contraception = df_contraception.reset_index(drop=True)\n",
    "date_indices = df_contraception.index[df_contraception['Campo'] == 'Concomitant Medication ID'].tolist()"
   ]
  },
  {
   "cell_type": "code",
   "execution_count": 19,
   "metadata": {},
   "outputs": [
    {
     "data": {
      "text/plain": [
       "[0]"
      ]
     },
     "execution_count": 19,
     "metadata": {},
     "output_type": "execute_result"
    }
   ],
   "source": [
    "date_indices"
   ]
  },
  {
   "cell_type": "code",
   "execution_count": 16,
   "metadata": {},
   "outputs": [],
   "source": [
    "df_contraception = df_root[df_root['name']== 'Prior And Concomitant Medications']\n",
    "df_contraception = df_contraception[['Visit','Participante', 'Campo', 'Valor', 'Instancia']]\n",
    "df_contraception = df_contraception.sort_values(by=['Instancia'])\n",
    "df_contraception = df_contraception.reset_index(drop=True)\n",
    "date_indices = df_contraception.index[df_contraception['Campo'] == 'Concomitant Medication ID'].tolist()\n",
    "subdatasets = [df_contraception.iloc[start:end] for start, end in zip(date_indices, date_indices[1:] + [None])]\n",
    "df_to_join = pd.DataFrame()\n",
    "for sub in subdatasets:\n",
    "    #if sub['Valor'].tolist()  in [5, 5.0, '5', '5.0', 9]:\n",
    "    if len([float(x) for x in sub['Valor'].tolist() if x in [5, 5.0, '5', '5.0', 9]]) != 0:\n",
    "        df_to_join = sub[(sub['Campo'] == 'Indication Category') | (sub['Campo'] == 'Start date')]\n",
    "        sujeto = df_to_join.Participante.unique()\n",
    "        df_to_join = df_to_join[['Campo', 'Valor']].T\n",
    "        new_columns = df_to_join.iloc[0]\n",
    "        df_to_join = df_to_join[1:].set_axis(new_columns, axis=1)\n",
    "        df_to_join['Subject'] = sujeto\n",
    "        break\n",
    "df_to_join = df_to_join.rename(columns={'Participante':'Subject', 'Start date':'start_date_combined_hormonal'})"
   ]
  },
  {
   "cell_type": "code",
   "execution_count": 17,
   "metadata": {},
   "outputs": [
    {
     "data": {
      "text/html": [
       "<div>\n",
       "<style scoped>\n",
       "    .dataframe tbody tr th:only-of-type {\n",
       "        vertical-align: middle;\n",
       "    }\n",
       "\n",
       "    .dataframe tbody tr th {\n",
       "        vertical-align: top;\n",
       "    }\n",
       "\n",
       "    .dataframe thead th {\n",
       "        text-align: right;\n",
       "    }\n",
       "</style>\n",
       "<table border=\"1\" class=\"dataframe\">\n",
       "  <thead>\n",
       "    <tr style=\"text-align: right;\">\n",
       "      <th></th>\n",
       "    </tr>\n",
       "  </thead>\n",
       "  <tbody>\n",
       "  </tbody>\n",
       "</table>\n",
       "</div>"
      ],
      "text/plain": [
       "Empty DataFrame\n",
       "Columns: []\n",
       "Index: []"
      ]
     },
     "execution_count": 17,
     "metadata": {},
     "output_type": "execute_result"
    }
   ],
   "source": [
    "df_to_join"
   ]
  },
  {
   "cell_type": "code",
   "execution_count": null,
   "metadata": {},
   "outputs": [
    {
     "data": {
      "text/plain": [
       "array(['Was the ECG performed?', 'Date of ECG Performed',\n",
       "       'Undefined, HR (bpm)', 'Undefined, RR (msec)',\n",
       "       'Undefined, PR (msec)', 'Undefined, QRS (msec)',\n",
       "       'Undefined, QT (msec)', 'Undefined, QTcF (msec)',\n",
       "       'Undefined, Interpretation', 'Pre dose triplicate 1, Time 24 hrs',\n",
       "       'Pre dose triplicate 1, HR (bpm)',\n",
       "       'Pre dose triplicate 1, RR (msec)',\n",
       "       'Pre dose triplicate 1, PR (msec)',\n",
       "       'Pre dose triplicate 1, QRS (msec)',\n",
       "       'Pre dose triplicate 1, QT (msec)',\n",
       "       'Pre dose triplicate 1, QTcF (msec)',\n",
       "       'Pre dose triplicate 1, Interpretation',\n",
       "       'Pre dose triplicate 1, If abnormal, specify',\n",
       "       'Pre dose triplicate 1, Please specify abnormal interpretation',\n",
       "       'Pre dose triplicate 2, Time 24 hrs',\n",
       "       'Pre dose triplicate 2, HR (bpm)',\n",
       "       'Pre dose triplicate 2, RR (msec)',\n",
       "       'Pre dose triplicate 2, PR (msec)',\n",
       "       'Pre dose triplicate 2, QRS (msec)',\n",
       "       'Pre dose triplicate 2, QT (msec)',\n",
       "       'Pre dose triplicate 2, QTcF (msec)',\n",
       "       'Pre dose triplicate 2, Interpretation',\n",
       "       'Pre dose triplicate 2, If abnormal, specify',\n",
       "       'Pre dose triplicate 2, Please specify abnormal interpretation',\n",
       "       'Pre dose triplicate 3, Time 24 hrs',\n",
       "       'Pre dose triplicate 3, HR (bpm)',\n",
       "       'Pre dose triplicate 3, RR (msec)',\n",
       "       'Pre dose triplicate 3, PR (msec)',\n",
       "       'Pre dose triplicate 3, QRS (msec)',\n",
       "       'Pre dose triplicate 3, QT (msec)',\n",
       "       'Pre dose triplicate 3, QTcF (msec)',\n",
       "       'Pre dose triplicate 3, Interpretation',\n",
       "       'Pre dose triplicate 3, If abnormal, specify',\n",
       "       'Pre dose triplicate 3, Please specify abnormal interpretation',\n",
       "       '15-min post dose, Time 24 hrs', '15-min post dose, HR (bpm)',\n",
       "       '15-min post dose, RR (msec)', '15-min post dose, PR (msec)',\n",
       "       '15-min post dose, QRS (msec)', '15-min post dose, QT (msec)',\n",
       "       '15-min post dose, QTcF (msec)',\n",
       "       '15-min post dose, Interpretation',\n",
       "       '15-min post dose, If abnormal, specify',\n",
       "       '15-min post dose, Please specify abnormal interpretation',\n",
       "       '30-min post dose, Time 24 hrs', '30-min post dose, HR (bpm)',\n",
       "       '30-min post dose, RR (msec)', '30-min post dose, PR (msec)',\n",
       "       '30-min post dose, QRS (msec)', '30-min post dose, QT (msec)',\n",
       "       '30-min post dose, QTcF (msec)',\n",
       "       '30-min post dose, Interpretation',\n",
       "       '30-min post dose, If abnormal, specify',\n",
       "       '30-min post dose, Please specify abnormal interpretation',\n",
       "       '60-min post dose, Time 24 hrs', '60-min post dose, HR (bpm)',\n",
       "       '60-min post dose, RR (msec)', '60-min post dose, PR (msec)',\n",
       "       '60-min post dose, QRS (msec)', '60-min post dose, QT (msec)',\n",
       "       '60-min post dose, QTcF (msec)',\n",
       "       '60-min post dose, Interpretation',\n",
       "       '60-min post dose, If abnormal, specify',\n",
       "       '60-min post dose, Please specify abnormal interpretation'],\n",
       "      dtype=object)"
      ]
     },
     "execution_count": 7,
     "metadata": {},
     "output_type": "execute_result"
    }
   ],
   "source": [
    "pru.Campo.unique()"
   ]
  },
  {
   "cell_type": "code",
   "execution_count": null,
   "metadata": {},
   "outputs": [
    {
     "name": "stdout",
     "output_type": "stream",
     "text": [
      "08:20\n",
      "08:25\n"
     ]
    }
   ],
   "source": [
    "triplicate_1 = pru[pru['Campo']=='Pre dose triplicate 1, Time 24 hrs'].Valor.unique()[0]\n",
    "triplicate_2 = pru[pru['Campo']=='Pre dose triplicate 2, Time 24 hrs'].Valor.unique()[0]\n",
    "print(triplicate_1)\n",
    "print(triplicate_2)"
   ]
  },
  {
   "cell_type": "code",
   "execution_count": null,
   "metadata": {},
   "outputs": [
    {
     "name": "stdout",
     "output_type": "stream",
     "text": [
      "5.0\n"
     ]
    }
   ],
   "source": [
    "from datetime import datetime\n",
    "time_format = '%H:%M'\n",
    "triplicate_1_formated = datetime.strptime(triplicate_1, time_format)\n",
    "triplicate_2_formated = datetime.strptime(triplicate_2, time_format)\n",
    "\n",
    "time_difference = (triplicate_2_formated - triplicate_1_formated).total_seconds() / 60\n",
    "print(time_difference)\n"
   ]
  },
  {
   "cell_type": "code",
   "execution_count": null,
   "metadata": {},
   "outputs": [
    {
     "name": "stdout",
     "output_type": "stream",
     "text": [
      "Si funciona asi\n"
     ]
    }
   ],
   "source": [
    "import math\n",
    "import numpy as np\n",
    "prueba_variable = np.nan\n",
    "\n",
    "if math.isnan(float(prueba_variable)):\n",
    "    print('Si funciona asi')\n",
    "else:\n",
    "    print('No funciona asi') "
   ]
  },
  {
   "cell_type": "code",
   "execution_count": null,
   "metadata": {},
   "outputs": [
    {
     "name": "stdout",
     "output_type": "stream",
     "text": [
      "no toca cambiar\n"
     ]
    }
   ],
   "source": [
    "import math\n",
    "\n",
    "if math.nan > 4:\n",
    "    print('Si toca cambiar')\n",
    "else:\n",
    "    print('no toca cambiar')"
   ]
  },
  {
   "cell_type": "markdown",
   "metadata": {},
   "source": [
    "## Pruebas con datos root"
   ]
  },
  {
   "cell_type": "code",
   "execution_count": 3,
   "metadata": {},
   "outputs": [],
   "source": [
    "\n",
    "# Normals ranges file\n",
    "script_directory = os.path.dirname(os.path.abspath(__file__)) if '__file__' in locals() else os.getcwd()\n",
    "relative_folder_path = \"data\"\n",
    "folder_path = os.path.join(script_directory.replace('\\code', ''), relative_folder_path)\n",
    "file = os.listdir(folder_path)\n",
    "path = f\"{folder_path}\\{file[0]}\" \n",
    "df_root = pd.read_excel(path)"
   ]
  },
  {
   "cell_type": "code",
   "execution_count": 8,
   "metadata": {},
   "outputs": [],
   "source": [
    "df_administration_miltefosine = df_root[df_root['name']==  'Miltefosine Administration']\n",
    "df_administration_miltefosine = df_administration_miltefosine[['Visit','Participante', 'Campo', 'Valor']]\n",
    "df_administration_miltefosine = df_administration_miltefosine[df_administration_miltefosine['Campo'] == 'Date of dosing']\n",
    "df_administration_miltefosine['Valor'] = pd.to_datetime(df_administration_miltefosine['Valor'], format='%d-%b-%Y')\n",
    "max_per_participante = df_administration_miltefosine.groupby('Participante')['Valor'].transform('min')\n",
    "df_administration_miltefosine = df_administration_miltefosine[df_administration_miltefosine['Valor'] == max_per_participante]\n",
    "df_administration_miltefosine['Valor'] = pd.to_datetime(df_administration_miltefosine['Valor']).dt.strftime('%d-%b-%Y').str.upper()\n",
    "df_administration_miltefosine = df_administration_miltefosine[['Participante','Valor']].drop_duplicates()\n",
    "df_administration_miltefosine = df_administration_miltefosine.rename(columns={'Participante':'Subject', 'Valor':'date_dosing_miltefosine'})"
   ]
  },
  {
   "cell_type": "code",
   "execution_count": 9,
   "metadata": {},
   "outputs": [
    {
     "data": {
      "text/html": [
       "<div>\n",
       "<style scoped>\n",
       "    .dataframe tbody tr th:only-of-type {\n",
       "        vertical-align: middle;\n",
       "    }\n",
       "\n",
       "    .dataframe tbody tr th {\n",
       "        vertical-align: top;\n",
       "    }\n",
       "\n",
       "    .dataframe thead th {\n",
       "        text-align: right;\n",
       "    }\n",
       "</style>\n",
       "<table border=\"1\" class=\"dataframe\">\n",
       "  <thead>\n",
       "    <tr style=\"text-align: right;\">\n",
       "      <th></th>\n",
       "      <th>Subject</th>\n",
       "      <th>date_dosing_miltefosine</th>\n",
       "    </tr>\n",
       "  </thead>\n",
       "  <tbody>\n",
       "    <tr>\n",
       "      <th>4660</th>\n",
       "      <td>011002</td>\n",
       "      <td>20-FEB-2024</td>\n",
       "    </tr>\n",
       "  </tbody>\n",
       "</table>\n",
       "</div>"
      ],
      "text/plain": [
       "     Subject date_dosing_miltefosine\n",
       "4660  011002             20-FEB-2024"
      ]
     },
     "execution_count": 9,
     "metadata": {},
     "output_type": "execute_result"
    }
   ],
   "source": [
    "df_administration_miltefosine"
   ]
  },
  {
   "cell_type": "code",
   "execution_count": 14,
   "metadata": {},
   "outputs": [],
   "source": [
    "df_adverse = df_root[df_root['name']=='Adverse Events']['Participante'].tolist()"
   ]
  },
  {
   "cell_type": "code",
   "execution_count": 16,
   "metadata": {},
   "outputs": [
    {
     "data": {
      "text/plain": [
       "{'011002'}"
      ]
     },
     "execution_count": 16,
     "metadata": {},
     "output_type": "execute_result"
    }
   ],
   "source": [
    "set(df_adverse)"
   ]
  },
  {
   "cell_type": "code",
   "execution_count": 10,
   "metadata": {},
   "outputs": [],
   "source": [
    "\n",
    "df_adverse = df_root[df_root['name']=='Adverse Events']"
   ]
  },
  {
   "cell_type": "code",
   "execution_count": 49,
   "metadata": {},
   "outputs": [],
   "source": [
    "\n",
    "dataframe_join_adverse = pd.DataFrame()\n",
    "for sujeto_adverse in set(df_root[df_root['name']=='Adverse Events']['Participante'].tolist()):\n",
    "\n",
    "    df_adverse = df_root[df_root['Participante']==sujeto_adverse]\n",
    "    df_adverse = df_adverse[df_adverse['name']=='Adverse Events']\n",
    "\n",
    "    df_adverse = df_adverse.sort_values(by=['Instancia'], ascending=True)\n",
    "    df_adverse = df_adverse.reset_index(drop=True)\n",
    "\n",
    "    date_indices = df_adverse.index[df_adverse['Campo'] == 'Adverse Event Reported Term'].tolist()\n",
    "    subdatasets = [df_adverse.iloc[start:end] for start, end in zip(date_indices, date_indices[1:] + [None])]\n",
    "\n",
    "    for subdataset in subdatasets:\n",
    "\n",
    "        pru_adverse = subdataset[['Campo', 'Valor']].T\n",
    "        new_columns_adverse = pru_adverse.iloc[0]\n",
    "        pru_adverse = pru_adverse[1:].set_axis(new_columns_adverse, axis=1)\n",
    "        pru_adverse['Subject'] = sujeto_adverse\n",
    "        pru_adverse = pru_adverse[pru_adverse['Action taken with study treatment (Miltefosine)'].isin([1,2,3,4,5,6,7,8,9,99,'1','2','3','4','5','6','7','8','9','99',1.0,2.0,3.0,4.0,5.0,6.0,7.0,8.0,9.0,99.0 ])]\n",
    "        pru_adverse =pru_adverse[['Start Date', 'Action taken with study treatment (Miltefosine)']]\n",
    "        pru_adverse = pru_adverse.rename(columns={'Start Date':'to_join', 'Action taken with study treatment (Miltefosine)': 'Action_taken_miltefosine' })\n",
    "  \n",
    "        dataframe_join_adverse = pd.concat([dataframe_join_adverse, pru_adverse], ignore_index=True)\n",
    "\n",
    "        "
   ]
  },
  {
   "cell_type": "code",
   "execution_count": 50,
   "metadata": {},
   "outputs": [
    {
     "data": {
      "text/html": [
       "<div>\n",
       "<style scoped>\n",
       "    .dataframe tbody tr th:only-of-type {\n",
       "        vertical-align: middle;\n",
       "    }\n",
       "\n",
       "    .dataframe tbody tr th {\n",
       "        vertical-align: top;\n",
       "    }\n",
       "\n",
       "    .dataframe thead th {\n",
       "        text-align: right;\n",
       "    }\n",
       "</style>\n",
       "<table border=\"1\" class=\"dataframe\">\n",
       "  <thead>\n",
       "    <tr style=\"text-align: right;\">\n",
       "      <th>Campo</th>\n",
       "      <th>to_join</th>\n",
       "      <th>Action_taken_miltefosine</th>\n",
       "    </tr>\n",
       "  </thead>\n",
       "  <tbody>\n",
       "    <tr>\n",
       "      <th>0</th>\n",
       "      <td>20-FEB-2024</td>\n",
       "      <td>1</td>\n",
       "    </tr>\n",
       "    <tr>\n",
       "      <th>1</th>\n",
       "      <td>21-FEB-2024</td>\n",
       "      <td>1</td>\n",
       "    </tr>\n",
       "    <tr>\n",
       "      <th>2</th>\n",
       "      <td>21-FEB-2024</td>\n",
       "      <td>1</td>\n",
       "    </tr>\n",
       "    <tr>\n",
       "      <th>3</th>\n",
       "      <td>01-MAR-2024</td>\n",
       "      <td>1</td>\n",
       "    </tr>\n",
       "    <tr>\n",
       "      <th>4</th>\n",
       "      <td>07-MAR-2024</td>\n",
       "      <td>1</td>\n",
       "    </tr>\n",
       "  </tbody>\n",
       "</table>\n",
       "</div>"
      ],
      "text/plain": [
       "Campo      to_join Action_taken_miltefosine\n",
       "0      20-FEB-2024                        1\n",
       "1      21-FEB-2024                        1\n",
       "2      21-FEB-2024                        1\n",
       "3      01-MAR-2024                        1\n",
       "4      07-MAR-2024                        1"
      ]
     },
     "execution_count": 50,
     "metadata": {},
     "output_type": "execute_result"
    }
   ],
   "source": [
    "dataframe_join_adverse"
   ]
  },
  {
   "cell_type": "code",
   "execution_count": 25,
   "metadata": {},
   "outputs": [],
   "source": [
    "df_concomitant_medication = df_root[df_root['name']== 'Prior And Concomitant Medications']\n",
    "df_concomitant_medication = df_concomitant_medication[['Visit','Participante', 'Campo', 'Valor', 'Variable' ]]\n",
    "df_concomitant_medication = df_concomitant_medication[df_concomitant_medication['Variable'].isin(['CMTRT'])]\n",
    "df_concomitant_medication['concomitant_medication_name'] = df_concomitant_medication.groupby('Participante')['Valor'].transform('count')\n",
    "df_concomitant_medication = df_concomitant_medication[['Participante', 'concomitant_medication_name']].drop_duplicates()\n",
    "df_concomitant_medication = df_concomitant_medication.rename(columns={'Participante':'Subject'})"
   ]
  },
  {
   "cell_type": "code",
   "execution_count": 26,
   "metadata": {},
   "outputs": [
    {
     "data": {
      "text/html": [
       "<div>\n",
       "<style scoped>\n",
       "    .dataframe tbody tr th:only-of-type {\n",
       "        vertical-align: middle;\n",
       "    }\n",
       "\n",
       "    .dataframe tbody tr th {\n",
       "        vertical-align: top;\n",
       "    }\n",
       "\n",
       "    .dataframe thead th {\n",
       "        text-align: right;\n",
       "    }\n",
       "</style>\n",
       "<table border=\"1\" class=\"dataframe\">\n",
       "  <thead>\n",
       "    <tr style=\"text-align: right;\">\n",
       "      <th></th>\n",
       "      <th>Visit</th>\n",
       "      <th>Participante</th>\n",
       "      <th>Campo</th>\n",
       "      <th>Valor</th>\n",
       "      <th>Variable</th>\n",
       "    </tr>\n",
       "  </thead>\n",
       "  <tbody>\n",
       "    <tr>\n",
       "      <th>3492</th>\n",
       "      <td>-</td>\n",
       "      <td>S005</td>\n",
       "      <td>Drug Name</td>\n",
       "      <td>omeprazole</td>\n",
       "      <td>CMTRT</td>\n",
       "    </tr>\n",
       "    <tr>\n",
       "      <th>4697</th>\n",
       "      <td>-</td>\n",
       "      <td>011002</td>\n",
       "      <td>Drug Name</td>\n",
       "      <td>omeprazole</td>\n",
       "      <td>CMTRT</td>\n",
       "    </tr>\n",
       "    <tr>\n",
       "      <th>4709</th>\n",
       "      <td>-</td>\n",
       "      <td>011002</td>\n",
       "      <td>Drug Name</td>\n",
       "      <td>Trimebutine</td>\n",
       "      <td>CMTRT</td>\n",
       "    </tr>\n",
       "    <tr>\n",
       "      <th>5007</th>\n",
       "      <td>-</td>\n",
       "      <td>011002</td>\n",
       "      <td>Drug Name</td>\n",
       "      <td>calendula suspension</td>\n",
       "      <td>CMTRT</td>\n",
       "    </tr>\n",
       "    <tr>\n",
       "      <th>5033</th>\n",
       "      <td>-</td>\n",
       "      <td>011002</td>\n",
       "      <td>Drug Name</td>\n",
       "      <td>omeprazole</td>\n",
       "      <td>CMTRT</td>\n",
       "    </tr>\n",
       "    <tr>\n",
       "      <th>5043</th>\n",
       "      <td>-</td>\n",
       "      <td>011002</td>\n",
       "      <td>Drug Name</td>\n",
       "      <td>calendula suspension</td>\n",
       "      <td>CMTRT</td>\n",
       "    </tr>\n",
       "    <tr>\n",
       "      <th>5053</th>\n",
       "      <td>-</td>\n",
       "      <td>011002</td>\n",
       "      <td>Drug Name</td>\n",
       "      <td>Bilastine</td>\n",
       "      <td>CMTRT</td>\n",
       "    </tr>\n",
       "  </tbody>\n",
       "</table>\n",
       "</div>"
      ],
      "text/plain": [
       "     Visit Participante      Campo                 Valor Variable\n",
       "3492     -         S005  Drug Name            omeprazole    CMTRT\n",
       "4697     -       011002  Drug Name            omeprazole    CMTRT\n",
       "4709     -       011002  Drug Name           Trimebutine    CMTRT\n",
       "5007     -       011002  Drug Name  calendula suspension    CMTRT\n",
       "5033     -       011002  Drug Name            omeprazole    CMTRT\n",
       "5043     -       011002  Drug Name  calendula suspension    CMTRT\n",
       "5053     -       011002  Drug Name             Bilastine    CMTRT"
      ]
     },
     "execution_count": 26,
     "metadata": {},
     "output_type": "execute_result"
    }
   ],
   "source": [
    "df_concomitant_medication"
   ]
  }
 ],
 "metadata": {
  "kernelspec": {
   "display_name": "Python 3",
   "language": "python",
   "name": "python3"
  },
  "language_info": {
   "codemirror_mode": {
    "name": "ipython",
    "version": 3
   },
   "file_extension": ".py",
   "mimetype": "text/x-python",
   "name": "python",
   "nbconvert_exporter": "python",
   "pygments_lexer": "ipython3",
   "version": "3.10.4"
  },
  "orig_nbformat": 4
 },
 "nbformat": 4,
 "nbformat_minor": 2
}
