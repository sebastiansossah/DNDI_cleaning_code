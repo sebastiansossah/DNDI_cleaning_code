{
 "cells": [
  {
   "cell_type": "code",
   "execution_count": 1,
   "metadata": {},
   "outputs": [],
   "source": [
    "import pandas as pd\n",
    "import os"
   ]
  },
  {
   "cell_type": "code",
   "execution_count": 2,
   "metadata": {},
   "outputs": [],
   "source": [
    "script_directory = os.path.dirname(os.path.abspath(__file__)) if '__file__' in locals() else os.getcwd()\n",
    "relative_folder_path = \"data\"\n",
    "folder_path = os.path.join(script_directory.replace('\\code', ''), relative_folder_path)\n",
    "file = os.listdir(folder_path)\n",
    "path = f\"{folder_path}\\{file[0]}\"\n",
    "df_root = pd.read_excel(path)"
   ]
  },
  {
   "cell_type": "code",
   "execution_count": 22,
   "metadata": {},
   "outputs": [],
   "source": [
    "df__lession  = df_root[df_root['name']=='Lesion Measurement']\n",
    "df__lession = df__lession[['Visit','Participante', 'Campo', 'Valor']]\n",
    "df__lession = df__lession[df__lession['Visit']=='Screening Visit']\n",
    "df__lession = df__lession[df__lession['Campo']=='Anatomical Location']\n",
    "df__lession = df__lession[['Visit','Participante','Valor']]\n",
    "df__lession = df__lession.rename(columns={'Participante':'Subject', 'Valor':'lesion_measurement'})\n",
    "df__lession['Count'] = len(df__lession['lesion_measurement'])\n",
    "df__lession = df__lession[['Visit','Subject','Count']]\n",
    "# df_with_counts = df__lession.merge(subject_counts, left_on='Subject', right_on='Subject')\n",
    "# df_with_counts = df_with_counts[['Visit','Subject','Count']]"
   ]
  },
  {
   "cell_type": "code",
   "execution_count": 23,
   "metadata": {},
   "outputs": [
    {
     "data": {
      "text/html": [
       "<div>\n",
       "<style scoped>\n",
       "    .dataframe tbody tr th:only-of-type {\n",
       "        vertical-align: middle;\n",
       "    }\n",
       "\n",
       "    .dataframe tbody tr th {\n",
       "        vertical-align: top;\n",
       "    }\n",
       "\n",
       "    .dataframe thead th {\n",
       "        text-align: right;\n",
       "    }\n",
       "</style>\n",
       "<table border=\"1\" class=\"dataframe\">\n",
       "  <thead>\n",
       "    <tr style=\"text-align: right;\">\n",
       "      <th></th>\n",
       "      <th>Visit</th>\n",
       "      <th>Subject</th>\n",
       "      <th>Count</th>\n",
       "    </tr>\n",
       "  </thead>\n",
       "  <tbody>\n",
       "    <tr>\n",
       "      <th>300</th>\n",
       "      <td>Screening Visit</td>\n",
       "      <td>011001</td>\n",
       "      <td>4</td>\n",
       "    </tr>\n",
       "    <tr>\n",
       "      <th>309</th>\n",
       "      <td>Screening Visit</td>\n",
       "      <td>011001</td>\n",
       "      <td>4</td>\n",
       "    </tr>\n",
       "    <tr>\n",
       "      <th>1816</th>\n",
       "      <td>Screening Visit</td>\n",
       "      <td>S002</td>\n",
       "      <td>4</td>\n",
       "    </tr>\n",
       "    <tr>\n",
       "      <th>1825</th>\n",
       "      <td>Screening Visit</td>\n",
       "      <td>S003</td>\n",
       "      <td>4</td>\n",
       "    </tr>\n",
       "  </tbody>\n",
       "</table>\n",
       "</div>"
      ],
      "text/plain": [
       "                Visit Subject  Count\n",
       "300   Screening Visit  011001      4\n",
       "309   Screening Visit  011001      4\n",
       "1816  Screening Visit    S002      4\n",
       "1825  Screening Visit    S003      4"
      ]
     },
     "execution_count": 23,
     "metadata": {},
     "output_type": "execute_result"
    }
   ],
   "source": [
    "df__lession"
   ]
  },
  {
   "cell_type": "code",
   "execution_count": 4,
   "metadata": {},
   "outputs": [
    {
     "data": {
      "text/plain": [
       "array(['DATA_VERIFIED', 'DATA_ENTRY_COMPLETE', 'DATA_ENTRY_INCOMPLETE'],\n",
       "      dtype=object)"
      ]
     },
     "execution_count": 4,
     "metadata": {},
     "output_type": "execute_result"
    }
   ],
   "source": [
    "df_root.activityState.unique()"
   ]
  },
  {
   "cell_type": "code",
   "execution_count": 4,
   "metadata": {},
   "outputs": [
    {
     "data": {
      "text/plain": [
       "array([11001], dtype=int64)"
      ]
     },
     "execution_count": 4,
     "metadata": {},
     "output_type": "execute_result"
    }
   ],
   "source": [
    "df_root.Participante.unique()"
   ]
  },
  {
   "cell_type": "code",
   "execution_count": 5,
   "metadata": {},
   "outputs": [
    {
     "data": {
      "text/plain": [
       "array(['Date of visit', 'Informed Consent', 'Demographics',\n",
       "       'History of cutaneous leishmaniasis', 'Covid 19 testing',\n",
       "       'Eligibility',\n",
       "       'Medical Or Surgical History (other than Leishmaniasis)',\n",
       "       'Vein assessment', 'Urinary Drug Screen', 'Alcohol Screen',\n",
       "       'Clinical Laboratory - Test Hematology',\n",
       "       'Clinical Laboratory Test - Clinical Chemistry',\n",
       "       'Clinical Laboratory Test - Coagulation',\n",
       "       'Immunoassay (Thyroid Stimulating Hormone)', 'Urinalysis',\n",
       "       'Urine Microscopic Examination', 'Virology', 'Lesion Measurement',\n",
       "       'Physical Examination', 'Vital Signs', '12-Lead ECG',\n",
       "       'Clinical Laboratory Test - Clinical Chemistry D-1',\n",
       "       'Interleukin-6', 'Titration Of Auto-Antibodies',\n",
       "       'Injection Site Examination', 'PBMC Isolate',\n",
       "       'Pharmacokinetic Blood Sampling (PK)',\n",
       "       'Pharmacodynamic Blood Sampling (PD) -Cytokines/Chemokines',\n",
       "       'mRNA Markers'], dtype=object)"
      ]
     },
     "execution_count": 5,
     "metadata": {},
     "output_type": "execute_result"
    }
   ],
   "source": [
    "df_root.name.unique()"
   ]
  },
  {
   "cell_type": "code",
   "execution_count": 5,
   "metadata": {},
   "outputs": [],
   "source": [
    "pru = df_root[df_root['name']== '12-Lead ECG']"
   ]
  },
  {
   "cell_type": "code",
   "execution_count": 37,
   "metadata": {},
   "outputs": [
    {
     "ename": "KeyError",
     "evalue": "'FormFieldInstance Id'",
     "output_type": "error",
     "traceback": [
      "\u001b[1;31m---------------------------------------------------------------------------\u001b[0m",
      "\u001b[1;31mKeyError\u001b[0m                                  Traceback (most recent call last)",
      "\u001b[1;32mc:\\Users\\sebastian sossa\\Documents\\integraIT\\projects_integrait\\DNDI\\Program\\code\\EDA.ipynb Cell 7\u001b[0m line \u001b[0;36m<cell line: 3>\u001b[1;34m()\u001b[0m\n\u001b[0;32m      <a href='vscode-notebook-cell:/c%3A/Users/sebastian%20sossa/Documents/integraIT/projects_integrait/DNDI/Program/code/EDA.ipynb#W6sZmlsZQ%3D%3D?line=0'>1</a>\u001b[0m df_contraception \u001b[39m=\u001b[39m df_root[df_root[\u001b[39m'\u001b[39m\u001b[39mname\u001b[39m\u001b[39m'\u001b[39m]\u001b[39m==\u001b[39m \u001b[39m'\u001b[39m\u001b[39mPrior And Concomitant Medications\u001b[39m\u001b[39m'\u001b[39m]\n\u001b[0;32m      <a href='vscode-notebook-cell:/c%3A/Users/sebastian%20sossa/Documents/integraIT/projects_integrait/DNDI/Program/code/EDA.ipynb#W6sZmlsZQ%3D%3D?line=1'>2</a>\u001b[0m df_contraception \u001b[39m=\u001b[39m df_contraception[[\u001b[39m'\u001b[39m\u001b[39mVisit\u001b[39m\u001b[39m'\u001b[39m,\u001b[39m'\u001b[39m\u001b[39mParticipante\u001b[39m\u001b[39m'\u001b[39m, \u001b[39m'\u001b[39m\u001b[39mCampo\u001b[39m\u001b[39m'\u001b[39m, \u001b[39m'\u001b[39m\u001b[39mValor\u001b[39m\u001b[39m'\u001b[39m, \u001b[39m'\u001b[39m\u001b[39mInstancia\u001b[39m\u001b[39m'\u001b[39m]]\n\u001b[1;32m----> <a href='vscode-notebook-cell:/c%3A/Users/sebastian%20sossa/Documents/integraIT/projects_integrait/DNDI/Program/code/EDA.ipynb#W6sZmlsZQ%3D%3D?line=2'>3</a>\u001b[0m df_contraception \u001b[39m=\u001b[39m df_contraception\u001b[39m.\u001b[39;49msort_values(by\u001b[39m=\u001b[39;49m[\u001b[39m'\u001b[39;49m\u001b[39mFormFieldInstance Id\u001b[39;49m\u001b[39m'\u001b[39;49m])\n\u001b[0;32m      <a href='vscode-notebook-cell:/c%3A/Users/sebastian%20sossa/Documents/integraIT/projects_integrait/DNDI/Program/code/EDA.ipynb#W6sZmlsZQ%3D%3D?line=3'>4</a>\u001b[0m df_contraception \u001b[39m=\u001b[39m df_contraception\u001b[39m.\u001b[39mreset_index(drop\u001b[39m=\u001b[39m\u001b[39mTrue\u001b[39;00m)\n\u001b[0;32m      <a href='vscode-notebook-cell:/c%3A/Users/sebastian%20sossa/Documents/integraIT/projects_integrait/DNDI/Program/code/EDA.ipynb#W6sZmlsZQ%3D%3D?line=4'>5</a>\u001b[0m date_indices \u001b[39m=\u001b[39m df_contraception\u001b[39m.\u001b[39mindex[df_contraception[\u001b[39m'\u001b[39m\u001b[39mCampo\u001b[39m\u001b[39m'\u001b[39m] \u001b[39m==\u001b[39m \u001b[39m'\u001b[39m\u001b[39mConcomitant Medication ID\u001b[39m\u001b[39m'\u001b[39m]\u001b[39m.\u001b[39mtolist()\n",
      "File \u001b[1;32mc:\\Users\\sebastian sossa\\AppData\\Local\\Programs\\Python\\Python310\\lib\\site-packages\\pandas\\core\\frame.py:6768\u001b[0m, in \u001b[0;36mDataFrame.sort_values\u001b[1;34m(self, by, axis, ascending, inplace, kind, na_position, ignore_index, key)\u001b[0m\n\u001b[0;32m   6764\u001b[0m \u001b[39melif\u001b[39;00m \u001b[39mlen\u001b[39m(by):\n\u001b[0;32m   6765\u001b[0m     \u001b[39m# len(by) == 1\u001b[39;00m\n\u001b[0;32m   6767\u001b[0m     by \u001b[39m=\u001b[39m by[\u001b[39m0\u001b[39m]\n\u001b[1;32m-> 6768\u001b[0m     k \u001b[39m=\u001b[39m \u001b[39mself\u001b[39;49m\u001b[39m.\u001b[39;49m_get_label_or_level_values(by, axis\u001b[39m=\u001b[39;49maxis)\n\u001b[0;32m   6770\u001b[0m     \u001b[39m# need to rewrap column in Series to apply key function\u001b[39;00m\n\u001b[0;32m   6771\u001b[0m     \u001b[39mif\u001b[39;00m key \u001b[39mis\u001b[39;00m \u001b[39mnot\u001b[39;00m \u001b[39mNone\u001b[39;00m:\n\u001b[0;32m   6772\u001b[0m         \u001b[39m# error: Incompatible types in assignment (expression has type\u001b[39;00m\n\u001b[0;32m   6773\u001b[0m         \u001b[39m# \"Series\", variable has type \"ndarray\")\u001b[39;00m\n",
      "File \u001b[1;32mc:\\Users\\sebastian sossa\\AppData\\Local\\Programs\\Python\\Python310\\lib\\site-packages\\pandas\\core\\generic.py:1778\u001b[0m, in \u001b[0;36mNDFrame._get_label_or_level_values\u001b[1;34m(self, key, axis)\u001b[0m\n\u001b[0;32m   1776\u001b[0m     values \u001b[39m=\u001b[39m \u001b[39mself\u001b[39m\u001b[39m.\u001b[39maxes[axis]\u001b[39m.\u001b[39mget_level_values(key)\u001b[39m.\u001b[39m_values\n\u001b[0;32m   1777\u001b[0m \u001b[39melse\u001b[39;00m:\n\u001b[1;32m-> 1778\u001b[0m     \u001b[39mraise\u001b[39;00m \u001b[39mKeyError\u001b[39;00m(key)\n\u001b[0;32m   1780\u001b[0m \u001b[39m# Check for duplicates\u001b[39;00m\n\u001b[0;32m   1781\u001b[0m \u001b[39mif\u001b[39;00m values\u001b[39m.\u001b[39mndim \u001b[39m>\u001b[39m \u001b[39m1\u001b[39m:\n",
      "\u001b[1;31mKeyError\u001b[0m: 'FormFieldInstance Id'"
     ]
    }
   ],
   "source": [
    "df_contraception = df_root[df_root['name']== 'Prior And Concomitant Medications']\n",
    "df_contraception = df_contraception[['Visit','Participante', 'Campo', 'Valor', 'Instancia']]\n",
    "df_contraception = df_contraception.sort_values(by=['FormFieldInstance Id'])\n",
    "df_contraception = df_contraception.reset_index(drop=True)\n",
    "date_indices = df_contraception.index[df_contraception['Campo'] == 'Concomitant Medication ID'].tolist()\n",
    "subdatasets = [df_contraception.iloc[start:end] for start, end in zip(date_indices, date_indices[1:] + [None])]\n",
    "df_to_join = pd.DataFrame()\n",
    "for sub in subdatasets:\n",
    "    #if sub['Valor'].tolist()  in [5, 5.0, '5', '5.0', 9]:\n",
    "    if len([float(x) for x in sub['Valor'].tolist() if x in [5, 5.0, '5', '5.0', 9]]) != 0:\n",
    "        df_to_join = sub[(sub['Campo'] == 'Indication Category') | (sub['Campo'] == 'Start date')]\n",
    "        sujeto = df_to_join.Participante.unique()\n",
    "        df_to_join = df_to_join[['Campo', 'Valor']].T\n",
    "        new_columns = df_to_join.iloc[0]\n",
    "        df_to_join = df_to_join[1:].set_axis(new_columns, axis=1)\n",
    "        df_to_join['Subject'] = sujeto\n",
    "        break\n",
    "df_to_join = df_to_join.rename(columns={'Participante':'Subject', 'Start date':'start_date_combined_hormonal'})"
   ]
  },
  {
   "cell_type": "code",
   "execution_count": 36,
   "metadata": {},
   "outputs": [
    {
     "data": {
      "text/html": [
       "<div>\n",
       "<style scoped>\n",
       "    .dataframe tbody tr th:only-of-type {\n",
       "        vertical-align: middle;\n",
       "    }\n",
       "\n",
       "    .dataframe tbody tr th {\n",
       "        vertical-align: top;\n",
       "    }\n",
       "\n",
       "    .dataframe thead th {\n",
       "        text-align: right;\n",
       "    }\n",
       "</style>\n",
       "<table border=\"1\" class=\"dataframe\">\n",
       "  <thead>\n",
       "    <tr style=\"text-align: right;\">\n",
       "      <th>Campo</th>\n",
       "      <th>Birth Month</th>\n",
       "      <th>Birth Year</th>\n",
       "      <th>Subject</th>\n",
       "    </tr>\n",
       "  </thead>\n",
       "  <tbody>\n",
       "    <tr>\n",
       "      <th>Valor</th>\n",
       "      <td>5</td>\n",
       "      <td>2000</td>\n",
       "      <td>S003</td>\n",
       "    </tr>\n",
       "  </tbody>\n",
       "</table>\n",
       "</div>"
      ],
      "text/plain": [
       "Campo Birth Month Birth Year Subject\n",
       "Valor           5       2000    S003"
      ]
     },
     "execution_count": 36,
     "metadata": {},
     "output_type": "execute_result"
    }
   ],
   "source": [
    "df_to_join"
   ]
  },
  {
   "cell_type": "code",
   "execution_count": 7,
   "metadata": {},
   "outputs": [
    {
     "data": {
      "text/plain": [
       "array(['Was the ECG performed?', 'Date of ECG Performed',\n",
       "       'Undefined, HR (bpm)', 'Undefined, RR (msec)',\n",
       "       'Undefined, PR (msec)', 'Undefined, QRS (msec)',\n",
       "       'Undefined, QT (msec)', 'Undefined, QTcF (msec)',\n",
       "       'Undefined, Interpretation', 'Pre dose triplicate 1, Time 24 hrs',\n",
       "       'Pre dose triplicate 1, HR (bpm)',\n",
       "       'Pre dose triplicate 1, RR (msec)',\n",
       "       'Pre dose triplicate 1, PR (msec)',\n",
       "       'Pre dose triplicate 1, QRS (msec)',\n",
       "       'Pre dose triplicate 1, QT (msec)',\n",
       "       'Pre dose triplicate 1, QTcF (msec)',\n",
       "       'Pre dose triplicate 1, Interpretation',\n",
       "       'Pre dose triplicate 1, If abnormal, specify',\n",
       "       'Pre dose triplicate 1, Please specify abnormal interpretation',\n",
       "       'Pre dose triplicate 2, Time 24 hrs',\n",
       "       'Pre dose triplicate 2, HR (bpm)',\n",
       "       'Pre dose triplicate 2, RR (msec)',\n",
       "       'Pre dose triplicate 2, PR (msec)',\n",
       "       'Pre dose triplicate 2, QRS (msec)',\n",
       "       'Pre dose triplicate 2, QT (msec)',\n",
       "       'Pre dose triplicate 2, QTcF (msec)',\n",
       "       'Pre dose triplicate 2, Interpretation',\n",
       "       'Pre dose triplicate 2, If abnormal, specify',\n",
       "       'Pre dose triplicate 2, Please specify abnormal interpretation',\n",
       "       'Pre dose triplicate 3, Time 24 hrs',\n",
       "       'Pre dose triplicate 3, HR (bpm)',\n",
       "       'Pre dose triplicate 3, RR (msec)',\n",
       "       'Pre dose triplicate 3, PR (msec)',\n",
       "       'Pre dose triplicate 3, QRS (msec)',\n",
       "       'Pre dose triplicate 3, QT (msec)',\n",
       "       'Pre dose triplicate 3, QTcF (msec)',\n",
       "       'Pre dose triplicate 3, Interpretation',\n",
       "       'Pre dose triplicate 3, If abnormal, specify',\n",
       "       'Pre dose triplicate 3, Please specify abnormal interpretation',\n",
       "       '15-min post dose, Time 24 hrs', '15-min post dose, HR (bpm)',\n",
       "       '15-min post dose, RR (msec)', '15-min post dose, PR (msec)',\n",
       "       '15-min post dose, QRS (msec)', '15-min post dose, QT (msec)',\n",
       "       '15-min post dose, QTcF (msec)',\n",
       "       '15-min post dose, Interpretation',\n",
       "       '15-min post dose, If abnormal, specify',\n",
       "       '15-min post dose, Please specify abnormal interpretation',\n",
       "       '30-min post dose, Time 24 hrs', '30-min post dose, HR (bpm)',\n",
       "       '30-min post dose, RR (msec)', '30-min post dose, PR (msec)',\n",
       "       '30-min post dose, QRS (msec)', '30-min post dose, QT (msec)',\n",
       "       '30-min post dose, QTcF (msec)',\n",
       "       '30-min post dose, Interpretation',\n",
       "       '30-min post dose, If abnormal, specify',\n",
       "       '30-min post dose, Please specify abnormal interpretation',\n",
       "       '60-min post dose, Time 24 hrs', '60-min post dose, HR (bpm)',\n",
       "       '60-min post dose, RR (msec)', '60-min post dose, PR (msec)',\n",
       "       '60-min post dose, QRS (msec)', '60-min post dose, QT (msec)',\n",
       "       '60-min post dose, QTcF (msec)',\n",
       "       '60-min post dose, Interpretation',\n",
       "       '60-min post dose, If abnormal, specify',\n",
       "       '60-min post dose, Please specify abnormal interpretation'],\n",
       "      dtype=object)"
      ]
     },
     "execution_count": 7,
     "metadata": {},
     "output_type": "execute_result"
    }
   ],
   "source": [
    "pru.Campo.unique()"
   ]
  },
  {
   "cell_type": "code",
   "execution_count": 13,
   "metadata": {},
   "outputs": [
    {
     "name": "stdout",
     "output_type": "stream",
     "text": [
      "08:20\n",
      "08:25\n"
     ]
    }
   ],
   "source": [
    "triplicate_1 = pru[pru['Campo']=='Pre dose triplicate 1, Time 24 hrs'].Valor.unique()[0]\n",
    "triplicate_2 = pru[pru['Campo']=='Pre dose triplicate 2, Time 24 hrs'].Valor.unique()[0]\n",
    "print(triplicate_1)\n",
    "print(triplicate_2)"
   ]
  },
  {
   "cell_type": "code",
   "execution_count": 21,
   "metadata": {},
   "outputs": [
    {
     "name": "stdout",
     "output_type": "stream",
     "text": [
      "5.0\n"
     ]
    }
   ],
   "source": [
    "from datetime import datetime\n",
    "time_format = '%H:%M'\n",
    "triplicate_1_formated = datetime.strptime(triplicate_1, time_format)\n",
    "triplicate_2_formated = datetime.strptime(triplicate_2, time_format)\n",
    "\n",
    "time_difference = (triplicate_2_formated - triplicate_1_formated).total_seconds() / 60\n",
    "print(time_difference)\n"
   ]
  },
  {
   "cell_type": "code",
   "execution_count": 12,
   "metadata": {},
   "outputs": [
    {
     "name": "stdout",
     "output_type": "stream",
     "text": [
      "Si funciona asi\n"
     ]
    }
   ],
   "source": [
    "import math\n",
    "import numpy as np\n",
    "prueba_variable = np.nan\n",
    "\n",
    "if math.isnan(float(prueba_variable)):\n",
    "    print('Si funciona asi')\n",
    "else:\n",
    "    print('No funciona asi') "
   ]
  },
  {
   "cell_type": "code",
   "execution_count": 1,
   "metadata": {},
   "outputs": [
    {
     "name": "stdout",
     "output_type": "stream",
     "text": [
      "no toca cambiar\n"
     ]
    }
   ],
   "source": [
    "import math\n",
    "\n",
    "if math.nan > 4:\n",
    "    print('Si toca cambiar')\n",
    "else:\n",
    "    print('no toca cambiar')"
   ]
  }
 ],
 "metadata": {
  "kernelspec": {
   "display_name": "Python 3",
   "language": "python",
   "name": "python3"
  },
  "language_info": {
   "codemirror_mode": {
    "name": "ipython",
    "version": 3
   },
   "file_extension": ".py",
   "mimetype": "text/x-python",
   "name": "python",
   "nbconvert_exporter": "python",
   "pygments_lexer": "ipython3",
   "version": "3.10.4"
  },
  "orig_nbformat": 4
 },
 "nbformat": 4,
 "nbformat_minor": 2
}
